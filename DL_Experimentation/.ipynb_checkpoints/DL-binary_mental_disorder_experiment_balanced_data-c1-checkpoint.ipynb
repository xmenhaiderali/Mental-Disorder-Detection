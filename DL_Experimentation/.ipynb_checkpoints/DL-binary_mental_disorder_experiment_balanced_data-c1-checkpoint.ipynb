{
 "cells": [
  {
   "cell_type": "code",
   "execution_count": 1,
   "id": "87e21a07-9d57-42e9-a2d9-cea2cbd7342f",
   "metadata": {},
   "outputs": [
    {
     "name": "stderr",
     "output_type": "stream",
     "text": [
      "[nltk_data] Downloading package wordnet to C:\\Users\\Ali\n",
      "[nltk_data]     Haider\\AppData\\Roaming\\nltk_data...\n",
      "[nltk_data]   Package wordnet is already up-to-date!\n",
      "[nltk_data] Downloading package stopwords to C:\\Users\\Ali\n",
      "[nltk_data]     Haider\\AppData\\Roaming\\nltk_data...\n",
      "[nltk_data]   Package stopwords is already up-to-date!\n"
     ]
    },
    {
     "data": {
      "text/plain": [
       "True"
      ]
     },
     "execution_count": 1,
     "metadata": {},
     "output_type": "execute_result"
    }
   ],
   "source": [
    "import pandas as pd\n",
    "import numpy as np\n",
    "from pathlib import Path\n",
    "from tqdm import tqdm\n",
    "import matplotlib.pyplot as plt\n",
    "from textblob import TextBlob\n",
    "import advertools\n",
    "import re\n",
    "import spacy\n",
    "import xgboost\n",
    "from sklearn.feature_extraction.text import TfidfVectorizer\n",
    "from sklearn.model_selection import train_test_split\n",
    "from sklearn.linear_model import LogisticRegression\n",
    "from sklearn.metrics import (classification_report,auc, \n",
    "                            roc_auc_score, precision_score,\n",
    "                            recall_score,f1_score, accuracy_score)\n",
    "from sklearn.ensemble import RandomForestClassifier, AdaBoostClassifier\n",
    "from sklearn.svm import SVC\n",
    "from sklearn.tree import DecisionTreeClassifier\n",
    "from sklearn.naive_bayes import GaussianNB\n",
    "import seaborn as sns\n",
    "import gensim\n",
    "import nltk\n",
    "import nltk.util\n",
    "from nltk.corpus import stopwords\n",
    "from nltk.stem import WordNetLemmatizer\n",
    "from tensorflow.keras.preprocessing.text import Tokenizer\n",
    "from tensorflow.keras.layers import Embedding, Dense, Dropout, SpatialDropout1D, LSTM, Conv1D, MaxPool1D, Input\n",
    "from tensorflow.keras.models import Sequential\n",
    "from tensorflow.keras.callbacks import EarlyStopping\n",
    "from tensorflow.keras.utils import pad_sequences\n",
    "from transformers import BertTokenizer, TFBertForSequenceClassification, TFBertModel\n",
    "import tensorflow as tf\n",
    "import warnings\n",
    "warnings.filterwarnings(\"ignore\")\n",
    "nltk.download(\"wordnet\")\n",
    "nltk.download(\"stopwords\")"
   ]
  },
  {
   "cell_type": "code",
   "execution_count": 7,
   "id": "4806db0c-48fb-4932-8d2a-05c954986b04",
   "metadata": {},
   "outputs": [
    {
     "data": {
      "text/html": [
       "<div>\n",
       "<style scoped>\n",
       "    .dataframe tbody tr th:only-of-type {\n",
       "        vertical-align: middle;\n",
       "    }\n",
       "\n",
       "    .dataframe tbody tr th {\n",
       "        vertical-align: top;\n",
       "    }\n",
       "\n",
       "    .dataframe thead th {\n",
       "        text-align: right;\n",
       "    }\n",
       "</style>\n",
       "<table border=\"1\" class=\"dataframe\">\n",
       "  <thead>\n",
       "    <tr style=\"text-align: right;\">\n",
       "      <th></th>\n",
       "      <th>Disorder</th>\n",
       "      <th>tweet</th>\n",
       "    </tr>\n",
       "  </thead>\n",
       "  <tbody>\n",
       "    <tr>\n",
       "      <th>0</th>\n",
       "      <td>SCHIZOPHRENIA</td>\n",
       "      <td>feelingtake good care growing heart</td>\n",
       "    </tr>\n",
       "    <tr>\n",
       "      <th>1</th>\n",
       "      <td>ADHD</td>\n",
       "      <td>belly laughing face tear joy</td>\n",
       "    </tr>\n",
       "    <tr>\n",
       "      <th>2</th>\n",
       "      <td>CONTROL</td>\n",
       "      <td>solid tactic simeone</td>\n",
       "    </tr>\n",
       "    <tr>\n",
       "      <th>3</th>\n",
       "      <td>CONTROL</td>\n",
       "      <td>partey control middle unmatched</td>\n",
       "    </tr>\n",
       "    <tr>\n",
       "      <th>4</th>\n",
       "      <td>PTSD</td>\n",
       "      <td>relationship people concealed motif aware othe...</td>\n",
       "    </tr>\n",
       "  </tbody>\n",
       "</table>\n",
       "</div>"
      ],
      "text/plain": [
       "        Disorder                                              tweet\n",
       "0  SCHIZOPHRENIA                feelingtake good care growing heart\n",
       "1           ADHD                       belly laughing face tear joy\n",
       "2        CONTROL                               solid tactic simeone\n",
       "3        CONTROL                    partey control middle unmatched\n",
       "4           PTSD  relationship people concealed motif aware othe..."
      ]
     },
     "execution_count": 7,
     "metadata": {},
     "output_type": "execute_result"
    }
   ],
   "source": [
    "data_preprocess = pd.read_csv(\"binary_balanced_data_preprocess.csv\")\n",
    "data_preprocess.head()"
   ]
  },
  {
   "cell_type": "code",
   "execution_count": 14,
   "id": "37b5564a-396e-4e58-ab02-2f6238815dcc",
   "metadata": {
    "scrolled": true
   },
   "outputs": [],
   "source": [
    "def classification_metrics(actuals: np.array, preds: np.array) -> pd.DataFrame:\n",
    "    metrics_performance = pd.DataFrame()\n",
    "    precision_0 = precision_score(actuals,preds, pos_label=0)\n",
    "    precision_1 = precision_score(actuals,preds, pos_label=1)\n",
    "    recall_0 = recall_score(actuals,preds,pos_label=0)\n",
    "    recall_1 = recall_score(actuals,preds,pos_label=1)\n",
    "    f1_0 = f1_score(actuals,preds,pos_label=0)\n",
    "    f1_1 = f1_score(actuals,preds,pos_label=1)\n",
    "    accuracy = accuracy_score(actuals,preds)\n",
    "    metrics_performance[\"precision_0\"] = [precision_0]\n",
    "    metrics_performance[\"precision_1\"] = [precision_1]\n",
    "    metrics_performance[\"recall_0\"] = [recall_0]\n",
    "    metrics_performance[\"recall_1\"] = [recall_1]\n",
    "    metrics_performance[\"f1_0\"] = [f1_0]\n",
    "    metrics_performance[\"f1_1\"] = [f1_1]\n",
    "    metrics_performance[\"accuracy\"] = [accuracy]\n",
    "    return metrics_performance"
   ]
  },
  {
   "cell_type": "markdown",
   "id": "d57a50b3-be09-4e58-b50c-a4d38e450fd6",
   "metadata": {},
   "source": [
    "# Imbalaned Dataset training"
   ]
  },
  {
   "cell_type": "code",
   "execution_count": 18,
   "id": "87d5adf0-bc2a-41a4-a220-f36e55d08f59",
   "metadata": {},
   "outputs": [
    {
     "data": {
      "text/plain": [
       "Disorder\n",
       "CONTROL            18640\n",
       "ADHD                3018\n",
       "SCHIZOPHRENIA       2959\n",
       "OCD                 2888\n",
       "ANXIETY             2719\n",
       "PTSD                2458\n",
       "DEPRESSION          2143\n",
       "AUTISM              1402\n",
       "EATING DISORDER      402\n",
       "BIPOLAR              243\n",
       "Name: count, dtype: int64"
      ]
     },
     "execution_count": 18,
     "metadata": {},
     "output_type": "execute_result"
    }
   ],
   "source": [
    "data_preprocess.Disorder.value_counts()"
   ]
  },
  {
   "cell_type": "code",
   "execution_count": 19,
   "id": "7262134c-24b1-4586-87ed-1f6790fa62e1",
   "metadata": {},
   "outputs": [],
   "source": [
    "tokenizer = Tokenizer()\n",
    "tokenizer.fit_on_texts(data_preprocess[\"tweet\"].values.tolist())"
   ]
  },
  {
   "cell_type": "code",
   "execution_count": 20,
   "id": "00c6a785-5deb-4ab4-9e83-9c7c3ff90e35",
   "metadata": {},
   "outputs": [],
   "source": [
    "corpus = [advertools.word_tokenize(text,phrase_len=1)[0] for text in data_preprocess[\"tweet\"].values]"
   ]
  },
  {
   "cell_type": "code",
   "execution_count": 24,
   "id": "3ba125f4-55bb-4e4f-b10d-2800c28fd5ad",
   "metadata": {
    "scrolled": true
   },
   "outputs": [
    {
     "name": "stderr",
     "output_type": "stream",
     "text": [
      "2024-08-21 10:35:13,802 | INFO | word2vec.py:582 | scan_vocab | collecting all words and their counts\n",
      "2024-08-21 10:35:13,802 | INFO | word2vec.py:565 | _scan_vocab | PROGRESS: at sentence #0, processed 0 words, keeping 0 word types\n",
      "2024-08-21 10:35:13,834 | INFO | word2vec.py:565 | _scan_vocab | PROGRESS: at sentence #10000, processed 71168 words, keeping 10812 word types\n",
      "2024-08-21 10:35:13,858 | INFO | word2vec.py:565 | _scan_vocab | PROGRESS: at sentence #20000, processed 140479 words, keeping 14763 word types\n",
      "2024-08-21 10:35:13,882 | INFO | word2vec.py:565 | _scan_vocab | PROGRESS: at sentence #30000, processed 211155 words, keeping 17670 word types\n",
      "2024-08-21 10:35:13,906 | INFO | word2vec.py:588 | scan_vocab | collected 19345 word types from a corpus of 260267 raw words and 36872 sentences\n",
      "2024-08-21 10:35:13,906 | INFO | word2vec.py:637 | prepare_vocab | Creating a fresh vocabulary\n",
      "2024-08-21 10:35:14,010 | INFO | utils.py:447 | add_lifecycle_event | Word2Vec lifecycle event {'msg': 'effective_min_count=1 retains 19345 unique words (100.00% of original 19345, drops 0)', 'datetime': '2024-08-21T10:35:14.010767', 'gensim': '4.3.3', 'python': '3.10.14 | packaged by Anaconda, Inc. | (main, May  6 2024, 19:44:50) [MSC v.1916 64 bit (AMD64)]', 'platform': 'Windows-10-10.0.22621-SP0', 'event': 'prepare_vocab'}\n",
      "2024-08-21 10:35:14,010 | INFO | utils.py:447 | add_lifecycle_event | Word2Vec lifecycle event {'msg': 'effective_min_count=1 leaves 260267 word corpus (100.00% of original 260267, drops 0)', 'datetime': '2024-08-21T10:35:14.010767', 'gensim': '4.3.3', 'python': '3.10.14 | packaged by Anaconda, Inc. | (main, May  6 2024, 19:44:50) [MSC v.1916 64 bit (AMD64)]', 'platform': 'Windows-10-10.0.22621-SP0', 'event': 'prepare_vocab'}\n",
      "2024-08-21 10:35:14,106 | INFO | word2vec.py:745 | prepare_vocab | deleting the raw counts dictionary of 19345 items\n",
      "2024-08-21 10:35:14,114 | INFO | word2vec.py:748 | prepare_vocab | sample=0.001 downsamples 25 most-common words\n",
      "2024-08-21 10:35:14,114 | INFO | utils.py:447 | add_lifecycle_event | Word2Vec lifecycle event {'msg': 'downsampling leaves estimated 250369.46167272655 word corpus (96.2%% of prior 260267)', 'datetime': '2024-08-21T10:35:14.114777', 'gensim': '4.3.3', 'python': '3.10.14 | packaged by Anaconda, Inc. | (main, May  6 2024, 19:44:50) [MSC v.1916 64 bit (AMD64)]', 'platform': 'Windows-10-10.0.22621-SP0', 'event': 'prepare_vocab'}\n",
      "2024-08-21 10:35:14,306 | INFO | word2vec.py:805 | estimate_memory | estimated required memory for 19345 words and 300 dimensions: 56100500 bytes\n",
      "2024-08-21 10:35:14,309 | INFO | word2vec.py:863 | init_weights | resetting layer weights\n",
      "2024-08-21 10:35:14,336 | INFO | utils.py:447 | add_lifecycle_event | Word2Vec lifecycle event {'update': False, 'trim_rule': 'None', 'datetime': '2024-08-21T10:35:14.336078', 'gensim': '4.3.3', 'python': '3.10.14 | packaged by Anaconda, Inc. | (main, May  6 2024, 19:44:50) [MSC v.1916 64 bit (AMD64)]', 'platform': 'Windows-10-10.0.22621-SP0', 'event': 'build_vocab'}\n",
      "2024-08-21 10:35:14,336 | INFO | utils.py:447 | add_lifecycle_event | Word2Vec lifecycle event {'msg': 'training model with 3 workers on 19345 vocabulary and 300 features, using sg=0 hs=0 sample=0.001 negative=5 window=5 shrink_windows=True', 'datetime': '2024-08-21T10:35:14.336078', 'gensim': '4.3.3', 'python': '3.10.14 | packaged by Anaconda, Inc. | (main, May  6 2024, 19:44:50) [MSC v.1916 64 bit (AMD64)]', 'platform': 'Windows-10-10.0.22621-SP0', 'event': 'train'}\n",
      "2024-08-21 10:35:14,600 | INFO | word2vec.py:1652 | _log_epoch_end | EPOCH 0: training on 260267 raw words (250395 effective words) took 0.2s, 1009850 effective words/s\n",
      "2024-08-21 10:35:14,938 | INFO | word2vec.py:1652 | _log_epoch_end | EPOCH 1: training on 260267 raw words (250440 effective words) took 0.3s, 760091 effective words/s\n",
      "2024-08-21 10:35:15,487 | INFO | word2vec.py:1652 | _log_epoch_end | EPOCH 2: training on 260267 raw words (250358 effective words) took 0.5s, 472121 effective words/s\n",
      "2024-08-21 10:35:15,895 | INFO | word2vec.py:1652 | _log_epoch_end | EPOCH 3: training on 260267 raw words (250516 effective words) took 0.4s, 621848 effective words/s\n",
      "2024-08-21 10:35:16,418 | INFO | word2vec.py:1652 | _log_epoch_end | EPOCH 4: training on 260267 raw words (250353 effective words) took 0.5s, 497546 effective words/s\n",
      "2024-08-21 10:35:16,905 | INFO | word2vec.py:1652 | _log_epoch_end | EPOCH 5: training on 260267 raw words (250370 effective words) took 0.5s, 521434 effective words/s\n",
      "2024-08-21 10:35:17,168 | INFO | word2vec.py:1652 | _log_epoch_end | EPOCH 6: training on 260267 raw words (250337 effective words) took 0.2s, 1025640 effective words/s\n",
      "2024-08-21 10:35:17,431 | INFO | word2vec.py:1652 | _log_epoch_end | EPOCH 7: training on 260267 raw words (250291 effective words) took 0.3s, 982695 effective words/s\n",
      "2024-08-21 10:35:17,721 | INFO | word2vec.py:1652 | _log_epoch_end | EPOCH 8: training on 260267 raw words (250414 effective words) took 0.3s, 908880 effective words/s\n",
      "2024-08-21 10:35:18,124 | INFO | word2vec.py:1652 | _log_epoch_end | EPOCH 9: training on 260267 raw words (250453 effective words) took 0.4s, 684331 effective words/s\n",
      "2024-08-21 10:35:18,544 | INFO | word2vec.py:1652 | _log_epoch_end | EPOCH 10: training on 260267 raw words (250278 effective words) took 0.4s, 704823 effective words/s\n",
      "2024-08-21 10:35:18,793 | INFO | word2vec.py:1652 | _log_epoch_end | EPOCH 11: training on 260267 raw words (250442 effective words) took 0.2s, 1032509 effective words/s\n",
      "2024-08-21 10:35:19,237 | INFO | word2vec.py:1652 | _log_epoch_end | EPOCH 12: training on 260267 raw words (250431 effective words) took 0.4s, 567443 effective words/s\n",
      "2024-08-21 10:35:19,544 | INFO | word2vec.py:1652 | _log_epoch_end | EPOCH 13: training on 260267 raw words (250422 effective words) took 0.3s, 842610 effective words/s\n",
      "2024-08-21 10:35:19,905 | INFO | word2vec.py:1652 | _log_epoch_end | EPOCH 14: training on 260267 raw words (250448 effective words) took 0.4s, 711767 effective words/s\n",
      "2024-08-21 10:35:20,331 | INFO | word2vec.py:1652 | _log_epoch_end | EPOCH 15: training on 260267 raw words (250258 effective words) took 0.4s, 613160 effective words/s\n",
      "2024-08-21 10:35:20,829 | INFO | word2vec.py:1652 | _log_epoch_end | EPOCH 16: training on 260267 raw words (250357 effective words) took 0.5s, 528307 effective words/s\n",
      "2024-08-21 10:35:21,206 | INFO | word2vec.py:1652 | _log_epoch_end | EPOCH 17: training on 260267 raw words (250233 effective words) took 0.4s, 685094 effective words/s\n",
      "2024-08-21 10:35:21,464 | INFO | word2vec.py:1652 | _log_epoch_end | EPOCH 18: training on 260267 raw words (250383 effective words) took 0.2s, 1119746 effective words/s\n",
      "2024-08-21 10:35:21,722 | INFO | word2vec.py:1652 | _log_epoch_end | EPOCH 19: training on 260267 raw words (250366 effective words) took 0.2s, 1017005 effective words/s\n",
      "2024-08-21 10:35:22,157 | INFO | word2vec.py:1652 | _log_epoch_end | EPOCH 20: training on 260267 raw words (250415 effective words) took 0.4s, 705860 effective words/s\n",
      "2024-08-21 10:35:22,415 | INFO | word2vec.py:1652 | _log_epoch_end | EPOCH 21: training on 260267 raw words (250481 effective words) took 0.3s, 991992 effective words/s\n",
      "2024-08-21 10:35:22,763 | INFO | word2vec.py:1652 | _log_epoch_end | EPOCH 22: training on 260267 raw words (250535 effective words) took 0.3s, 759898 effective words/s\n",
      "2024-08-21 10:35:23,109 | INFO | word2vec.py:1652 | _log_epoch_end | EPOCH 23: training on 260267 raw words (250490 effective words) took 0.3s, 740961 effective words/s\n",
      "2024-08-21 10:35:23,551 | INFO | word2vec.py:1652 | _log_epoch_end | EPOCH 24: training on 260267 raw words (250264 effective words) took 0.4s, 577617 effective words/s\n",
      "2024-08-21 10:35:23,826 | INFO | word2vec.py:1652 | _log_epoch_end | EPOCH 25: training on 260267 raw words (250403 effective words) took 0.3s, 971127 effective words/s\n",
      "2024-08-21 10:35:24,165 | INFO | word2vec.py:1652 | _log_epoch_end | EPOCH 26: training on 260267 raw words (250361 effective words) took 0.3s, 778964 effective words/s\n",
      "2024-08-21 10:35:24,462 | INFO | word2vec.py:1652 | _log_epoch_end | EPOCH 27: training on 260267 raw words (250385 effective words) took 0.3s, 862638 effective words/s\n",
      "2024-08-21 10:35:24,918 | INFO | word2vec.py:1652 | _log_epoch_end | EPOCH 28: training on 260267 raw words (250380 effective words) took 0.5s, 553635 effective words/s\n",
      "2024-08-21 10:35:25,459 | INFO | word2vec.py:1652 | _log_epoch_end | EPOCH 29: training on 260267 raw words (250486 effective words) took 0.5s, 476987 effective words/s\n",
      "2024-08-21 10:35:25,796 | INFO | word2vec.py:1652 | _log_epoch_end | EPOCH 30: training on 260267 raw words (250219 effective words) took 0.3s, 765333 effective words/s\n",
      "2024-08-21 10:35:26,113 | INFO | word2vec.py:1652 | _log_epoch_end | EPOCH 31: training on 260267 raw words (250526 effective words) took 0.3s, 811412 effective words/s\n",
      "2024-08-21 10:35:26,345 | INFO | word2vec.py:1652 | _log_epoch_end | EPOCH 32: training on 260267 raw words (250361 effective words) took 0.2s, 1133670 effective words/s\n",
      "2024-08-21 10:35:26,579 | INFO | word2vec.py:1652 | _log_epoch_end | EPOCH 33: training on 260267 raw words (250375 effective words) took 0.2s, 1098489 effective words/s\n",
      "2024-08-21 10:35:26,821 | INFO | word2vec.py:1652 | _log_epoch_end | EPOCH 34: training on 260267 raw words (250385 effective words) took 0.2s, 1132868 effective words/s\n",
      "2024-08-21 10:35:27,145 | INFO | word2vec.py:1652 | _log_epoch_end | EPOCH 35: training on 260267 raw words (250214 effective words) took 0.3s, 783477 effective words/s\n",
      "2024-08-21 10:35:27,386 | INFO | word2vec.py:1652 | _log_epoch_end | EPOCH 36: training on 260267 raw words (250416 effective words) took 0.2s, 1113612 effective words/s\n",
      "2024-08-21 10:35:27,725 | INFO | word2vec.py:1652 | _log_epoch_end | EPOCH 37: training on 260267 raw words (250439 effective words) took 0.3s, 748460 effective words/s\n",
      "2024-08-21 10:35:28,176 | INFO | word2vec.py:1652 | _log_epoch_end | EPOCH 38: training on 260267 raw words (250466 effective words) took 0.4s, 664931 effective words/s\n",
      "2024-08-21 10:35:28,636 | INFO | word2vec.py:1652 | _log_epoch_end | EPOCH 39: training on 260267 raw words (250403 effective words) took 0.4s, 563582 effective words/s\n",
      "2024-08-21 10:35:29,102 | INFO | word2vec.py:1652 | _log_epoch_end | EPOCH 40: training on 260267 raw words (250275 effective words) took 0.5s, 543739 effective words/s\n",
      "2024-08-21 10:35:29,441 | INFO | word2vec.py:1652 | _log_epoch_end | EPOCH 41: training on 260267 raw words (250232 effective words) took 0.3s, 807506 effective words/s\n",
      "2024-08-21 10:35:29,668 | INFO | word2vec.py:1652 | _log_epoch_end | EPOCH 42: training on 260267 raw words (250408 effective words) took 0.2s, 1103941 effective words/s\n",
      "2024-08-21 10:35:29,919 | INFO | word2vec.py:1652 | _log_epoch_end | EPOCH 43: training on 260267 raw words (250515 effective words) took 0.2s, 1040400 effective words/s\n",
      "2024-08-21 10:35:30,225 | INFO | word2vec.py:1652 | _log_epoch_end | EPOCH 44: training on 260267 raw words (250362 effective words) took 0.3s, 861852 effective words/s\n",
      "2024-08-21 10:35:30,462 | INFO | word2vec.py:1652 | _log_epoch_end | EPOCH 45: training on 260267 raw words (250378 effective words) took 0.2s, 1096196 effective words/s\n",
      "2024-08-21 10:35:30,704 | INFO | word2vec.py:1652 | _log_epoch_end | EPOCH 46: training on 260267 raw words (250217 effective words) took 0.2s, 1085778 effective words/s\n",
      "2024-08-21 10:35:30,944 | INFO | word2vec.py:1652 | _log_epoch_end | EPOCH 47: training on 260267 raw words (250313 effective words) took 0.2s, 1103823 effective words/s\n",
      "2024-08-21 10:35:31,186 | INFO | word2vec.py:1652 | _log_epoch_end | EPOCH 48: training on 260267 raw words (250474 effective words) took 0.2s, 1096349 effective words/s\n",
      "2024-08-21 10:35:31,416 | INFO | word2vec.py:1652 | _log_epoch_end | EPOCH 49: training on 260267 raw words (250339 effective words) took 0.2s, 1104826 effective words/s\n",
      "2024-08-21 10:35:31,648 | INFO | word2vec.py:1652 | _log_epoch_end | EPOCH 50: training on 260267 raw words (250390 effective words) took 0.2s, 1099829 effective words/s\n",
      "2024-08-21 10:35:32,076 | INFO | word2vec.py:1652 | _log_epoch_end | EPOCH 51: training on 260267 raw words (250407 effective words) took 0.4s, 689769 effective words/s\n",
      "2024-08-21 10:35:32,314 | INFO | word2vec.py:1652 | _log_epoch_end | EPOCH 52: training on 260267 raw words (250338 effective words) took 0.2s, 1089962 effective words/s\n",
      "2024-08-21 10:35:32,556 | INFO | word2vec.py:1652 | _log_epoch_end | EPOCH 53: training on 260267 raw words (250412 effective words) took 0.2s, 1101923 effective words/s\n",
      "2024-08-21 10:35:32,792 | INFO | word2vec.py:1652 | _log_epoch_end | EPOCH 54: training on 260267 raw words (250451 effective words) took 0.2s, 1071232 effective words/s\n",
      "2024-08-21 10:35:33,108 | INFO | word2vec.py:1652 | _log_epoch_end | EPOCH 55: training on 260267 raw words (250361 effective words) took 0.3s, 817746 effective words/s\n",
      "2024-08-21 10:35:33,344 | INFO | word2vec.py:1652 | _log_epoch_end | EPOCH 56: training on 260267 raw words (250280 effective words) took 0.2s, 1105501 effective words/s\n",
      "2024-08-21 10:35:33,651 | INFO | word2vec.py:1652 | _log_epoch_end | EPOCH 57: training on 260267 raw words (250345 effective words) took 0.3s, 828641 effective words/s\n",
      "2024-08-21 10:35:33,877 | INFO | word2vec.py:1652 | _log_epoch_end | EPOCH 58: training on 260267 raw words (250209 effective words) took 0.2s, 1162296 effective words/s\n",
      "2024-08-21 10:35:34,182 | INFO | word2vec.py:1652 | _log_epoch_end | EPOCH 59: training on 260267 raw words (250361 effective words) took 0.3s, 850561 effective words/s\n",
      "2024-08-21 10:35:34,415 | INFO | word2vec.py:1652 | _log_epoch_end | EPOCH 60: training on 260267 raw words (250315 effective words) took 0.2s, 1133433 effective words/s\n",
      "2024-08-21 10:35:34,658 | INFO | word2vec.py:1652 | _log_epoch_end | EPOCH 61: training on 260267 raw words (250273 effective words) took 0.2s, 1084368 effective words/s\n",
      "2024-08-21 10:35:34,884 | INFO | word2vec.py:1652 | _log_epoch_end | EPOCH 62: training on 260267 raw words (250363 effective words) took 0.2s, 1134100 effective words/s\n",
      "2024-08-21 10:35:35,111 | INFO | word2vec.py:1652 | _log_epoch_end | EPOCH 63: training on 260267 raw words (250355 effective words) took 0.2s, 1152986 effective words/s\n",
      "2024-08-21 10:35:35,352 | INFO | word2vec.py:1652 | _log_epoch_end | EPOCH 64: training on 260267 raw words (250399 effective words) took 0.2s, 1090100 effective words/s\n",
      "2024-08-21 10:35:35,587 | INFO | word2vec.py:1652 | _log_epoch_end | EPOCH 65: training on 260267 raw words (250269 effective words) took 0.2s, 1110516 effective words/s\n",
      "2024-08-21 10:35:36,063 | INFO | word2vec.py:1652 | _log_epoch_end | EPOCH 66: training on 260267 raw words (250418 effective words) took 0.5s, 543022 effective words/s\n",
      "2024-08-21 10:35:36,511 | INFO | word2vec.py:1652 | _log_epoch_end | EPOCH 67: training on 260267 raw words (250282 effective words) took 0.4s, 569321 effective words/s\n",
      "2024-08-21 10:35:36,916 | INFO | word2vec.py:1652 | _log_epoch_end | EPOCH 68: training on 260267 raw words (250353 effective words) took 0.4s, 636179 effective words/s\n",
      "2024-08-21 10:35:37,220 | INFO | word2vec.py:1652 | _log_epoch_end | EPOCH 69: training on 260267 raw words (250327 effective words) took 0.3s, 865748 effective words/s\n",
      "2024-08-21 10:35:37,464 | INFO | word2vec.py:1652 | _log_epoch_end | EPOCH 70: training on 260267 raw words (250349 effective words) took 0.2s, 1089824 effective words/s\n",
      "2024-08-21 10:35:37,785 | INFO | word2vec.py:1652 | _log_epoch_end | EPOCH 71: training on 260267 raw words (250403 effective words) took 0.3s, 807337 effective words/s\n",
      "2024-08-21 10:35:38,197 | INFO | word2vec.py:1652 | _log_epoch_end | EPOCH 72: training on 260267 raw words (250386 effective words) took 0.4s, 616686 effective words/s\n",
      "2024-08-21 10:35:38,672 | INFO | word2vec.py:1652 | _log_epoch_end | EPOCH 73: training on 260267 raw words (250320 effective words) took 0.4s, 634347 effective words/s\n",
      "2024-08-21 10:35:39,083 | INFO | word2vec.py:1652 | _log_epoch_end | EPOCH 74: training on 260267 raw words (250440 effective words) took 0.4s, 623230 effective words/s\n",
      "2024-08-21 10:35:39,559 | INFO | word2vec.py:1652 | _log_epoch_end | EPOCH 75: training on 260267 raw words (250442 effective words) took 0.5s, 542333 effective words/s\n",
      "2024-08-21 10:35:40,012 | INFO | word2vec.py:1652 | _log_epoch_end | EPOCH 76: training on 260267 raw words (250454 effective words) took 0.4s, 566039 effective words/s\n",
      "2024-08-21 10:35:40,456 | INFO | word2vec.py:1652 | _log_epoch_end | EPOCH 77: training on 260267 raw words (250374 effective words) took 0.4s, 611788 effective words/s\n",
      "2024-08-21 10:35:40,927 | INFO | word2vec.py:1652 | _log_epoch_end | EPOCH 78: training on 260267 raw words (250348 effective words) took 0.4s, 559545 effective words/s\n",
      "2024-08-21 10:35:41,430 | INFO | word2vec.py:1652 | _log_epoch_end | EPOCH 79: training on 260267 raw words (250359 effective words) took 0.5s, 505968 effective words/s\n",
      "2024-08-21 10:35:41,842 | INFO | word2vec.py:1652 | _log_epoch_end | EPOCH 80: training on 260267 raw words (250331 effective words) took 0.4s, 632458 effective words/s\n",
      "2024-08-21 10:35:42,285 | INFO | word2vec.py:1652 | _log_epoch_end | EPOCH 81: training on 260267 raw words (250423 effective words) took 0.4s, 577195 effective words/s\n",
      "2024-08-21 10:35:42,624 | INFO | word2vec.py:1652 | _log_epoch_end | EPOCH 82: training on 260267 raw words (250281 effective words) took 0.3s, 805753 effective words/s\n",
      "2024-08-21 10:35:43,017 | INFO | word2vec.py:1652 | _log_epoch_end | EPOCH 83: training on 260267 raw words (250440 effective words) took 0.4s, 651387 effective words/s\n",
      "2024-08-21 10:35:43,450 | INFO | word2vec.py:1652 | _log_epoch_end | EPOCH 84: training on 260267 raw words (250307 effective words) took 0.4s, 586094 effective words/s\n",
      "2024-08-21 10:35:43,901 | INFO | word2vec.py:1652 | _log_epoch_end | EPOCH 85: training on 260267 raw words (250343 effective words) took 0.4s, 622421 effective words/s\n",
      "2024-08-21 10:35:44,375 | INFO | word2vec.py:1652 | _log_epoch_end | EPOCH 86: training on 260267 raw words (250491 effective words) took 0.5s, 539334 effective words/s\n",
      "2024-08-21 10:35:44,799 | INFO | word2vec.py:1652 | _log_epoch_end | EPOCH 87: training on 260267 raw words (250387 effective words) took 0.4s, 613233 effective words/s\n",
      "2024-08-21 10:35:45,188 | INFO | word2vec.py:1652 | _log_epoch_end | EPOCH 88: training on 260267 raw words (250389 effective words) took 0.4s, 661773 effective words/s\n",
      "2024-08-21 10:35:45,408 | INFO | word2vec.py:1652 | _log_epoch_end | EPOCH 89: training on 260267 raw words (250393 effective words) took 0.2s, 1172564 effective words/s\n",
      "2024-08-21 10:35:45,641 | INFO | word2vec.py:1652 | _log_epoch_end | EPOCH 90: training on 260267 raw words (250225 effective words) took 0.2s, 1145301 effective words/s\n",
      "2024-08-21 10:35:45,894 | INFO | word2vec.py:1652 | _log_epoch_end | EPOCH 91: training on 260267 raw words (250341 effective words) took 0.2s, 1048678 effective words/s\n",
      "2024-08-21 10:35:46,122 | INFO | word2vec.py:1652 | _log_epoch_end | EPOCH 92: training on 260267 raw words (250283 effective words) took 0.2s, 1145768 effective words/s\n",
      "2024-08-21 10:35:46,359 | INFO | word2vec.py:1652 | _log_epoch_end | EPOCH 93: training on 260267 raw words (250420 effective words) took 0.2s, 1147240 effective words/s\n",
      "2024-08-21 10:35:46,590 | INFO | word2vec.py:1652 | _log_epoch_end | EPOCH 94: training on 260267 raw words (250452 effective words) took 0.2s, 1108894 effective words/s\n",
      "2024-08-21 10:35:46,824 | INFO | word2vec.py:1652 | _log_epoch_end | EPOCH 95: training on 260267 raw words (250323 effective words) took 0.2s, 1133405 effective words/s\n",
      "2024-08-21 10:35:47,243 | INFO | word2vec.py:1652 | _log_epoch_end | EPOCH 96: training on 260267 raw words (250310 effective words) took 0.4s, 618494 effective words/s\n",
      "2024-08-21 10:35:47,629 | INFO | word2vec.py:1652 | _log_epoch_end | EPOCH 97: training on 260267 raw words (250381 effective words) took 0.4s, 680392 effective words/s\n",
      "2024-08-21 10:35:47,961 | INFO | word2vec.py:1652 | _log_epoch_end | EPOCH 98: training on 260267 raw words (250348 effective words) took 0.3s, 763445 effective words/s\n",
      "2024-08-21 10:35:48,196 | INFO | word2vec.py:1652 | _log_epoch_end | EPOCH 99: training on 260267 raw words (250348 effective words) took 0.2s, 1148070 effective words/s\n",
      "2024-08-21 10:35:48,203 | INFO | utils.py:447 | add_lifecycle_event | Word2Vec lifecycle event {'msg': 'training on 26026700 raw words (25037061 effective words) took 33.9s, 739405 effective words/s', 'datetime': '2024-08-21T10:35:48.203807', 'gensim': '4.3.3', 'python': '3.10.14 | packaged by Anaconda, Inc. | (main, May  6 2024, 19:44:50) [MSC v.1916 64 bit (AMD64)]', 'platform': 'Windows-10-10.0.22621-SP0', 'event': 'train'}\n",
      "2024-08-21 10:35:48,203 | INFO | utils.py:447 | add_lifecycle_event | Word2Vec lifecycle event {'params': 'Word2Vec<vocab=19345, vector_size=300, alpha=0.025>', 'datetime': '2024-08-21T10:35:48.203807', 'gensim': '4.3.3', 'python': '3.10.14 | packaged by Anaconda, Inc. | (main, May  6 2024, 19:44:50) [MSC v.1916 64 bit (AMD64)]', 'platform': 'Windows-10-10.0.22621-SP0', 'event': 'created'}\n"
     ]
    }
   ],
   "source": [
    "WORD2VEC_DIM = 300\n",
    "SG = {\"CBOW\":0,\"SKIP_GRAM\":1}\n",
    "word2vec = gensim.models.Word2Vec(corpus,window=5,vector_size=WORD2VEC_DIM,min_count=1,epochs=100,sg=SG[\"CBOW\"])\n",
    "WORD2VEC_VOCAB_SIZE = len(word2vec.wv.index_to_key)+1\n",
    "word2vec_embedding = np.zeros((WORD2VEC_VOCAB_SIZE,WORD2VEC_DIM))\n",
    "for word,index in tokenizer.word_index.items():\n",
    "    if word in word2vec.wv.index_to_key:\n",
    "        word2vec_embedding[index] = word2vec.wv[word]"
   ]
  },
  {
   "cell_type": "code",
   "execution_count": 25,
   "id": "47ef69e2-e12d-452a-b63d-3f1646c04778",
   "metadata": {},
   "outputs": [
    {
     "data": {
      "text/plain": [
       "(19346, 300)"
      ]
     },
     "execution_count": 25,
     "metadata": {},
     "output_type": "execute_result"
    }
   ],
   "source": [
    "word2vec_embedding.shape"
   ]
  },
  {
   "cell_type": "code",
   "execution_count": 52,
   "id": "0c7c2765-b624-4f99-a50a-56908d9bf6af",
   "metadata": {},
   "outputs": [],
   "source": [
    "GLOVE_VOCAB_SIZE = len(tokenizer.word_index)+1\n",
    "GLOVE_EMBEDDINGS_DIMENSION = 300\n",
    "glove_embeddings = np.zeros((GLOVE_VOCAB_SIZE,GLOVE_EMBEDDINGS_DIMENSION))\n",
    "glove_model = spacy.load(\"en_core_web_lg\")\n",
    "for word,index in tokenizer.word_index.items():\n",
    "    if word in glove_model.vocab.strings:\n",
    "        glove_embeddings[index] = glove_model.vocab[word].vector"
   ]
  },
  {
   "cell_type": "code",
   "execution_count": 53,
   "id": "24d283c5-7507-4215-a791-3bcefa6e95c6",
   "metadata": {},
   "outputs": [
    {
     "data": {
      "text/plain": [
       "(19343, 300)"
      ]
     },
     "execution_count": 53,
     "metadata": {},
     "output_type": "execute_result"
    }
   ],
   "source": [
    "glove_embeddings.shape"
   ]
  },
  {
   "cell_type": "code",
   "execution_count": 69,
   "id": "986dae19-a0b7-462b-a443-8aef9b222dcd",
   "metadata": {},
   "outputs": [],
   "source": [
    "import fasttext"
   ]
  },
  {
   "cell_type": "code",
   "execution_count": 70,
   "id": "f5548330-08f4-41f4-aab2-965093380001",
   "metadata": {},
   "outputs": [],
   "source": [
    "with open(\"corpus.txt\",\"w\", encoding=\"utf-8\") as file:\n",
    "    for doc in data_preprocess[\"tweet\"].values:\n",
    "        file.write(doc + \"\\n\")\n",
    "MODEL_TYPE = \"skipgram\"\n",
    "FASTTEXT_EMBEDDINGS_DIMENSION = 300\n",
    "FASTTEXT_VOCAB_SIZE = len(tokenizer.word_index)+1\n",
    "fasttext_embeddings = np.zeros((FASTTEXT_VOCAB_SIZE,EMBEDDINGS_DIMENSION))\n",
    "fasttext_model = fasttext.train_unsupervised(\"corpus.txt\",ws=5,minn=2,epoch=100,dim=300,model=MODEL_TYPE)\n",
    "for word,index in tokenizer.word_index.items():\n",
    "    if word in fasttext_model.words:\n",
    "        fasttext_embeddings[index] = fasttext_model.get_word_vector(word)"
   ]
  },
  {
   "cell_type": "code",
   "execution_count": 71,
   "id": "5144a074-e91c-44a5-8483-5c11aa0a2bf7",
   "metadata": {},
   "outputs": [
    {
     "data": {
      "text/plain": [
       "(19343, 300)"
      ]
     },
     "execution_count": 71,
     "metadata": {},
     "output_type": "execute_result"
    }
   ],
   "source": [
    "fasttext_embeddings.shape"
   ]
  },
  {
   "cell_type": "code",
   "execution_count": 88,
   "id": "c46b4d1f-54eb-41ca-8b42-9b6654bd86c5",
   "metadata": {},
   "outputs": [],
   "source": [
    "import tensorflow_hub as hub"
   ]
  },
  {
   "cell_type": "code",
   "execution_count": 89,
   "id": "ff3cb645-e7db-42dd-beb5-00975d6b1e82",
   "metadata": {},
   "outputs": [
    {
     "name": "stderr",
     "output_type": "stream",
     "text": [
      "2024-08-21 13:55:11,072 | INFO | resolver.py:108 | tfhub_cache_dir | Using C:\\Users\\ALIHAI~1\\AppData\\Local\\Temp\\tfhub_modules to cache modules.\n"
     ]
    }
   ],
   "source": [
    "ELMO_VOCAB_SIZE = len(data_preprocess)\n",
    "ELMO_EMBEDDINGS_DIMENSION = 1024\n",
    "\n",
    "elmo_embeddings = np.zeros((ELMO_VOCAB_SIZE,ELMO_EMBEDDINGS_DIMENSION))\n",
    "elmo = hub.KerasLayer(\"https://tfhub.dev/google/elmo/3\")\n",
    "for index,text in enumerate(data_preprocess[\"tweet\"].values):\n",
    "    embeddings = elmo(tf.constant([text]))\n",
    "    elmo_embeddings[index]=embeddings.numpy()"
   ]
  },
  {
   "cell_type": "code",
   "execution_count": 22,
   "id": "19b598a0-1026-43a3-9c67-d7aaafd98904",
   "metadata": {},
   "outputs": [
    {
     "data": {
      "text/plain": [
       "(20758, 1024)"
      ]
     },
     "execution_count": 22,
     "metadata": {},
     "output_type": "execute_result"
    }
   ],
   "source": [
    "elmo_embeddings.shape"
   ]
  },
  {
   "cell_type": "code",
   "execution_count": 103,
   "id": "ee725cf6-dd40-40a2-8008-234fae5ba2b5",
   "metadata": {
    "scrolled": true
   },
   "outputs": [
    {
     "name": "stderr",
     "output_type": "stream",
     "text": [
      "Some layers from the model checkpoint at bert-base-uncased were not used when initializing TFBertModel: ['nsp___cls', 'mlm___cls']\n",
      "- This IS expected if you are initializing TFBertModel from the checkpoint of a model trained on another task or with another architecture (e.g. initializing a BertForSequenceClassification model from a BertForPreTraining model).\n",
      "- This IS NOT expected if you are initializing TFBertModel from the checkpoint of a model that you expect to be exactly identical (initializing a BertForSequenceClassification model from a BertForSequenceClassification model).\n",
      "All the layers of TFBertModel were initialized from the model checkpoint at bert-base-uncased.\n",
      "If your task is similar to the task the model of the checkpoint was trained on, you can already use TFBertModel for predictions without further training.\n"
     ]
    }
   ],
   "source": [
    "BERT_VOCAB_SIZE = len(data_preprocess)\n",
    "BERT_EMBEDDINGS_DIMENSION = 768\n",
    "\n",
    "bert_embeddings = np.zeros((BERT_VOCAB_SIZE,BERT_EMBEDDINGS_DIMENSION))\n",
    "bert_tokenizer = BertTokenizer.from_pretrained('bert-base-uncased')\n",
    "bert_model = TFBertModel.from_pretrained(\"bert-base-uncased\")\n",
    "for index,text in enumerate(data_preprocess[\"tweet\"].values):\n",
    "    inputs = bert_tokenizer(text, padding=True,return_tensors='tf')\n",
    "    outputs = bert_model(**inputs)\n",
    "    embeddings = outputs.last_hidden_state\n",
    "    cls_embeddings = embeddings[:, 0, :]\n",
    "    bert_embeddings[index]=cls_embeddings.numpy()"
   ]
  },
  {
   "cell_type": "code",
   "execution_count": 2,
   "id": "b58e38de-c210-4883-9a32-251a7ba41334",
   "metadata": {},
   "outputs": [
    {
     "data": {
      "text/plain": [
       "(44385, 768)"
      ]
     },
     "execution_count": 2,
     "metadata": {},
     "output_type": "execute_result"
    }
   ],
   "source": [
    "bert_embeddings.shape"
   ]
  },
  {
   "cell_type": "code",
   "execution_count": 22,
   "id": "3e871b94-52b9-46db-9708-08a27426c513",
   "metadata": {},
   "outputs": [
    {
     "data": {
      "text/plain": [
       "186"
      ]
     },
     "execution_count": 22,
     "metadata": {},
     "output_type": "execute_result"
    }
   ],
   "source": [
    "max_length_sequence = max([len(doc) for doc in corpus])\n",
    "max_length_sequence"
   ]
  },
  {
   "cell_type": "code",
   "execution_count": 23,
   "id": "ca9d3b05-9061-4142-9fae-cbc4b19d29a8",
   "metadata": {},
   "outputs": [],
   "source": [
    "sequence = tokenizer.texts_to_sequences(data_preprocess[\"tweet\"].values)\n",
    "padded_sequence = pad_sequences(sequence,maxlen=max_length_sequence,padding=\"pre\")"
   ]
  },
  {
   "cell_type": "code",
   "execution_count": 24,
   "id": "21cf46de-62d9-481e-a920-59a5d36107c3",
   "metadata": {},
   "outputs": [
    {
     "data": {
      "text/plain": [
       "array([[   0,    0,    0, ...,  147,   77,    7],\n",
       "       [   0,    0,    0, ...,    2,   53,   58],\n",
       "       [   0,    0,    0, ...,   94,  179, 1138],\n",
       "       ...,\n",
       "       [   0,    0,    0, ...,    0, 1019,   25],\n",
       "       [   0,    0,    0, ...,  668,  271,   18],\n",
       "       [   0,    0,    0, ..., 2095, 1592, 2583]])"
      ]
     },
     "execution_count": 24,
     "metadata": {},
     "output_type": "execute_result"
    }
   ],
   "source": [
    "padded_sequence"
   ]
  },
  {
   "cell_type": "code",
   "execution_count": 1,
   "id": "5af64084-6b12-439b-96eb-70290dffd9fa",
   "metadata": {},
   "outputs": [],
   "source": [
    "data_bin = data_preprocess[[\"tweet\",\"Disorder\"]]\n",
    "diagnosed_group = data_bin[data_bin[\"Disorder\"]!=\"CONTROL\"]\n",
    "diagnosed_group[\"Disorder\"] = \"DIAGNOSED\"\n",
    "control_group = data_bin[data_bin[\"Disorder\"]==\"CONTROL\"]\n",
    "data_bin = pd.concat([diagnosed_group,control_group],axis=0)\n",
    "encode_target = {\"DIAGNOSED\":1,\n",
    "                \"CONTROL\":0}\n",
    "data_bin[\"Disorder\"] = data_bin[\"Disorder\"].map(encode_target)\n",
    "data_bin.head()"
   ]
  },
  {
   "cell_type": "code",
   "execution_count": 26,
   "id": "aa113cf6-34f4-4c4d-b95d-c2b7ecc4945b",
   "metadata": {},
   "outputs": [
    {
     "data": {
      "text/plain": [
       "Disorder\n",
       "0    18640\n",
       "1    18232\n",
       "Name: count, dtype: int64"
      ]
     },
     "execution_count": 26,
     "metadata": {},
     "output_type": "execute_result"
    }
   ],
   "source": [
    "data_bin['Disorder'].value_counts()"
   ]
  },
  {
   "cell_type": "code",
   "execution_count": 27,
   "id": "bd524666-26b4-45c9-abe7-82c104f20b9c",
   "metadata": {},
   "outputs": [],
   "source": [
    "y = data_bin[\"Disorder\"].values\n",
    "X_train,X_temp,y_train,y_temp = train_test_split(padded_sequence, y, test_size=0.3, random_state=42,stratify=y)\n",
    "X_val,X_test,y_val,y_test = train_test_split(X_temp, y_temp, test_size=0.2, random_state=42,stratify=y_temp)"
   ]
  },
  {
   "cell_type": "code",
   "execution_count": 28,
   "id": "f8ee472c-9111-43b3-b9a2-c84d0564bcb0",
   "metadata": {},
   "outputs": [
    {
     "data": {
      "text/plain": [
       "((25810, 186), (8849, 186), (2213, 186))"
      ]
     },
     "execution_count": 28,
     "metadata": {},
     "output_type": "execute_result"
    }
   ],
   "source": [
    "X_train.shape,X_val.shape,X_test.shape"
   ]
  },
  {
   "cell_type": "code",
   "execution_count": 29,
   "id": "75a9aaca-49c1-4adc-b330-cec98bc3b858",
   "metadata": {},
   "outputs": [
    {
     "name": "stdout",
     "output_type": "stream",
     "text": [
      "(array([0, 1], dtype=int64), array([13048, 12762], dtype=int64))\n",
      "(array([0, 1], dtype=int64), array([4473, 4376], dtype=int64))\n",
      "(array([0, 1], dtype=int64), array([1119, 1094], dtype=int64))\n"
     ]
    }
   ],
   "source": [
    "print(np.unique(y_train,return_counts=True))\n",
    "print(np.unique(y_val,return_counts=True))\n",
    "print(np.unique(y_test,return_counts=True))"
   ]
  },
  {
   "cell_type": "markdown",
   "id": "3ee481cb-e7fd-47d7-9eb4-f0fded633b3c",
   "metadata": {},
   "source": [
    "### LSTM"
   ]
  },
  {
   "cell_type": "code",
   "execution_count": 105,
   "id": "2a4e900d-757d-4fc1-a2bd-3a53746fc832",
   "metadata": {},
   "outputs": [
    {
     "name": "stderr",
     "output_type": "stream",
     "text": [
      "2024-08-21 20:06:16,183 | WARNING | lstm.py:590 | __init__ | Layer lstm_5 will not use cuDNN kernels since it doesn't meet the criteria. It will use a generic GPU kernel as fallback when running on GPU.\n"
     ]
    }
   ],
   "source": [
    "embedding = bert_embeddings\n",
    "vocab_size = BERT_VOCAB_SIZE\n",
    "embedding_dim = BERT_EMBEDDINGS_DIMENSION\n",
    "Embedding_layer = Embedding(vocab_size,embedding_dim,weights = [embedding],input_length = max_length_sequence, trainable=False)\n",
    "model = Sequential()\n",
    "model.add(Embedding_layer)\n",
    "model.add(Dropout(0.2))\n",
    "model.add(LSTM(100,dropout=0.2,recurrent_dropout=0.2))\n",
    "model.add(Dense(1,\"sigmoid\"))\n",
    "model.compile(loss=\"binary_crossentropy\",optimizer=\"adam\",metrics=[\"accuracy\"])"
   ]
  },
  {
   "cell_type": "code",
   "execution_count": 106,
   "id": "ed838e6b-a74c-4b2d-a5c1-54327a9fa761",
   "metadata": {},
   "outputs": [
    {
     "name": "stdout",
     "output_type": "stream",
     "text": [
      "Model: \"sequential_5\"\n",
      "_________________________________________________________________\n",
      " Layer (type)                Output Shape              Param #   \n",
      "=================================================================\n",
      " embedding_5 (Embedding)     (None, 186, 768)          28317696  \n",
      "                                                                 \n",
      " dropout_42 (Dropout)        (None, 186, 768)          0         \n",
      "                                                                 \n",
      " lstm_5 (LSTM)               (None, 100)               347600    \n",
      "                                                                 \n",
      " dense_6 (Dense)             (None, 1)                 101       \n",
      "                                                                 \n",
      "=================================================================\n",
      "Total params: 28,665,397\n",
      "Trainable params: 347,701\n",
      "Non-trainable params: 28,317,696\n",
      "_________________________________________________________________\n"
     ]
    }
   ],
   "source": [
    "model.summary()"
   ]
  },
  {
   "cell_type": "code",
   "execution_count": 107,
   "id": "df609fa0-7b60-4fcb-a05f-1117eea19689",
   "metadata": {},
   "outputs": [],
   "source": [
    "early_stopping = EarlyStopping(monitor='val_loss', patience=3, mode='min', verbose=1)"
   ]
  },
  {
   "cell_type": "code",
   "execution_count": 108,
   "id": "bbff5f0d-f306-4655-86d6-9eae7f3b2cb4",
   "metadata": {},
   "outputs": [
    {
     "name": "stdout",
     "output_type": "stream",
     "text": [
      "Epoch 1/5\n",
      "807/807 [==============================] - 1321s 2s/step - loss: 0.6963 - accuracy: 0.5035 - val_loss: 0.6937 - val_accuracy: 0.5058\n",
      "Epoch 2/5\n",
      "807/807 [==============================] - 1307s 2s/step - loss: 0.6930 - accuracy: 0.5091 - val_loss: 0.6940 - val_accuracy: 0.5003\n",
      "Epoch 3/5\n",
      "807/807 [==============================] - 1205s 1s/step - loss: 0.6928 - accuracy: 0.5160 - val_loss: 0.6933 - val_accuracy: 0.5080\n",
      "Epoch 4/5\n",
      "807/807 [==============================] - 808s 1s/step - loss: 0.6927 - accuracy: 0.5129 - val_loss: 0.6937 - val_accuracy: 0.5065\n",
      "Epoch 5/5\n",
      "807/807 [==============================] - 793s 982ms/step - loss: 0.6923 - accuracy: 0.5194 - val_loss: 0.6933 - val_accuracy: 0.5015\n"
     ]
    }
   ],
   "source": [
    "history = model.fit(X_train,y_train,epochs=5,batch_size=32,validation_data=(X_val, y_val),verbose=1,callbacks=[early_stopping],\n",
    "                   workers=3)"
   ]
  },
  {
   "cell_type": "code",
   "execution_count": 109,
   "id": "17139696-9371-451f-a259-0208937474ab",
   "metadata": {},
   "outputs": [
    {
     "name": "stdout",
     "output_type": "stream",
     "text": [
      "70/70 [==============================] - 9s 120ms/step\n"
     ]
    }
   ],
   "source": [
    "y_pred = model.predict(X_test)"
   ]
  },
  {
   "cell_type": "code",
   "execution_count": 110,
   "id": "d2cf7cf8-cfbe-413f-a821-f64beb92e151",
   "metadata": {},
   "outputs": [
    {
     "data": {
      "text/plain": [
       "array([0.49335906, 0.47379786, 0.48693502, ..., 0.45142874, 0.48193264,\n",
       "       0.49257863], dtype=float32)"
      ]
     },
     "execution_count": 110,
     "metadata": {},
     "output_type": "execute_result"
    }
   ],
   "source": [
    "y_pred = np.squeeze(y_pred)\n",
    "y_pred"
   ]
  },
  {
   "cell_type": "code",
   "execution_count": 111,
   "id": "965907c1-e772-4348-8207-6c9b0ce01b32",
   "metadata": {},
   "outputs": [],
   "source": [
    "y_pred = np.where(y_pred<0.6,0,1)"
   ]
  },
  {
   "cell_type": "code",
   "execution_count": 112,
   "id": "86c5c6f5-4104-4edb-945c-97e84a40d845",
   "metadata": {},
   "outputs": [
    {
     "name": "stdout",
     "output_type": "stream",
     "text": [
      "807/807 [==============================] - 97s 120ms/step\n"
     ]
    }
   ],
   "source": [
    "train_pred = model.predict(X_train)\n",
    "train_pred = np.squeeze(train_pred)\n",
    "train_pred = np.where(train_pred<0.6,0,1)\n",
    "train_model_performance_lstm = classification_metrics(y_train,train_pred)"
   ]
  },
  {
   "cell_type": "code",
   "execution_count": 113,
   "id": "0b560f01-42f6-4157-8bd8-52dea46b165e",
   "metadata": {},
   "outputs": [
    {
     "data": {
      "text/html": [
       "<div>\n",
       "<style scoped>\n",
       "    .dataframe tbody tr th:only-of-type {\n",
       "        vertical-align: middle;\n",
       "    }\n",
       "\n",
       "    .dataframe tbody tr th {\n",
       "        vertical-align: top;\n",
       "    }\n",
       "\n",
       "    .dataframe thead th {\n",
       "        text-align: right;\n",
       "    }\n",
       "</style>\n",
       "<table border=\"1\" class=\"dataframe\">\n",
       "  <thead>\n",
       "    <tr style=\"text-align: right;\">\n",
       "      <th></th>\n",
       "      <th>precision_0</th>\n",
       "      <th>precision_1</th>\n",
       "      <th>recall_0</th>\n",
       "      <th>recall_1</th>\n",
       "      <th>f1_0</th>\n",
       "      <th>f1_1</th>\n",
       "      <th>accuracy</th>\n",
       "    </tr>\n",
       "  </thead>\n",
       "  <tbody>\n",
       "    <tr>\n",
       "      <th>0</th>\n",
       "      <td>0.50554</td>\n",
       "      <td>0.0</td>\n",
       "      <td>1.0</td>\n",
       "      <td>0.0</td>\n",
       "      <td>0.671573</td>\n",
       "      <td>0.0</td>\n",
       "      <td>0.50554</td>\n",
       "    </tr>\n",
       "  </tbody>\n",
       "</table>\n",
       "</div>"
      ],
      "text/plain": [
       "   precision_0  precision_1  recall_0  recall_1      f1_0  f1_1  accuracy\n",
       "0      0.50554          0.0       1.0       0.0  0.671573   0.0   0.50554"
      ]
     },
     "execution_count": 113,
     "metadata": {},
     "output_type": "execute_result"
    }
   ],
   "source": [
    "train_model_performance_lstm"
   ]
  },
  {
   "cell_type": "code",
   "execution_count": 114,
   "id": "0ca031d6-279f-490d-ac8f-87bc5fbd6bbb",
   "metadata": {},
   "outputs": [
    {
     "data": {
      "text/html": [
       "<div>\n",
       "<style scoped>\n",
       "    .dataframe tbody tr th:only-of-type {\n",
       "        vertical-align: middle;\n",
       "    }\n",
       "\n",
       "    .dataframe tbody tr th {\n",
       "        vertical-align: top;\n",
       "    }\n",
       "\n",
       "    .dataframe thead th {\n",
       "        text-align: right;\n",
       "    }\n",
       "</style>\n",
       "<table border=\"1\" class=\"dataframe\">\n",
       "  <thead>\n",
       "    <tr style=\"text-align: right;\">\n",
       "      <th></th>\n",
       "      <th>precision_0</th>\n",
       "      <th>precision_1</th>\n",
       "      <th>recall_0</th>\n",
       "      <th>recall_1</th>\n",
       "      <th>f1_0</th>\n",
       "      <th>f1_1</th>\n",
       "      <th>accuracy</th>\n",
       "    </tr>\n",
       "  </thead>\n",
       "  <tbody>\n",
       "    <tr>\n",
       "      <th>0</th>\n",
       "      <td>0.505648</td>\n",
       "      <td>0.0</td>\n",
       "      <td>1.0</td>\n",
       "      <td>0.0</td>\n",
       "      <td>0.671669</td>\n",
       "      <td>0.0</td>\n",
       "      <td>0.505648</td>\n",
       "    </tr>\n",
       "  </tbody>\n",
       "</table>\n",
       "</div>"
      ],
      "text/plain": [
       "   precision_0  precision_1  recall_0  recall_1      f1_0  f1_1  accuracy\n",
       "0     0.505648          0.0       1.0       0.0  0.671669   0.0  0.505648"
      ]
     },
     "execution_count": 114,
     "metadata": {},
     "output_type": "execute_result"
    }
   ],
   "source": [
    "test_model_performance_lstm = classification_metrics(y_test,y_pred)\n",
    "test_model_performance_lstm"
   ]
  },
  {
   "cell_type": "code",
   "execution_count": 115,
   "id": "a969f763-0ce7-41e8-a986-7844f09b1d1c",
   "metadata": {},
   "outputs": [
    {
     "data": {
      "image/png": "[encoded data removed]",
      "text/plain": [
       "<Figure size 640x480 with 1 Axes>"
      ]
     },
     "metadata": {},
     "output_type": "display_data"
    }
   ],
   "source": [
    "plt.plot(history.history['loss'])\n",
    "plt.plot(history.history['val_loss'])\n",
    "plt.title('training vs validation loss')\n",
    "plt.ylabel('loss')\n",
    "plt.xlabel('epoch')\n",
    "plt.legend(['train', 'validation'], loc='upper left')\n",
    "plt.show()"
   ]
  },
  {
   "cell_type": "code",
   "execution_count": 101,
   "id": "8ab9a0a5-cf88-4828-a76e-d1bb122dfe8e",
   "metadata": {},
   "outputs": [
    {
     "name": "stdout",
     "output_type": "stream",
     "text": [
      "70/70 [==============================] - 16s 229ms/step - loss: 0.6988 - accuracy: 0.5079\n"
     ]
    }
   ],
   "source": [
    "test_loss,accuracy = model.evaluate(X_test,y_test)"
   ]
  },
  {
   "cell_type": "code",
   "execution_count": 102,
   "id": "3b0af032-0abf-464f-9d6c-329821c581b5",
   "metadata": {},
   "outputs": [
    {
     "data": {
      "text/plain": [
       "(0.6987560987472534, 0.5079078078269958)"
      ]
     },
     "execution_count": 102,
     "metadata": {},
     "output_type": "execute_result"
    }
   ],
   "source": [
    "test_loss,accuracy"
   ]
  },
  {
   "cell_type": "markdown",
   "id": "1fb45391-c4e7-4c00-9b3e-36ad5dbaac7a",
   "metadata": {},
   "source": [
    "### CNN+LSTM"
   ]
  },
  {
   "cell_type": "code",
   "execution_count": 145,
   "id": "e2021f25-2484-4dae-a4c3-4b309e8dea2c",
   "metadata": {},
   "outputs": [
    {
     "name": "stderr",
     "output_type": "stream",
     "text": [
      "2024-08-22 12:55:21,567 | WARNING | lstm.py:590 | __init__ | Layer lstm_10 will not use cuDNN kernels since it doesn't meet the criteria. It will use a generic GPU kernel as fallback when running on GPU.\n"
     ]
    }
   ],
   "source": [
    "embedding = glove_embeddings\n",
    "vocab_size = GLOVE_VOCAB_SIZE\n",
    "embedding_dim = GLOVE_EMBEDDINGS_DIMENSION\n",
    "Embedding_layer = Embedding(vocab_size,embedding_dim,weights = [embedding],input_length = max_length_sequence, trainable=False)\n",
    "model = Sequential()\n",
    "model.add(Embedding_layer)\n",
    "model.add(Conv1D(filters=32,kernel_size=5,activation=\"relu\",padding=\"same\",strides=1))\n",
    "model.add(MaxPool1D(pool_size=2))\n",
    "model.add(LSTM(100,dropout=0.2,recurrent_dropout=0.2))\n",
    "model.add(Dense(32,activation=\"relu\"))\n",
    "model.add(Dropout(0.2))\n",
    "\n",
    "model.add(Dense(1,\"sigmoid\"))\n",
    "model.compile(loss=\"binary_crossentropy\",optimizer=\"adam\",metrics=[\"accuracy\"])"
   ]
  },
  {
   "cell_type": "code",
   "execution_count": 146,
   "id": "54eb31de-d091-4c97-a97a-c8d955d512b2",
   "metadata": {},
   "outputs": [
    {
     "name": "stdout",
     "output_type": "stream",
     "text": [
      "Model: \"sequential_10\"\n",
      "_________________________________________________________________\n",
      " Layer (type)                Output Shape              Param #   \n",
      "=================================================================\n",
      " embedding_10 (Embedding)    (None, 186, 300)          5802900   \n",
      "                                                                 \n",
      " conv1d_5 (Conv1D)           (None, 186, 32)           48032     \n",
      "                                                                 \n",
      " max_pooling1d_5 (MaxPooling  (None, 93, 32)           0         \n",
      " 1D)                                                             \n",
      "                                                                 \n",
      " lstm_10 (LSTM)              (None, 100)               53200     \n",
      "                                                                 \n",
      " dense_15 (Dense)            (None, 32)                3232      \n",
      "                                                                 \n",
      " dropout_47 (Dropout)        (None, 32)                0         \n",
      "                                                                 \n",
      " dense_16 (Dense)            (None, 1)                 33        \n",
      "                                                                 \n",
      "=================================================================\n",
      "Total params: 5,907,397\n",
      "Trainable params: 104,497\n",
      "Non-trainable params: 5,802,900\n",
      "_________________________________________________________________\n"
     ]
    }
   ],
   "source": [
    "model.summary()"
   ]
  },
  {
   "cell_type": "code",
   "execution_count": 147,
   "id": "e23b8517-9b0a-48f7-93e2-9eaabd537e04",
   "metadata": {},
   "outputs": [
    {
     "name": "stdout",
     "output_type": "stream",
     "text": [
      "Epoch 1/5\n",
      "807/807 [==============================] - 736s 905ms/step - loss: 0.6946 - accuracy: 0.5060 - val_loss: 0.6933 - val_accuracy: 0.5062\n",
      "Epoch 2/5\n",
      "807/807 [==============================] - 957s 1s/step - loss: 0.6933 - accuracy: 0.5057 - val_loss: 0.6940 - val_accuracy: 0.5032\n",
      "Epoch 3/5\n",
      "807/807 [==============================] - 737s 913ms/step - loss: 0.6932 - accuracy: 0.5064 - val_loss: 0.6932 - val_accuracy: 0.5049\n",
      "Epoch 4/5\n",
      "807/807 [==============================] - 1788s 2s/step - loss: 0.6927 - accuracy: 0.5131 - val_loss: 0.6932 - val_accuracy: 0.5090\n",
      "Epoch 5/5\n",
      "807/807 [==============================] - 733s 909ms/step - loss: 0.6917 - accuracy: 0.5232 - val_loss: 0.6937 - val_accuracy: 0.5073\n"
     ]
    }
   ],
   "source": [
    "early_stopping = EarlyStopping(monitor='val_loss', patience=3, mode='min', verbose=1)\n",
    "history = model.fit(X_train,y_train,epochs=5,batch_size=32,validation_data=(X_val, y_val),verbose=1,callbacks=[early_stopping],\n",
    "                   workers=3)"
   ]
  },
  {
   "cell_type": "code",
   "execution_count": 148,
   "id": "7f8c5b01-f8ab-4ef6-bbca-68592c2f1af9",
   "metadata": {},
   "outputs": [
    {
     "name": "stdout",
     "output_type": "stream",
     "text": [
      "807/807 [==============================] - 78s 96ms/step\n"
     ]
    },
    {
     "data": {
      "text/html": [
       "<div>\n",
       "<style scoped>\n",
       "    .dataframe tbody tr th:only-of-type {\n",
       "        vertical-align: middle;\n",
       "    }\n",
       "\n",
       "    .dataframe tbody tr th {\n",
       "        vertical-align: top;\n",
       "    }\n",
       "\n",
       "    .dataframe thead th {\n",
       "        text-align: right;\n",
       "    }\n",
       "</style>\n",
       "<table border=\"1\" class=\"dataframe\">\n",
       "  <thead>\n",
       "    <tr style=\"text-align: right;\">\n",
       "      <th></th>\n",
       "      <th>precision_0</th>\n",
       "      <th>precision_1</th>\n",
       "      <th>recall_0</th>\n",
       "      <th>recall_1</th>\n",
       "      <th>f1_0</th>\n",
       "      <th>f1_1</th>\n",
       "      <th>accuracy</th>\n",
       "    </tr>\n",
       "  </thead>\n",
       "  <tbody>\n",
       "    <tr>\n",
       "      <th>0</th>\n",
       "      <td>0.506246</td>\n",
       "      <td>0.652174</td>\n",
       "      <td>0.996934</td>\n",
       "      <td>0.005877</td>\n",
       "      <td>0.671502</td>\n",
       "      <td>0.011649</td>\n",
       "      <td>0.506897</td>\n",
       "    </tr>\n",
       "  </tbody>\n",
       "</table>\n",
       "</div>"
      ],
      "text/plain": [
       "   precision_0  precision_1  recall_0  recall_1      f1_0      f1_1  accuracy\n",
       "0     0.506246     0.652174  0.996934  0.005877  0.671502  0.011649  0.506897"
      ]
     },
     "execution_count": 148,
     "metadata": {},
     "output_type": "execute_result"
    }
   ],
   "source": [
    "train_pred = model.predict(X_train)\n",
    "train_pred = np.squeeze(train_pred)\n",
    "train_pred = np.where(train_pred<0.6,0,1)\n",
    "train_model_performance = classification_metrics(y_train,train_pred)\n",
    "train_model_performance"
   ]
  },
  {
   "cell_type": "code",
   "execution_count": 149,
   "id": "4968fbf2-f150-4049-a832-e999158c1699",
   "metadata": {},
   "outputs": [
    {
     "name": "stdout",
     "output_type": "stream",
     "text": [
      "70/70 [==============================] - 7s 96ms/step\n"
     ]
    },
    {
     "data": {
      "text/html": [
       "<div>\n",
       "<style scoped>\n",
       "    .dataframe tbody tr th:only-of-type {\n",
       "        vertical-align: middle;\n",
       "    }\n",
       "\n",
       "    .dataframe tbody tr th {\n",
       "        vertical-align: top;\n",
       "    }\n",
       "\n",
       "    .dataframe thead th {\n",
       "        text-align: right;\n",
       "    }\n",
       "</style>\n",
       "<table border=\"1\" class=\"dataframe\">\n",
       "  <thead>\n",
       "    <tr style=\"text-align: right;\">\n",
       "      <th></th>\n",
       "      <th>precision_0</th>\n",
       "      <th>precision_1</th>\n",
       "      <th>recall_0</th>\n",
       "      <th>recall_1</th>\n",
       "      <th>f1_0</th>\n",
       "      <th>f1_1</th>\n",
       "      <th>accuracy</th>\n",
       "    </tr>\n",
       "  </thead>\n",
       "  <tbody>\n",
       "    <tr>\n",
       "      <th>0</th>\n",
       "      <td>0.505909</td>\n",
       "      <td>0.538462</td>\n",
       "      <td>0.994638</td>\n",
       "      <td>0.006399</td>\n",
       "      <td>0.670684</td>\n",
       "      <td>0.012647</td>\n",
       "      <td>0.5061</td>\n",
       "    </tr>\n",
       "  </tbody>\n",
       "</table>\n",
       "</div>"
      ],
      "text/plain": [
       "   precision_0  precision_1  recall_0  recall_1      f1_0      f1_1  accuracy\n",
       "0     0.505909     0.538462  0.994638  0.006399  0.670684  0.012647    0.5061"
      ]
     },
     "execution_count": 149,
     "metadata": {},
     "output_type": "execute_result"
    }
   ],
   "source": [
    "y_pred = model.predict(X_test)\n",
    "y_pred = np.squeeze(y_pred)\n",
    "y_pred = np.where(y_pred<0.6,0,1)\n",
    "test_model_performance = classification_metrics(y_test,y_pred)\n",
    "test_model_performance"
   ]
  },
  {
   "cell_type": "code",
   "execution_count": 150,
   "id": "83f98068-dadb-4fed-b4af-d7e5d38a6403",
   "metadata": {},
   "outputs": [
    {
     "name": "stdout",
     "output_type": "stream",
     "text": [
      "70/70 [==============================] - 2885s 42s/step - loss: 0.6939 - accuracy: 0.5147\n"
     ]
    }
   ],
   "source": [
    "test_loss,accuracy = model.evaluate(X_test,y_test)"
   ]
  },
  {
   "cell_type": "code",
   "execution_count": 151,
   "id": "b409f491-b1c6-4f7b-a7a5-fbd2b77e7a82",
   "metadata": {},
   "outputs": [
    {
     "data": {
      "image/png": "[encoded data removed]",
      "text/plain": [
       "<Figure size 640x480 with 1 Axes>"
      ]
     },
     "metadata": {},
     "output_type": "display_data"
    }
   ],
   "source": [
    "plt.plot(history.history['loss'])\n",
    "plt.plot(history.history['val_loss'])\n",
    "plt.title('training vs validation loss')\n",
    "plt.ylabel('loss')\n",
    "plt.xlabel('epoch')\n",
    "plt.legend(['train', 'validation'], loc='upper left')\n",
    "plt.show()"
   ]
  },
  {
   "cell_type": "markdown",
   "id": "10fa0571-bc30-49b7-9448-10d2245571b9",
   "metadata": {},
   "source": [
    "### BERT"
   ]
  },
  {
   "cell_type": "code",
   "execution_count": 21,
   "id": "d3570412-aac2-4358-9770-64062ff97e8b",
   "metadata": {},
   "outputs": [
    {
     "name": "stderr",
     "output_type": "stream",
     "text": [
      "All model checkpoint layers were used when initializing TFBertForSequenceClassification.\n",
      "\n",
      "Some layers of TFBertForSequenceClassification were not initialized from the model checkpoint at bert-base-uncased and are newly initialized: ['classifier']\n",
      "You should probably TRAIN this model on a down-stream task to be able to use it for predictions and inference.\n"
     ]
    }
   ],
   "source": [
    "bert_tokenizer = BertTokenizer.from_pretrained('bert-base-uncased',do_lower_case=True)\n",
    "bert_model = TFBertForSequenceClassification.from_pretrained(\"bert-base-uncased\",num_labels=2)"
   ]
  },
  {
   "cell_type": "code",
   "execution_count": 30,
   "id": "f32438e3-8c42-4b7b-8270-a57e8e8b27f0",
   "metadata": {},
   "outputs": [],
   "source": [
    "data_bert = data_bin.copy()\n",
    "data_bert[\"tweet\"] = \"[CLS] \" +data_bert['tweet'] + \"[SEP]\"\n",
    "X = data_bert[[\"tweet\"]]\n",
    "y = data_bert[[\"Disorder\"]]\n",
    "\n",
    "# X_train.shape,X_test.shape\n",
    "X_train,X_temp,y_train,y_temp = train_test_split(X, y, test_size=0.3, random_state=42,stratify=y)\n",
    "X_val,X_test,y_val,y_test = train_test_split(X_temp, y_temp, test_size=0.2, random_state=42,stratify=y_temp)\n",
    "train_text = X_train[\"tweet\"].values.tolist()\n",
    "train_label = y_train[\"Disorder\"].values.tolist()\n",
    "\n",
    "val_text = X_val[\"tweet\"].values.tolist()\n",
    "val_label = y_val[\"Disorder\"].values.tolist()\n",
    "test_text =  X_test[\"tweet\"].values.tolist()\n",
    "test_label = y_test[\"Disorder\"].values.tolist()"
   ]
  },
  {
   "cell_type": "code",
   "execution_count": 31,
   "id": "258cb5ff-bc5f-4e15-8619-0f57aabaf4a5",
   "metadata": {},
   "outputs": [
    {
     "name": "stdout",
     "output_type": "stream",
     "text": [
      "(25810, 1) (8849, 1) (2213, 1)\n",
      "(array([0, 1], dtype=int64), array([13048, 12762], dtype=int64))\n",
      "(array([0, 1], dtype=int64), array([4473, 4376], dtype=int64))\n",
      "(array([0, 1], dtype=int64), array([1119, 1094], dtype=int64))\n"
     ]
    }
   ],
   "source": [
    "print(X_train.shape,X_val.shape,X_test.shape)\n",
    "print(np.unique(y_train,return_counts=True))\n",
    "print(np.unique(y_val,return_counts=True))\n",
    "print(np.unique(y_test,return_counts=True))"
   ]
  },
  {
   "cell_type": "code",
   "execution_count": 32,
   "id": "7debd15b-c36e-4cd1-bf45-b3d3db165c5e",
   "metadata": {},
   "outputs": [
    {
     "data": {
      "text/plain": [
       "(25810, 25810)"
      ]
     },
     "execution_count": 32,
     "metadata": {},
     "output_type": "execute_result"
    }
   ],
   "source": [
    "len(train_text),len(train_label)"
   ]
  },
  {
   "cell_type": "code",
   "execution_count": 33,
   "id": "7108b5c1-9bbb-4dcf-a40f-664bfb9549e9",
   "metadata": {},
   "outputs": [
    {
     "data": {
      "text/plain": [
       "(8849, 8849)"
      ]
     },
     "execution_count": 33,
     "metadata": {},
     "output_type": "execute_result"
    }
   ],
   "source": [
    "len(val_text),len(val_label)"
   ]
  },
  {
   "cell_type": "code",
   "execution_count": 34,
   "id": "ffbde75c-b113-4e3c-8fd7-2a8c87c10440",
   "metadata": {},
   "outputs": [
    {
     "data": {
      "text/plain": [
       "Disorder\n",
       "0    13048\n",
       "1    12762\n",
       "Name: count, dtype: int64"
      ]
     },
     "execution_count": 34,
     "metadata": {},
     "output_type": "execute_result"
    }
   ],
   "source": [
    "y_train.Disorder.value_counts()"
   ]
  },
  {
   "cell_type": "code",
   "execution_count": 35,
   "id": "a0d04548-3be6-49c7-9a3e-5c7f5e7ff93a",
   "metadata": {},
   "outputs": [
    {
     "data": {
      "text/plain": [
       "Disorder\n",
       "0    1119\n",
       "1    1094\n",
       "Name: count, dtype: int64"
      ]
     },
     "execution_count": 35,
     "metadata": {},
     "output_type": "execute_result"
    }
   ],
   "source": [
    "y_test.Disorder.value_counts()"
   ]
  },
  {
   "cell_type": "code",
   "execution_count": null,
   "id": "a936913b-4ba5-4704-b4cb-cc4b49b10347",
   "metadata": {},
   "outputs": [],
   "source": []
  },
  {
   "cell_type": "code",
   "execution_count": 36,
   "id": "f559befa-ec21-48e0-b371-ac7d89df6921",
   "metadata": {},
   "outputs": [],
   "source": [
    "BERT_TOKENS_LENGTH = 256\n",
    "max_length_sequence = min(max([len(doc) for doc in corpus]),BERT_TOKENS_LENGTH)\n",
    "train_encoding = bert_tokenizer.batch_encode_plus(train_text,\n",
    "                                              padding=True,\n",
    "                                              truncation=True,\n",
    "                                              max_length = max_length_sequence,\n",
    "                                              return_tensors='tf')\n",
    "val_encoding = bert_tokenizer.batch_encode_plus(val_text,\n",
    "                                              padding=True, \n",
    "                                            truncation=True,\n",
    "                                              max_length = max_length_sequence,\n",
    "                                              return_tensors='tf')"
   ]
  },
  {
   "cell_type": "code",
   "execution_count": 37,
   "id": "bcbe0174-d345-40a8-8527-c1041ffcd18b",
   "metadata": {},
   "outputs": [
    {
     "data": {
      "text/plain": [
       "(TensorShape([25810, 186]), TensorShape([8849, 77]))"
      ]
     },
     "execution_count": 37,
     "metadata": {},
     "output_type": "execute_result"
    }
   ],
   "source": [
    "train_encoding[\"input_ids\"].shape,val_encoding[\"input_ids\"].shape"
   ]
  },
  {
   "cell_type": "code",
   "execution_count": 45,
   "id": "9de3d4da-9004-4340-9327-ec6d4ff84696",
   "metadata": {},
   "outputs": [],
   "source": [
    "# Compile the model with an appropriate optimizer, loss function, and metrics\n",
    "loss = tf.keras.losses.SparseCategoricalCrossentropy(from_logits=True)\n",
    "metric = tf.keras.metrics.SparseCategoricalAccuracy('accuracy')\n",
    "bert_model.compile(optimizer=\"adam\", loss=loss, metrics=[metric])"
   ]
  },
  {
   "cell_type": "code",
   "execution_count": 46,
   "id": "89c085ad-abe5-4c5e-b024-3837eda6ce7f",
   "metadata": {},
   "outputs": [
    {
     "name": "stdout",
     "output_type": "stream",
     "text": [
      "Model: \"tf_bert_for_sequence_classification\"\n",
      "_________________________________________________________________\n",
      " Layer (type)                Output Shape              Param #   \n",
      "=================================================================\n",
      " bert (TFBertMainLayer)      multiple                  109482240 \n",
      "                                                                 \n",
      " dropout_37 (Dropout)        multiple                  0         \n",
      "                                                                 \n",
      " classifier (Dense)          multiple                  1538      \n",
      "                                                                 \n",
      "=================================================================\n",
      "Total params: 109,483,778\n",
      "Trainable params: 109,483,778\n",
      "Non-trainable params: 0\n",
      "_________________________________________________________________\n"
     ]
    }
   ],
   "source": [
    "bert_model.summary()"
   ]
  },
  {
   "cell_type": "code",
   "execution_count": 2,
   "id": "d3baf4df-b065-4b09-bbdc-e7c80c4444b3",
   "metadata": {},
   "outputs": [],
   "source": [
    "early_stopping = EarlyStopping(monitor='val_loss', patience=2)\n",
    "\n",
    "history = bert_model.fit(\n",
    "    [train_encoding['input_ids'], train_encoding['token_type_ids'], train_encoding['attention_mask']],\n",
    "    tf.convert_to_tensor(train_label, dtype=tf.int32),\n",
    "    validation_data=(\n",
    "      [val_encoding['input_ids'], val_encoding['token_type_ids'], val_encoding['attention_mask']], tf.convert_to_tensor(val_label, dtype=tf.int32)),\n",
    "    batch_size=16,\n",
    "    epochs=3,\n",
    "    callbacks = [early_stopping]\n",
    ")"
   ]
  },
  {
   "cell_type": "code",
   "execution_count": 59,
   "id": "4c6ac42b-2ffc-4791-8603-13e71ea3e0ae",
   "metadata": {},
   "outputs": [],
   "source": [
    "test_encoding = bert_tokenizer.batch_encode_plus(test_text,\n",
    "                                              padding=True, \n",
    "                                            truncation=True,\n",
    "                                              max_length = max_length_sequence,\n",
    "                                              return_tensors='tf')"
   ]
  },
  {
   "cell_type": "code",
   "execution_count": 60,
   "id": "e52fffc7-7386-4001-bf42-06523e197753",
   "metadata": {},
   "outputs": [
    {
     "name": "stdout",
     "output_type": "stream",
     "text": [
      "39/39 [==============================] - 23s 437ms/step - loss: 0.3805 - accuracy: 0.8780\n"
     ]
    }
   ],
   "source": [
    "test_loss, test_accuracy = bert_model.evaluate(\n",
    "    [test_encoding['input_ids'], test_encoding['token_type_ids'], test_encoding['attention_mask']],\n",
    "    tf.convert_to_tensor(test_label)\n",
    ")"
   ]
  },
  {
   "cell_type": "code",
   "execution_count": 61,
   "id": "a823d842-b2f1-4174-bdf6-8ca3ae2d6987",
   "metadata": {},
   "outputs": [
    {
     "data": {
      "text/plain": [
       "(0.38047096133232117, 0.8780096173286438)"
      ]
     },
     "execution_count": 61,
     "metadata": {},
     "output_type": "execute_result"
    }
   ],
   "source": [
    "test_loss, test_accuracy"
   ]
  },
  {
   "cell_type": "code",
   "execution_count": 63,
   "id": "58678a5d-2471-4c5e-a48f-5563a0cdfef8",
   "metadata": {},
   "outputs": [
    {
     "name": "stdout",
     "output_type": "stream",
     "text": [
      "39/39 [==============================] - 17s 417ms/step\n"
     ]
    }
   ],
   "source": [
    "test_pred = bert_model.predict(\n",
    "    [test_encoding['input_ids'], test_encoding['token_type_ids'], test_encoding['attention_mask']])"
   ]
  },
  {
   "cell_type": "code",
   "execution_count": 65,
   "id": "f8f11db7-e4b2-4ac5-b55f-d7a6e32f6a2f",
   "metadata": {},
   "outputs": [],
   "source": [
    "test_logits = test_pred.logits\n",
    "test_pred_labels = tf.argmax(test_logits, axis=1)\n",
    "test_pred_labels = test_pred_labels.numpy()"
   ]
  },
  {
   "cell_type": "code",
   "execution_count": 66,
   "id": "bcec00f5-7867-4a6d-92a7-21b918528c73",
   "metadata": {},
   "outputs": [
    {
     "data": {
      "text/plain": [
       "array([1], dtype=int64)"
      ]
     },
     "execution_count": 66,
     "metadata": {},
     "output_type": "execute_result"
    }
   ],
   "source": [
    "np.unique(test_pred_labels)"
   ]
  },
  {
   "cell_type": "code",
   "execution_count": 67,
   "id": "d7a0cd9b-6514-4c67-bc39-2b7fe7741a9e",
   "metadata": {},
   "outputs": [
    {
     "name": "stdout",
     "output_type": "stream",
     "text": [
      "455/455 [==============================] - 109s 226ms/step\n"
     ]
    }
   ],
   "source": [
    "train_pred = bert_model.predict(\n",
    "    [train_encoding['input_ids'], train_encoding['token_type_ids'], train_encoding['attention_mask']])"
   ]
  },
  {
   "cell_type": "code",
   "execution_count": 68,
   "id": "a1065976-58ce-49b3-9fff-2a68e878ee2a",
   "metadata": {},
   "outputs": [],
   "source": [
    "train_logits = train_pred.logits\n",
    "train_labels = tf.argmax(train_logits, axis=1)\n",
    "train_labels = train_labels.numpy()"
   ]
  },
  {
   "cell_type": "code",
   "execution_count": 69,
   "id": "2ac108a6-2b5f-439b-b8ce-7bf363d0ec0c",
   "metadata": {},
   "outputs": [
    {
     "data": {
      "text/plain": [
       "array([1], dtype=int64)"
      ]
     },
     "execution_count": 69,
     "metadata": {},
     "output_type": "execute_result"
    }
   ],
   "source": [
    "np.unique(train_labels)"
   ]
  },
  {
   "cell_type": "code",
   "execution_count": 70,
   "id": "38424dac-261a-4dcd-ace3-09d7302a7991",
   "metadata": {},
   "outputs": [],
   "source": [
    "train_performance_table = classification_metrics(y_train.values,train_labels)\n",
    "test_performance_table = classification_metrics(y_test.values,test_pred_labels)"
   ]
  },
  {
   "cell_type": "code",
   "execution_count": 71,
   "id": "0b5d920d-02dc-4cd3-9d57-9f788fb0b77e",
   "metadata": {},
   "outputs": [
    {
     "data": {
      "text/html": [
       "<div>\n",
       "<style scoped>\n",
       "    .dataframe tbody tr th:only-of-type {\n",
       "        vertical-align: middle;\n",
       "    }\n",
       "\n",
       "    .dataframe tbody tr th {\n",
       "        vertical-align: top;\n",
       "    }\n",
       "\n",
       "    .dataframe thead th {\n",
       "        text-align: right;\n",
       "    }\n",
       "</style>\n",
       "<table border=\"1\" class=\"dataframe\">\n",
       "  <thead>\n",
       "    <tr style=\"text-align: right;\">\n",
       "      <th></th>\n",
       "      <th>precision_0</th>\n",
       "      <th>precision_1</th>\n",
       "      <th>recall_0</th>\n",
       "      <th>recall_1</th>\n",
       "      <th>f1_0</th>\n",
       "      <th>f1_1</th>\n",
       "      <th>accuracy</th>\n",
       "    </tr>\n",
       "  </thead>\n",
       "  <tbody>\n",
       "    <tr>\n",
       "      <th>0</th>\n",
       "      <td>0.0</td>\n",
       "      <td>0.878321</td>\n",
       "      <td>0.0</td>\n",
       "      <td>1.0</td>\n",
       "      <td>0.0</td>\n",
       "      <td>0.935219</td>\n",
       "      <td>0.878321</td>\n",
       "    </tr>\n",
       "  </tbody>\n",
       "</table>\n",
       "</div>"
      ],
      "text/plain": [
       "   precision_0  precision_1  recall_0  recall_1  f1_0      f1_1  accuracy\n",
       "0          0.0     0.878321       0.0       1.0   0.0  0.935219  0.878321"
      ]
     },
     "execution_count": 71,
     "metadata": {},
     "output_type": "execute_result"
    }
   ],
   "source": [
    "train_performance_table"
   ]
  },
  {
   "cell_type": "code",
   "execution_count": 72,
   "id": "e29c5ae2-8cda-488d-8ba4-e58c6f71a890",
   "metadata": {},
   "outputs": [
    {
     "data": {
      "text/html": [
       "<div>\n",
       "<style scoped>\n",
       "    .dataframe tbody tr th:only-of-type {\n",
       "        vertical-align: middle;\n",
       "    }\n",
       "\n",
       "    .dataframe tbody tr th {\n",
       "        vertical-align: top;\n",
       "    }\n",
       "\n",
       "    .dataframe thead th {\n",
       "        text-align: right;\n",
       "    }\n",
       "</style>\n",
       "<table border=\"1\" class=\"dataframe\">\n",
       "  <thead>\n",
       "    <tr style=\"text-align: right;\">\n",
       "      <th></th>\n",
       "      <th>precision_0</th>\n",
       "      <th>precision_1</th>\n",
       "      <th>recall_0</th>\n",
       "      <th>recall_1</th>\n",
       "      <th>f1_0</th>\n",
       "      <th>f1_1</th>\n",
       "      <th>accuracy</th>\n",
       "    </tr>\n",
       "  </thead>\n",
       "  <tbody>\n",
       "    <tr>\n",
       "      <th>0</th>\n",
       "      <td>0.0</td>\n",
       "      <td>0.87801</td>\n",
       "      <td>0.0</td>\n",
       "      <td>1.0</td>\n",
       "      <td>0.0</td>\n",
       "      <td>0.935043</td>\n",
       "      <td>0.87801</td>\n",
       "    </tr>\n",
       "  </tbody>\n",
       "</table>\n",
       "</div>"
      ],
      "text/plain": [
       "   precision_0  precision_1  recall_0  recall_1  f1_0      f1_1  accuracy\n",
       "0          0.0      0.87801       0.0       1.0   0.0  0.935043   0.87801"
      ]
     },
     "execution_count": 72,
     "metadata": {},
     "output_type": "execute_result"
    }
   ],
   "source": [
    "test_performance_table"
   ]
  },
  {
   "cell_type": "code",
   "execution_count": 73,
   "id": "9b6f2f11-28bc-41ad-8c0a-60dba20e1417",
   "metadata": {},
   "outputs": [
    {
     "data": {
      "image/png": "[encoded data removed]",
      "text/plain": [
       "<Figure size 640x480 with 1 Axes>"
      ]
     },
     "metadata": {},
     "output_type": "display_data"
    }
   ],
   "source": [
    "plt.plot(history.history['loss'])\n",
    "plt.plot(history.history['val_loss'])\n",
    "plt.title('training vs validation loss')\n",
    "plt.ylabel('loss')\n",
    "plt.xlabel('epoch')\n",
    "plt.legend(['train', 'validation'], loc='upper left')\n",
    "plt.show()"
   ]
  },
  {
   "cell_type": "code",
   "execution_count": null,
   "id": "566d2a26-ddc7-440a-a91e-6d8897521271",
   "metadata": {},
   "outputs": [],
   "source": []
  }
 ],
 "metadata": {
  "kernelspec": {
   "display_name": "Python 3 (ipykernel)",
   "language": "python",
   "name": "python3"
  },
  "language_info": {
   "codemirror_mode": {
    "name": "ipython",
    "version": 3
   },
   "file_extension": ".py",
   "mimetype": "text/x-python",
   "name": "python",
   "nbconvert_exporter": "python",
   "pygments_lexer": "ipython3",
   "version": "3.11.9"
  }
 },
 "nbformat": 4,
 "nbformat_minor": 5
}
