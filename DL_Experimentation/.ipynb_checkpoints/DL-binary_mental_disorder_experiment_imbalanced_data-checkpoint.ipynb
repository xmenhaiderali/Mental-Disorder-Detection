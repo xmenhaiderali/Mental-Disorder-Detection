{
 "cells": [
  {
   "cell_type": "code",
   "execution_count": 1,
   "id": "87e21a07-9d57-42e9-a2d9-cea2cbd7342f",
   "metadata": {},
   "outputs": [
    {
     "name": "stderr",
     "output_type": "stream",
     "text": [
      "[nltk_data] Downloading package wordnet to C:\\Users\\Ali\n",
      "[nltk_data]     Haider\\AppData\\Roaming\\nltk_data...\n",
      "[nltk_data]   Package wordnet is already up-to-date!\n",
      "[nltk_data] Downloading package stopwords to C:\\Users\\Ali\n",
      "[nltk_data]     Haider\\AppData\\Roaming\\nltk_data...\n",
      "[nltk_data]   Package stopwords is already up-to-date!\n"
     ]
    },
    {
     "data": {
      "text/plain": [
       "True"
      ]
     },
     "execution_count": 1,
     "metadata": {},
     "output_type": "execute_result"
    }
   ],
   "source": [
    "import pandas as pd\n",
    "import numpy as np\n",
    "from pathlib import Path\n",
    "from tqdm import tqdm\n",
    "import matplotlib.pyplot as plt\n",
    "from textblob import TextBlob\n",
    "import advertools\n",
    "import re\n",
    "import spacy\n",
    "import xgboost\n",
    "from sklearn.feature_extraction.text import TfidfVectorizer\n",
    "from sklearn.model_selection import train_test_split\n",
    "from sklearn.linear_model import LogisticRegression\n",
    "from sklearn.metrics import (classification_report,auc, \n",
    "                            roc_auc_score, precision_score,\n",
    "                            recall_score,f1_score, accuracy_score)\n",
    "from sklearn.ensemble import RandomForestClassifier, AdaBoostClassifier\n",
    "from sklearn.svm import SVC\n",
    "from sklearn.tree import DecisionTreeClassifier\n",
    "from sklearn.naive_bayes import GaussianNB\n",
    "import seaborn as sns\n",
    "import gensim\n",
    "import nltk\n",
    "import nltk.util\n",
    "from nltk.corpus import stopwords\n",
    "from nltk.stem import WordNetLemmatizer\n",
    "from tensorflow.keras.preprocessing.text import Tokenizer\n",
    "from tensorflow.keras.layers import Embedding, Dense, Dropout, SpatialDropout1D, LSTM, Conv1D, MaxPool1D, Input\n",
    "from tensorflow.keras.models import Sequential\n",
    "from tensorflow.keras.callbacks import EarlyStopping\n",
    "from tensorflow.keras.utils import pad_sequences\n",
    "from transformers import BertTokenizer, TFBertForSequenceClassification, TFBertModel\n",
    "import warnings\n",
    "warnings.filterwarnings(\"ignore\")\n",
    "nltk.download(\"wordnet\")\n",
    "nltk.download(\"stopwords\")"
   ]
  },
  {
   "cell_type": "code",
   "execution_count": 2,
   "id": "f7ee10c3-bad3-4bf9-bffc-128789be6257",
   "metadata": {},
   "outputs": [
    {
     "data": {
      "text/plain": [
       "'2.10.1'"
      ]
     },
     "execution_count": 2,
     "metadata": {},
     "output_type": "execute_result"
    }
   ],
   "source": [
    "import tensorflow as tf\n",
    "tf.__version__"
   ]
  },
  {
   "cell_type": "code",
   "execution_count": 3,
   "id": "f6928cf4-ec7c-4097-9b8e-ed76aaf813e8",
   "metadata": {},
   "outputs": [],
   "source": [
    "data_path = Path.cwd().parent/\"Data\"\n",
    "final_data = pd.DataFrame()"
   ]
  },
  {
   "cell_type": "code",
   "execution_count": 4,
   "id": "c720a4b4-8003-4bba-a324-71da0d42622b",
   "metadata": {},
   "outputs": [
    {
     "name": "stderr",
     "output_type": "stream",
     "text": [
      "100%|████████████████████████████████████████████████████████████████████| 622/622 [00:10<00:00, 59.91it/s]\n",
      "100%|████████████████████████████████████████████████████████████████████| 124/124 [00:01<00:00, 75.36it/s]\n",
      "100%|████████████████████████████████████████████████████████████████████| 170/170 [00:02<00:00, 63.07it/s]\n",
      "100%|████████████████████████████████████████████████████████████████████| 136/136 [00:01<00:00, 85.69it/s]\n",
      "100%|██████████████████████████████████████████████████████████████████| 1703/1703 [00:23<00:00, 73.85it/s]\n",
      "100%|████████████████████████████████████████████████████████████████████| 249/249 [00:02<00:00, 90.98it/s]\n",
      "100%|██████████████████████████████████████████████████████████████████████| 26/26 [00:00<00:00, 74.32it/s]\n",
      "100%|██████████████████████████████████████████████████████████████████████| 65/65 [00:00<00:00, 68.89it/s]\n",
      "100%|████████████████████████████████████████████████████████████████████| 127/127 [00:01<00:00, 73.50it/s]\n",
      "100%|██████████████████████████████████████████████████████████████████████| 24/24 [00:00<00:00, 92.43it/s]\n"
     ]
    }
   ],
   "source": [
    "for child in data_path.iterdir():\n",
    "    for child_ch in child.iterdir():\n",
    "        if child_ch.is_dir():\n",
    "            files = list(child_ch.glob(\"**/*.csv\"))\n",
    "            for fls in tqdm(range(len(files))):\n",
    "                df = pd.read_csv(files[fls])\n",
    "        else:\n",
    "            df = pd.read_csv(child_ch)\n",
    "        final_data = pd.concat([df,final_data],axis = 0)"
   ]
  },
  {
   "cell_type": "code",
   "execution_count": 5,
   "id": "4806db0c-48fb-4932-8d2a-05c954986b04",
   "metadata": {},
   "outputs": [],
   "source": [
    "pipeline_data = final_data.copy()"
   ]
  },
  {
   "cell_type": "markdown",
   "id": "11c87c5d-119b-4790-8344-1b9d83a534fe",
   "metadata": {},
   "source": [
    "# Data Preprocessing"
   ]
  },
  {
   "cell_type": "code",
   "execution_count": 6,
   "id": "a4ae8d3b-8902-4979-a434-6341ea4258fd",
   "metadata": {},
   "outputs": [
    {
     "data": {
      "text/html": [
       "<div>\n",
       "<style scoped>\n",
       "    .dataframe tbody tr th:only-of-type {\n",
       "        vertical-align: middle;\n",
       "    }\n",
       "\n",
       "    .dataframe tbody tr th {\n",
       "        vertical-align: top;\n",
       "    }\n",
       "\n",
       "    .dataframe thead th {\n",
       "        text-align: right;\n",
       "    }\n",
       "</style>\n",
       "<table border=\"1\" class=\"dataframe\">\n",
       "  <thead>\n",
       "    <tr style=\"text-align: right;\">\n",
       "      <th></th>\n",
       "      <th>class</th>\n",
       "      <th>tweet_id</th>\n",
       "      <th>day</th>\n",
       "      <th>time</th>\n",
       "      <th>tweet</th>\n",
       "      <th>tweet_favorite_count</th>\n",
       "      <th>tweet_retweet_count</th>\n",
       "      <th>tweet_source</th>\n",
       "      <th>user_id</th>\n",
       "      <th>user_followers_count</th>\n",
       "      <th>user_friends_count</th>\n",
       "      <th>user_listed_count</th>\n",
       "      <th>user_statuses_count</th>\n",
       "    </tr>\n",
       "  </thead>\n",
       "  <tbody>\n",
       "    <tr>\n",
       "      <th>0</th>\n",
       "      <td>SCHIZOPHRENIA</td>\n",
       "      <td>1551565717530677251</td>\n",
       "      <td>2022-07-25</td>\n",
       "      <td>13:51:08</td>\n",
       "      <td>\"Sally 🤍🤍 we wont forget Angel. HTTPURL\"</td>\n",
       "      <td>2</td>\n",
       "      <td>0</td>\n",
       "      <td>Twitter for iPad</td>\n",
       "      <td>2959315666</td>\n",
       "      <td>466</td>\n",
       "      <td>845</td>\n",
       "      <td>4</td>\n",
       "      <td>4636</td>\n",
       "    </tr>\n",
       "  </tbody>\n",
       "</table>\n",
       "</div>"
      ],
      "text/plain": [
       "           class             tweet_id         day      time  \\\n",
       "0  SCHIZOPHRENIA  1551565717530677251  2022-07-25  13:51:08   \n",
       "\n",
       "                                      tweet  tweet_favorite_count  \\\n",
       "0  \"Sally 🤍🤍 we wont forget Angel. HTTPURL\"                     2   \n",
       "\n",
       "   tweet_retweet_count      tweet_source     user_id  user_followers_count  \\\n",
       "0                    0  Twitter for iPad  2959315666                   466   \n",
       "\n",
       "   user_friends_count  user_listed_count  user_statuses_count  \n",
       "0                 845                  4                 4636  "
      ]
     },
     "execution_count": 6,
     "metadata": {},
     "output_type": "execute_result"
    }
   ],
   "source": [
    "final_data.head(1)"
   ]
  },
  {
   "cell_type": "code",
   "execution_count": 7,
   "id": "724da0c0-dab7-41cd-baaf-e8bc3382621d",
   "metadata": {},
   "outputs": [],
   "source": [
    "def clean_text(text:str) -> str:\n",
    "    tokens = advertools.word_tokenize(text,phrase_len=1)\n",
    "    emoji_token = advertools.extract_emoji(tokens[0])\n",
    "    emoji_token = emoji_token[\"emoji_text\"]\n",
    "    for tok in range(0,len(emoji_token)):\n",
    "        if emoji_token[tok]:\n",
    "            tokens[0][tok] = \" \".join(emoji_token[tok])\n",
    "    clean_text = \" \".join(tokens[0])\n",
    "    clean_pattern = r\"@\\w+|#\\w+|\\W+|x+|https\\.\\//www\\.(\\w+|\\W+)\\.com|http\\w*|www\\.(\\w+|\\W+)\\.com|user\\w*|\\d+\"\n",
    "    clean_text = re.sub(clean_pattern,\" \",clean_text).strip()\n",
    "    clean_text = re.sub(r\"\\s+\",\" \",clean_text).strip()\n",
    "    return clean_text"
   ]
  },
  {
   "cell_type": "code",
   "execution_count": 8,
   "id": "dfd1d22c-815a-4938-8685-0afc1297ae99",
   "metadata": {},
   "outputs": [],
   "source": [
    "def text_lemmatize(text: str) -> str:\n",
    "    lemma = WordNetLemmatizer()\n",
    "    tokens = advertools.word_tokenize(text,phrase_len=1)\n",
    "    text = [lemma.lemmatize(tok) for tok in tokens[0]]\n",
    "    return \" \".join(text)"
   ]
  },
  {
   "cell_type": "code",
   "execution_count": 9,
   "id": "6fd6338c-b672-45ed-831a-471f8a3edb96",
   "metadata": {},
   "outputs": [],
   "source": [
    "# def spell_check(text:str) -> str:\n",
    "#     nlp = spacy.load(\"en_core_web_sm\")\n",
    "#     nlp.add_pipe(\"contextual spellchecker\")\n",
    "#     doc = nlp(text)\n",
    "#     return doc._.outcome_spellCheck"
   ]
  },
  {
   "cell_type": "code",
   "execution_count": 10,
   "id": "4dbfa883-befb-403f-862f-4c8caf70af55",
   "metadata": {},
   "outputs": [],
   "source": [
    "def remove_stopword(text: str) -> str:\n",
    "    tokens = advertools.word_tokenize(text,phrase_len=1)[0]\n",
    "    stop_words = stopwords.words(\"english\")\n",
    "    clean_word = [tok for tok in tokens if tok not in stop_words]\n",
    "    return \" \".join(clean_word)"
   ]
  },
  {
   "cell_type": "code",
   "execution_count": 11,
   "id": "9636e634-0a99-4660-b38e-d5b3d94f6fea",
   "metadata": {},
   "outputs": [],
   "source": [
    "def generate_n_grams(text: str, n: list[int]) -> list[tuple]:\n",
    "    tokens = advertools.word_tokenize(text,phrase_len=1)[0]\n",
    "    if len(n)<=1:\n",
    "        n_grams = list(nltk.ngrams(tokens,n[0],pad_right=True,right_pad_symbol=\"</s>\"))\n",
    "        bag_ngrams = \" \".join([\"_\".join(c) for c in n_grams])\n",
    "    else:\n",
    "        bag_ngrams = \" \"\n",
    "        for n_gram in range(n[0],n[1]+1):\n",
    "            n_grams = list(nltk.ngrams(tokens,n_gram,pad_right=True,right_pad_symbol=\"</s>\"))\n",
    "            if n_gram==1:       \n",
    "                n_grams = \" \".join([\"\".join(c[0]) for c in n_grams])\n",
    "                bag_ngrams+=n_grams\n",
    "            else:\n",
    "                n_grams = \" \".join([\"_\".join(c) for c in n_grams])\n",
    "                bag_ngrams+=\" \"+n_grams\n",
    "    return bag_ngrams"
   ]
  },
  {
   "cell_type": "code",
   "execution_count": 12,
   "id": "30a93b6f-c571-47c6-a5c2-8545bf20044c",
   "metadata": {},
   "outputs": [],
   "source": [
    "def tfidf(train: pd.DataFrame, test:pd.DataFrame()):\n",
    "    tf_idf = TfidfVectorizer()\n",
    "    train_feat = tf_idf.fit_transform(train)\n",
    "    test_feat = tf_idf.transform(test)\n",
    "    return train_feat,test_feat"
   ]
  },
  {
   "cell_type": "code",
   "execution_count": 13,
   "id": "37b5564a-396e-4e58-ab02-2f6238815dcc",
   "metadata": {
    "scrolled": true
   },
   "outputs": [],
   "source": [
    "def classification_metrics(actuals: np.array, preds: np.array) -> pd.DataFrame:\n",
    "    metrics_performance = pd.DataFrame()\n",
    "    precision_0 = precision_score(actuals,preds, pos_label=0)\n",
    "    precision_1 = precision_score(actuals,preds, pos_label=1)\n",
    "    recall_0 = recall_score(actuals,preds,pos_label=0)\n",
    "    recall_1 = recall_score(actuals,preds,pos_label=1)\n",
    "    f1_0 = f1_score(actuals,preds,pos_label=0)\n",
    "    f1_1 = f1_score(actuals,preds,pos_label=1)\n",
    "    accuracy = accuracy_score(actuals,preds)\n",
    "    metrics_performance[\"precision_0\"] = [precision_0]\n",
    "    metrics_performance[\"precision_1\"] = [precision_1]\n",
    "    metrics_performance[\"recall_0\"] = [recall_0]\n",
    "    metrics_performance[\"recall_1\"] = [recall_1]\n",
    "    metrics_performance[\"f1_0\"] = [f1_0]\n",
    "    metrics_performance[\"f1_1\"] = [f1_1]\n",
    "    metrics_performance[\"accuracy\"] = [accuracy]\n",
    "    return metrics_performance"
   ]
  },
  {
   "cell_type": "code",
   "execution_count": 14,
   "id": "b92ae273-09ce-457a-8b15-b2241bb0ae0c",
   "metadata": {},
   "outputs": [],
   "source": [
    "def data_preprocess_pipeline(data_preprocess: pd.DataFrame,\n",
    "                             # ngram_range: list,\n",
    "                            filename: str,\n",
    "                            ) -> pd.DataFrame:\n",
    "    data_preprocess = data_preprocess[~(data_preprocess[\"tweet\"].isnull())]\n",
    "    data_preprocess = data_preprocess[[\"class\",\"tweet\"]]\n",
    "    data_preprocess.rename(columns={\"class\":\"Disorder\"}, inplace=True)\n",
    "    data_preprocess[\"tweet\"] = data_preprocess[\"tweet\"].apply(clean_text)\n",
    "    data_preprocess[\"tweet\"] = data_preprocess[\"tweet\"].apply(text_lemmatize)\n",
    "    data_preprocess[\"tweet\"] = data_preprocess[\"tweet\"].apply(remove_stopword)\n",
    "    data_preprocess = data_preprocess[data_preprocess[\"tweet\"]!=\"\"]\n",
    "    # data_preprocess[\"text_features\"] = data_preprocess[\"tweet\"].apply(lambda text: \n",
    "    #                                                                   generate_n_grams(text,n=ngram_range))\n",
    "    print(\"saving preprocessed data\")\n",
    "    data_preprocess.to_csv(filename,index=False)\n",
    "    print(\"data saved\")\n",
    "    return data_preprocess"
   ]
  },
  {
   "cell_type": "markdown",
   "id": "d57a50b3-be09-4e58-b50c-a4d38e450fd6",
   "metadata": {},
   "source": [
    "# Imbalaned Dataset training"
   ]
  },
  {
   "cell_type": "code",
   "execution_count": 15,
   "id": "83bb0659-74ce-47b5-ae20-4c4ecc4eeaaf",
   "metadata": {},
   "outputs": [
    {
     "data": {
      "text/html": [
       "<div>\n",
       "<style scoped>\n",
       "    .dataframe tbody tr th:only-of-type {\n",
       "        vertical-align: middle;\n",
       "    }\n",
       "\n",
       "    .dataframe tbody tr th {\n",
       "        vertical-align: top;\n",
       "    }\n",
       "\n",
       "    .dataframe thead th {\n",
       "        text-align: right;\n",
       "    }\n",
       "</style>\n",
       "<table border=\"1\" class=\"dataframe\">\n",
       "  <thead>\n",
       "    <tr style=\"text-align: right;\">\n",
       "      <th></th>\n",
       "      <th>class</th>\n",
       "      <th>tweet_id</th>\n",
       "      <th>day</th>\n",
       "      <th>time</th>\n",
       "      <th>tweet</th>\n",
       "      <th>tweet_favorite_count</th>\n",
       "      <th>tweet_retweet_count</th>\n",
       "      <th>tweet_source</th>\n",
       "      <th>user_id</th>\n",
       "      <th>user_followers_count</th>\n",
       "      <th>user_friends_count</th>\n",
       "      <th>user_listed_count</th>\n",
       "      <th>user_statuses_count</th>\n",
       "    </tr>\n",
       "  </thead>\n",
       "  <tbody>\n",
       "    <tr>\n",
       "      <th>0</th>\n",
       "      <td>SCHIZOPHRENIA</td>\n",
       "      <td>1551565717530677251</td>\n",
       "      <td>2022-07-25</td>\n",
       "      <td>13:51:08</td>\n",
       "      <td>\"Sally 🤍🤍 we wont forget Angel. HTTPURL\"</td>\n",
       "      <td>2</td>\n",
       "      <td>0</td>\n",
       "      <td>Twitter for iPad</td>\n",
       "      <td>2959315666</td>\n",
       "      <td>466</td>\n",
       "      <td>845</td>\n",
       "      <td>4</td>\n",
       "      <td>4636</td>\n",
       "    </tr>\n",
       "  </tbody>\n",
       "</table>\n",
       "</div>"
      ],
      "text/plain": [
       "           class             tweet_id         day      time  \\\n",
       "0  SCHIZOPHRENIA  1551565717530677251  2022-07-25  13:51:08   \n",
       "\n",
       "                                      tweet  tweet_favorite_count  \\\n",
       "0  \"Sally 🤍🤍 we wont forget Angel. HTTPURL\"                     2   \n",
       "\n",
       "   tweet_retweet_count      tweet_source     user_id  user_followers_count  \\\n",
       "0                    0  Twitter for iPad  2959315666                   466   \n",
       "\n",
       "   user_friends_count  user_listed_count  user_statuses_count  \n",
       "0                 845                  4                 4636  "
      ]
     },
     "execution_count": 15,
     "metadata": {},
     "output_type": "execute_result"
    }
   ],
   "source": [
    "pipeline_data.head(1)"
   ]
  },
  {
   "cell_type": "code",
   "execution_count": 16,
   "id": "e224662b-dce2-40a6-b846-a20f7c82a351",
   "metadata": {},
   "outputs": [
    {
     "name": "stdout",
     "output_type": "stream",
     "text": [
      "saving preprocessed data\n",
      "data saved\n"
     ]
    },
    {
     "data": {
      "text/html": [
       "<div>\n",
       "<style scoped>\n",
       "    .dataframe tbody tr th:only-of-type {\n",
       "        vertical-align: middle;\n",
       "    }\n",
       "\n",
       "    .dataframe tbody tr th {\n",
       "        vertical-align: top;\n",
       "    }\n",
       "\n",
       "    .dataframe thead th {\n",
       "        text-align: right;\n",
       "    }\n",
       "</style>\n",
       "<table border=\"1\" class=\"dataframe\">\n",
       "  <thead>\n",
       "    <tr style=\"text-align: right;\">\n",
       "      <th></th>\n",
       "      <th>Disorder</th>\n",
       "      <th>tweet</th>\n",
       "    </tr>\n",
       "  </thead>\n",
       "  <tbody>\n",
       "    <tr>\n",
       "      <th>0</th>\n",
       "      <td>SCHIZOPHRENIA</td>\n",
       "      <td>sally white heart white heart wont forget angel</td>\n",
       "    </tr>\n",
       "    <tr>\n",
       "      <th>1</th>\n",
       "      <td>SCHIZOPHRENIA</td>\n",
       "      <td>personally life split two everything psychosis...</td>\n",
       "    </tr>\n",
       "    <tr>\n",
       "      <th>2</th>\n",
       "      <td>SCHIZOPHRENIA</td>\n",
       "      <td>envisage sufferance look surfacing ridiculous ...</td>\n",
       "    </tr>\n",
       "    <tr>\n",
       "      <th>3</th>\n",
       "      <td>SCHIZOPHRENIA</td>\n",
       "      <td>take responsibility</td>\n",
       "    </tr>\n",
       "    <tr>\n",
       "      <th>4</th>\n",
       "      <td>SCHIZOPHRENIA</td>\n",
       "      <td>im sorry angry want slap psychologist wet mop ...</td>\n",
       "    </tr>\n",
       "  </tbody>\n",
       "</table>\n",
       "</div>"
      ],
      "text/plain": [
       "        Disorder                                              tweet\n",
       "0  SCHIZOPHRENIA    sally white heart white heart wont forget angel\n",
       "1  SCHIZOPHRENIA  personally life split two everything psychosis...\n",
       "2  SCHIZOPHRENIA  envisage sufferance look surfacing ridiculous ...\n",
       "3  SCHIZOPHRENIA                                take responsibility\n",
       "4  SCHIZOPHRENIA  im sorry angry want slap psychologist wet mop ..."
      ]
     },
     "execution_count": 16,
     "metadata": {},
     "output_type": "execute_result"
    }
   ],
   "source": [
    "# ngram_range = [1,3]\n",
    "data_preprocess = data_preprocess_pipeline(pipeline_data,\n",
    "                                           # ngram_range=ngram_range,\n",
    "                                           filename=\"imbalanced_data_preprocess.csv\",\n",
    "                                           )\n",
    "data_preprocess.head()"
   ]
  },
  {
   "cell_type": "code",
   "execution_count": 17,
   "id": "87d5adf0-bc2a-41a4-a220-f36e55d08f59",
   "metadata": {},
   "outputs": [
    {
     "data": {
      "text/plain": [
       "Disorder\n",
       "ADHD               3018\n",
       "SCHIZOPHRENIA      2959\n",
       "OCD                2888\n",
       "ANXIETY            2719\n",
       "CONTROL            2526\n",
       "PTSD               2458\n",
       "DEPRESSION         2143\n",
       "AUTISM             1402\n",
       "EATING DISORDER     402\n",
       "BIPOLAR             243\n",
       "Name: count, dtype: int64"
      ]
     },
     "execution_count": 17,
     "metadata": {},
     "output_type": "execute_result"
    }
   ],
   "source": [
    "data_preprocess.Disorder.value_counts()"
   ]
  },
  {
   "cell_type": "code",
   "execution_count": 18,
   "id": "7262134c-24b1-4586-87ed-1f6790fa62e1",
   "metadata": {},
   "outputs": [],
   "source": [
    "tokenizer = Tokenizer()\n",
    "tokenizer.fit_on_texts(data_preprocess[\"tweet\"].values.tolist())"
   ]
  },
  {
   "cell_type": "code",
   "execution_count": 19,
   "id": "00c6a785-5deb-4ab4-9e83-9c7c3ff90e35",
   "metadata": {},
   "outputs": [],
   "source": [
    "corpus = [advertools.word_tokenize(text,phrase_len=1)[0] for text in data_preprocess[\"tweet\"].values]"
   ]
  },
  {
   "cell_type": "code",
   "execution_count": 91,
   "id": "3ba125f4-55bb-4e4f-b10d-2800c28fd5ad",
   "metadata": {
    "scrolled": true
   },
   "outputs": [
    {
     "name": "stderr",
     "output_type": "stream",
     "text": [
      "2024-08-18 23:00:33,272 | INFO | word2vec.py:582 | scan_vocab | collecting all words and their counts\n",
      "2024-08-18 23:00:33,275 | INFO | word2vec.py:565 | _scan_vocab | PROGRESS: at sentence #0, processed 0 words, keeping 0 word types\n",
      "2024-08-18 23:00:33,526 | INFO | word2vec.py:565 | _scan_vocab | PROGRESS: at sentence #10000, processed 114796 words, keeping 12249 word types\n",
      "2024-08-18 23:00:33,566 | INFO | word2vec.py:565 | _scan_vocab | PROGRESS: at sentence #20000, processed 188180 words, keeping 17199 word types\n",
      "2024-08-18 23:00:33,570 | INFO | word2vec.py:588 | scan_vocab | collected 17561 word types from a corpus of 194985 raw words and 20758 sentences\n",
      "2024-08-18 23:00:33,573 | INFO | word2vec.py:637 | prepare_vocab | Creating a fresh vocabulary\n",
      "2024-08-18 23:00:33,642 | INFO | utils.py:447 | add_lifecycle_event | Word2Vec lifecycle event {'msg': 'effective_min_count=1 retains 17561 unique words (100.00% of original 17561, drops 0)', 'datetime': '2024-08-18T23:00:33.640166', 'gensim': '4.3.3', 'python': '3.10.14 | packaged by Anaconda, Inc. | (main, May  6 2024, 19:44:50) [MSC v.1916 64 bit (AMD64)]', 'platform': 'Windows-10-10.0.22621-SP0', 'event': 'prepare_vocab'}\n",
      "2024-08-18 23:00:33,643 | INFO | utils.py:447 | add_lifecycle_event | Word2Vec lifecycle event {'msg': 'effective_min_count=1 leaves 194985 word corpus (100.00% of original 194985, drops 0)', 'datetime': '2024-08-18T23:00:33.643670', 'gensim': '4.3.3', 'python': '3.10.14 | packaged by Anaconda, Inc. | (main, May  6 2024, 19:44:50) [MSC v.1916 64 bit (AMD64)]', 'platform': 'Windows-10-10.0.22621-SP0', 'event': 'prepare_vocab'}\n",
      "2024-08-18 23:00:33,737 | INFO | word2vec.py:745 | prepare_vocab | deleting the raw counts dictionary of 17561 items\n",
      "2024-08-18 23:00:33,740 | INFO | word2vec.py:748 | prepare_vocab | sample=0.001 downsamples 35 most-common words\n",
      "2024-08-18 23:00:33,741 | INFO | utils.py:447 | add_lifecycle_event | Word2Vec lifecycle event {'msg': 'downsampling leaves estimated 184893.53363531965 word corpus (94.8%% of prior 194985)', 'datetime': '2024-08-18T23:00:33.741706', 'gensim': '4.3.3', 'python': '3.10.14 | packaged by Anaconda, Inc. | (main, May  6 2024, 19:44:50) [MSC v.1916 64 bit (AMD64)]', 'platform': 'Windows-10-10.0.22621-SP0', 'event': 'prepare_vocab'}\n",
      "2024-08-18 23:00:33,863 | INFO | word2vec.py:805 | estimate_memory | estimated required memory for 17561 words and 300 dimensions: 50926900 bytes\n",
      "2024-08-18 23:00:33,864 | INFO | word2vec.py:863 | init_weights | resetting layer weights\n",
      "2024-08-18 23:00:33,893 | INFO | utils.py:447 | add_lifecycle_event | Word2Vec lifecycle event {'update': False, 'trim_rule': 'None', 'datetime': '2024-08-18T23:00:33.893895', 'gensim': '4.3.3', 'python': '3.10.14 | packaged by Anaconda, Inc. | (main, May  6 2024, 19:44:50) [MSC v.1916 64 bit (AMD64)]', 'platform': 'Windows-10-10.0.22621-SP0', 'event': 'build_vocab'}\n",
      "2024-08-18 23:00:33,896 | INFO | utils.py:447 | add_lifecycle_event | Word2Vec lifecycle event {'msg': 'training model with 3 workers on 17561 vocabulary and 300 features, using sg=0 hs=0 sample=0.001 negative=5 window=5 shrink_windows=True', 'datetime': '2024-08-18T23:00:33.896898', 'gensim': '4.3.3', 'python': '3.10.14 | packaged by Anaconda, Inc. | (main, May  6 2024, 19:44:50) [MSC v.1916 64 bit (AMD64)]', 'platform': 'Windows-10-10.0.22621-SP0', 'event': 'train'}\n",
      "2024-08-18 23:00:34,164 | INFO | word2vec.py:1652 | _log_epoch_end | EPOCH 0: training on 194985 raw words (185005 effective words) took 0.2s, 746813 effective words/s\n",
      "2024-08-18 23:00:34,647 | INFO | word2vec.py:1652 | _log_epoch_end | EPOCH 1: training on 194985 raw words (184943 effective words) took 0.5s, 388440 effective words/s\n",
      "2024-08-18 23:00:35,276 | INFO | word2vec.py:1652 | _log_epoch_end | EPOCH 2: training on 194985 raw words (184949 effective words) took 0.6s, 299821 effective words/s\n",
      "2024-08-18 23:00:35,638 | INFO | word2vec.py:1652 | _log_epoch_end | EPOCH 3: training on 194985 raw words (184854 effective words) took 0.3s, 553112 effective words/s\n",
      "2024-08-18 23:00:36,016 | INFO | word2vec.py:1652 | _log_epoch_end | EPOCH 4: training on 194985 raw words (184814 effective words) took 0.4s, 511654 effective words/s\n",
      "2024-08-18 23:00:36,378 | INFO | word2vec.py:1652 | _log_epoch_end | EPOCH 5: training on 194985 raw words (184971 effective words) took 0.3s, 529634 effective words/s\n",
      "2024-08-18 23:00:36,759 | INFO | word2vec.py:1652 | _log_epoch_end | EPOCH 6: training on 194985 raw words (184906 effective words) took 0.4s, 497254 effective words/s\n",
      "2024-08-18 23:00:37,198 | INFO | word2vec.py:1652 | _log_epoch_end | EPOCH 7: training on 194985 raw words (184906 effective words) took 0.4s, 472987 effective words/s\n",
      "2024-08-18 23:00:37,558 | INFO | word2vec.py:1652 | _log_epoch_end | EPOCH 8: training on 194985 raw words (184889 effective words) took 0.3s, 547029 effective words/s\n",
      "2024-08-18 23:00:37,896 | INFO | word2vec.py:1652 | _log_epoch_end | EPOCH 9: training on 194985 raw words (184745 effective words) took 0.3s, 560810 effective words/s\n",
      "2024-08-18 23:00:38,164 | INFO | word2vec.py:1652 | _log_epoch_end | EPOCH 10: training on 194985 raw words (184970 effective words) took 0.3s, 710867 effective words/s\n",
      "2024-08-18 23:00:38,519 | INFO | word2vec.py:1652 | _log_epoch_end | EPOCH 11: training on 194985 raw words (185054 effective words) took 0.3s, 534758 effective words/s\n",
      "2024-08-18 23:00:38,894 | INFO | word2vec.py:1652 | _log_epoch_end | EPOCH 12: training on 194985 raw words (184930 effective words) took 0.4s, 503430 effective words/s\n",
      "2024-08-18 23:00:39,401 | INFO | word2vec.py:1652 | _log_epoch_end | EPOCH 13: training on 194985 raw words (184811 effective words) took 0.5s, 402030 effective words/s\n",
      "2024-08-18 23:00:39,755 | INFO | word2vec.py:1652 | _log_epoch_end | EPOCH 14: training on 194985 raw words (184930 effective words) took 0.3s, 548874 effective words/s\n",
      "2024-08-18 23:00:40,115 | INFO | word2vec.py:1652 | _log_epoch_end | EPOCH 15: training on 194985 raw words (184995 effective words) took 0.4s, 526244 effective words/s\n",
      "2024-08-18 23:00:40,355 | INFO | word2vec.py:1652 | _log_epoch_end | EPOCH 16: training on 194985 raw words (184804 effective words) took 0.2s, 801361 effective words/s\n",
      "2024-08-18 23:00:40,722 | INFO | word2vec.py:1652 | _log_epoch_end | EPOCH 17: training on 194985 raw words (184937 effective words) took 0.4s, 515118 effective words/s\n",
      "2024-08-18 23:00:40,996 | INFO | word2vec.py:1652 | _log_epoch_end | EPOCH 18: training on 194985 raw words (184882 effective words) took 0.3s, 697546 effective words/s\n",
      "2024-08-18 23:00:41,335 | INFO | word2vec.py:1652 | _log_epoch_end | EPOCH 19: training on 194985 raw words (184852 effective words) took 0.3s, 600454 effective words/s\n",
      "2024-08-18 23:00:41,593 | INFO | word2vec.py:1652 | _log_epoch_end | EPOCH 20: training on 194985 raw words (185010 effective words) took 0.3s, 736310 effective words/s\n",
      "2024-08-18 23:00:41,831 | INFO | word2vec.py:1652 | _log_epoch_end | EPOCH 21: training on 194985 raw words (184775 effective words) took 0.2s, 804084 effective words/s\n",
      "2024-08-18 23:00:42,174 | INFO | word2vec.py:1652 | _log_epoch_end | EPOCH 22: training on 194985 raw words (184952 effective words) took 0.2s, 757043 effective words/s\n",
      "2024-08-18 23:00:42,549 | INFO | word2vec.py:1652 | _log_epoch_end | EPOCH 23: training on 194985 raw words (184949 effective words) took 0.4s, 503894 effective words/s\n",
      "2024-08-18 23:00:42,972 | INFO | word2vec.py:1652 | _log_epoch_end | EPOCH 24: training on 194985 raw words (184947 effective words) took 0.4s, 474081 effective words/s\n",
      "2024-08-18 23:00:43,207 | INFO | word2vec.py:1652 | _log_epoch_end | EPOCH 25: training on 194985 raw words (184910 effective words) took 0.2s, 834793 effective words/s\n",
      "2024-08-18 23:00:43,557 | INFO | word2vec.py:1652 | _log_epoch_end | EPOCH 26: training on 194985 raw words (184866 effective words) took 0.3s, 539940 effective words/s\n",
      "2024-08-18 23:00:43,912 | INFO | word2vec.py:1652 | _log_epoch_end | EPOCH 27: training on 194985 raw words (184865 effective words) took 0.3s, 538666 effective words/s\n",
      "2024-08-18 23:00:44,162 | INFO | word2vec.py:1652 | _log_epoch_end | EPOCH 28: training on 194985 raw words (184872 effective words) took 0.2s, 765369 effective words/s\n",
      "2024-08-18 23:00:44,403 | INFO | word2vec.py:1652 | _log_epoch_end | EPOCH 29: training on 194985 raw words (184851 effective words) took 0.2s, 790298 effective words/s\n",
      "2024-08-18 23:00:44,660 | INFO | word2vec.py:1652 | _log_epoch_end | EPOCH 30: training on 194985 raw words (184917 effective words) took 0.2s, 741753 effective words/s\n",
      "2024-08-18 23:00:45,063 | INFO | word2vec.py:1652 | _log_epoch_end | EPOCH 31: training on 194985 raw words (184881 effective words) took 0.4s, 468608 effective words/s\n",
      "2024-08-18 23:00:45,442 | INFO | word2vec.py:1652 | _log_epoch_end | EPOCH 32: training on 194985 raw words (184891 effective words) took 0.4s, 504046 effective words/s\n",
      "2024-08-18 23:00:45,914 | INFO | word2vec.py:1652 | _log_epoch_end | EPOCH 33: training on 194985 raw words (184868 effective words) took 0.5s, 399407 effective words/s\n",
      "2024-08-18 23:00:46,270 | INFO | word2vec.py:1652 | _log_epoch_end | EPOCH 34: training on 194985 raw words (184821 effective words) took 0.3s, 541113 effective words/s\n",
      "2024-08-18 23:00:46,582 | INFO | word2vec.py:1652 | _log_epoch_end | EPOCH 35: training on 194985 raw words (184995 effective words) took 0.3s, 616236 effective words/s\n",
      "2024-08-18 23:00:47,014 | INFO | word2vec.py:1652 | _log_epoch_end | EPOCH 36: training on 194985 raw words (184874 effective words) took 0.4s, 448164 effective words/s\n",
      "2024-08-18 23:00:47,529 | INFO | word2vec.py:1652 | _log_epoch_end | EPOCH 37: training on 194985 raw words (184992 effective words) took 0.5s, 371895 effective words/s\n",
      "2024-08-18 23:00:47,850 | INFO | word2vec.py:1652 | _log_epoch_end | EPOCH 38: training on 194985 raw words (184898 effective words) took 0.3s, 595514 effective words/s\n",
      "2024-08-18 23:00:48,101 | INFO | word2vec.py:1652 | _log_epoch_end | EPOCH 39: training on 194985 raw words (184975 effective words) took 0.2s, 792007 effective words/s\n",
      "2024-08-18 23:00:48,256 | INFO | word2vec.py:1652 | _log_epoch_end | EPOCH 40: training on 194985 raw words (184745 effective words) took 0.1s, 1238903 effective words/s\n",
      "2024-08-18 23:00:48,640 | INFO | word2vec.py:1652 | _log_epoch_end | EPOCH 41: training on 194985 raw words (184853 effective words) took 0.3s, 674790 effective words/s\n",
      "2024-08-18 23:00:49,049 | INFO | word2vec.py:1652 | _log_epoch_end | EPOCH 42: training on 194985 raw words (184898 effective words) took 0.4s, 470697 effective words/s\n",
      "2024-08-18 23:00:49,275 | INFO | word2vec.py:1652 | _log_epoch_end | EPOCH 43: training on 194985 raw words (184803 effective words) took 0.2s, 866864 effective words/s\n",
      "2024-08-18 23:00:49,513 | INFO | word2vec.py:1652 | _log_epoch_end | EPOCH 44: training on 194985 raw words (184918 effective words) took 0.2s, 817312 effective words/s\n",
      "2024-08-18 23:00:49,845 | INFO | word2vec.py:1652 | _log_epoch_end | EPOCH 45: training on 194985 raw words (185038 effective words) took 0.3s, 573808 effective words/s\n",
      "2024-08-18 23:00:50,239 | INFO | word2vec.py:1652 | _log_epoch_end | EPOCH 46: training on 194985 raw words (184909 effective words) took 0.3s, 540599 effective words/s\n",
      "2024-08-18 23:00:50,397 | INFO | word2vec.py:1652 | _log_epoch_end | EPOCH 47: training on 194985 raw words (184993 effective words) took 0.1s, 1277620 effective words/s\n",
      "2024-08-18 23:00:50,772 | INFO | word2vec.py:1652 | _log_epoch_end | EPOCH 48: training on 194985 raw words (184967 effective words) took 0.4s, 503684 effective words/s\n",
      "2024-08-18 23:00:51,240 | INFO | word2vec.py:1652 | _log_epoch_end | EPOCH 49: training on 194985 raw words (184941 effective words) took 0.5s, 406812 effective words/s\n",
      "2024-08-18 23:00:51,993 | INFO | word2vec.py:1652 | _log_epoch_end | EPOCH 50: training on 194985 raw words (184914 effective words) took 0.6s, 294043 effective words/s\n",
      "2024-08-18 23:00:52,581 | INFO | word2vec.py:1652 | _log_epoch_end | EPOCH 51: training on 194985 raw words (184934 effective words) took 0.6s, 320790 effective words/s\n",
      "2024-08-18 23:00:53,119 | INFO | word2vec.py:1652 | _log_epoch_end | EPOCH 52: training on 194985 raw words (184845 effective words) took 0.5s, 380148 effective words/s\n",
      "2024-08-18 23:00:53,478 | INFO | word2vec.py:1652 | _log_epoch_end | EPOCH 53: training on 194985 raw words (185004 effective words) took 0.3s, 532576 effective words/s\n",
      "2024-08-18 23:00:53,801 | INFO | word2vec.py:1652 | _log_epoch_end | EPOCH 54: training on 194985 raw words (184887 effective words) took 0.3s, 587083 effective words/s\n",
      "2024-08-18 23:00:54,342 | INFO | word2vec.py:1652 | _log_epoch_end | EPOCH 55: training on 194985 raw words (184952 effective words) took 0.5s, 350152 effective words/s\n",
      "2024-08-18 23:00:54,909 | INFO | word2vec.py:1652 | _log_epoch_end | EPOCH 56: training on 194985 raw words (184775 effective words) took 0.5s, 401924 effective words/s\n",
      "2024-08-18 23:00:55,469 | INFO | word2vec.py:1652 | _log_epoch_end | EPOCH 57: training on 194985 raw words (184843 effective words) took 0.5s, 346467 effective words/s\n",
      "2024-08-18 23:00:55,927 | INFO | word2vec.py:1652 | _log_epoch_end | EPOCH 58: training on 194985 raw words (184880 effective words) took 0.4s, 445104 effective words/s\n",
      "2024-08-18 23:00:56,271 | INFO | word2vec.py:1652 | _log_epoch_end | EPOCH 59: training on 194985 raw words (184937 effective words) took 0.3s, 553383 effective words/s\n",
      "2024-08-18 23:00:56,630 | INFO | word2vec.py:1652 | _log_epoch_end | EPOCH 60: training on 194985 raw words (184816 effective words) took 0.3s, 534136 effective words/s\n",
      "2024-08-18 23:00:56,936 | INFO | word2vec.py:1652 | _log_epoch_end | EPOCH 61: training on 194985 raw words (185021 effective words) took 0.3s, 629752 effective words/s\n",
      "2024-08-18 23:00:57,429 | INFO | word2vec.py:1652 | _log_epoch_end | EPOCH 62: training on 194985 raw words (184868 effective words) took 0.5s, 381763 effective words/s\n",
      "2024-08-18 23:00:57,843 | INFO | word2vec.py:1652 | _log_epoch_end | EPOCH 63: training on 194985 raw words (185073 effective words) took 0.3s, 615805 effective words/s\n",
      "2024-08-18 23:00:58,289 | INFO | word2vec.py:1652 | _log_epoch_end | EPOCH 64: training on 194985 raw words (184925 effective words) took 0.3s, 557637 effective words/s\n",
      "2024-08-18 23:00:58,699 | INFO | word2vec.py:1652 | _log_epoch_end | EPOCH 65: training on 194985 raw words (184950 effective words) took 0.4s, 460721 effective words/s\n",
      "2024-08-18 23:00:59,049 | INFO | word2vec.py:1652 | _log_epoch_end | EPOCH 66: training on 194985 raw words (184902 effective words) took 0.3s, 630454 effective words/s\n",
      "2024-08-18 23:00:59,400 | INFO | word2vec.py:1652 | _log_epoch_end | EPOCH 67: training on 194985 raw words (184901 effective words) took 0.3s, 553131 effective words/s\n",
      "2024-08-18 23:00:59,760 | INFO | word2vec.py:1652 | _log_epoch_end | EPOCH 68: training on 194985 raw words (184834 effective words) took 0.4s, 525830 effective words/s\n",
      "2024-08-18 23:01:00,213 | INFO | word2vec.py:1652 | _log_epoch_end | EPOCH 69: training on 194985 raw words (184747 effective words) took 0.4s, 496760 effective words/s\n",
      "2024-08-18 23:01:00,732 | INFO | word2vec.py:1652 | _log_epoch_end | EPOCH 70: training on 194985 raw words (184887 effective words) took 0.5s, 381066 effective words/s\n",
      "2024-08-18 23:01:01,128 | INFO | word2vec.py:1652 | _log_epoch_end | EPOCH 71: training on 194985 raw words (184922 effective words) took 0.4s, 475663 effective words/s\n",
      "2024-08-18 23:01:01,359 | INFO | word2vec.py:1652 | _log_epoch_end | EPOCH 72: training on 194985 raw words (184764 effective words) took 0.2s, 853401 effective words/s\n",
      "2024-08-18 23:01:01,650 | INFO | word2vec.py:1652 | _log_epoch_end | EPOCH 73: training on 194985 raw words (184912 effective words) took 0.3s, 660568 effective words/s\n",
      "2024-08-18 23:01:02,025 | INFO | word2vec.py:1652 | _log_epoch_end | EPOCH 74: training on 194985 raw words (185030 effective words) took 0.4s, 503022 effective words/s\n",
      "2024-08-18 23:01:02,372 | INFO | word2vec.py:1652 | _log_epoch_end | EPOCH 75: training on 194985 raw words (184911 effective words) took 0.3s, 562901 effective words/s\n",
      "2024-08-18 23:01:02,857 | INFO | word2vec.py:1652 | _log_epoch_end | EPOCH 76: training on 194985 raw words (184795 effective words) took 0.5s, 389106 effective words/s\n",
      "2024-08-18 23:01:03,324 | INFO | word2vec.py:1652 | _log_epoch_end | EPOCH 77: training on 194985 raw words (184861 effective words) took 0.5s, 407965 effective words/s\n",
      "2024-08-18 23:01:03,875 | INFO | word2vec.py:1652 | _log_epoch_end | EPOCH 78: training on 194985 raw words (184951 effective words) took 0.5s, 352953 effective words/s\n",
      "2024-08-18 23:01:04,151 | INFO | word2vec.py:1652 | _log_epoch_end | EPOCH 79: training on 194985 raw words (185027 effective words) took 0.2s, 750786 effective words/s\n",
      "2024-08-18 23:01:04,371 | INFO | word2vec.py:1652 | _log_epoch_end | EPOCH 80: training on 194985 raw words (184783 effective words) took 0.2s, 868242 effective words/s\n",
      "2024-08-18 23:01:04,743 | INFO | word2vec.py:1652 | _log_epoch_end | EPOCH 81: training on 194985 raw words (184914 effective words) took 0.4s, 508708 effective words/s\n",
      "2024-08-18 23:01:05,124 | INFO | word2vec.py:1652 | _log_epoch_end | EPOCH 82: training on 194985 raw words (184865 effective words) took 0.3s, 562637 effective words/s\n",
      "2024-08-18 23:01:05,348 | INFO | word2vec.py:1652 | _log_epoch_end | EPOCH 83: training on 194985 raw words (184924 effective words) took 0.2s, 863818 effective words/s\n",
      "2024-08-18 23:01:05,694 | INFO | word2vec.py:1652 | _log_epoch_end | EPOCH 84: training on 194985 raw words (184906 effective words) took 0.3s, 544712 effective words/s\n",
      "2024-08-18 23:01:06,121 | INFO | word2vec.py:1652 | _log_epoch_end | EPOCH 85: training on 194985 raw words (184889 effective words) took 0.3s, 537948 effective words/s\n",
      "2024-08-18 23:01:06,594 | INFO | word2vec.py:1652 | _log_epoch_end | EPOCH 86: training on 194985 raw words (184799 effective words) took 0.5s, 399280 effective words/s\n",
      "2024-08-18 23:01:06,938 | INFO | word2vec.py:1652 | _log_epoch_end | EPOCH 87: training on 194985 raw words (184826 effective words) took 0.3s, 549876 effective words/s\n",
      "2024-08-18 23:01:07,266 | INFO | word2vec.py:1652 | _log_epoch_end | EPOCH 88: training on 194985 raw words (184917 effective words) took 0.2s, 821263 effective words/s\n",
      "2024-08-18 23:01:07,693 | INFO | word2vec.py:1652 | _log_epoch_end | EPOCH 89: training on 194985 raw words (184866 effective words) took 0.4s, 440758 effective words/s\n",
      "2024-08-18 23:01:07,974 | INFO | word2vec.py:1652 | _log_epoch_end | EPOCH 90: training on 194985 raw words (184826 effective words) took 0.3s, 680922 effective words/s\n",
      "2024-08-18 23:01:08,317 | INFO | word2vec.py:1652 | _log_epoch_end | EPOCH 91: training on 194985 raw words (184874 effective words) took 0.3s, 560813 effective words/s\n",
      "2024-08-18 23:01:08,667 | INFO | word2vec.py:1652 | _log_epoch_end | EPOCH 92: training on 194985 raw words (184958 effective words) took 0.3s, 540377 effective words/s\n",
      "2024-08-18 23:01:08,901 | INFO | word2vec.py:1652 | _log_epoch_end | EPOCH 93: training on 194985 raw words (185104 effective words) took 0.2s, 847293 effective words/s\n",
      "2024-08-18 23:01:09,336 | INFO | word2vec.py:1652 | _log_epoch_end | EPOCH 94: training on 194985 raw words (184835 effective words) took 0.4s, 442084 effective words/s\n",
      "2024-08-18 23:01:09,638 | INFO | word2vec.py:1652 | _log_epoch_end | EPOCH 95: training on 194985 raw words (185024 effective words) took 0.3s, 628433 effective words/s\n",
      "2024-08-18 23:01:09,867 | INFO | word2vec.py:1652 | _log_epoch_end | EPOCH 96: training on 194985 raw words (184874 effective words) took 0.2s, 835429 effective words/s\n",
      "2024-08-18 23:01:10,197 | INFO | word2vec.py:1652 | _log_epoch_end | EPOCH 97: training on 194985 raw words (185037 effective words) took 0.3s, 578657 effective words/s\n",
      "2024-08-18 23:01:10,440 | INFO | word2vec.py:1652 | _log_epoch_end | EPOCH 98: training on 194985 raw words (184882 effective words) took 0.2s, 784065 effective words/s\n",
      "2024-08-18 23:01:10,736 | INFO | word2vec.py:1652 | _log_epoch_end | EPOCH 99: training on 194985 raw words (184864 effective words) took 0.3s, 650681 effective words/s\n",
      "2024-08-18 23:01:10,738 | INFO | utils.py:447 | add_lifecycle_event | Word2Vec lifecycle event {'msg': 'training on 19498500 raw words (18490356 effective words) took 36.8s, 501903 effective words/s', 'datetime': '2024-08-18T23:01:10.738780', 'gensim': '4.3.3', 'python': '3.10.14 | packaged by Anaconda, Inc. | (main, May  6 2024, 19:44:50) [MSC v.1916 64 bit (AMD64)]', 'platform': 'Windows-10-10.0.22621-SP0', 'event': 'train'}\n",
      "2024-08-18 23:01:10,741 | INFO | utils.py:447 | add_lifecycle_event | Word2Vec lifecycle event {'params': 'Word2Vec<vocab=17561, vector_size=300, alpha=0.025>', 'datetime': '2024-08-18T23:01:10.741844', 'gensim': '4.3.3', 'python': '3.10.14 | packaged by Anaconda, Inc. | (main, May  6 2024, 19:44:50) [MSC v.1916 64 bit (AMD64)]', 'platform': 'Windows-10-10.0.22621-SP0', 'event': 'created'}\n"
     ]
    }
   ],
   "source": [
    "WORD2VEC_DIM = 300\n",
    "SG = {\"CBOW\":0,\"SKIP_GRAM\":1}\n",
    "word2vec = gensim.models.Word2Vec(corpus,window=5,vector_size=WORD2VEC_DIM,min_count=1,epochs=100,sg=SG[\"CBOW\"])\n",
    "WORD2VEC_VOCAB_SIZE = len(word2vec.wv.index_to_key)+1\n",
    "word2vec_embedding = np.zeros((WORD2VEC_VOCAB_SIZE,WORD2VEC_DIM))\n",
    "for word,index in tokenizer.word_index.items():\n",
    "    if word in word2vec.wv.index_to_key:\n",
    "        word2vec_embedding[index] = word2vec.wv[word]"
   ]
  },
  {
   "cell_type": "code",
   "execution_count": 92,
   "id": "47ef69e2-e12d-452a-b63d-3f1646c04778",
   "metadata": {},
   "outputs": [
    {
     "data": {
      "text/plain": [
       "(17562, 300)"
      ]
     },
     "execution_count": 92,
     "metadata": {},
     "output_type": "execute_result"
    }
   ],
   "source": [
    "word2vec_embedding.shape"
   ]
  },
  {
   "cell_type": "code",
   "execution_count": 103,
   "id": "0c7c2765-b624-4f99-a50a-56908d9bf6af",
   "metadata": {},
   "outputs": [],
   "source": [
    "GLOVE_VOCAB_SIZE = len(tokenizer.word_index)+1\n",
    "EMBEDDINGS_DIMENSION = 300\n",
    "glove_embeddings = np.zeros((GLOVE_VOCAB_SIZE,EMBEDDINGS_DIMENSION))\n",
    "glove_model = spacy.load(\"en_core_web_lg\")\n",
    "for word,index in tokenizer.word_index.items():\n",
    "    if word in glove_model.vocab.strings:\n",
    "        glove_embeddings[index] = glove_model.vocab[word].vector"
   ]
  },
  {
   "cell_type": "code",
   "execution_count": 104,
   "id": "24d283c5-7507-4215-a791-3bcefa6e95c6",
   "metadata": {},
   "outputs": [
    {
     "data": {
      "text/plain": [
       "(17559, 300)"
      ]
     },
     "execution_count": 104,
     "metadata": {},
     "output_type": "execute_result"
    }
   ],
   "source": [
    "glove_embeddings.shape"
   ]
  },
  {
   "cell_type": "code",
   "execution_count": 20,
   "id": "986dae19-a0b7-462b-a443-8aef9b222dcd",
   "metadata": {},
   "outputs": [],
   "source": [
    "import fasttext"
   ]
  },
  {
   "cell_type": "code",
   "execution_count": 21,
   "id": "f5548330-08f4-41f4-aab2-965093380001",
   "metadata": {},
   "outputs": [],
   "source": [
    "with open(\"corpus.txt\",\"w\", encoding=\"utf-8\") as file:\n",
    "    for doc in data_preprocess[\"tweet\"].values:\n",
    "        file.write(doc + \"\\n\")\n",
    "MODEL_TYPE = \"skipgram\"\n",
    "EMBEDDINGS_DIMENSION = 300\n",
    "FASTTEXT_VOCAB_SIZE = len(tokenizer.word_index)+1\n",
    "fasttext_embeddings = np.zeros((FASTTEXT_VOCAB_SIZE,EMBEDDINGS_DIMENSION))\n",
    "fasttext_model = fasttext.train_unsupervised(\"corpus.txt\",ws=5,minn=2,epoch=100,dim=300,model=MODEL_TYPE)\n",
    "for word,index in tokenizer.word_index.items():\n",
    "    if word in fasttext_model.words:\n",
    "        fasttext_embeddings[index] = fasttext_model.get_word_vector(word)"
   ]
  },
  {
   "cell_type": "code",
   "execution_count": 22,
   "id": "5144a074-e91c-44a5-8483-5c11aa0a2bf7",
   "metadata": {},
   "outputs": [
    {
     "data": {
      "text/plain": [
       "(17559, 300)"
      ]
     },
     "execution_count": 22,
     "metadata": {},
     "output_type": "execute_result"
    }
   ],
   "source": [
    "fasttext_embeddings.shape"
   ]
  },
  {
   "cell_type": "code",
   "execution_count": 19,
   "id": "c46b4d1f-54eb-41ca-8b42-9b6654bd86c5",
   "metadata": {},
   "outputs": [],
   "source": [
    "import tensorflow_hub as hub"
   ]
  },
  {
   "cell_type": "code",
   "execution_count": 20,
   "id": "ff3cb645-e7db-42dd-beb5-00975d6b1e82",
   "metadata": {},
   "outputs": [
    {
     "name": "stderr",
     "output_type": "stream",
     "text": [
      "2024-08-18 17:37:16,377 | INFO | resolver.py:108 | tfhub_cache_dir | Using C:\\Users\\ALIHAI~1\\AppData\\Local\\Temp\\tfhub_modules to cache modules.\n"
     ]
    },
    {
     "data": {
      "text/plain": [
       "(20758, 1024)"
      ]
     },
     "execution_count": 20,
     "metadata": {},
     "output_type": "execute_result"
    }
   ],
   "source": [
    "ELMO_VOCAB_SIZE = len(data_preprocess)\n",
    "EMBEDDINGS_DIMENSION = 1024\n",
    "\n",
    "elmo_embeddings = np.zeros((ELMO_VOCAB_SIZE,EMBEDDINGS_DIMENSION))\n",
    "elmo = hub.KerasLayer(\"https://tfhub.dev/google/elmo/3\")\n",
    "for index,text in enumerate(data_preprocess[\"tweet\"].values):\n",
    "    # print(\"index\",index)\n",
    "    embeddings = elmo(tf.constant([text]))\n",
    "    elmo_embeddings[index]=embeddings.numpy()"
   ]
  },
  {
   "cell_type": "code",
   "execution_count": 22,
   "id": "19b598a0-1026-43a3-9c67-d7aaafd98904",
   "metadata": {},
   "outputs": [
    {
     "data": {
      "text/plain": [
       "(20758, 1024)"
      ]
     },
     "execution_count": 22,
     "metadata": {},
     "output_type": "execute_result"
    }
   ],
   "source": [
    "elmo_embeddings.shape"
   ]
  },
  {
   "cell_type": "code",
   "execution_count": 61,
   "id": "ee725cf6-dd40-40a2-8008-234fae5ba2b5",
   "metadata": {
    "scrolled": true
   },
   "outputs": [
    {
     "name": "stderr",
     "output_type": "stream",
     "text": [
      "Some layers from the model checkpoint at bert-base-uncased were not used when initializing TFBertModel: ['mlm___cls', 'nsp___cls']\n",
      "- This IS expected if you are initializing TFBertModel from the checkpoint of a model trained on another task or with another architecture (e.g. initializing a BertForSequenceClassification model from a BertForPreTraining model).\n",
      "- This IS NOT expected if you are initializing TFBertModel from the checkpoint of a model that you expect to be exactly identical (initializing a BertForSequenceClassification model from a BertForSequenceClassification model).\n",
      "All the layers of TFBertModel were initialized from the model checkpoint at bert-base-uncased.\n",
      "If your task is similar to the task the model of the checkpoint was trained on, you can already use TFBertModel for predictions without further training.\n"
     ]
    }
   ],
   "source": [
    "BERT_VOCAB_SIZE = len(data_preprocess)\n",
    "EMBEDDINGS_DIMENSION = 768\n",
    "\n",
    "bert_embeddings = np.zeros((BERT_VOCAB_SIZE,EMBEDDINGS_DIMENSION))\n",
    "bert_tokenizer = BertTokenizer.from_pretrained('bert-base-uncased')\n",
    "bert_model = TFBertModel.from_pretrained(\"bert-base-uncased\")\n",
    "for index,text in enumerate(data_preprocess[\"tweet\"].values):\n",
    "    # print(\"index\",index)\n",
    "    inputs = bert_tokenizer(text, padding=True,return_tensors='tf')\n",
    "    outputs = bert_model(**inputs)\n",
    "    embeddings = outputs.last_hidden_state\n",
    "    cls_embeddings = embeddings[:, 0, :]\n",
    "    bert_embeddings[index]=cls_embeddings.numpy()"
   ]
  },
  {
   "cell_type": "code",
   "execution_count": 62,
   "id": "b58e38de-c210-4883-9a32-251a7ba41334",
   "metadata": {},
   "outputs": [
    {
     "data": {
      "text/plain": [
       "(20758, 768)"
      ]
     },
     "execution_count": 62,
     "metadata": {},
     "output_type": "execute_result"
    }
   ],
   "source": [
    "bert_embeddings.shape"
   ]
  },
  {
   "cell_type": "code",
   "execution_count": 20,
   "id": "3e871b94-52b9-46db-9708-08a27426c513",
   "metadata": {},
   "outputs": [
    {
     "data": {
      "text/plain": [
       "186"
      ]
     },
     "execution_count": 20,
     "metadata": {},
     "output_type": "execute_result"
    }
   ],
   "source": [
    "max_length_sequence = max([len(doc) for doc in corpus])\n",
    "max_length_sequence"
   ]
  },
  {
   "cell_type": "code",
   "execution_count": 21,
   "id": "ca9d3b05-9061-4142-9fae-cbc4b19d29a8",
   "metadata": {},
   "outputs": [],
   "source": [
    "sequence = tokenizer.texts_to_sequences(data_preprocess[\"tweet\"].values)\n",
    "padded_sequence = pad_sequences(sequence,maxlen=max_length_sequence,padding=\"pre\")"
   ]
  },
  {
   "cell_type": "code",
   "execution_count": 22,
   "id": "21cf46de-62d9-481e-a920-59a5d36107c3",
   "metadata": {},
   "outputs": [
    {
     "data": {
      "text/plain": [
       "array([[   0,    0,    0, ...,  279,  498, 1924],\n",
       "       [   0,    0,    0, ...,  592,    6,  362],\n",
       "       [   0,    0,    0, ...,    1,  110,    6],\n",
       "       ...,\n",
       "       [   0,    0,    0, ..., 9688,  105, 9688],\n",
       "       [   0,    0,    0, ...,  560,  289,  554],\n",
       "       [   0,    0,    0, ..., 3945, 4361, 9679]])"
      ]
     },
     "execution_count": 22,
     "metadata": {},
     "output_type": "execute_result"
    }
   ],
   "source": [
    "padded_sequence"
   ]
  },
  {
   "cell_type": "code",
   "execution_count": 24,
   "id": "5af64084-6b12-439b-96eb-70290dffd9fa",
   "metadata": {},
   "outputs": [],
   "source": [
    "# EMBEDDINGS_DIMENSION"
   ]
  },
  {
   "cell_type": "markdown",
   "id": "3ee481cb-e7fd-47d7-9eb4-f0fded633b3c",
   "metadata": {},
   "source": [
    "### LSTM"
   ]
  },
  {
   "cell_type": "code",
   "execution_count": 64,
   "id": "2a4e900d-757d-4fc1-a2bd-3a53746fc832",
   "metadata": {},
   "outputs": [
    {
     "name": "stderr",
     "output_type": "stream",
     "text": [
      "2024-08-18 21:12:57,784 | WARNING | lstm.py:590 | __init__ | Layer lstm_2 will not use cuDNN kernels since it doesn't meet the criteria. It will use a generic GPU kernel as fallback when running on GPU.\n"
     ]
    }
   ],
   "source": [
    "embedding = bert_embeddings\n",
    "vocab_size = BERT_VOCAB_SIZE\n",
    "embedding_dim = EMBEDDINGS_DIMENSION\n",
    "Embedding_layer = Embedding(vocab_size,embedding_dim,weights = [embedding],input_length = max_length_sequence, trainable=False)\n",
    "model = Sequential()\n",
    "model.add(Embedding_layer)\n",
    "model.add(Dropout(0.2))\n",
    "model.add(LSTM(100,dropout=0.2,recurrent_dropout=0.2))\n",
    "model.add(Dense(1,\"sigmoid\"))\n",
    "model.compile(loss=\"binary_crossentropy\",optimizer=\"adam\",metrics=[\"accuracy\"])"
   ]
  },
  {
   "cell_type": "code",
   "execution_count": 65,
   "id": "ed838e6b-a74c-4b2d-a5c1-54327a9fa761",
   "metadata": {},
   "outputs": [
    {
     "name": "stdout",
     "output_type": "stream",
     "text": [
      "Model: \"sequential_2\"\n",
      "_________________________________________________________________\n",
      " Layer (type)                Output Shape              Param #   \n",
      "=================================================================\n",
      " embedding_2 (Embedding)     (None, 186, 768)          15942144  \n",
      "                                                                 \n",
      " dropout_76 (Dropout)        (None, 186, 768)          0         \n",
      "                                                                 \n",
      " lstm_2 (LSTM)               (None, 100)               347600    \n",
      "                                                                 \n",
      " dense_3 (Dense)             (None, 1)                 101       \n",
      "                                                                 \n",
      "=================================================================\n",
      "Total params: 16,289,845\n",
      "Trainable params: 347,701\n",
      "Non-trainable params: 15,942,144\n",
      "_________________________________________________________________\n"
     ]
    }
   ],
   "source": [
    "model.summary()"
   ]
  },
  {
   "cell_type": "code",
   "execution_count": 26,
   "id": "7059cef6-deb7-4727-8e07-4597207be9eb",
   "metadata": {},
   "outputs": [
    {
     "data": {
      "text/html": [
       "<div>\n",
       "<style scoped>\n",
       "    .dataframe tbody tr th:only-of-type {\n",
       "        vertical-align: middle;\n",
       "    }\n",
       "\n",
       "    .dataframe tbody tr th {\n",
       "        vertical-align: top;\n",
       "    }\n",
       "\n",
       "    .dataframe thead th {\n",
       "        text-align: right;\n",
       "    }\n",
       "</style>\n",
       "<table border=\"1\" class=\"dataframe\">\n",
       "  <thead>\n",
       "    <tr style=\"text-align: right;\">\n",
       "      <th></th>\n",
       "      <th>Disorder</th>\n",
       "      <th>tweet</th>\n",
       "    </tr>\n",
       "  </thead>\n",
       "  <tbody>\n",
       "    <tr>\n",
       "      <th>0</th>\n",
       "      <td>SCHIZOPHRENIA</td>\n",
       "      <td>sally white heart white heart wont forget angel</td>\n",
       "    </tr>\n",
       "    <tr>\n",
       "      <th>1</th>\n",
       "      <td>SCHIZOPHRENIA</td>\n",
       "      <td>personally life split two everything psychosis...</td>\n",
       "    </tr>\n",
       "  </tbody>\n",
       "</table>\n",
       "</div>"
      ],
      "text/plain": [
       "        Disorder                                              tweet\n",
       "0  SCHIZOPHRENIA    sally white heart white heart wont forget angel\n",
       "1  SCHIZOPHRENIA  personally life split two everything psychosis..."
      ]
     },
     "execution_count": 26,
     "metadata": {},
     "output_type": "execute_result"
    }
   ],
   "source": [
    "data_preprocess.head(2)"
   ]
  },
  {
   "cell_type": "code",
   "execution_count": 20,
   "id": "b0ff9c9c-dc9f-41bc-9562-0c78b1e46faf",
   "metadata": {},
   "outputs": [
    {
     "data": {
      "text/html": [
       "<div>\n",
       "<style scoped>\n",
       "    .dataframe tbody tr th:only-of-type {\n",
       "        vertical-align: middle;\n",
       "    }\n",
       "\n",
       "    .dataframe tbody tr th {\n",
       "        vertical-align: top;\n",
       "    }\n",
       "\n",
       "    .dataframe thead th {\n",
       "        text-align: right;\n",
       "    }\n",
       "</style>\n",
       "<table border=\"1\" class=\"dataframe\">\n",
       "  <thead>\n",
       "    <tr style=\"text-align: right;\">\n",
       "      <th></th>\n",
       "      <th>tweet</th>\n",
       "      <th>Disorder</th>\n",
       "    </tr>\n",
       "  </thead>\n",
       "  <tbody>\n",
       "    <tr>\n",
       "      <th>0</th>\n",
       "      <td>sally white heart white heart wont forget angel</td>\n",
       "      <td>1</td>\n",
       "    </tr>\n",
       "    <tr>\n",
       "      <th>1</th>\n",
       "      <td>personally life split two everything psychosis...</td>\n",
       "      <td>1</td>\n",
       "    </tr>\n",
       "    <tr>\n",
       "      <th>2</th>\n",
       "      <td>envisage sufferance look surfacing ridiculous ...</td>\n",
       "      <td>1</td>\n",
       "    </tr>\n",
       "    <tr>\n",
       "      <th>3</th>\n",
       "      <td>take responsibility</td>\n",
       "      <td>1</td>\n",
       "    </tr>\n",
       "    <tr>\n",
       "      <th>4</th>\n",
       "      <td>im sorry angry want slap psychologist wet mop ...</td>\n",
       "      <td>1</td>\n",
       "    </tr>\n",
       "  </tbody>\n",
       "</table>\n",
       "</div>"
      ],
      "text/plain": [
       "                                               tweet  Disorder\n",
       "0    sally white heart white heart wont forget angel         1\n",
       "1  personally life split two everything psychosis...         1\n",
       "2  envisage sufferance look surfacing ridiculous ...         1\n",
       "3                                take responsibility         1\n",
       "4  im sorry angry want slap psychologist wet mop ...         1"
      ]
     },
     "execution_count": 20,
     "metadata": {},
     "output_type": "execute_result"
    }
   ],
   "source": [
    "data_bin = data_preprocess[[\"tweet\",\"Disorder\"]]\n",
    "diagnosed_group = data_bin[data_bin[\"Disorder\"]!=\"CONTROL\"]\n",
    "diagnosed_group[\"Disorder\"] = \"DIAGNOSED\"\n",
    "control_group = data_bin[data_bin[\"Disorder\"]==\"CONTROL\"]\n",
    "data_bin = pd.concat([diagnosed_group,control_group],axis=0)\n",
    "encode_target = {\"DIAGNOSED\":1,\n",
    "                \"CONTROL\":0}\n",
    "data_bin[\"Disorder\"] = data_bin[\"Disorder\"].map(encode_target)\n",
    "data_bin.head()"
   ]
  },
  {
   "cell_type": "code",
   "execution_count": 21,
   "id": "8c77f750-e5fc-4c85-bd5b-9e1cc3213e99",
   "metadata": {},
   "outputs": [
    {
     "data": {
      "text/plain": [
       "Disorder\n",
       "1    18232\n",
       "0     2526\n",
       "Name: count, dtype: int64"
      ]
     },
     "execution_count": 21,
     "metadata": {},
     "output_type": "execute_result"
    }
   ],
   "source": [
    "data_bin['Disorder'].value_counts()"
   ]
  },
  {
   "cell_type": "code",
   "execution_count": 27,
   "id": "f88792c4-be68-47dc-8f14-91ff612445fd",
   "metadata": {},
   "outputs": [],
   "source": [
    "# y = data_bin[\"Disorder\"].values\n",
    "# X_train,X_test,y_train,y_test = train_test_split(padded_sequence,y,test_size=0.2,\n",
    "#                                              stratify=y,random_state=42)"
   ]
  },
  {
   "cell_type": "code",
   "execution_count": 28,
   "id": "407d1913-b18b-459e-b191-6ef5f0dd7552",
   "metadata": {},
   "outputs": [],
   "source": [
    "y = data_bin[\"Disorder\"].values\n",
    "X_train,X_temp,y_train,y_temp = train_test_split(padded_sequence, y, test_size=0.3, random_state=42,stratify=y)\n",
    "X_val,X_test,y_val,y_test = train_test_split(X_temp, y_temp, test_size=0.2, random_state=42,stratify=y_temp)"
   ]
  },
  {
   "cell_type": "code",
   "execution_count": 29,
   "id": "2541283b-4af2-40b2-babb-dbcc93ec4ff8",
   "metadata": {},
   "outputs": [
    {
     "data": {
      "text/plain": [
       "((14530, 186), (4982, 186), (1246, 186))"
      ]
     },
     "execution_count": 29,
     "metadata": {},
     "output_type": "execute_result"
    }
   ],
   "source": [
    "X_train.shape,X_val.shape,X_test.shape"
   ]
  },
  {
   "cell_type": "code",
   "execution_count": 30,
   "id": "6bf7679e-cd93-49d5-b264-6e4931e9e2f9",
   "metadata": {},
   "outputs": [
    {
     "name": "stdout",
     "output_type": "stream",
     "text": [
      "(array([0, 1], dtype=int64), array([ 1768, 12762], dtype=int64))\n",
      "(array([0, 1], dtype=int64), array([ 606, 4376], dtype=int64))\n",
      "(array([0, 1], dtype=int64), array([ 152, 1094], dtype=int64))\n"
     ]
    }
   ],
   "source": [
    "print(np.unique(y_train,return_counts=True))\n",
    "print(np.unique(y_val,return_counts=True))\n",
    "print(np.unique(y_test,return_counts=True))"
   ]
  },
  {
   "cell_type": "code",
   "execution_count": 73,
   "id": "df609fa0-7b60-4fcb-a05f-1117eea19689",
   "metadata": {},
   "outputs": [],
   "source": [
    "early_stopping = EarlyStopping(monitor='val_loss', patience=3, mode='min', verbose=1)"
   ]
  },
  {
   "cell_type": "code",
   "execution_count": 74,
   "id": "bbff5f0d-f306-4655-86d6-9eae7f3b2cb4",
   "metadata": {},
   "outputs": [
    {
     "name": "stdout",
     "output_type": "stream",
     "text": [
      "Epoch 1/5\n",
      "455/455 [==============================] - 632s 1s/step - loss: 0.3716 - accuracy: 0.8777 - val_loss: 0.3666 - val_accuracy: 0.8784\n",
      "Epoch 2/5\n",
      "455/455 [==============================] - 559s 1s/step - loss: 0.3664 - accuracy: 0.8783 - val_loss: 0.3749 - val_accuracy: 0.8784\n",
      "Epoch 3/5\n",
      "455/455 [==============================] - 645s 1s/step - loss: 0.3644 - accuracy: 0.8783 - val_loss: 0.3641 - val_accuracy: 0.8784\n",
      "Epoch 4/5\n",
      "455/455 [==============================] - 638s 1s/step - loss: 0.3593 - accuracy: 0.8784 - val_loss: 0.3520 - val_accuracy: 0.8784\n",
      "Epoch 5/5\n",
      "455/455 [==============================] - 641s 1s/step - loss: 0.3469 - accuracy: 0.8788 - val_loss: 0.3458 - val_accuracy: 0.8784\n"
     ]
    }
   ],
   "source": [
    "history = model.fit(X_train,y_train,epochs=5,batch_size=32,validation_data=(X_val, y_val),verbose=1,callbacks=[early_stopping],\n",
    "                   workers=3)"
   ]
  },
  {
   "cell_type": "code",
   "execution_count": 75,
   "id": "17139696-9371-451f-a259-0208937474ab",
   "metadata": {},
   "outputs": [
    {
     "name": "stdout",
     "output_type": "stream",
     "text": [
      "39/39 [==============================] - 6s 140ms/step\n"
     ]
    }
   ],
   "source": [
    "y_pred = model.predict(X_test)"
   ]
  },
  {
   "cell_type": "code",
   "execution_count": 76,
   "id": "d2cf7cf8-cfbe-413f-a821-f64beb92e151",
   "metadata": {},
   "outputs": [
    {
     "data": {
      "text/plain": [
       "array([0.8984722 , 0.9101035 , 0.7748282 , ..., 0.8833608 , 0.98912406,\n",
       "       0.9488472 ], dtype=float32)"
      ]
     },
     "execution_count": 76,
     "metadata": {},
     "output_type": "execute_result"
    }
   ],
   "source": [
    "y_pred = np.squeeze(y_pred)\n",
    "y_pred"
   ]
  },
  {
   "cell_type": "code",
   "execution_count": 77,
   "id": "965907c1-e772-4348-8207-6c9b0ce01b32",
   "metadata": {},
   "outputs": [],
   "source": [
    "y_pred = np.where(y_pred<0.6,0,1)"
   ]
  },
  {
   "cell_type": "code",
   "execution_count": 78,
   "id": "86c5c6f5-4104-4edb-945c-97e84a40d845",
   "metadata": {},
   "outputs": [
    {
     "name": "stdout",
     "output_type": "stream",
     "text": [
      "455/455 [==============================] - 63s 138ms/step\n"
     ]
    }
   ],
   "source": [
    "train_pred = model.predict(X_train)\n",
    "train_pred = np.squeeze(train_pred)\n",
    "train_pred = np.where(train_pred<0.6,0,1)\n",
    "train_model_performance_lstm = classification_metrics(y_train,train_pred)"
   ]
  },
  {
   "cell_type": "code",
   "execution_count": 79,
   "id": "0b560f01-42f6-4157-8bd8-52dea46b165e",
   "metadata": {},
   "outputs": [
    {
     "data": {
      "text/html": [
       "<div>\n",
       "<style scoped>\n",
       "    .dataframe tbody tr th:only-of-type {\n",
       "        vertical-align: middle;\n",
       "    }\n",
       "\n",
       "    .dataframe tbody tr th {\n",
       "        vertical-align: top;\n",
       "    }\n",
       "\n",
       "    .dataframe thead th {\n",
       "        text-align: right;\n",
       "    }\n",
       "</style>\n",
       "<table border=\"1\" class=\"dataframe\">\n",
       "  <thead>\n",
       "    <tr style=\"text-align: right;\">\n",
       "      <th></th>\n",
       "      <th>precision_0</th>\n",
       "      <th>precision_1</th>\n",
       "      <th>recall_0</th>\n",
       "      <th>recall_1</th>\n",
       "      <th>f1_0</th>\n",
       "      <th>f1_1</th>\n",
       "      <th>accuracy</th>\n",
       "    </tr>\n",
       "  </thead>\n",
       "  <tbody>\n",
       "    <tr>\n",
       "      <th>0</th>\n",
       "      <td>0.772727</td>\n",
       "      <td>0.879308</td>\n",
       "      <td>0.009615</td>\n",
       "      <td>0.999608</td>\n",
       "      <td>0.018994</td>\n",
       "      <td>0.935607</td>\n",
       "      <td>0.879147</td>\n",
       "    </tr>\n",
       "  </tbody>\n",
       "</table>\n",
       "</div>"
      ],
      "text/plain": [
       "   precision_0  precision_1  recall_0  recall_1      f1_0      f1_1  accuracy\n",
       "0     0.772727     0.879308  0.009615  0.999608  0.018994  0.935607  0.879147"
      ]
     },
     "execution_count": 79,
     "metadata": {},
     "output_type": "execute_result"
    }
   ],
   "source": [
    "train_model_performance_lstm"
   ]
  },
  {
   "cell_type": "code",
   "execution_count": 80,
   "id": "0ca031d6-279f-490d-ac8f-87bc5fbd6bbb",
   "metadata": {},
   "outputs": [
    {
     "data": {
      "text/html": [
       "<div>\n",
       "<style scoped>\n",
       "    .dataframe tbody tr th:only-of-type {\n",
       "        vertical-align: middle;\n",
       "    }\n",
       "\n",
       "    .dataframe tbody tr th {\n",
       "        vertical-align: top;\n",
       "    }\n",
       "\n",
       "    .dataframe thead th {\n",
       "        text-align: right;\n",
       "    }\n",
       "</style>\n",
       "<table border=\"1\" class=\"dataframe\">\n",
       "  <thead>\n",
       "    <tr style=\"text-align: right;\">\n",
       "      <th></th>\n",
       "      <th>precision_0</th>\n",
       "      <th>precision_1</th>\n",
       "      <th>recall_0</th>\n",
       "      <th>recall_1</th>\n",
       "      <th>f1_0</th>\n",
       "      <th>f1_1</th>\n",
       "      <th>accuracy</th>\n",
       "    </tr>\n",
       "  </thead>\n",
       "  <tbody>\n",
       "    <tr>\n",
       "      <th>0</th>\n",
       "      <td>0.0</td>\n",
       "      <td>0.87801</td>\n",
       "      <td>0.0</td>\n",
       "      <td>1.0</td>\n",
       "      <td>0.0</td>\n",
       "      <td>0.935043</td>\n",
       "      <td>0.87801</td>\n",
       "    </tr>\n",
       "  </tbody>\n",
       "</table>\n",
       "</div>"
      ],
      "text/plain": [
       "   precision_0  precision_1  recall_0  recall_1  f1_0      f1_1  accuracy\n",
       "0          0.0      0.87801       0.0       1.0   0.0  0.935043   0.87801"
      ]
     },
     "execution_count": 80,
     "metadata": {},
     "output_type": "execute_result"
    }
   ],
   "source": [
    "test_model_performance_lstm = classification_metrics(y_test,y_pred)\n",
    "test_model_performance_lstm"
   ]
  },
  {
   "cell_type": "code",
   "execution_count": 81,
   "id": "a969f763-0ce7-41e8-a986-7844f09b1d1c",
   "metadata": {},
   "outputs": [
    {
     "data": {
      "image/png": "[encoded data removed]",
      "text/plain": [
       "<Figure size 640x480 with 1 Axes>"
      ]
     },
     "metadata": {},
     "output_type": "display_data"
    }
   ],
   "source": [
    "plt.plot(history.history['loss'])\n",
    "plt.plot(history.history['val_loss'])\n",
    "plt.title('training vs validation loss')\n",
    "plt.ylabel('loss')\n",
    "plt.xlabel('epoch')\n",
    "plt.legend(['train', 'validation'], loc='upper left')\n",
    "plt.show()"
   ]
  },
  {
   "cell_type": "code",
   "execution_count": 82,
   "id": "8ab9a0a5-cf88-4828-a76e-d1bb122dfe8e",
   "metadata": {},
   "outputs": [
    {
     "name": "stdout",
     "output_type": "stream",
     "text": [
      "39/39 [==============================] - 5s 123ms/step - loss: 0.3538 - accuracy: 0.8780\n"
     ]
    }
   ],
   "source": [
    "test_loss,accuracy = model.evaluate(X_test,y_test)"
   ]
  },
  {
   "cell_type": "code",
   "execution_count": 83,
   "id": "3b0af032-0abf-464f-9d6c-329821c581b5",
   "metadata": {},
   "outputs": [
    {
     "data": {
      "text/plain": [
       "(0.35383957624435425, 0.8780096173286438)"
      ]
     },
     "execution_count": 83,
     "metadata": {},
     "output_type": "execute_result"
    }
   ],
   "source": [
    "test_loss,accuracy"
   ]
  },
  {
   "cell_type": "code",
   "execution_count": 105,
   "id": "1f2f06a7-9e4c-4ce5-9f80-c8f3a1cc67a8",
   "metadata": {},
   "outputs": [
    {
     "data": {
      "text/plain": [
       "300"
      ]
     },
     "execution_count": 105,
     "metadata": {},
     "output_type": "execute_result"
    }
   ],
   "source": [
    "EMBEDDINGS_DIMENSION"
   ]
  },
  {
   "cell_type": "markdown",
   "id": "1fb45391-c4e7-4c00-9b3e-36ad5dbaac7a",
   "metadata": {},
   "source": [
    "### CNN+LSTM"
   ]
  },
  {
   "cell_type": "code",
   "execution_count": 33,
   "id": "e2021f25-2484-4dae-a4c3-4b309e8dea2c",
   "metadata": {},
   "outputs": [
    {
     "name": "stderr",
     "output_type": "stream",
     "text": [
      "2024-08-19 01:13:48,117 | WARNING | lstm.py:590 | __init__ | Layer lstm will not use cuDNN kernels since it doesn't meet the criteria. It will use a generic GPU kernel as fallback when running on GPU.\n"
     ]
    }
   ],
   "source": [
    "embedding = fasttext_embeddings\n",
    "vocab_size = FASTTEXT_VOCAB_SIZE\n",
    "embedding_dim = EMBEDDINGS_DIMENSION\n",
    "Embedding_layer = Embedding(vocab_size,embedding_dim,weights = [embedding],input_length = max_length_sequence, trainable=False)\n",
    "model = Sequential()\n",
    "model.add(Embedding_layer)\n",
    "model.add(Conv1D(filters=32,kernel_size=5,activation=\"relu\",padding=\"same\",strides=1))\n",
    "model.add(MaxPool1D(pool_size=2))\n",
    "model.add(LSTM(100,dropout=0.2,recurrent_dropout=0.2))\n",
    "model.add(Dense(32,activation=\"relu\"))\n",
    "model.add(Dropout(0.2))\n",
    "model.add(Dense(1,\"sigmoid\"))\n",
    "model.compile(loss=\"binary_crossentropy\",optimizer=\"adam\",metrics=[\"accuracy\"])"
   ]
  },
  {
   "cell_type": "code",
   "execution_count": 34,
   "id": "54eb31de-d091-4c97-a97a-c8d955d512b2",
   "metadata": {},
   "outputs": [
    {
     "name": "stdout",
     "output_type": "stream",
     "text": [
      "Model: \"sequential\"\n",
      "_________________________________________________________________\n",
      " Layer (type)                Output Shape              Param #   \n",
      "=================================================================\n",
      " embedding (Embedding)       (None, 186, 300)          5267700   \n",
      "                                                                 \n",
      " conv1d (Conv1D)             (None, 186, 32)           48032     \n",
      "                                                                 \n",
      " max_pooling1d (MaxPooling1D  (None, 93, 32)           0         \n",
      " )                                                               \n",
      "                                                                 \n",
      " lstm (LSTM)                 (None, 100)               53200     \n",
      "                                                                 \n",
      " dense (Dense)               (None, 32)                3232      \n",
      "                                                                 \n",
      " dropout (Dropout)           (None, 32)                0         \n",
      "                                                                 \n",
      " dense_1 (Dense)             (None, 1)                 33        \n",
      "                                                                 \n",
      "=================================================================\n",
      "Total params: 5,372,197\n",
      "Trainable params: 104,497\n",
      "Non-trainable params: 5,267,700\n",
      "_________________________________________________________________\n"
     ]
    }
   ],
   "source": [
    "model.summary()"
   ]
  },
  {
   "cell_type": "code",
   "execution_count": 35,
   "id": "e23b8517-9b0a-48f7-93e2-9eaabd537e04",
   "metadata": {},
   "outputs": [
    {
     "name": "stdout",
     "output_type": "stream",
     "text": [
      "Epoch 1/5\n",
      "455/455 [==============================] - 446s 920ms/step - loss: 0.2996 - accuracy: 0.8933 - val_loss: 0.2888 - val_accuracy: 0.8914\n",
      "Epoch 2/5\n",
      "455/455 [==============================] - 397s 871ms/step - loss: 0.2415 - accuracy: 0.9100 - val_loss: 0.2624 - val_accuracy: 0.8980\n",
      "Epoch 3/5\n",
      "455/455 [==============================] - 419s 922ms/step - loss: 0.2033 - accuracy: 0.9231 - val_loss: 0.2962 - val_accuracy: 0.8994\n",
      "Epoch 4/5\n",
      "455/455 [==============================] - 437s 960ms/step - loss: 0.1558 - accuracy: 0.9432 - val_loss: 0.3065 - val_accuracy: 0.8828\n",
      "Epoch 5/5\n",
      "455/455 [==============================] - 431s 946ms/step - loss: 0.1185 - accuracy: 0.9560 - val_loss: 0.4007 - val_accuracy: 0.8926\n",
      "Epoch 5: early stopping\n"
     ]
    }
   ],
   "source": [
    "early_stopping = EarlyStopping(monitor='val_loss', patience=3, mode='min', verbose=1)\n",
    "history = model.fit(X_train,y_train,epochs=5,batch_size=32,validation_data=(X_val, y_val),verbose=1,callbacks=[early_stopping],\n",
    "                   workers=3)"
   ]
  },
  {
   "cell_type": "code",
   "execution_count": 36,
   "id": "7f8c5b01-f8ab-4ef6-bbca-68592c2f1af9",
   "metadata": {},
   "outputs": [
    {
     "name": "stdout",
     "output_type": "stream",
     "text": [
      "455/455 [==============================] - 43s 93ms/step\n"
     ]
    },
    {
     "data": {
      "text/html": [
       "<div>\n",
       "<style scoped>\n",
       "    .dataframe tbody tr th:only-of-type {\n",
       "        vertical-align: middle;\n",
       "    }\n",
       "\n",
       "    .dataframe tbody tr th {\n",
       "        vertical-align: top;\n",
       "    }\n",
       "\n",
       "    .dataframe thead th {\n",
       "        text-align: right;\n",
       "    }\n",
       "</style>\n",
       "<table border=\"1\" class=\"dataframe\">\n",
       "  <thead>\n",
       "    <tr style=\"text-align: right;\">\n",
       "      <th></th>\n",
       "      <th>precision_0</th>\n",
       "      <th>precision_1</th>\n",
       "      <th>recall_0</th>\n",
       "      <th>recall_1</th>\n",
       "      <th>f1_0</th>\n",
       "      <th>f1_1</th>\n",
       "      <th>accuracy</th>\n",
       "    </tr>\n",
       "  </thead>\n",
       "  <tbody>\n",
       "    <tr>\n",
       "      <th>0</th>\n",
       "      <td>0.961812</td>\n",
       "      <td>0.978283</td>\n",
       "      <td>0.840498</td>\n",
       "      <td>0.995377</td>\n",
       "      <td>0.897072</td>\n",
       "      <td>0.986756</td>\n",
       "      <td>0.976531</td>\n",
       "    </tr>\n",
       "  </tbody>\n",
       "</table>\n",
       "</div>"
      ],
      "text/plain": [
       "   precision_0  precision_1  recall_0  recall_1      f1_0      f1_1  accuracy\n",
       "0     0.961812     0.978283  0.840498  0.995377  0.897072  0.986756  0.976531"
      ]
     },
     "execution_count": 36,
     "metadata": {},
     "output_type": "execute_result"
    }
   ],
   "source": [
    "train_pred = model.predict(X_train)\n",
    "train_pred = np.squeeze(train_pred)\n",
    "train_pred = np.where(train_pred<0.6,0,1)\n",
    "train_model_performance = classification_metrics(y_train,train_pred)\n",
    "train_model_performance"
   ]
  },
  {
   "cell_type": "code",
   "execution_count": 37,
   "id": "4968fbf2-f150-4049-a832-e999158c1699",
   "metadata": {},
   "outputs": [
    {
     "name": "stdout",
     "output_type": "stream",
     "text": [
      "39/39 [==============================] - 4s 92ms/step\n"
     ]
    },
    {
     "data": {
      "text/html": [
       "<div>\n",
       "<style scoped>\n",
       "    .dataframe tbody tr th:only-of-type {\n",
       "        vertical-align: middle;\n",
       "    }\n",
       "\n",
       "    .dataframe tbody tr th {\n",
       "        vertical-align: top;\n",
       "    }\n",
       "\n",
       "    .dataframe thead th {\n",
       "        text-align: right;\n",
       "    }\n",
       "</style>\n",
       "<table border=\"1\" class=\"dataframe\">\n",
       "  <thead>\n",
       "    <tr style=\"text-align: right;\">\n",
       "      <th></th>\n",
       "      <th>precision_0</th>\n",
       "      <th>precision_1</th>\n",
       "      <th>recall_0</th>\n",
       "      <th>recall_1</th>\n",
       "      <th>f1_0</th>\n",
       "      <th>f1_1</th>\n",
       "      <th>accuracy</th>\n",
       "    </tr>\n",
       "  </thead>\n",
       "  <tbody>\n",
       "    <tr>\n",
       "      <th>0</th>\n",
       "      <td>0.614458</td>\n",
       "      <td>0.913156</td>\n",
       "      <td>0.335526</td>\n",
       "      <td>0.97075</td>\n",
       "      <td>0.434043</td>\n",
       "      <td>0.941072</td>\n",
       "      <td>0.893258</td>\n",
       "    </tr>\n",
       "  </tbody>\n",
       "</table>\n",
       "</div>"
      ],
      "text/plain": [
       "   precision_0  precision_1  recall_0  recall_1      f1_0      f1_1  accuracy\n",
       "0     0.614458     0.913156  0.335526   0.97075  0.434043  0.941072  0.893258"
      ]
     },
     "execution_count": 37,
     "metadata": {},
     "output_type": "execute_result"
    }
   ],
   "source": [
    "y_pred = model.predict(X_test)\n",
    "y_pred = np.squeeze(y_pred)\n",
    "y_pred = np.where(y_pred<0.6,0,1)\n",
    "test_model_performance = classification_metrics(y_test,y_pred)\n",
    "test_model_performance"
   ]
  },
  {
   "cell_type": "code",
   "execution_count": 38,
   "id": "83f98068-dadb-4fed-b4af-d7e5d38a6403",
   "metadata": {},
   "outputs": [
    {
     "name": "stdout",
     "output_type": "stream",
     "text": [
      "39/39 [==============================] - 4s 93ms/step - loss: 0.3988 - accuracy: 0.8949\n"
     ]
    }
   ],
   "source": [
    "test_loss,accuracy = model.evaluate(X_test,y_test)"
   ]
  },
  {
   "cell_type": "code",
   "execution_count": 39,
   "id": "b409f491-b1c6-4f7b-a7a5-fbd2b77e7a82",
   "metadata": {},
   "outputs": [
    {
     "data": {
      "image/png": "[encoded data removed]",
      "text/plain": [
       "<Figure size 640x480 with 1 Axes>"
      ]
     },
     "metadata": {},
     "output_type": "display_data"
    }
   ],
   "source": [
    "plt.plot(history.history['loss'])\n",
    "plt.plot(history.history['val_loss'])\n",
    "plt.title('training vs validation loss')\n",
    "plt.ylabel('loss')\n",
    "plt.xlabel('epoch')\n",
    "plt.legend(['train', 'validation'], loc='upper left')\n",
    "plt.show()"
   ]
  },
  {
   "cell_type": "markdown",
   "id": "10fa0571-bc30-49b7-9448-10d2245571b9",
   "metadata": {},
   "source": [
    "### BERT"
   ]
  },
  {
   "cell_type": "code",
   "execution_count": 22,
   "id": "d3570412-aac2-4358-9770-64062ff97e8b",
   "metadata": {},
   "outputs": [
    {
     "name": "stderr",
     "output_type": "stream",
     "text": [
      "All model checkpoint layers were used when initializing TFBertForSequenceClassification.\n",
      "\n",
      "Some layers of TFBertForSequenceClassification were not initialized from the model checkpoint at bert-base-uncased and are newly initialized: ['classifier']\n",
      "You should probably TRAIN this model on a down-stream task to be able to use it for predictions and inference.\n"
     ]
    }
   ],
   "source": [
    "bert_tokenizer = BertTokenizer.from_pretrained('bert-base-uncased',do_lower_case=True)\n",
    "bert_model = TFBertForSequenceClassification.from_pretrained(\"bert-base-uncased\",num_labels=2)"
   ]
  },
  {
   "cell_type": "code",
   "execution_count": 53,
   "id": "f32438e3-8c42-4b7b-8270-a57e8e8b27f0",
   "metadata": {},
   "outputs": [],
   "source": [
    "data_bert = data_bin.copy()\n",
    "data_bert[\"tweet\"] = \"[CLS] \" +data_bert['tweet'] + \"[SEP]\"\n",
    "X = data_bert[[\"tweet\"]]\n",
    "y = data_bert[[\"Disorder\"]]\n",
    "# X_train,X_test,y_train,y_test = train_test_split(X,y,test_size=0.2,random_state=42,stratify=y)\n",
    "\n",
    "# train_text = X_train[\"tweet\"].values.tolist()\n",
    "# train_label = y_train[\"Disorder\"].values.tolist()\n",
    "\n",
    "# test_text = X_test[\"tweet\"].values.tolist()\n",
    "# test_label = y_test[\"Disorder\"].values.tolist()\n",
    "\n",
    "# X_train.shape,X_test.shape\n",
    "X_train,X_temp,y_train,y_temp = train_test_split(X, y, test_size=0.3, random_state=42,stratify=y)\n",
    "X_val,X_test,y_val,y_test = train_test_split(X_temp, y_temp, test_size=0.2, random_state=42,stratify=y_temp)\n",
    "train_text = X_train[\"tweet\"].values.tolist()\n",
    "train_label = y_train[\"Disorder\"].values.tolist()\n",
    "\n",
    "val_text = X_val[\"tweet\"].values.tolist()\n",
    "val_label = y_val[\"Disorder\"].values.tolist()\n",
    "test_text =  X_test[\"tweet\"].values.tolist()\n",
    "test_label = y_test[\"Disorder\"].values.tolist()"
   ]
  },
  {
   "cell_type": "code",
   "execution_count": 54,
   "id": "258cb5ff-bc5f-4e15-8619-0f57aabaf4a5",
   "metadata": {},
   "outputs": [
    {
     "name": "stdout",
     "output_type": "stream",
     "text": [
      "(14530, 1) (4982, 1) (1246, 1)\n",
      "(array([0, 1], dtype=int64), array([ 1768, 12762], dtype=int64))\n",
      "(array([0, 1], dtype=int64), array([ 606, 4376], dtype=int64))\n",
      "(array([0, 1], dtype=int64), array([ 152, 1094], dtype=int64))\n"
     ]
    }
   ],
   "source": [
    "print(X_train.shape,X_val.shape,X_test.shape)\n",
    "print(np.unique(y_train,return_counts=True))\n",
    "print(np.unique(y_val,return_counts=True))\n",
    "print(np.unique(y_test,return_counts=True))"
   ]
  },
  {
   "cell_type": "code",
   "execution_count": 55,
   "id": "7debd15b-c36e-4cd1-bf45-b3d3db165c5e",
   "metadata": {},
   "outputs": [
    {
     "data": {
      "text/plain": [
       "(14530, 14530)"
      ]
     },
     "execution_count": 55,
     "metadata": {},
     "output_type": "execute_result"
    }
   ],
   "source": [
    "len(train_text),len(train_label)"
   ]
  },
  {
   "cell_type": "code",
   "execution_count": 56,
   "id": "7108b5c1-9bbb-4dcf-a40f-664bfb9549e9",
   "metadata": {},
   "outputs": [
    {
     "data": {
      "text/plain": [
       "(4982, 4982)"
      ]
     },
     "execution_count": 56,
     "metadata": {},
     "output_type": "execute_result"
    }
   ],
   "source": [
    "len(val_text),len(val_label)"
   ]
  },
  {
   "cell_type": "code",
   "execution_count": 57,
   "id": "ffbde75c-b113-4e3c-8fd7-2a8c87c10440",
   "metadata": {},
   "outputs": [
    {
     "data": {
      "text/plain": [
       "Disorder\n",
       "1    12762\n",
       "0     1768\n",
       "Name: count, dtype: int64"
      ]
     },
     "execution_count": 57,
     "metadata": {},
     "output_type": "execute_result"
    }
   ],
   "source": [
    "y_train.Disorder.value_counts()"
   ]
  },
  {
   "cell_type": "code",
   "execution_count": 58,
   "id": "a0d04548-3be6-49c7-9a3e-5c7f5e7ff93a",
   "metadata": {},
   "outputs": [
    {
     "data": {
      "text/plain": [
       "Disorder\n",
       "1    1094\n",
       "0     152\n",
       "Name: count, dtype: int64"
      ]
     },
     "execution_count": 58,
     "metadata": {},
     "output_type": "execute_result"
    }
   ],
   "source": [
    "y_test.Disorder.value_counts()"
   ]
  },
  {
   "cell_type": "code",
   "execution_count": null,
   "id": "a936913b-4ba5-4704-b4cb-cc4b49b10347",
   "metadata": {},
   "outputs": [],
   "source": []
  },
  {
   "cell_type": "code",
   "execution_count": 29,
   "id": "f559befa-ec21-48e0-b371-ac7d89df6921",
   "metadata": {},
   "outputs": [],
   "source": [
    "BERT_TOKENS_LENGTH = 256\n",
    "max_length_sequence = min(max([len(doc) for doc in corpus]),BERT_TOKENS_LENGTH)\n",
    "train_encoding = bert_tokenizer.batch_encode_plus(train_text,\n",
    "                                              padding=True,\n",
    "                                              truncation=True,\n",
    "                                              max_length = max_length_sequence,\n",
    "                                              return_tensors='tf')\n",
    "val_encoding = bert_tokenizer.batch_encode_plus(val_text,\n",
    "                                              padding=True, \n",
    "                                            truncation=True,\n",
    "                                              max_length = max_length_sequence,\n",
    "                                              return_tensors='tf')"
   ]
  },
  {
   "cell_type": "code",
   "execution_count": 30,
   "id": "bcbe0174-d345-40a8-8527-c1041ffcd18b",
   "metadata": {},
   "outputs": [
    {
     "data": {
      "text/plain": [
       "(TensorShape([14530, 109]), TensorShape([4982, 99]))"
      ]
     },
     "execution_count": 30,
     "metadata": {},
     "output_type": "execute_result"
    }
   ],
   "source": [
    "train_encoding[\"input_ids\"].shape,val_encoding[\"input_ids\"].shape"
   ]
  },
  {
   "cell_type": "code",
   "execution_count": 31,
   "id": "9c1bfae3-8ce3-4e1b-80de-b04c73bba442",
   "metadata": {},
   "outputs": [
    {
     "data": {
      "text/plain": [
       "'[CLS] pesky bipolar brain mine enjoys type nonsense[SEP]'"
      ]
     },
     "execution_count": 31,
     "metadata": {},
     "output_type": "execute_result"
    }
   ],
   "source": [
    "train_text[0]"
   ]
  },
  {
   "cell_type": "code",
   "execution_count": 32,
   "id": "ba537236-5cc1-40d9-ba75-6ddbc2b87d84",
   "metadata": {},
   "outputs": [],
   "source": [
    "# train_encoding = bert_tokenizer(train_text,padding=True)\n",
    "# test_encoding = bert_tokenizer(test_text,padding=True)"
   ]
  },
  {
   "cell_type": "code",
   "execution_count": 33,
   "id": "4a4ee6a3-0425-489d-a270-067d68aede66",
   "metadata": {},
   "outputs": [],
   "source": [
    "# train_dataset = tf.data.Dataset.from_tensor_slices((dict(train_encoding),train_label))\n",
    "# test_dataset = tf.data.Dataset.from_tensor_slices((dict(test_encoding),test_label))"
   ]
  },
  {
   "cell_type": "code",
   "execution_count": 34,
   "id": "1397fc57-b848-4a87-814f-1d7bff1edeaa",
   "metadata": {},
   "outputs": [],
   "source": [
    "# BERT_TOKENS_LENGTH = 512\n",
    "# max_length_sequence = min(max([len(doc) for doc in corpus]),BERT_TOKENS_LENGTH)\n",
    "# max_length_sequence"
   ]
  },
  {
   "cell_type": "code",
   "execution_count": 35,
   "id": "ba9877a4-a7ac-4a1c-8725-a7c1cdd3ce68",
   "metadata": {},
   "outputs": [],
   "source": [
    "# model = TFBertForSequenceClassification.from_pretrained('bert-base-uncased', num_labels=2)"
   ]
  },
  {
   "cell_type": "code",
   "execution_count": 36,
   "id": "fe311f36-3f5b-47fb-b899-309200acb829",
   "metadata": {},
   "outputs": [],
   "source": [
    "# class CustomBertForBinaryClassification(tf.keras.Model):\n",
    "#     def __init__(self, base_model, **kwargs):\n",
    "#         super(CustomBertForBinaryClassification, self).__init__(**kwargs)\n",
    "#         self.bert = base_model\n",
    "#         self.classifier = tf.keras.layers.Dense(1, activation='sigmoid')  # Sigmoid for binary classification\n",
    "\n",
    "#     def call(self, inputs):\n",
    "#         outputs = self.bert(inputs)\n",
    "#         sequence_output = outputs.last_hidden_state\n",
    "#         pooled_output = sequence_output[:, 0]  # Take the [CLS] token representation\n",
    "#         logits = self.classifier(pooled_output)\n",
    "#         return logits"
   ]
  },
  {
   "cell_type": "code",
   "execution_count": 37,
   "id": "557ae761-fda6-45d4-b0ac-6d35e53180a8",
   "metadata": {},
   "outputs": [],
   "source": [
    "# bert_model = CustomBertForBinaryClassification(bert_model)"
   ]
  },
  {
   "cell_type": "code",
   "execution_count": 38,
   "id": "9de3d4da-9004-4340-9327-ec6d4ff84696",
   "metadata": {},
   "outputs": [],
   "source": [
    "# Compile the model with an appropriate optimizer, loss function, and metrics\n",
    "loss = tf.keras.losses.SparseCategoricalCrossentropy(from_logits=True)\n",
    "metric = tf.keras.metrics.SparseCategoricalAccuracy('accuracy')\n",
    "# output_layer = Dense(1, activation='sigmoid')(bert_model.output)\n",
    "# model = tf.keras.models.Model(inputs=bert_model.input, outputs=output_layer)\n",
    "bert_model.compile(optimizer=\"adam\", loss=loss, metrics=[metric])"
   ]
  },
  {
   "cell_type": "code",
   "execution_count": 39,
   "id": "89c085ad-abe5-4c5e-b024-3837eda6ce7f",
   "metadata": {},
   "outputs": [
    {
     "name": "stdout",
     "output_type": "stream",
     "text": [
      "Model: \"tf_bert_for_sequence_classification\"\n",
      "_________________________________________________________________\n",
      " Layer (type)                Output Shape              Param #   \n",
      "=================================================================\n",
      " bert (TFBertMainLayer)      multiple                  109482240 \n",
      "                                                                 \n",
      " dropout_37 (Dropout)        multiple                  0         \n",
      "                                                                 \n",
      " classifier (Dense)          multiple                  1538      \n",
      "                                                                 \n",
      "=================================================================\n",
      "Total params: 109,483,778\n",
      "Trainable params: 109,483,778\n",
      "Non-trainable params: 0\n",
      "_________________________________________________________________\n"
     ]
    }
   ],
   "source": [
    "bert_model.summary()"
   ]
  },
  {
   "cell_type": "code",
   "execution_count": 40,
   "id": "d3baf4df-b065-4b09-bbdc-e7c80c4444b3",
   "metadata": {},
   "outputs": [
    {
     "name": "stdout",
     "output_type": "stream",
     "text": [
      "Epoch 1/3\n",
      "909/909 [==============================] - 463s 487ms/step - loss: 0.3821 - accuracy: 0.8774 - val_loss: 0.3826 - val_accuracy: 0.8784\n",
      "Epoch 2/3\n",
      "909/909 [==============================] - 393s 433ms/step - loss: 0.3759 - accuracy: 0.8783 - val_loss: 0.3707 - val_accuracy: 0.8784\n",
      "Epoch 3/3\n",
      "909/909 [==============================] - 397s 436ms/step - loss: 0.3743 - accuracy: 0.8783 - val_loss: 0.3796 - val_accuracy: 0.8784\n"
     ]
    }
   ],
   "source": [
    "early_stopping = EarlyStopping(monitor='val_loss', patience=2)\n",
    "\n",
    "history = bert_model.fit(\n",
    "    [train_encoding['input_ids'], train_encoding['token_type_ids'], train_encoding['attention_mask']],\n",
    "    tf.convert_to_tensor(train_label, dtype=tf.int32),\n",
    "    validation_data=(\n",
    "      [val_encoding['input_ids'], val_encoding['token_type_ids'], val_encoding['attention_mask']], tf.convert_to_tensor(val_label, dtype=tf.int32)),\n",
    "    batch_size=16,\n",
    "    epochs=3,\n",
    "    callbacks = [early_stopping]\n",
    ")"
   ]
  },
  {
   "cell_type": "code",
   "execution_count": 59,
   "id": "4c6ac42b-2ffc-4791-8603-13e71ea3e0ae",
   "metadata": {},
   "outputs": [],
   "source": [
    "test_encoding = bert_tokenizer.batch_encode_plus(test_text,\n",
    "                                              padding=True, \n",
    "                                            truncation=True,\n",
    "                                              max_length = max_length_sequence,\n",
    "                                              return_tensors='tf')"
   ]
  },
  {
   "cell_type": "code",
   "execution_count": 60,
   "id": "e52fffc7-7386-4001-bf42-06523e197753",
   "metadata": {},
   "outputs": [
    {
     "name": "stdout",
     "output_type": "stream",
     "text": [
      "39/39 [==============================] - 23s 437ms/step - loss: 0.3805 - accuracy: 0.8780\n"
     ]
    }
   ],
   "source": [
    "test_loss, test_accuracy = bert_model.evaluate(\n",
    "    [test_encoding['input_ids'], test_encoding['token_type_ids'], test_encoding['attention_mask']],\n",
    "    tf.convert_to_tensor(test_label)\n",
    ")"
   ]
  },
  {
   "cell_type": "code",
   "execution_count": 61,
   "id": "a823d842-b2f1-4174-bdf6-8ca3ae2d6987",
   "metadata": {},
   "outputs": [
    {
     "data": {
      "text/plain": [
       "(0.38047096133232117, 0.8780096173286438)"
      ]
     },
     "execution_count": 61,
     "metadata": {},
     "output_type": "execute_result"
    }
   ],
   "source": [
    "test_loss, test_accuracy"
   ]
  },
  {
   "cell_type": "code",
   "execution_count": 63,
   "id": "58678a5d-2471-4c5e-a48f-5563a0cdfef8",
   "metadata": {},
   "outputs": [
    {
     "name": "stdout",
     "output_type": "stream",
     "text": [
      "39/39 [==============================] - 17s 417ms/step\n"
     ]
    }
   ],
   "source": [
    "test_pred = bert_model.predict(\n",
    "    [test_encoding['input_ids'], test_encoding['token_type_ids'], test_encoding['attention_mask']])"
   ]
  },
  {
   "cell_type": "code",
   "execution_count": 65,
   "id": "f8f11db7-e4b2-4ac5-b55f-d7a6e32f6a2f",
   "metadata": {},
   "outputs": [],
   "source": [
    "test_logits = test_pred.logits\n",
    "test_pred_labels = tf.argmax(test_logits, axis=1)\n",
    "test_pred_labels = test_pred_labels.numpy()"
   ]
  },
  {
   "cell_type": "code",
   "execution_count": null,
   "id": "e08845be-c4c5-4668-b15b-058ba25a8f1c",
   "metadata": {},
   "outputs": [],
   "source": [
    "# pred_labels = tf.argmax(logits, axis=1)\n",
    "# pred_labels"
   ]
  },
  {
   "cell_type": "code",
   "execution_count": null,
   "id": "b8aadb6d-94ff-4fb7-b87a-df7110ea479a",
   "metadata": {},
   "outputs": [],
   "source": [
    "# pred_labels = pred_labels.numpy()\n",
    " \n",
    "# label = {\n",
    "#     1: 'positive',\n",
    "#     0: 'Negative'\n",
    "# }"
   ]
  },
  {
   "cell_type": "code",
   "execution_count": 66,
   "id": "bcec00f5-7867-4a6d-92a7-21b918528c73",
   "metadata": {},
   "outputs": [
    {
     "data": {
      "text/plain": [
       "array([1], dtype=int64)"
      ]
     },
     "execution_count": 66,
     "metadata": {},
     "output_type": "execute_result"
    }
   ],
   "source": [
    "np.unique(test_pred_labels)"
   ]
  },
  {
   "cell_type": "code",
   "execution_count": 67,
   "id": "d7a0cd9b-6514-4c67-bc39-2b7fe7741a9e",
   "metadata": {},
   "outputs": [
    {
     "name": "stdout",
     "output_type": "stream",
     "text": [
      "455/455 [==============================] - 109s 226ms/step\n"
     ]
    }
   ],
   "source": [
    "train_pred = bert_model.predict(\n",
    "    [train_encoding['input_ids'], train_encoding['token_type_ids'], train_encoding['attention_mask']])"
   ]
  },
  {
   "cell_type": "code",
   "execution_count": 68,
   "id": "a1065976-58ce-49b3-9fff-2a68e878ee2a",
   "metadata": {},
   "outputs": [],
   "source": [
    "train_logits = train_pred.logits\n",
    "train_labels = tf.argmax(train_logits, axis=1)\n",
    "train_labels = train_labels.numpy()"
   ]
  },
  {
   "cell_type": "code",
   "execution_count": 69,
   "id": "2ac108a6-2b5f-439b-b8ce-7bf363d0ec0c",
   "metadata": {},
   "outputs": [
    {
     "data": {
      "text/plain": [
       "array([1], dtype=int64)"
      ]
     },
     "execution_count": 69,
     "metadata": {},
     "output_type": "execute_result"
    }
   ],
   "source": [
    "np.unique(train_labels)"
   ]
  },
  {
   "cell_type": "code",
   "execution_count": 70,
   "id": "38424dac-261a-4dcd-ace3-09d7302a7991",
   "metadata": {},
   "outputs": [],
   "source": [
    "train_performance_table = classification_metrics(y_train.values,train_labels)\n",
    "test_performance_table = classification_metrics(y_test.values,test_pred_labels)"
   ]
  },
  {
   "cell_type": "code",
   "execution_count": 71,
   "id": "0b5d920d-02dc-4cd3-9d57-9f788fb0b77e",
   "metadata": {},
   "outputs": [
    {
     "data": {
      "text/html": [
       "<div>\n",
       "<style scoped>\n",
       "    .dataframe tbody tr th:only-of-type {\n",
       "        vertical-align: middle;\n",
       "    }\n",
       "\n",
       "    .dataframe tbody tr th {\n",
       "        vertical-align: top;\n",
       "    }\n",
       "\n",
       "    .dataframe thead th {\n",
       "        text-align: right;\n",
       "    }\n",
       "</style>\n",
       "<table border=\"1\" class=\"dataframe\">\n",
       "  <thead>\n",
       "    <tr style=\"text-align: right;\">\n",
       "      <th></th>\n",
       "      <th>precision_0</th>\n",
       "      <th>precision_1</th>\n",
       "      <th>recall_0</th>\n",
       "      <th>recall_1</th>\n",
       "      <th>f1_0</th>\n",
       "      <th>f1_1</th>\n",
       "      <th>accuracy</th>\n",
       "    </tr>\n",
       "  </thead>\n",
       "  <tbody>\n",
       "    <tr>\n",
       "      <th>0</th>\n",
       "      <td>0.0</td>\n",
       "      <td>0.878321</td>\n",
       "      <td>0.0</td>\n",
       "      <td>1.0</td>\n",
       "      <td>0.0</td>\n",
       "      <td>0.935219</td>\n",
       "      <td>0.878321</td>\n",
       "    </tr>\n",
       "  </tbody>\n",
       "</table>\n",
       "</div>"
      ],
      "text/plain": [
       "   precision_0  precision_1  recall_0  recall_1  f1_0      f1_1  accuracy\n",
       "0          0.0     0.878321       0.0       1.0   0.0  0.935219  0.878321"
      ]
     },
     "execution_count": 71,
     "metadata": {},
     "output_type": "execute_result"
    }
   ],
   "source": [
    "train_performance_table"
   ]
  },
  {
   "cell_type": "code",
   "execution_count": 72,
   "id": "e29c5ae2-8cda-488d-8ba4-e58c6f71a890",
   "metadata": {},
   "outputs": [
    {
     "data": {
      "text/html": [
       "<div>\n",
       "<style scoped>\n",
       "    .dataframe tbody tr th:only-of-type {\n",
       "        vertical-align: middle;\n",
       "    }\n",
       "\n",
       "    .dataframe tbody tr th {\n",
       "        vertical-align: top;\n",
       "    }\n",
       "\n",
       "    .dataframe thead th {\n",
       "        text-align: right;\n",
       "    }\n",
       "</style>\n",
       "<table border=\"1\" class=\"dataframe\">\n",
       "  <thead>\n",
       "    <tr style=\"text-align: right;\">\n",
       "      <th></th>\n",
       "      <th>precision_0</th>\n",
       "      <th>precision_1</th>\n",
       "      <th>recall_0</th>\n",
       "      <th>recall_1</th>\n",
       "      <th>f1_0</th>\n",
       "      <th>f1_1</th>\n",
       "      <th>accuracy</th>\n",
       "    </tr>\n",
       "  </thead>\n",
       "  <tbody>\n",
       "    <tr>\n",
       "      <th>0</th>\n",
       "      <td>0.0</td>\n",
       "      <td>0.87801</td>\n",
       "      <td>0.0</td>\n",
       "      <td>1.0</td>\n",
       "      <td>0.0</td>\n",
       "      <td>0.935043</td>\n",
       "      <td>0.87801</td>\n",
       "    </tr>\n",
       "  </tbody>\n",
       "</table>\n",
       "</div>"
      ],
      "text/plain": [
       "   precision_0  precision_1  recall_0  recall_1  f1_0      f1_1  accuracy\n",
       "0          0.0      0.87801       0.0       1.0   0.0  0.935043   0.87801"
      ]
     },
     "execution_count": 72,
     "metadata": {},
     "output_type": "execute_result"
    }
   ],
   "source": [
    "test_performance_table"
   ]
  },
  {
   "cell_type": "code",
   "execution_count": 73,
   "id": "9b6f2f11-28bc-41ad-8c0a-60dba20e1417",
   "metadata": {},
   "outputs": [
    {
     "data": {
      "image/png": "[encoded data removed]",
      "text/plain": [
       "<Figure size 640x480 with 1 Axes>"
      ]
     },
     "metadata": {},
     "output_type": "display_data"
    }
   ],
   "source": [
    "plt.plot(history.history['loss'])\n",
    "plt.plot(history.history['val_loss'])\n",
    "plt.title('training vs validation loss')\n",
    "plt.ylabel('loss')\n",
    "plt.xlabel('epoch')\n",
    "plt.legend(['train', 'validation'], loc='upper left')\n",
    "plt.show()"
   ]
  },
  {
   "cell_type": "code",
   "execution_count": null,
   "id": "566d2a26-ddc7-440a-a91e-6d8897521271",
   "metadata": {},
   "outputs": [],
   "source": []
  }
 ],
 "metadata": {
  "kernelspec": {
   "display_name": "Python 3 (ipykernel)",
   "language": "python",
   "name": "python3"
  },
  "language_info": {
   "codemirror_mode": {
    "name": "ipython",
    "version": 3
   },
   "file_extension": ".py",
   "mimetype": "text/x-python",
   "name": "python",
   "nbconvert_exporter": "python",
   "pygments_lexer": "ipython3",
   "version": "3.10.14"
  }
 },
 "nbformat": 4,
 "nbformat_minor": 5
}
