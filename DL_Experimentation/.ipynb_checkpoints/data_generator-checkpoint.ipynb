{
 "cells": [
  {
   "cell_type": "markdown",
   "id": "f0d92fca-63e3-4c63-90b6-ddf30796c11d",
   "metadata": {},
   "source": [
    "# Data Generation using LLM"
   ]
  },
  {
   "cell_type": "code",
   "execution_count": 11,
   "id": "5b9ae594-cc29-45fa-985a-1965aec8ccaf",
   "metadata": {},
   "outputs": [],
   "source": [
    "from langchain.prompts import FewShotPromptTemplate,PromptTemplate\n",
    "from langchain.chat_models import ChatOpenAI\n",
    "import openai\n",
    "import pandas as pd\n",
    "from pathlib import Path\n",
    "from tqdm import tqdm\n",
    "import numpy as np\n",
    "from openai import OpenAI"
   ]
  },
  {
   "cell_type": "code",
   "execution_count": 42,
   "id": "5960ab96-58aa-4b76-a4b5-49cbaa237fb3",
   "metadata": {},
   "outputs": [],
   "source": [
    "def get_completion(prompt: str, llm_model=\"gpt-3.5-turbo\"):\n",
    "    openai.api_key = \"sk-proj-iFvvNvmeLnKPefr7Kfv6T3BlbkFJesMmrNffwDul08FUJ6C3\"\n",
    "    client = OpenAI(api_key=openai.api_key)\n",
    "    messages = [{\"role\":\"user\",\"content\":prompt}]\n",
    "    response =client.chat.completions.create(model=llm_model,\n",
    "                                           messages = messages,\n",
    "                                           )\n",
    "    return response.choices[0].message.content.strip()"
   ]
  },
  {
   "cell_type": "code",
   "execution_count": 118,
   "id": "a3d20576-69b5-48a3-857a-471fb8f7443e",
   "metadata": {},
   "outputs": [],
   "source": [
    "def generate_text_data(data: pd.DataFrame, \n",
    "                       category:str,\n",
    "                       use_samples: int,\n",
    "                       number_of_tweets: int,\n",
    "                      llm_model=\"gpt-4o-mini\"):\n",
    "    data = data[data[\"tweet\"]!=\"\"]\n",
    "    cat_data = data[data[\"Disorder\"]==category]\n",
    "    cat_data.reset_index(drop=True,inplace=True)\n",
    "    samples = np.random.choice(range(len(cat_data)),use_samples,replace=False)\n",
    "    cat_data = cat_data.filter(items=samples, axis=0)\n",
    "    tweets = cat_data[\"tweet\"].values.tolist()\n",
    "    tweets = \"\\n\".join(tweets)\n",
    "    prompt = f\"\"\"Given the following tweets:\\n\\n{tweets}\\n\\nGenerate `{number_of_tweets}` more unique tweets using above tweets. Generated `{number_of_tweets}` tweets should be different from above tweets.`Do not add any extra text except tweets`\"\"\"\n",
    "    prompt = prompt.replace(\"{\", \"{{\").replace(\"}\", \"}}\")\n",
    "    prompt_template = PromptTemplate(input_variables=[\"tweet\"], template=prompt)\n",
    "    response = get_completion(prompt,llm_model=llm_model)\n",
    "    return response"
   ]
  },
  {
   "cell_type": "code",
   "execution_count": 44,
   "id": "572fcc4f-ddff-4d23-8e5c-3fbb53db020d",
   "metadata": {},
   "outputs": [],
   "source": [
    "data_path = Path.cwd().parent/\"Data\"\n",
    "final_data = pd.DataFrame()"
   ]
  },
  {
   "cell_type": "code",
   "execution_count": 45,
   "id": "955ec555-1459-428d-967c-a70e46babb8e",
   "metadata": {},
   "outputs": [
    {
     "name": "stderr",
     "output_type": "stream",
     "text": [
      "100%|████████████████████████████████████████████████████████████████████| 622/622 [00:06<00:00, 89.76it/s]\n",
      "100%|████████████████████████████████████████████████████████████████████| 124/124 [00:01<00:00, 95.57it/s]\n",
      "100%|████████████████████████████████████████████████████████████████████| 170/170 [00:01<00:00, 94.42it/s]\n",
      "100%|████████████████████████████████████████████████████████████████████| 136/136 [00:01<00:00, 98.70it/s]\n",
      "100%|██████████████████████████████████████████████████████████████████| 1703/1703 [00:25<00:00, 65.77it/s]\n",
      "100%|███████████████████████████████████████████████████████████████████| 249/249 [00:02<00:00, 100.39it/s]\n",
      "100%|██████████████████████████████████████████████████████████████████████| 26/26 [00:00<00:00, 84.54it/s]\n",
      "100%|██████████████████████████████████████████████████████████████████████| 65/65 [00:00<00:00, 78.10it/s]\n",
      "100%|████████████████████████████████████████████████████████████████████| 127/127 [00:01<00:00, 89.19it/s]\n",
      "100%|██████████████████████████████████████████████████████████████████████| 24/24 [00:00<00:00, 94.45it/s]\n"
     ]
    }
   ],
   "source": [
    "for child in data_path.iterdir():\n",
    "    for child_ch in child.iterdir():\n",
    "        if child_ch.is_dir():\n",
    "            files = list(child_ch.glob(\"**/*.csv\"))\n",
    "            for fls in tqdm(range(len(files))):\n",
    "                df = pd.read_csv(files[fls])\n",
    "        else:\n",
    "            df = pd.read_csv(child_ch)\n",
    "        final_data = pd.concat([df,final_data],axis = 0)"
   ]
  },
  {
   "cell_type": "code",
   "execution_count": 46,
   "id": "64be1e31-d597-435a-80b0-8d8f7161f5eb",
   "metadata": {},
   "outputs": [
    {
     "data": {
      "text/html": [
       "<div>\n",
       "<style scoped>\n",
       "    .dataframe tbody tr th:only-of-type {\n",
       "        vertical-align: middle;\n",
       "    }\n",
       "\n",
       "    .dataframe tbody tr th {\n",
       "        vertical-align: top;\n",
       "    }\n",
       "\n",
       "    .dataframe thead th {\n",
       "        text-align: right;\n",
       "    }\n",
       "</style>\n",
       "<table border=\"1\" class=\"dataframe\">\n",
       "  <thead>\n",
       "    <tr style=\"text-align: right;\">\n",
       "      <th></th>\n",
       "      <th>Disorder</th>\n",
       "      <th>tweet</th>\n",
       "    </tr>\n",
       "  </thead>\n",
       "  <tbody>\n",
       "    <tr>\n",
       "      <th>0</th>\n",
       "      <td>SCHIZOPHRENIA</td>\n",
       "      <td>\"Sally 🤍🤍 we wont forget Angel. HTTPURL\"</td>\n",
       "    </tr>\n",
       "    <tr>\n",
       "      <th>1</th>\n",
       "      <td>SCHIZOPHRENIA</td>\n",
       "      <td>\"@USER Personally my life is split in two, eve...</td>\n",
       "    </tr>\n",
       "    <tr>\n",
       "      <th>2</th>\n",
       "      <td>SCHIZOPHRENIA</td>\n",
       "      <td>\"@USER I can envisage your sufferance look sur...</td>\n",
       "    </tr>\n",
       "    <tr>\n",
       "      <th>3</th>\n",
       "      <td>SCHIZOPHRENIA</td>\n",
       "      <td>\"@USER @USER If you just take more responsibil...</td>\n",
       "    </tr>\n",
       "    <tr>\n",
       "      <th>4</th>\n",
       "      <td>SCHIZOPHRENIA</td>\n",
       "      <td>\"@USER Im so sorry, so angry and so want to sl...</td>\n",
       "    </tr>\n",
       "  </tbody>\n",
       "</table>\n",
       "</div>"
      ],
      "text/plain": [
       "        Disorder                                              tweet\n",
       "0  SCHIZOPHRENIA           \"Sally 🤍🤍 we wont forget Angel. HTTPURL\"\n",
       "1  SCHIZOPHRENIA  \"@USER Personally my life is split in two, eve...\n",
       "2  SCHIZOPHRENIA  \"@USER I can envisage your sufferance look sur...\n",
       "3  SCHIZOPHRENIA  \"@USER @USER If you just take more responsibil...\n",
       "4  SCHIZOPHRENIA  \"@USER Im so sorry, so angry and so want to sl..."
      ]
     },
     "execution_count": 46,
     "metadata": {},
     "output_type": "execute_result"
    }
   ],
   "source": [
    "final_data = final_data[[\"class\",\"tweet\"]]\n",
    "final_data.rename(columns={\"class\":\"Disorder\"}, inplace=True)\n",
    "final_data.head()"
   ]
  },
  {
   "cell_type": "markdown",
   "id": "eeca40fc-b8b8-41cb-9eaa-3cc0676b815e",
   "metadata": {},
   "source": [
    "# Binary-class samples"
   ]
  },
  {
   "cell_type": "code",
   "execution_count": 9,
   "id": "86c20058-8361-446a-bf06-cc3fdd9aa372",
   "metadata": {},
   "outputs": [],
   "source": [
    "binary_samples = (final_data[\"Disorder\"].value_counts().sum()-final_data[\"Disorder\"].value_counts()[\"CONTROL\"]) - \\\n",
    "                                                        final_data[\"Disorder\"].value_counts()[\"CONTROL\"]\n",
    "use_samples = 200\n",
    "generate_samples = 100\n",
    "for samples in tqdm(range(binary_samples//generate_samples)):\n",
    "    generated_data = generate_text_data(final_data,\"CONTROL\",use_samples,generate_samples)\n",
    "    generated_df = pd.DataFrame(data={\"tweet\":generated_data.split(\"\\n\")})\n",
    "    generated_df[\"Disorder\"]=\"CONTROL\"\n",
    "    final_data = pd.concat([final_data,generated_df], axis=0)\n",
    "    final_data = final_data.sample(len(final_data))"
   ]
  },
  {
   "cell_type": "code",
   "execution_count": 15,
   "id": "fdec816d-1a5c-4fa4-b670-45666529fe16",
   "metadata": {},
   "outputs": [
    {
     "data": {
      "text/plain": [
       "Disorder\n",
       "ADHD               3034\n",
       "SCHIZOPHRENIA      2970\n",
       "OCD                2905\n",
       "ANXIETY            2729\n",
       "CONTROL            2631\n",
       "PTSD               2466\n",
       "DEPRESSION         2161\n",
       "AUTISM             1425\n",
       "EATING DISORDER     403\n",
       "BIPOLAR             244\n",
       "Name: count, dtype: int64"
      ]
     },
     "execution_count": 15,
     "metadata": {},
     "output_type": "execute_result"
    }
   ],
   "source": [
    "final_data.Disorder.value_counts()"
   ]
  },
  {
   "cell_type": "markdown",
   "id": "f00b45f2-6f84-4e2c-a17d-637ef3bc04db",
   "metadata": {},
   "source": [
    "# Multi-class samples"
   ]
  },
  {
   "cell_type": "code",
   "execution_count": 114,
   "id": "e970ab54-cddc-4ce6-934f-0900180dd4fe",
   "metadata": {},
   "outputs": [
    {
     "data": {
      "text/plain": [
       "Disorder\n",
       "AUTISM    1509\n",
       "Name: count, dtype: int64"
      ]
     },
     "execution_count": 114,
     "metadata": {},
     "output_type": "execute_result"
    }
   ],
   "source": [
    "final_data = x[x[\"Disorder\"].isin([\"AUTISM\"])]\n",
    "final_data.Disorder.value_counts()"
   ]
  },
  {
   "cell_type": "code",
   "execution_count": 119,
   "id": "e753be76-3207-4fdb-a7c0-c15246d97da8",
   "metadata": {},
   "outputs": [
    {
     "name": "stdout",
     "output_type": "stream",
     "text": [
      "AUTISM\n"
     ]
    },
    {
     "name": "stderr",
     "output_type": "stream",
     "text": [
      "100%|██████████████████████████████████████████████████████████████████████| 28/28 [09:46<00:00, 20.94s/it]\n"
     ]
    }
   ],
   "source": [
    "num_samples = 5000\n",
    "multi_class_samples = final_data[\"Disorder\"].value_counts().to_dict()\n",
    "out_of_band_samples = dict()\n",
    "for cls,samples in multi_class_samples.items():\n",
    "    if cls!=\"CONTROL\":\n",
    "        print(cls)\n",
    "        out_of_band_samples.update({cls:num_samples-multi_class_samples[cls]})\n",
    "        for samples in tqdm(range(out_of_band_samples[cls]//generate_samples)):\n",
    "            generated_data = generate_text_data(final_data,cls,use_samples,generate_samples)\n",
    "            generated_df = pd.DataFrame(data={\"tweet\":generated_data.split(\"\\n\")})\n",
    "            generated_df[\"Disorder\"]=cls\n",
    "            final_data = pd.concat([final_data,generated_df], axis=0)\n",
    "            final_data = final_data.sample(len(final_data)) "
   ]
  },
  {
   "cell_type": "code",
   "execution_count": 120,
   "id": "c211d95a-cb12-43f3-8dfa-c105c6f3a047",
   "metadata": {},
   "outputs": [
    {
     "data": {
      "text/plain": [
       "{'AUTISM': 2840}"
      ]
     },
     "execution_count": 120,
     "metadata": {},
     "output_type": "execute_result"
    }
   ],
   "source": [
    "out_of_band_samples"
   ]
  },
  {
   "cell_type": "code",
   "execution_count": 121,
   "id": "daec4874-8fb1-41d8-a8e0-e4a1ec6cc201",
   "metadata": {},
   "outputs": [],
   "source": [
    "x = pd.read_csv(\"multi_class_data_balanced.csv\")\n",
    "final_data.reset_index(drop=True,inplace=True)\n",
    "y = pd.concat([x,final_data], axis=0)\n",
    "# y = y[y[\"Disorder\"]!=\"AUTISM\"]\n",
    "y = y.sample(len(y))"
   ]
  },
  {
   "cell_type": "code",
   "execution_count": 102,
   "id": "62e9828c-986b-45b7-aba1-4e28d37a6160",
   "metadata": {},
   "outputs": [
    {
     "data": {
      "text/html": [
       "<div>\n",
       "<style scoped>\n",
       "    .dataframe tbody tr th:only-of-type {\n",
       "        vertical-align: middle;\n",
       "    }\n",
       "\n",
       "    .dataframe tbody tr th {\n",
       "        vertical-align: top;\n",
       "    }\n",
       "\n",
       "    .dataframe thead th {\n",
       "        text-align: right;\n",
       "    }\n",
       "</style>\n",
       "<table border=\"1\" class=\"dataframe\">\n",
       "  <thead>\n",
       "    <tr style=\"text-align: right;\">\n",
       "      <th></th>\n",
       "      <th>Disorder</th>\n",
       "      <th>tweet</th>\n",
       "    </tr>\n",
       "  </thead>\n",
       "  <tbody>\n",
       "    <tr>\n",
       "      <th>20</th>\n",
       "      <td>EATING DISORDER</td>\n",
       "      <td>21. \"What if I started each day with a heart f...</td>\n",
       "    </tr>\n",
       "    <tr>\n",
       "      <th>27</th>\n",
       "      <td>EATING DISORDER</td>\n",
       "      <td>28. \"What if I allowed myself to be a work in ...</td>\n",
       "    </tr>\n",
       "    <tr>\n",
       "      <th>89</th>\n",
       "      <td>BIPOLAR</td>\n",
       "      <td>90. \"What’s something you enjoy doing alone? 🌌\"</td>\n",
       "    </tr>\n",
       "    <tr>\n",
       "      <th>172</th>\n",
       "      <td>EATING DISORDER</td>\n",
       "      <td>\"relapsing all January\"</td>\n",
       "    </tr>\n",
       "    <tr>\n",
       "      <th>11</th>\n",
       "      <td>BIPOLAR</td>\n",
       "      <td>12. \"What’s something that always makes you sm...</td>\n",
       "    </tr>\n",
       "    <tr>\n",
       "      <th>...</th>\n",
       "      <td>...</td>\n",
       "      <td>...</td>\n",
       "    </tr>\n",
       "    <tr>\n",
       "      <th>72</th>\n",
       "      <td>EATING DISORDER</td>\n",
       "      <td>73. \"How do I engage in self-reflection to fos...</td>\n",
       "    </tr>\n",
       "    <tr>\n",
       "      <th>45</th>\n",
       "      <td>EATING DISORDER</td>\n",
       "      <td>46. \"What if I used the lessons from my past t...</td>\n",
       "    </tr>\n",
       "    <tr>\n",
       "      <th>2</th>\n",
       "      <td>EATING DISORDER</td>\n",
       "      <td>3. \"What if every challenge is a chance to red...</td>\n",
       "    </tr>\n",
       "    <tr>\n",
       "      <th>30</th>\n",
       "      <td>EATING DISORDER</td>\n",
       "      <td>\"What if my happy moments are just distraction...</td>\n",
       "    </tr>\n",
       "    <tr>\n",
       "      <th>21</th>\n",
       "      <td>EATING DISORDER</td>\n",
       "      <td>22. \"How do I honor my journey without compari...</td>\n",
       "    </tr>\n",
       "  </tbody>\n",
       "</table>\n",
       "<p>9827 rows × 2 columns</p>\n",
       "</div>"
      ],
      "text/plain": [
       "            Disorder                                              tweet\n",
       "20   EATING DISORDER  21. \"What if I started each day with a heart f...\n",
       "27   EATING DISORDER  28. \"What if I allowed myself to be a work in ...\n",
       "89           BIPOLAR    90. \"What’s something you enjoy doing alone? 🌌\"\n",
       "172  EATING DISORDER                            \"relapsing all January\"\n",
       "11           BIPOLAR  12. \"What’s something that always makes you sm...\n",
       "..               ...                                                ...\n",
       "72   EATING DISORDER  73. \"How do I engage in self-reflection to fos...\n",
       "45   EATING DISORDER  46. \"What if I used the lessons from my past t...\n",
       "2    EATING DISORDER  3. \"What if every challenge is a chance to red...\n",
       "30   EATING DISORDER  \"What if my happy moments are just distraction...\n",
       "21   EATING DISORDER  22. \"How do I honor my journey without compari...\n",
       "\n",
       "[9827 rows x 2 columns]"
      ]
     },
     "execution_count": 102,
     "metadata": {},
     "output_type": "execute_result"
    }
   ],
   "source": [
    "final_data"
   ]
  },
  {
   "cell_type": "code",
   "execution_count": 124,
   "id": "62b94422-1cc2-424f-9a3e-ace31d89f514",
   "metadata": {},
   "outputs": [],
   "source": [
    "# y.to_csv(\"multi_class_data_balanced.csv\",index=False)"
   ]
  },
  {
   "cell_type": "code",
   "execution_count": 98,
   "id": "e2ca2ea5-e321-4391-bdb1-277639ddbdc4",
   "metadata": {},
   "outputs": [],
   "source": [
    "# final_data.to_csv(\"control_data.csv\",index=False)"
   ]
  },
  {
   "cell_type": "code",
   "execution_count": 123,
   "id": "c1c5dcd6-084c-4bbe-b8d8-7e90d6c5ab7b",
   "metadata": {},
   "outputs": [
    {
     "data": {
      "text/plain": [
       "Disorder\n",
       "EATING DISORDER    5285\n",
       "BIPOLAR            5189\n",
       "SCHIZOPHRENIA      4970\n",
       "PTSD               4945\n",
       "AUTISM             4883\n",
       "OCD                4860\n",
       "ADHD               4823\n",
       "DEPRESSION         4823\n",
       "ANXIETY            4717\n",
       "CONTROL            2532\n",
       "Name: count, dtype: int64"
      ]
     },
     "execution_count": 123,
     "metadata": {},
     "output_type": "execute_result"
    }
   ],
   "source": [
    "y.Disorder.value_counts()"
   ]
  },
  {
   "cell_type": "code",
   "execution_count": 113,
   "id": "097662f4-626a-4396-a1ee-01fe269eaf58",
   "metadata": {},
   "outputs": [
    {
     "data": {
      "text/plain": [
       "Disorder\n",
       "SCHIZOPHRENIA      4970\n",
       "PTSD               4945\n",
       "OCD                4860\n",
       "DEPRESSION         4823\n",
       "ADHD               4823\n",
       "ANXIETY            4717\n",
       "CONTROL            2532\n",
       "AUTISM             1509\n",
       "EATING DISORDER     403\n",
       "BIPOLAR             244\n",
       "Name: count, dtype: int64"
      ]
     },
     "execution_count": 113,
     "metadata": {},
     "output_type": "execute_result"
    }
   ],
   "source": [
    "x.Disorder.value_counts()"
   ]
  },
  {
   "cell_type": "code",
   "execution_count": 110,
   "id": "12993a18-f90a-455f-990c-f94befa08664",
   "metadata": {},
   "outputs": [
    {
     "data": {
      "text/html": [
       "<div>\n",
       "<style scoped>\n",
       "    .dataframe tbody tr th:only-of-type {\n",
       "        vertical-align: middle;\n",
       "    }\n",
       "\n",
       "    .dataframe tbody tr th {\n",
       "        vertical-align: top;\n",
       "    }\n",
       "\n",
       "    .dataframe thead th {\n",
       "        text-align: right;\n",
       "    }\n",
       "</style>\n",
       "<table border=\"1\" class=\"dataframe\">\n",
       "  <thead>\n",
       "    <tr style=\"text-align: right;\">\n",
       "      <th></th>\n",
       "      <th>Disorder</th>\n",
       "      <th>tweet</th>\n",
       "    </tr>\n",
       "  </thead>\n",
       "  <tbody>\n",
       "    <tr>\n",
       "      <th>0</th>\n",
       "      <td>DEPRESSION</td>\n",
       "      <td>\"Its official! Im going to get to watch the BN...</td>\n",
       "    </tr>\n",
       "    <tr>\n",
       "      <th>1</th>\n",
       "      <td>CONTROL</td>\n",
       "      <td>\"A bigger racismo club than chelski HTTPURL HT...</td>\n",
       "    </tr>\n",
       "    <tr>\n",
       "      <th>2</th>\n",
       "      <td>ANXIETY</td>\n",
       "      <td>14. \"Planning a picnic this weekend! What snac...</td>\n",
       "    </tr>\n",
       "    <tr>\n",
       "      <th>3</th>\n",
       "      <td>SCHIZOPHRENIA</td>\n",
       "      <td>\"@USER This is exactly what I do, the polar op...</td>\n",
       "    </tr>\n",
       "    <tr>\n",
       "      <th>4</th>\n",
       "      <td>PTSD</td>\n",
       "      <td>63. \"It’s a journey to learn that our value is...</td>\n",
       "    </tr>\n",
       "    <tr>\n",
       "      <th>...</th>\n",
       "      <td>...</td>\n",
       "      <td>...</td>\n",
       "    </tr>\n",
       "    <tr>\n",
       "      <th>9822</th>\n",
       "      <td>EATING DISORDER</td>\n",
       "      <td>73. \"How do I engage in self-reflection to fos...</td>\n",
       "    </tr>\n",
       "    <tr>\n",
       "      <th>9823</th>\n",
       "      <td>EATING DISORDER</td>\n",
       "      <td>46. \"What if I used the lessons from my past t...</td>\n",
       "    </tr>\n",
       "    <tr>\n",
       "      <th>9824</th>\n",
       "      <td>EATING DISORDER</td>\n",
       "      <td>3. \"What if every challenge is a chance to red...</td>\n",
       "    </tr>\n",
       "    <tr>\n",
       "      <th>9825</th>\n",
       "      <td>EATING DISORDER</td>\n",
       "      <td>\"What if my happy moments are just distraction...</td>\n",
       "    </tr>\n",
       "    <tr>\n",
       "      <th>9826</th>\n",
       "      <td>EATING DISORDER</td>\n",
       "      <td>22. \"How do I honor my journey without compari...</td>\n",
       "    </tr>\n",
       "  </tbody>\n",
       "</table>\n",
       "<p>42144 rows × 2 columns</p>\n",
       "</div>"
      ],
      "text/plain": [
       "             Disorder                                              tweet\n",
       "0          DEPRESSION  \"Its official! Im going to get to watch the BN...\n",
       "1             CONTROL  \"A bigger racismo club than chelski HTTPURL HT...\n",
       "2             ANXIETY  14. \"Planning a picnic this weekend! What snac...\n",
       "3       SCHIZOPHRENIA  \"@USER This is exactly what I do, the polar op...\n",
       "4                PTSD  63. \"It’s a journey to learn that our value is...\n",
       "...               ...                                                ...\n",
       "9822  EATING DISORDER  73. \"How do I engage in self-reflection to fos...\n",
       "9823  EATING DISORDER  46. \"What if I used the lessons from my past t...\n",
       "9824  EATING DISORDER  3. \"What if every challenge is a chance to red...\n",
       "9825  EATING DISORDER  \"What if my happy moments are just distraction...\n",
       "9826  EATING DISORDER  22. \"How do I honor my journey without compari...\n",
       "\n",
       "[42144 rows x 2 columns]"
      ]
     },
     "execution_count": 110,
     "metadata": {},
     "output_type": "execute_result"
    }
   ],
   "source": [
    "y"
   ]
  },
  {
   "cell_type": "code",
   "execution_count": 112,
   "id": "8e97e7b4-a40e-4112-84f7-c838cd8d3fd4",
   "metadata": {},
   "outputs": [
    {
     "data": {
      "text/html": [
       "<div>\n",
       "<style scoped>\n",
       "    .dataframe tbody tr th:only-of-type {\n",
       "        vertical-align: middle;\n",
       "    }\n",
       "\n",
       "    .dataframe tbody tr th {\n",
       "        vertical-align: top;\n",
       "    }\n",
       "\n",
       "    .dataframe thead th {\n",
       "        text-align: right;\n",
       "    }\n",
       "</style>\n",
       "<table border=\"1\" class=\"dataframe\">\n",
       "  <thead>\n",
       "    <tr style=\"text-align: right;\">\n",
       "      <th></th>\n",
       "      <th>Disorder</th>\n",
       "      <th>tweet</th>\n",
       "    </tr>\n",
       "  </thead>\n",
       "  <tbody>\n",
       "    <tr>\n",
       "      <th>0</th>\n",
       "      <td>DEPRESSION</td>\n",
       "      <td>\"Its official! Im going to get to watch the BN...</td>\n",
       "    </tr>\n",
       "    <tr>\n",
       "      <th>1</th>\n",
       "      <td>CONTROL</td>\n",
       "      <td>\"A bigger racismo club than chelski HTTPURL HT...</td>\n",
       "    </tr>\n",
       "    <tr>\n",
       "      <th>2</th>\n",
       "      <td>ANXIETY</td>\n",
       "      <td>14. \"Planning a picnic this weekend! What snac...</td>\n",
       "    </tr>\n",
       "    <tr>\n",
       "      <th>3</th>\n",
       "      <td>SCHIZOPHRENIA</td>\n",
       "      <td>\"@USER This is exactly what I do, the polar op...</td>\n",
       "    </tr>\n",
       "    <tr>\n",
       "      <th>4</th>\n",
       "      <td>PTSD</td>\n",
       "      <td>63. \"It’s a journey to learn that our value is...</td>\n",
       "    </tr>\n",
       "    <tr>\n",
       "      <th>...</th>\n",
       "      <td>...</td>\n",
       "      <td>...</td>\n",
       "    </tr>\n",
       "    <tr>\n",
       "      <th>33821</th>\n",
       "      <td>ANXIETY</td>\n",
       "      <td>\"@USER I WANT TO DO EVERYTHING ALL AT ONCE\"</td>\n",
       "    </tr>\n",
       "    <tr>\n",
       "      <th>33822</th>\n",
       "      <td>OCD</td>\n",
       "      <td>36. \"Pushing boundaries in my creative work ke...</td>\n",
       "    </tr>\n",
       "    <tr>\n",
       "      <th>33823</th>\n",
       "      <td>ANXIETY</td>\n",
       "      <td>\"@USER @USER There was no way I was about to l...</td>\n",
       "    </tr>\n",
       "    <tr>\n",
       "      <th>33824</th>\n",
       "      <td>PTSD</td>\n",
       "      <td>\"I get soo much work, all kinds, from people t...</td>\n",
       "    </tr>\n",
       "    <tr>\n",
       "      <th>33825</th>\n",
       "      <td>ANXIETY</td>\n",
       "      <td>\"Dose 2: Done!   Next injection is June!! HTTP...</td>\n",
       "    </tr>\n",
       "  </tbody>\n",
       "</table>\n",
       "<p>33826 rows × 2 columns</p>\n",
       "</div>"
      ],
      "text/plain": [
       "            Disorder                                              tweet\n",
       "0         DEPRESSION  \"Its official! Im going to get to watch the BN...\n",
       "1            CONTROL  \"A bigger racismo club than chelski HTTPURL HT...\n",
       "2            ANXIETY  14. \"Planning a picnic this weekend! What snac...\n",
       "3      SCHIZOPHRENIA  \"@USER This is exactly what I do, the polar op...\n",
       "4               PTSD  63. \"It’s a journey to learn that our value is...\n",
       "...              ...                                                ...\n",
       "33821        ANXIETY        \"@USER I WANT TO DO EVERYTHING ALL AT ONCE\"\n",
       "33822            OCD  36. \"Pushing boundaries in my creative work ke...\n",
       "33823        ANXIETY  \"@USER @USER There was no way I was about to l...\n",
       "33824           PTSD  \"I get soo much work, all kinds, from people t...\n",
       "33825        ANXIETY  \"Dose 2: Done!   Next injection is June!! HTTP...\n",
       "\n",
       "[33826 rows x 2 columns]"
      ]
     },
     "execution_count": 112,
     "metadata": {},
     "output_type": "execute_result"
    }
   ],
   "source": [
    "x"
   ]
  },
  {
   "cell_type": "code",
   "execution_count": null,
   "id": "8091fc17-c524-467c-a72a-a5fb0932c808",
   "metadata": {},
   "outputs": [],
   "source": []
  }
 ],
 "metadata": {
  "kernelspec": {
   "display_name": "Python 3 (ipykernel)",
   "language": "python",
   "name": "python3"
  },
  "language_info": {
   "codemirror_mode": {
    "name": "ipython",
    "version": 3
   },
   "file_extension": ".py",
   "mimetype": "text/x-python",
   "name": "python",
   "nbconvert_exporter": "python",
   "pygments_lexer": "ipython3",
   "version": "3.11.9"
  }
 },
 "nbformat": 4,
 "nbformat_minor": 5
}
