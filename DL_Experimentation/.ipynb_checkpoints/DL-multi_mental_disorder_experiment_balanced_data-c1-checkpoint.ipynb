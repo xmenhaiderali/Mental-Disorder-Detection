{
 "cells": [
  {
   "cell_type": "code",
   "execution_count": 1,
   "id": "87e21a07-9d57-42e9-a2d9-cea2cbd7342f",
   "metadata": {},
   "outputs": [
    {
     "name": "stderr",
     "output_type": "stream",
     "text": [
      "[nltk_data] Downloading package wordnet to C:\\Users\\Ali\n",
      "[nltk_data]     Haider\\AppData\\Roaming\\nltk_data...\n",
      "[nltk_data]   Package wordnet is already up-to-date!\n",
      "[nltk_data] Downloading package stopwords to C:\\Users\\Ali\n",
      "[nltk_data]     Haider\\AppData\\Roaming\\nltk_data...\n",
      "[nltk_data]   Package stopwords is already up-to-date!\n"
     ]
    },
    {
     "data": {
      "text/plain": [
       "True"
      ]
     },
     "execution_count": 1,
     "metadata": {},
     "output_type": "execute_result"
    }
   ],
   "source": [
    "import pandas as pd\n",
    "import numpy as np\n",
    "from pathlib import Path\n",
    "from tqdm import tqdm\n",
    "import matplotlib.pyplot as plt\n",
    "from textblob import TextBlob\n",
    "import advertools\n",
    "import re\n",
    "import spacy\n",
    "import xgboost\n",
    "from sklearn.feature_extraction.text import TfidfVectorizer\n",
    "from sklearn.model_selection import train_test_split\n",
    "from sklearn.linear_model import LogisticRegression\n",
    "from sklearn.metrics import (classification_report,auc, \n",
    "                            roc_auc_score, precision_score,\n",
    "                            recall_score,f1_score, accuracy_score)\n",
    "from sklearn.ensemble import RandomForestClassifier, AdaBoostClassifier\n",
    "from sklearn.svm import SVC\n",
    "from sklearn.tree import DecisionTreeClassifier\n",
    "from sklearn.naive_bayes import GaussianNB\n",
    "import seaborn as sns\n",
    "import gensim\n",
    "import nltk\n",
    "import nltk.util\n",
    "from nltk.corpus import stopwords\n",
    "from nltk.stem import WordNetLemmatizer\n",
    "from tensorflow.keras.preprocessing.text import Tokenizer\n",
    "from tensorflow.keras.layers import Embedding, Dense, Dropout, SpatialDropout1D, LSTM, Conv1D, MaxPool1D, Input\n",
    "from tensorflow.keras.models import Sequential\n",
    "from tensorflow.keras.callbacks import EarlyStopping\n",
    "from tensorflow.keras.utils import pad_sequences\n",
    "from transformers import BertTokenizer, TFBertForSequenceClassification, TFBertModel\n",
    "import warnings\n",
    "warnings.filterwarnings(\"ignore\")\n",
    "nltk.download(\"wordnet\")\n",
    "nltk.download(\"stopwords\")"
   ]
  },
  {
   "cell_type": "code",
   "execution_count": 2,
   "id": "f7ee10c3-bad3-4bf9-bffc-128789be6257",
   "metadata": {},
   "outputs": [
    {
     "data": {
      "text/plain": [
       "'2.10.1'"
      ]
     },
     "execution_count": 2,
     "metadata": {},
     "output_type": "execute_result"
    }
   ],
   "source": [
    "import tensorflow as tf\n",
    "tf.__version__"
   ]
  },
  {
   "cell_type": "code",
   "execution_count": 3,
   "id": "b7c4d435-f872-46c4-b3d3-ce65005536f5",
   "metadata": {},
   "outputs": [],
   "source": [
    "final_data = pd.read_csv(\"multi_balanced_data_preprocess.csv\")\n",
    "final_data = final_data[final_data[\"Disorder\"]!=\"CONTROL\"]"
   ]
  },
  {
   "cell_type": "code",
   "execution_count": 4,
   "id": "081002a8-7483-4a01-9c68-925a3f0082e0",
   "metadata": {},
   "outputs": [
    {
     "data": {
      "text/plain": [
       "Disorder\n",
       "EATING DISORDER    5283\n",
       "BIPOLAR            5186\n",
       "SCHIZOPHRENIA      4959\n",
       "PTSD               4936\n",
       "AUTISM             4860\n",
       "OCD                4843\n",
       "ADHD               4806\n",
       "DEPRESSION         4805\n",
       "ANXIETY            4707\n",
       "Name: count, dtype: int64"
      ]
     },
     "execution_count": 4,
     "metadata": {},
     "output_type": "execute_result"
    }
   ],
   "source": [
    "final_data.Disorder.value_counts()"
   ]
  },
  {
   "cell_type": "code",
   "execution_count": 5,
   "id": "4806db0c-48fb-4932-8d2a-05c954986b04",
   "metadata": {},
   "outputs": [],
   "source": [
    "data_preprocess = final_data.copy()"
   ]
  },
  {
   "cell_type": "markdown",
   "id": "11c87c5d-119b-4790-8344-1b9d83a534fe",
   "metadata": {},
   "source": [
    "# Data Preprocessing"
   ]
  },
  {
   "cell_type": "code",
   "execution_count": 6,
   "id": "724da0c0-dab7-41cd-baaf-e8bc3382621d",
   "metadata": {},
   "outputs": [],
   "source": [
    "def clean_text(text:str) -> str:\n",
    "    tokens = advertools.word_tokenize(text,phrase_len=1)\n",
    "    emoji_token = advertools.extract_emoji(tokens[0])\n",
    "    emoji_token = emoji_token[\"emoji_text\"]\n",
    "    for tok in range(0,len(emoji_token)):\n",
    "        if emoji_token[tok]:\n",
    "            tokens[0][tok] = \" \".join(emoji_token[tok])\n",
    "    clean_text = \" \".join(tokens[0])\n",
    "    clean_pattern = r\"@\\w+|#\\w+|\\W+|x+|https\\.\\//www\\.(\\w+|\\W+)\\.com|http\\w*|www\\.(\\w+|\\W+)\\.com|user\\w*|\\d+\"\n",
    "    clean_text = re.sub(clean_pattern,\" \",clean_text).strip()\n",
    "    clean_text = re.sub(r\"\\s+\",\" \",clean_text).strip()\n",
    "    return clean_text"
   ]
  },
  {
   "cell_type": "code",
   "execution_count": 7,
   "id": "dfd1d22c-815a-4938-8685-0afc1297ae99",
   "metadata": {},
   "outputs": [],
   "source": [
    "def text_lemmatize(text: str) -> str:\n",
    "    lemma = WordNetLemmatizer()\n",
    "    tokens = advertools.word_tokenize(text,phrase_len=1)\n",
    "    text = [lemma.lemmatize(tok) for tok in tokens[0]]\n",
    "    return \" \".join(text)"
   ]
  },
  {
   "cell_type": "code",
   "execution_count": 9,
   "id": "4dbfa883-befb-403f-862f-4c8caf70af55",
   "metadata": {},
   "outputs": [],
   "source": [
    "def remove_stopword(text: str) -> str:\n",
    "    tokens = advertools.word_tokenize(text,phrase_len=1)[0]\n",
    "    stop_words = stopwords.words(\"english\")\n",
    "    clean_word = [tok for tok in tokens if tok not in stop_words]\n",
    "    return \" \".join(clean_word)"
   ]
  },
  {
   "cell_type": "code",
   "execution_count": 10,
   "id": "9636e634-0a99-4660-b38e-d5b3d94f6fea",
   "metadata": {},
   "outputs": [],
   "source": [
    "def generate_n_grams(text: str, n: list[int]) -> list[tuple]:\n",
    "    tokens = advertools.word_tokenize(text,phrase_len=1)[0]\n",
    "    if len(n)<=1:\n",
    "        n_grams = list(nltk.ngrams(tokens,n[0],pad_right=True,right_pad_symbol=\"</s>\"))\n",
    "        bag_ngrams = \" \".join([\"_\".join(c) for c in n_grams])\n",
    "    else:\n",
    "        bag_ngrams = \" \"\n",
    "        for n_gram in range(n[0],n[1]+1):\n",
    "            n_grams = list(nltk.ngrams(tokens,n_gram,pad_right=True,right_pad_symbol=\"</s>\"))\n",
    "            if n_gram==1:       \n",
    "                n_grams = \" \".join([\"\".join(c[0]) for c in n_grams])\n",
    "                bag_ngrams+=n_grams\n",
    "            else:\n",
    "                n_grams = \" \".join([\"_\".join(c) for c in n_grams])\n",
    "                bag_ngrams+=\" \"+n_grams\n",
    "    return bag_ngrams"
   ]
  },
  {
   "cell_type": "code",
   "execution_count": 11,
   "id": "30a93b6f-c571-47c6-a5c2-8545bf20044c",
   "metadata": {},
   "outputs": [],
   "source": [
    "def tfidf(train: pd.DataFrame, test:pd.DataFrame()):\n",
    "    tf_idf = TfidfVectorizer()\n",
    "    train_feat = tf_idf.fit_transform(train)\n",
    "    test_feat = tf_idf.transform(test)\n",
    "    return train_feat,test_feat"
   ]
  },
  {
   "cell_type": "code",
   "execution_count": 12,
   "id": "37b5564a-396e-4e58-ab02-2f6238815dcc",
   "metadata": {
    "scrolled": true
   },
   "outputs": [],
   "source": [
    "def classification_metrics(actuals: np.array, preds: np.array, average:\"binary\") -> pd.DataFrame:\n",
    "    metrics_performance = pd.DataFrame()\n",
    "    precision = precision_score(actuals,preds,average=average)\n",
    "    recall = recall_score(actuals,preds,average=average)\n",
    "    f1 = f1_score(actuals,preds,average=average)\n",
    "    accuracy = accuracy_score(actuals,preds)\n",
    "    metrics_performance[\"precision\"] = [precision]\n",
    "    metrics_performance[\"recall\"] = [recall]\n",
    "    metrics_performance[\"f1\"] = [f1]\n",
    "    metrics_performance[\"accuracy\"] = [accuracy]\n",
    "    return metrics_performance"
   ]
  },
  {
   "cell_type": "code",
   "execution_count": 13,
   "id": "b92ae273-09ce-457a-8b15-b2241bb0ae0c",
   "metadata": {},
   "outputs": [],
   "source": [
    "def data_preprocess_pipeline(data_preprocess: pd.DataFrame,\n",
    "                             # ngram_range: list,\n",
    "                            filename: str,\n",
    "                            ) -> pd.DataFrame:\n",
    "    data_preprocess = data_preprocess[~(data_preprocess[\"tweet\"].isnull())]\n",
    "    data_preprocess = data_preprocess[[\"class\",\"tweet\"]]\n",
    "    data_preprocess.rename(columns={\"class\":\"Disorder\"}, inplace=True)\n",
    "    data_preprocess[\"tweet\"] = data_preprocess[\"tweet\"].apply(clean_text)\n",
    "    data_preprocess[\"tweet\"] = data_preprocess[\"tweet\"].apply(text_lemmatize)\n",
    "    data_preprocess[\"tweet\"] = data_preprocess[\"tweet\"].apply(remove_stopword)\n",
    "    data_preprocess = data_preprocess[data_preprocess[\"tweet\"]!=\"\"]\n",
    "    # data_preprocess[\"text_features\"] = data_preprocess[\"tweet\"].apply(lambda text: \n",
    "    #                                                                   generate_n_grams(text,n=ngram_range))\n",
    "    print(\"saving preprocessed data\")\n",
    "    data_preprocess.to_csv(filename,index=False)\n",
    "    print(\"data saved\")\n",
    "    return data_preprocess"
   ]
  },
  {
   "cell_type": "markdown",
   "id": "d57a50b3-be09-4e58-b50c-a4d38e450fd6",
   "metadata": {},
   "source": [
    "# Imbalaned Dataset training"
   ]
  },
  {
   "cell_type": "code",
   "execution_count": 14,
   "id": "87d5adf0-bc2a-41a4-a220-f36e55d08f59",
   "metadata": {},
   "outputs": [
    {
     "data": {
      "text/plain": [
       "Disorder\n",
       "EATING DISORDER    5283\n",
       "BIPOLAR            5186\n",
       "SCHIZOPHRENIA      4959\n",
       "PTSD               4936\n",
       "AUTISM             4860\n",
       "OCD                4843\n",
       "ADHD               4806\n",
       "DEPRESSION         4805\n",
       "ANXIETY            4707\n",
       "Name: count, dtype: int64"
      ]
     },
     "execution_count": 14,
     "metadata": {},
     "output_type": "execute_result"
    }
   ],
   "source": [
    "data_preprocess.Disorder.value_counts()"
   ]
  },
  {
   "cell_type": "code",
   "execution_count": 15,
   "id": "7262134c-24b1-4586-87ed-1f6790fa62e1",
   "metadata": {},
   "outputs": [],
   "source": [
    "tokenizer = Tokenizer()\n",
    "tokenizer.fit_on_texts(data_preprocess[\"tweet\"].values.tolist())"
   ]
  },
  {
   "cell_type": "code",
   "execution_count": 16,
   "id": "00c6a785-5deb-4ab4-9e83-9c7c3ff90e35",
   "metadata": {},
   "outputs": [],
   "source": [
    "corpus = [advertools.word_tokenize(text,phrase_len=1)[0] for text in data_preprocess[\"tweet\"].values]"
   ]
  },
  {
   "cell_type": "code",
   "execution_count": 111,
   "id": "3ba125f4-55bb-4e4f-b10d-2800c28fd5ad",
   "metadata": {
    "scrolled": true
   },
   "outputs": [
    {
     "name": "stderr",
     "output_type": "stream",
     "text": [
      "2024-08-24 13:32:14,295 | INFO | word2vec.py:582 | scan_vocab | collecting all words and their counts\n",
      "2024-08-24 13:32:14,298 | INFO | word2vec.py:565 | _scan_vocab | PROGRESS: at sentence #0, processed 0 words, keeping 0 word types\n",
      "2024-08-24 13:32:14,364 | INFO | word2vec.py:565 | _scan_vocab | PROGRESS: at sentence #10000, processed 77980 words, keeping 9258 word types\n",
      "2024-08-24 13:32:14,425 | INFO | word2vec.py:565 | _scan_vocab | PROGRESS: at sentence #20000, processed 156317 words, keeping 12516 word types\n",
      "2024-08-24 13:32:14,503 | INFO | word2vec.py:565 | _scan_vocab | PROGRESS: at sentence #30000, processed 234361 words, keeping 14934 word types\n",
      "2024-08-24 13:32:14,586 | INFO | word2vec.py:565 | _scan_vocab | PROGRESS: at sentence #40000, processed 311839 words, keeping 16809 word types\n",
      "2024-08-24 13:32:14,616 | INFO | word2vec.py:588 | scan_vocab | collected 17499 word types from a corpus of 345477 raw words and 44385 sentences\n",
      "2024-08-24 13:32:14,618 | INFO | word2vec.py:637 | prepare_vocab | Creating a fresh vocabulary\n",
      "2024-08-24 13:32:14,771 | INFO | utils.py:447 | add_lifecycle_event | Word2Vec lifecycle event {'msg': 'effective_min_count=1 retains 17499 unique words (100.00% of original 17499, drops 0)', 'datetime': '2024-08-24T13:32:14.769744', 'gensim': '4.3.3', 'python': '3.10.14 | packaged by Anaconda, Inc. | (main, May  6 2024, 19:44:50) [MSC v.1916 64 bit (AMD64)]', 'platform': 'Windows-10-10.0.22621-SP0', 'event': 'prepare_vocab'}\n",
      "2024-08-24 13:32:14,772 | INFO | utils.py:447 | add_lifecycle_event | Word2Vec lifecycle event {'msg': 'effective_min_count=1 leaves 345477 word corpus (100.00% of original 345477, drops 0)', 'datetime': '2024-08-24T13:32:14.772812', 'gensim': '4.3.3', 'python': '3.10.14 | packaged by Anaconda, Inc. | (main, May  6 2024, 19:44:50) [MSC v.1916 64 bit (AMD64)]', 'platform': 'Windows-10-10.0.22621-SP0', 'event': 'prepare_vocab'}\n",
      "2024-08-24 13:32:14,895 | INFO | word2vec.py:745 | prepare_vocab | deleting the raw counts dictionary of 17499 items\n",
      "2024-08-24 13:32:14,896 | INFO | word2vec.py:748 | prepare_vocab | sample=0.001 downsamples 36 most-common words\n",
      "2024-08-24 13:32:14,898 | INFO | utils.py:447 | add_lifecycle_event | Word2Vec lifecycle event {'msg': 'downsampling leaves estimated 327572.3607202864 word corpus (94.8%% of prior 345477)', 'datetime': '2024-08-24T13:32:14.898547', 'gensim': '4.3.3', 'python': '3.10.14 | packaged by Anaconda, Inc. | (main, May  6 2024, 19:44:50) [MSC v.1916 64 bit (AMD64)]', 'platform': 'Windows-10-10.0.22621-SP0', 'event': 'prepare_vocab'}\n",
      "2024-08-24 13:32:15,249 | INFO | word2vec.py:805 | estimate_memory | estimated required memory for 17499 words and 300 dimensions: 50747100 bytes\n",
      "2024-08-24 13:32:15,251 | INFO | word2vec.py:863 | init_weights | resetting layer weights\n",
      "2024-08-24 13:32:15,341 | INFO | utils.py:447 | add_lifecycle_event | Word2Vec lifecycle event {'update': False, 'trim_rule': 'None', 'datetime': '2024-08-24T13:32:15.341712', 'gensim': '4.3.3', 'python': '3.10.14 | packaged by Anaconda, Inc. | (main, May  6 2024, 19:44:50) [MSC v.1916 64 bit (AMD64)]', 'platform': 'Windows-10-10.0.22621-SP0', 'event': 'build_vocab'}\n",
      "2024-08-24 13:32:15,343 | INFO | utils.py:447 | add_lifecycle_event | Word2Vec lifecycle event {'msg': 'training model with 3 workers on 17499 vocabulary and 300 features, using sg=0 hs=0 sample=0.001 negative=5 window=5 shrink_windows=True', 'datetime': '2024-08-24T13:32:15.343677', 'gensim': '4.3.3', 'python': '3.10.14 | packaged by Anaconda, Inc. | (main, May  6 2024, 19:44:50) [MSC v.1916 64 bit (AMD64)]', 'platform': 'Windows-10-10.0.22621-SP0', 'event': 'train'}\n",
      "2024-08-24 13:32:15,923 | INFO | word2vec.py:1652 | _log_epoch_end | EPOCH 0: training on 345477 raw words (327415 effective words) took 0.6s, 592352 effective words/s\n",
      "2024-08-24 13:32:16,395 | INFO | word2vec.py:1652 | _log_epoch_end | EPOCH 1: training on 345477 raw words (327511 effective words) took 0.5s, 725883 effective words/s\n",
      "2024-08-24 13:32:16,900 | INFO | word2vec.py:1652 | _log_epoch_end | EPOCH 2: training on 345477 raw words (327617 effective words) took 0.5s, 666438 effective words/s\n",
      "2024-08-24 13:32:17,404 | INFO | word2vec.py:1652 | _log_epoch_end | EPOCH 3: training on 345477 raw words (327653 effective words) took 0.5s, 673465 effective words/s\n",
      "2024-08-24 13:32:17,877 | INFO | word2vec.py:1652 | _log_epoch_end | EPOCH 4: training on 345477 raw words (327550 effective words) took 0.5s, 720252 effective words/s\n",
      "2024-08-24 13:32:18,364 | INFO | word2vec.py:1652 | _log_epoch_end | EPOCH 5: training on 345477 raw words (327539 effective words) took 0.5s, 693396 effective words/s\n",
      "2024-08-24 13:32:18,828 | INFO | word2vec.py:1652 | _log_epoch_end | EPOCH 6: training on 345477 raw words (327510 effective words) took 0.4s, 730510 effective words/s\n",
      "2024-08-24 13:32:19,322 | INFO | word2vec.py:1652 | _log_epoch_end | EPOCH 7: training on 345477 raw words (327433 effective words) took 0.5s, 686819 effective words/s\n",
      "2024-08-24 13:32:19,827 | INFO | word2vec.py:1652 | _log_epoch_end | EPOCH 8: training on 345477 raw words (327677 effective words) took 0.5s, 722470 effective words/s\n",
      "2024-08-24 13:32:20,330 | INFO | word2vec.py:1652 | _log_epoch_end | EPOCH 9: training on 345477 raw words (327588 effective words) took 0.5s, 670214 effective words/s\n",
      "2024-08-24 13:32:20,838 | INFO | word2vec.py:1652 | _log_epoch_end | EPOCH 10: training on 345477 raw words (327472 effective words) took 0.5s, 668244 effective words/s\n",
      "2024-08-24 13:32:21,357 | INFO | word2vec.py:1652 | _log_epoch_end | EPOCH 11: training on 345477 raw words (327406 effective words) took 0.5s, 651725 effective words/s\n",
      "2024-08-24 13:32:21,848 | INFO | word2vec.py:1652 | _log_epoch_end | EPOCH 12: training on 345477 raw words (327707 effective words) took 0.5s, 685093 effective words/s\n",
      "2024-08-24 13:32:22,342 | INFO | word2vec.py:1652 | _log_epoch_end | EPOCH 13: training on 345477 raw words (327636 effective words) took 0.4s, 728648 effective words/s\n",
      "2024-08-24 13:32:22,852 | INFO | word2vec.py:1652 | _log_epoch_end | EPOCH 14: training on 345477 raw words (327556 effective words) took 0.5s, 664201 effective words/s\n",
      "2024-08-24 13:32:23,344 | INFO | word2vec.py:1652 | _log_epoch_end | EPOCH 15: training on 345477 raw words (327531 effective words) took 0.5s, 689283 effective words/s\n",
      "2024-08-24 13:32:23,855 | INFO | word2vec.py:1652 | _log_epoch_end | EPOCH 16: training on 345477 raw words (327653 effective words) took 0.5s, 661610 effective words/s\n",
      "2024-08-24 13:32:24,359 | INFO | word2vec.py:1652 | _log_epoch_end | EPOCH 17: training on 345477 raw words (327606 effective words) took 0.5s, 671819 effective words/s\n",
      "2024-08-24 13:32:24,848 | INFO | word2vec.py:1652 | _log_epoch_end | EPOCH 18: training on 345477 raw words (327463 effective words) took 0.5s, 691775 effective words/s\n",
      "2024-08-24 13:32:25,349 | INFO | word2vec.py:1652 | _log_epoch_end | EPOCH 19: training on 345477 raw words (327510 effective words) took 0.5s, 678859 effective words/s\n",
      "2024-08-24 13:32:25,839 | INFO | word2vec.py:1652 | _log_epoch_end | EPOCH 20: training on 345477 raw words (327717 effective words) took 0.5s, 691387 effective words/s\n",
      "2024-08-24 13:32:26,331 | INFO | word2vec.py:1652 | _log_epoch_end | EPOCH 21: training on 345477 raw words (327454 effective words) took 0.5s, 690410 effective words/s\n",
      "2024-08-24 13:32:26,840 | INFO | word2vec.py:1652 | _log_epoch_end | EPOCH 22: training on 345477 raw words (327603 effective words) took 0.5s, 663318 effective words/s\n",
      "2024-08-24 13:32:27,338 | INFO | word2vec.py:1652 | _log_epoch_end | EPOCH 23: training on 345477 raw words (327387 effective words) took 0.5s, 682406 effective words/s\n",
      "2024-08-24 13:32:27,857 | INFO | word2vec.py:1652 | _log_epoch_end | EPOCH 24: training on 345477 raw words (327380 effective words) took 0.5s, 654867 effective words/s\n",
      "2024-08-24 13:32:28,347 | INFO | word2vec.py:1652 | _log_epoch_end | EPOCH 25: training on 345477 raw words (327663 effective words) took 0.5s, 697901 effective words/s\n",
      "2024-08-24 13:32:28,841 | INFO | word2vec.py:1652 | _log_epoch_end | EPOCH 26: training on 345477 raw words (327554 effective words) took 0.5s, 683615 effective words/s\n",
      "2024-08-24 13:32:29,334 | INFO | word2vec.py:1652 | _log_epoch_end | EPOCH 27: training on 345477 raw words (327731 effective words) took 0.5s, 688158 effective words/s\n",
      "2024-08-24 13:32:29,879 | INFO | word2vec.py:1652 | _log_epoch_end | EPOCH 28: training on 345477 raw words (327412 effective words) took 0.5s, 617874 effective words/s\n",
      "2024-08-24 13:32:30,364 | INFO | word2vec.py:1652 | _log_epoch_end | EPOCH 29: training on 345477 raw words (327626 effective words) took 0.5s, 698392 effective words/s\n",
      "2024-08-24 13:32:30,837 | INFO | word2vec.py:1652 | _log_epoch_end | EPOCH 30: training on 345477 raw words (327503 effective words) took 0.5s, 714508 effective words/s\n",
      "2024-08-24 13:32:31,323 | INFO | word2vec.py:1652 | _log_epoch_end | EPOCH 31: training on 345477 raw words (327568 effective words) took 0.5s, 696126 effective words/s\n",
      "2024-08-24 13:32:31,799 | INFO | word2vec.py:1652 | _log_epoch_end | EPOCH 32: training on 345477 raw words (327537 effective words) took 0.5s, 716415 effective words/s\n",
      "2024-08-24 13:32:32,302 | INFO | word2vec.py:1652 | _log_epoch_end | EPOCH 33: training on 345477 raw words (327380 effective words) took 0.5s, 672477 effective words/s\n",
      "2024-08-24 13:32:32,774 | INFO | word2vec.py:1652 | _log_epoch_end | EPOCH 34: training on 345477 raw words (327658 effective words) took 0.5s, 717513 effective words/s\n",
      "2024-08-24 13:32:33,250 | INFO | word2vec.py:1652 | _log_epoch_end | EPOCH 35: training on 345477 raw words (327594 effective words) took 0.4s, 733829 effective words/s\n",
      "2024-08-24 13:32:33,731 | INFO | word2vec.py:1652 | _log_epoch_end | EPOCH 36: training on 345477 raw words (327536 effective words) took 0.5s, 702811 effective words/s\n",
      "2024-08-24 13:32:34,256 | INFO | word2vec.py:1652 | _log_epoch_end | EPOCH 37: training on 345477 raw words (327628 effective words) took 0.5s, 649614 effective words/s\n",
      "2024-08-24 13:32:34,755 | INFO | word2vec.py:1652 | _log_epoch_end | EPOCH 38: training on 345477 raw words (327623 effective words) took 0.5s, 675831 effective words/s\n",
      "2024-08-24 13:32:35,263 | INFO | word2vec.py:1652 | _log_epoch_end | EPOCH 39: training on 345477 raw words (327610 effective words) took 0.5s, 715936 effective words/s\n",
      "2024-08-24 13:32:35,750 | INFO | word2vec.py:1652 | _log_epoch_end | EPOCH 40: training on 345477 raw words (327747 effective words) took 0.5s, 698421 effective words/s\n",
      "2024-08-24 13:32:36,230 | INFO | word2vec.py:1652 | _log_epoch_end | EPOCH 41: training on 345477 raw words (327577 effective words) took 0.5s, 705472 effective words/s\n",
      "2024-08-24 13:32:36,727 | INFO | word2vec.py:1652 | _log_epoch_end | EPOCH 42: training on 345477 raw words (327467 effective words) took 0.5s, 683022 effective words/s\n",
      "2024-08-24 13:32:37,199 | INFO | word2vec.py:1652 | _log_epoch_end | EPOCH 43: training on 345477 raw words (327726 effective words) took 0.5s, 724657 effective words/s\n",
      "2024-08-24 13:32:37,692 | INFO | word2vec.py:1652 | _log_epoch_end | EPOCH 44: training on 345477 raw words (327654 effective words) took 0.4s, 736695 effective words/s\n",
      "2024-08-24 13:32:38,176 | INFO | word2vec.py:1652 | _log_epoch_end | EPOCH 45: training on 345477 raw words (327605 effective words) took 0.5s, 698478 effective words/s\n",
      "2024-08-24 13:32:38,667 | INFO | word2vec.py:1652 | _log_epoch_end | EPOCH 46: training on 345477 raw words (327657 effective words) took 0.5s, 694665 effective words/s\n",
      "2024-08-24 13:32:39,157 | INFO | word2vec.py:1652 | _log_epoch_end | EPOCH 47: training on 345477 raw words (327526 effective words) took 0.5s, 691027 effective words/s\n",
      "2024-08-24 13:32:39,647 | INFO | word2vec.py:1652 | _log_epoch_end | EPOCH 48: training on 345477 raw words (327572 effective words) took 0.4s, 761548 effective words/s\n",
      "2024-08-24 13:32:40,146 | INFO | word2vec.py:1652 | _log_epoch_end | EPOCH 49: training on 345477 raw words (327563 effective words) took 0.5s, 720917 effective words/s\n",
      "2024-08-24 13:32:40,615 | INFO | word2vec.py:1652 | _log_epoch_end | EPOCH 50: training on 345477 raw words (327598 effective words) took 0.5s, 727933 effective words/s\n",
      "2024-08-24 13:32:41,112 | INFO | word2vec.py:1652 | _log_epoch_end | EPOCH 51: training on 345477 raw words (327443 effective words) took 0.5s, 678952 effective words/s\n",
      "2024-08-24 13:32:41,601 | INFO | word2vec.py:1652 | _log_epoch_end | EPOCH 52: training on 345477 raw words (327584 effective words) took 0.5s, 692088 effective words/s\n",
      "2024-08-24 13:32:42,110 | INFO | word2vec.py:1652 | _log_epoch_end | EPOCH 53: training on 345477 raw words (327499 effective words) took 0.5s, 713039 effective words/s\n",
      "2024-08-24 13:32:42,568 | INFO | word2vec.py:1652 | _log_epoch_end | EPOCH 54: training on 345477 raw words (327496 effective words) took 0.4s, 774179 effective words/s\n",
      "2024-08-24 13:32:43,082 | INFO | word2vec.py:1652 | _log_epoch_end | EPOCH 55: training on 345477 raw words (327521 effective words) took 0.5s, 705406 effective words/s\n",
      "2024-08-24 13:32:43,579 | INFO | word2vec.py:1652 | _log_epoch_end | EPOCH 56: training on 345477 raw words (327655 effective words) took 0.5s, 686164 effective words/s\n",
      "2024-08-24 13:32:44,071 | INFO | word2vec.py:1652 | _log_epoch_end | EPOCH 57: training on 345477 raw words (327499 effective words) took 0.5s, 693700 effective words/s\n",
      "2024-08-24 13:32:44,538 | INFO | word2vec.py:1652 | _log_epoch_end | EPOCH 58: training on 345477 raw words (327646 effective words) took 0.5s, 723842 effective words/s\n",
      "2024-08-24 13:32:45,037 | INFO | word2vec.py:1652 | _log_epoch_end | EPOCH 59: training on 345477 raw words (327541 effective words) took 0.5s, 684274 effective words/s\n",
      "2024-08-24 13:32:45,521 | INFO | word2vec.py:1652 | _log_epoch_end | EPOCH 60: training on 345477 raw words (327336 effective words) took 0.5s, 698887 effective words/s\n",
      "2024-08-24 13:32:46,014 | INFO | word2vec.py:1652 | _log_epoch_end | EPOCH 61: training on 345477 raw words (327390 effective words) took 0.5s, 686390 effective words/s\n",
      "2024-08-24 13:32:46,490 | INFO | word2vec.py:1652 | _log_epoch_end | EPOCH 62: training on 345477 raw words (327360 effective words) took 0.5s, 712344 effective words/s\n",
      "2024-08-24 13:32:46,988 | INFO | word2vec.py:1652 | _log_epoch_end | EPOCH 63: training on 345477 raw words (327609 effective words) took 0.5s, 677881 effective words/s\n",
      "2024-08-24 13:32:47,471 | INFO | word2vec.py:1652 | _log_epoch_end | EPOCH 64: training on 345477 raw words (327569 effective words) took 0.5s, 698755 effective words/s\n",
      "2024-08-24 13:32:47,975 | INFO | word2vec.py:1652 | _log_epoch_end | EPOCH 65: training on 345477 raw words (327620 effective words) took 0.5s, 678126 effective words/s\n",
      "2024-08-24 13:32:48,451 | INFO | word2vec.py:1652 | _log_epoch_end | EPOCH 66: training on 345477 raw words (327486 effective words) took 0.5s, 710841 effective words/s\n",
      "2024-08-24 13:32:48,900 | INFO | word2vec.py:1652 | _log_epoch_end | EPOCH 67: training on 345477 raw words (327544 effective words) took 0.4s, 760501 effective words/s\n",
      "2024-08-24 13:32:49,380 | INFO | word2vec.py:1652 | _log_epoch_end | EPOCH 68: training on 345477 raw words (327488 effective words) took 0.5s, 705454 effective words/s\n",
      "2024-08-24 13:32:49,834 | INFO | word2vec.py:1652 | _log_epoch_end | EPOCH 69: training on 345477 raw words (327452 effective words) took 0.4s, 745296 effective words/s\n",
      "2024-08-24 13:32:50,311 | INFO | word2vec.py:1652 | _log_epoch_end | EPOCH 70: training on 345477 raw words (327560 effective words) took 0.5s, 707582 effective words/s\n",
      "2024-08-24 13:32:50,795 | INFO | word2vec.py:1652 | _log_epoch_end | EPOCH 71: training on 345477 raw words (327583 effective words) took 0.5s, 698860 effective words/s\n",
      "2024-08-24 13:32:51,276 | INFO | word2vec.py:1652 | _log_epoch_end | EPOCH 72: training on 345477 raw words (327615 effective words) took 0.5s, 710467 effective words/s\n",
      "2024-08-24 13:32:51,717 | INFO | word2vec.py:1652 | _log_epoch_end | EPOCH 73: training on 345477 raw words (327564 effective words) took 0.4s, 766865 effective words/s\n",
      "2024-08-24 13:32:52,167 | INFO | word2vec.py:1652 | _log_epoch_end | EPOCH 74: training on 345477 raw words (327545 effective words) took 0.4s, 756289 effective words/s\n",
      "2024-08-24 13:32:52,615 | INFO | word2vec.py:1652 | _log_epoch_end | EPOCH 75: training on 345477 raw words (327653 effective words) took 0.4s, 759751 effective words/s\n",
      "2024-08-24 13:32:53,093 | INFO | word2vec.py:1652 | _log_epoch_end | EPOCH 76: training on 345477 raw words (327545 effective words) took 0.5s, 720234 effective words/s\n",
      "2024-08-24 13:32:53,555 | INFO | word2vec.py:1652 | _log_epoch_end | EPOCH 77: training on 345477 raw words (327526 effective words) took 0.4s, 730364 effective words/s\n",
      "2024-08-24 13:32:54,023 | INFO | word2vec.py:1652 | _log_epoch_end | EPOCH 78: training on 345477 raw words (327673 effective words) took 0.5s, 726748 effective words/s\n",
      "2024-08-24 13:32:54,483 | INFO | word2vec.py:1652 | _log_epoch_end | EPOCH 79: training on 345477 raw words (327522 effective words) took 0.4s, 734874 effective words/s\n",
      "2024-08-24 13:32:54,943 | INFO | word2vec.py:1652 | _log_epoch_end | EPOCH 80: training on 345477 raw words (327595 effective words) took 0.4s, 740063 effective words/s\n",
      "2024-08-24 13:32:55,439 | INFO | word2vec.py:1652 | _log_epoch_end | EPOCH 81: training on 345477 raw words (327593 effective words) took 0.5s, 680199 effective words/s\n",
      "2024-08-24 13:32:55,915 | INFO | word2vec.py:1652 | _log_epoch_end | EPOCH 82: training on 345477 raw words (327599 effective words) took 0.5s, 708421 effective words/s\n",
      "2024-08-24 13:32:56,411 | INFO | word2vec.py:1652 | _log_epoch_end | EPOCH 83: training on 345477 raw words (327622 effective words) took 0.5s, 681966 effective words/s\n",
      "2024-08-24 13:32:56,884 | INFO | word2vec.py:1652 | _log_epoch_end | EPOCH 84: training on 345477 raw words (327573 effective words) took 0.5s, 717379 effective words/s\n",
      "2024-08-24 13:32:57,394 | INFO | word2vec.py:1652 | _log_epoch_end | EPOCH 85: training on 345477 raw words (327591 effective words) took 0.5s, 664989 effective words/s\n",
      "2024-08-24 13:32:57,888 | INFO | word2vec.py:1652 | _log_epoch_end | EPOCH 86: training on 345477 raw words (327586 effective words) took 0.5s, 684409 effective words/s\n",
      "2024-08-24 13:32:58,424 | INFO | word2vec.py:1652 | _log_epoch_end | EPOCH 87: training on 345477 raw words (327502 effective words) took 0.5s, 632272 effective words/s\n",
      "2024-08-24 13:32:58,926 | INFO | word2vec.py:1652 | _log_epoch_end | EPOCH 88: training on 345477 raw words (327591 effective words) took 0.5s, 673692 effective words/s\n",
      "2024-08-24 13:32:59,419 | INFO | word2vec.py:1652 | _log_epoch_end | EPOCH 89: training on 345477 raw words (327619 effective words) took 0.5s, 695774 effective words/s\n",
      "2024-08-24 13:32:59,916 | INFO | word2vec.py:1652 | _log_epoch_end | EPOCH 90: training on 345477 raw words (327348 effective words) took 0.5s, 680543 effective words/s\n",
      "2024-08-24 13:33:00,437 | INFO | word2vec.py:1652 | _log_epoch_end | EPOCH 91: training on 345477 raw words (327521 effective words) took 0.5s, 654115 effective words/s\n",
      "2024-08-24 13:33:00,939 | INFO | word2vec.py:1652 | _log_epoch_end | EPOCH 92: training on 345477 raw words (327778 effective words) took 0.5s, 677729 effective words/s\n",
      "2024-08-24 13:33:01,440 | INFO | word2vec.py:1652 | _log_epoch_end | EPOCH 93: training on 345477 raw words (327417 effective words) took 0.5s, 678388 effective words/s\n",
      "2024-08-24 13:33:01,951 | INFO | word2vec.py:1652 | _log_epoch_end | EPOCH 94: training on 345477 raw words (327725 effective words) took 0.5s, 663959 effective words/s\n",
      "2024-08-24 13:33:02,431 | INFO | word2vec.py:1652 | _log_epoch_end | EPOCH 95: training on 345477 raw words (327717 effective words) took 0.5s, 705279 effective words/s\n",
      "2024-08-24 13:33:02,938 | INFO | word2vec.py:1652 | _log_epoch_end | EPOCH 96: training on 345477 raw words (327623 effective words) took 0.5s, 669214 effective words/s\n",
      "2024-08-24 13:33:03,431 | INFO | word2vec.py:1652 | _log_epoch_end | EPOCH 97: training on 345477 raw words (327466 effective words) took 0.5s, 693582 effective words/s\n",
      "2024-08-24 13:33:03,907 | INFO | word2vec.py:1652 | _log_epoch_end | EPOCH 98: training on 345477 raw words (327543 effective words) took 0.5s, 708565 effective words/s\n",
      "2024-08-24 13:33:04,412 | INFO | word2vec.py:1652 | _log_epoch_end | EPOCH 99: training on 345477 raw words (327729 effective words) took 0.5s, 672456 effective words/s\n",
      "2024-08-24 13:33:04,413 | INFO | utils.py:447 | add_lifecycle_event | Word2Vec lifecycle event {'msg': 'training on 34547700 raw words (32756151 effective words) took 49.1s, 667559 effective words/s', 'datetime': '2024-08-24T13:33:04.413766', 'gensim': '4.3.3', 'python': '3.10.14 | packaged by Anaconda, Inc. | (main, May  6 2024, 19:44:50) [MSC v.1916 64 bit (AMD64)]', 'platform': 'Windows-10-10.0.22621-SP0', 'event': 'train'}\n",
      "2024-08-24 13:33:04,414 | INFO | utils.py:447 | add_lifecycle_event | Word2Vec lifecycle event {'params': 'Word2Vec<vocab=17499, vector_size=300, alpha=0.025>', 'datetime': '2024-08-24T13:33:04.414777', 'gensim': '4.3.3', 'python': '3.10.14 | packaged by Anaconda, Inc. | (main, May  6 2024, 19:44:50) [MSC v.1916 64 bit (AMD64)]', 'platform': 'Windows-10-10.0.22621-SP0', 'event': 'created'}\n"
     ]
    }
   ],
   "source": [
    "WORD2VEC_DIM = 300\n",
    "SG = {\"CBOW\":0,\"SKIP_GRAM\":1}\n",
    "word2vec = gensim.models.Word2Vec(corpus,window=5,vector_size=WORD2VEC_DIM,min_count=1,epochs=100,sg=SG[\"CBOW\"])\n",
    "WORD2VEC_VOCAB_SIZE = len(word2vec.wv.index_to_key)+1\n",
    "word2vec_embedding = np.zeros((WORD2VEC_VOCAB_SIZE,WORD2VEC_DIM))\n",
    "for word,index in tokenizer.word_index.items():\n",
    "    if word in word2vec.wv.index_to_key:\n",
    "        word2vec_embedding[index] = word2vec.wv[word]"
   ]
  },
  {
   "cell_type": "code",
   "execution_count": 112,
   "id": "47ef69e2-e12d-452a-b63d-3f1646c04778",
   "metadata": {},
   "outputs": [
    {
     "data": {
      "text/plain": [
       "(17500, 300)"
      ]
     },
     "execution_count": 112,
     "metadata": {},
     "output_type": "execute_result"
    }
   ],
   "source": [
    "word2vec_embedding.shape"
   ]
  },
  {
   "cell_type": "code",
   "execution_count": 120,
   "id": "0c7c2765-b624-4f99-a50a-56908d9bf6af",
   "metadata": {},
   "outputs": [],
   "source": [
    "GLOVE_VOCAB_SIZE = len(tokenizer.word_index)+1\n",
    "GLOVE_EMBEDDINGS_DIMENSION = 300\n",
    "glove_embeddings = np.zeros((GLOVE_VOCAB_SIZE,GLOVE_EMBEDDINGS_DIMENSION))\n",
    "glove_model = spacy.load(\"en_core_web_lg\")\n",
    "for word,index in tokenizer.word_index.items():\n",
    "    if word in glove_model.vocab.strings:\n",
    "        glove_embeddings[index] = glove_model.vocab[word].vector"
   ]
  },
  {
   "cell_type": "code",
   "execution_count": 121,
   "id": "24d283c5-7507-4215-a791-3bcefa6e95c6",
   "metadata": {},
   "outputs": [
    {
     "data": {
      "text/plain": [
       "(17498, 300)"
      ]
     },
     "execution_count": 121,
     "metadata": {},
     "output_type": "execute_result"
    }
   ],
   "source": [
    "glove_embeddings.shape"
   ]
  },
  {
   "cell_type": "code",
   "execution_count": 129,
   "id": "986dae19-a0b7-462b-a443-8aef9b222dcd",
   "metadata": {},
   "outputs": [],
   "source": [
    "import fasttext"
   ]
  },
  {
   "cell_type": "code",
   "execution_count": 130,
   "id": "f5548330-08f4-41f4-aab2-965093380001",
   "metadata": {},
   "outputs": [],
   "source": [
    "with open(\"corpus.txt\",\"w\", encoding=\"utf-8\") as file:\n",
    "    for doc in data_preprocess[\"tweet\"].values:\n",
    "        file.write(doc + \"\\n\")\n",
    "MODEL_TYPE = \"skipgram\"\n",
    "FASTTEXT_EMBEDDINGS_DIMENSION = 300\n",
    "FASTTEXT_VOCAB_SIZE = len(tokenizer.word_index)+1\n",
    "fasttext_embeddings = np.zeros((FASTTEXT_VOCAB_SIZE,FASTTEXT_EMBEDDINGS_DIMENSION))\n",
    "fasttext_model = fasttext.train_unsupervised(\"corpus.txt\",ws=5,minn=2,epoch=100,dim=300,model=MODEL_TYPE)\n",
    "for word,index in tokenizer.word_index.items():\n",
    "    if word in fasttext_model.words:\n",
    "        fasttext_embeddings[index] = fasttext_model.get_word_vector(word)"
   ]
  },
  {
   "cell_type": "code",
   "execution_count": 131,
   "id": "5144a074-e91c-44a5-8483-5c11aa0a2bf7",
   "metadata": {},
   "outputs": [
    {
     "data": {
      "text/plain": [
       "(17498, 300)"
      ]
     },
     "execution_count": 131,
     "metadata": {},
     "output_type": "execute_result"
    }
   ],
   "source": [
    "fasttext_embeddings.shape"
   ]
  },
  {
   "cell_type": "code",
   "execution_count": 139,
   "id": "c46b4d1f-54eb-41ca-8b42-9b6654bd86c5",
   "metadata": {},
   "outputs": [],
   "source": [
    "import tensorflow_hub as hub"
   ]
  },
  {
   "cell_type": "code",
   "execution_count": 140,
   "id": "ff3cb645-e7db-42dd-beb5-00975d6b1e82",
   "metadata": {},
   "outputs": [],
   "source": [
    "ELMO_VOCAB_SIZE = len(data_preprocess)\n",
    "ELMO_EMBEDDINGS_DIMENSION = 1024\n",
    "\n",
    "elmo_embeddings = np.zeros((ELMO_VOCAB_SIZE,ELMO_EMBEDDINGS_DIMENSION))\n",
    "elmo = hub.KerasLayer(\"https://tfhub.dev/google/elmo/3\")\n",
    "for index,text in enumerate(data_preprocess[\"tweet\"].values):\n",
    "    # print(\"index\",index)\n",
    "    embeddings = elmo(tf.constant([text]))\n",
    "    elmo_embeddings[index]=embeddings.numpy()"
   ]
  },
  {
   "cell_type": "code",
   "execution_count": 141,
   "id": "19b598a0-1026-43a3-9c67-d7aaafd98904",
   "metadata": {},
   "outputs": [
    {
     "data": {
      "text/plain": [
       "(44385, 1024)"
      ]
     },
     "execution_count": 141,
     "metadata": {},
     "output_type": "execute_result"
    }
   ],
   "source": [
    "elmo_embeddings.shape"
   ]
  },
  {
   "cell_type": "code",
   "execution_count": 72,
   "id": "ee725cf6-dd40-40a2-8008-234fae5ba2b5",
   "metadata": {
    "scrolled": true
   },
   "outputs": [
    {
     "name": "stderr",
     "output_type": "stream",
     "text": [
      "Some layers from the model checkpoint at bert-base-uncased were not used when initializing TFBertModel: ['mlm___cls', 'nsp___cls']\n",
      "- This IS expected if you are initializing TFBertModel from the checkpoint of a model trained on another task or with another architecture (e.g. initializing a BertForSequenceClassification model from a BertForPreTraining model).\n",
      "- This IS NOT expected if you are initializing TFBertModel from the checkpoint of a model that you expect to be exactly identical (initializing a BertForSequenceClassification model from a BertForSequenceClassification model).\n",
      "All the layers of TFBertModel were initialized from the model checkpoint at bert-base-uncased.\n",
      "If your task is similar to the task the model of the checkpoint was trained on, you can already use TFBertModel for predictions without further training.\n"
     ]
    }
   ],
   "source": [
    "BERT_VOCAB_SIZE = len(data_preprocess)\n",
    "BERT_EMBEDDINGS_DIMENSION = 768\n",
    "\n",
    "bert_embeddings = np.zeros((BERT_VOCAB_SIZE,BERT_EMBEDDINGS_DIMENSION))\n",
    "bert_tokenizer = BertTokenizer.from_pretrained('bert-base-uncased')\n",
    "bert_model = TFBertModel.from_pretrained(\"bert-base-uncased\")\n",
    "for index,text in enumerate(data_preprocess[\"tweet\"].values):\n",
    "    # print(\"index\",index)\n",
    "    inputs = bert_tokenizer(text, padding=True,return_tensors='tf')\n",
    "    outputs = bert_model(**inputs)\n",
    "    embeddings = outputs.last_hidden_state\n",
    "    cls_embeddings = embeddings[:, 0, :]\n",
    "    bert_embeddings[index]=cls_embeddings.numpy()"
   ]
  },
  {
   "cell_type": "code",
   "execution_count": 86,
   "id": "b58e38de-c210-4883-9a32-251a7ba41334",
   "metadata": {},
   "outputs": [
    {
     "data": {
      "text/plain": [
       "(44385, 768)"
      ]
     },
     "execution_count": 86,
     "metadata": {},
     "output_type": "execute_result"
    }
   ],
   "source": [
    "bert_embeddings.shape"
   ]
  },
  {
   "cell_type": "code",
   "execution_count": 26,
   "id": "3e871b94-52b9-46db-9708-08a27426c513",
   "metadata": {},
   "outputs": [
    {
     "data": {
      "text/plain": [
       "186"
      ]
     },
     "execution_count": 26,
     "metadata": {},
     "output_type": "execute_result"
    }
   ],
   "source": [
    "max_length_sequence = max([len(doc) for doc in corpus])\n",
    "max_length_sequence"
   ]
  },
  {
   "cell_type": "code",
   "execution_count": 27,
   "id": "ca9d3b05-9061-4142-9fae-cbc4b19d29a8",
   "metadata": {},
   "outputs": [],
   "source": [
    "sequence = tokenizer.texts_to_sequences(data_preprocess[\"tweet\"].values)\n",
    "padded_sequence = pad_sequences(sequence,maxlen=max_length_sequence,padding=\"pre\")"
   ]
  },
  {
   "cell_type": "code",
   "execution_count": 28,
   "id": "21cf46de-62d9-481e-a920-59a5d36107c3",
   "metadata": {},
   "outputs": [
    {
     "data": {
      "text/plain": [
       "array([[   0,    0,    0, ...,  768, 6870, 1193],\n",
       "       [   0,    0,    0, ..., 3962,   15, 4518],\n",
       "       [   0,    0,    0, ...,  251,   51,  567],\n",
       "       ...,\n",
       "       [   0,    0,    0, ...,    0,    9,  488],\n",
       "       [   0,    0,    0, ...,  712,  406,  547],\n",
       "       [   0,    0,    0, ...,    0, 2288, 7472]])"
      ]
     },
     "execution_count": 28,
     "metadata": {},
     "output_type": "execute_result"
    }
   ],
   "source": [
    "padded_sequence"
   ]
  },
  {
   "cell_type": "code",
   "execution_count": 29,
   "id": "5af64084-6b12-439b-96eb-70290dffd9fa",
   "metadata": {},
   "outputs": [],
   "source": [
    "# EMBEDDINGS_DIMENSION\n",
    "encode_target = dict(zip(data_preprocess[\"Disorder\"].unique(),np.arange(0,data_preprocess[\"Disorder\"].nunique(),dtype=int)))\n",
    "data_preprocess[\"Disorder\"] = data_preprocess[\"Disorder\"].map(encode_target)\n",
    "data_preprocess[\"Disorder\"]=data_preprocess[\"Disorder\"].map(int)"
   ]
  },
  {
   "cell_type": "code",
   "execution_count": 30,
   "id": "9c0d68e4-0eca-4258-8e2a-1e41283efd13",
   "metadata": {},
   "outputs": [
    {
     "data": {
      "text/plain": [
       "Disorder\n",
       "0    5283\n",
       "3    5186\n",
       "8    4959\n",
       "2    4936\n",
       "7    4860\n",
       "1    4843\n",
       "4    4806\n",
       "6    4805\n",
       "5    4707\n",
       "Name: count, dtype: int64"
      ]
     },
     "execution_count": 30,
     "metadata": {},
     "output_type": "execute_result"
    }
   ],
   "source": [
    "data_preprocess.Disorder.value_counts()"
   ]
  },
  {
   "cell_type": "markdown",
   "id": "3ee481cb-e7fd-47d7-9eb4-f0fded633b3c",
   "metadata": {},
   "source": [
    "### LSTM"
   ]
  },
  {
   "cell_type": "code",
   "execution_count": 92,
   "id": "2a4e900d-757d-4fc1-a2bd-3a53746fc832",
   "metadata": {},
   "outputs": [
    {
     "name": "stderr",
     "output_type": "stream",
     "text": [
      "2024-08-24 11:20:01,717 | WARNING | lstm.py:590 | __init__ | Layer lstm_3 will not use cuDNN kernels since it doesn't meet the criteria. It will use a generic GPU kernel as fallback when running on GPU.\n"
     ]
    }
   ],
   "source": [
    "embedding = bert_embeddings\n",
    "vocab_size = BERT_VOCAB_SIZE\n",
    "embedding_dim = BERT_EMBEDDINGS_DIMENSION\n",
    "learning_rate = 0.01\n",
    "Embedding_layer = Embedding(vocab_size,embedding_dim,weights = [embedding],input_length = max_length_sequence, trainable=False)\n",
    "model = Sequential()\n",
    "model.add(Embedding_layer)\n",
    "model.add(Dropout(0.2))\n",
    "model.add(LSTM(100,dropout=0.2,recurrent_dropout=0.2))\n",
    "model.add(Dense(9,\"softmax\"))\n",
    "model.compile(loss=\"sparse_categorical_crossentropy\",optimizer=tf.keras.optimizers.Adam(learning_rate=learning_rate),metrics=[\"accuracy\"])"
   ]
  },
  {
   "cell_type": "code",
   "execution_count": 93,
   "id": "ed838e6b-a74c-4b2d-a5c1-54327a9fa761",
   "metadata": {},
   "outputs": [
    {
     "name": "stdout",
     "output_type": "stream",
     "text": [
      "Model: \"sequential_3\"\n",
      "_________________________________________________________________\n",
      " Layer (type)                Output Shape              Param #   \n",
      "=================================================================\n",
      " embedding_3 (Embedding)     (None, 186, 768)          34087680  \n",
      "                                                                 \n",
      " dropout_40 (Dropout)        (None, 186, 768)          0         \n",
      "                                                                 \n",
      " lstm_3 (LSTM)               (None, 100)               347600    \n",
      "                                                                 \n",
      " dense_3 (Dense)             (None, 9)                 909       \n",
      "                                                                 \n",
      "=================================================================\n",
      "Total params: 34,436,189\n",
      "Trainable params: 348,509\n",
      "Non-trainable params: 34,087,680\n",
      "_________________________________________________________________\n"
     ]
    }
   ],
   "source": [
    "model.summary()"
   ]
  },
  {
   "cell_type": "code",
   "execution_count": 95,
   "id": "b0ff9c9c-dc9f-41bc-9562-0c78b1e46faf",
   "metadata": {},
   "outputs": [],
   "source": [
    "data_bin = data_preprocess.copy()"
   ]
  },
  {
   "cell_type": "code",
   "execution_count": 96,
   "id": "8c77f750-e5fc-4c85-bd5b-9e1cc3213e99",
   "metadata": {},
   "outputs": [
    {
     "data": {
      "text/plain": [
       "Disorder\n",
       "0    5283\n",
       "3    5186\n",
       "8    4959\n",
       "2    4936\n",
       "7    4860\n",
       "1    4843\n",
       "4    4806\n",
       "6    4805\n",
       "5    4707\n",
       "Name: count, dtype: int64"
      ]
     },
     "execution_count": 96,
     "metadata": {},
     "output_type": "execute_result"
    }
   ],
   "source": [
    "data_bin['Disorder'].value_counts()"
   ]
  },
  {
   "cell_type": "code",
   "execution_count": 98,
   "id": "407d1913-b18b-459e-b191-6ef5f0dd7552",
   "metadata": {},
   "outputs": [],
   "source": [
    "y = data_bin[\"Disorder\"].values\n",
    "X_train,X_temp,y_train,y_temp = train_test_split(padded_sequence, y, test_size=0.3, random_state=42,stratify=y)\n",
    "X_val,X_test,y_val,y_test = train_test_split(X_temp, y_temp, test_size=0.2, random_state=42,stratify=y_temp)"
   ]
  },
  {
   "cell_type": "code",
   "execution_count": 99,
   "id": "2541283b-4af2-40b2-babb-dbcc93ec4ff8",
   "metadata": {},
   "outputs": [
    {
     "data": {
      "text/plain": [
       "((31069, 186), (10652, 186), (2664, 186))"
      ]
     },
     "execution_count": 99,
     "metadata": {},
     "output_type": "execute_result"
    }
   ],
   "source": [
    "X_train.shape,X_val.shape,X_test.shape"
   ]
  },
  {
   "cell_type": "code",
   "execution_count": 100,
   "id": "6bf7679e-cd93-49d5-b264-6e4931e9e2f9",
   "metadata": {},
   "outputs": [
    {
     "name": "stdout",
     "output_type": "stream",
     "text": [
      "(array([0, 1, 2, 3, 4, 5, 6, 7, 8], dtype=int64), array([3698, 3390, 3455, 3630, 3364, 3295, 3364, 3402, 3471], dtype=int64))\n",
      "(array([0, 1, 2, 3, 4, 5, 6, 7, 8], dtype=int64), array([1268, 1162, 1185, 1245, 1153, 1130, 1153, 1166, 1190], dtype=int64))\n",
      "(array([0, 1, 2, 3, 4, 5, 6, 7, 8], dtype=int64), array([317, 291, 296, 311, 289, 282, 288, 292, 298], dtype=int64))\n"
     ]
    }
   ],
   "source": [
    "print(np.unique(y_train,return_counts=True))\n",
    "print(np.unique(y_val,return_counts=True))\n",
    "print(np.unique(y_test,return_counts=True))"
   ]
  },
  {
   "cell_type": "code",
   "execution_count": 101,
   "id": "549f2312-83c3-44cc-8184-f03b6dfe6f6f",
   "metadata": {},
   "outputs": [
    {
     "data": {
      "text/plain": [
       "array([[    0,     0,     0, ...,   703,  1525, 12750],\n",
       "       [    0,     0,     0, ...,  2910,   605,   828],\n",
       "       [    0,     0,     0, ...,    78,  3041,   734],\n",
       "       ...,\n",
       "       [    0,     0,     0, ...,    49,   313,    36],\n",
       "       [    0,     0,     0, ...,  1013,   400,  2400],\n",
       "       [    0,     0,     0, ...,   605,   372,  1546]])"
      ]
     },
     "execution_count": 101,
     "metadata": {},
     "output_type": "execute_result"
    }
   ],
   "source": [
    "X_train"
   ]
  },
  {
   "cell_type": "code",
   "execution_count": 102,
   "id": "df609fa0-7b60-4fcb-a05f-1117eea19689",
   "metadata": {},
   "outputs": [],
   "source": [
    "early_stopping = EarlyStopping(monitor='val_loss', patience=3, mode='min', verbose=1)"
   ]
  },
  {
   "cell_type": "code",
   "execution_count": 103,
   "id": "bbff5f0d-f306-4655-86d6-9eae7f3b2cb4",
   "metadata": {},
   "outputs": [
    {
     "name": "stdout",
     "output_type": "stream",
     "text": [
      "Epoch 1/5\n",
      "971/971 [==============================] - 1076s 1s/step - loss: 2.0864 - accuracy: 0.1948 - val_loss: 1.9771 - val_accuracy: 0.2453\n",
      "Epoch 2/5\n",
      "971/971 [==============================] - 1572s 2s/step - loss: 1.9558 - accuracy: 0.2680 - val_loss: 1.9361 - val_accuracy: 0.2799\n",
      "Epoch 3/5\n",
      "971/971 [==============================] - 1558s 2s/step - loss: 1.9073 - accuracy: 0.2900 - val_loss: 1.9065 - val_accuracy: 0.2951\n",
      "Epoch 4/5\n",
      "971/971 [==============================] - 1247s 1s/step - loss: 1.8914 - accuracy: 0.2942 - val_loss: 1.9197 - val_accuracy: 0.2790\n",
      "Epoch 5/5\n",
      "971/971 [==============================] - 1125s 1s/step - loss: 1.8991 - accuracy: 0.2837 - val_loss: 1.8495 - val_accuracy: 0.3068\n"
     ]
    }
   ],
   "source": [
    "history = model.fit(X_train,y_train,epochs=5,batch_size=32,validation_data=(X_val, y_val),verbose=1,callbacks=[early_stopping],\n",
    "                   workers=3)"
   ]
  },
  {
   "cell_type": "code",
   "execution_count": 104,
   "id": "17139696-9371-451f-a259-0208937474ab",
   "metadata": {},
   "outputs": [
    {
     "name": "stdout",
     "output_type": "stream",
     "text": [
      "84/84 [==============================] - 12s 133ms/step\n"
     ]
    }
   ],
   "source": [
    "y_pred = model.predict(X_test)\n",
    "y_pred = np.argmax(y_pred,axis=1)"
   ]
  },
  {
   "cell_type": "code",
   "execution_count": 105,
   "id": "86c5c6f5-4104-4edb-945c-97e84a40d845",
   "metadata": {},
   "outputs": [
    {
     "name": "stdout",
     "output_type": "stream",
     "text": [
      "971/971 [==============================] - 124s 127ms/step\n"
     ]
    }
   ],
   "source": [
    "train_pred = model.predict(X_train)\n",
    "train_pred =  np.argmax(train_pred,axis=1)\n",
    "train_model_performance_lstm = classification_metrics(y_train,train_pred,\"macro\")"
   ]
  },
  {
   "cell_type": "code",
   "execution_count": 106,
   "id": "0b560f01-42f6-4157-8bd8-52dea46b165e",
   "metadata": {},
   "outputs": [
    {
     "data": {
      "text/html": [
       "<div>\n",
       "<style scoped>\n",
       "    .dataframe tbody tr th:only-of-type {\n",
       "        vertical-align: middle;\n",
       "    }\n",
       "\n",
       "    .dataframe tbody tr th {\n",
       "        vertical-align: top;\n",
       "    }\n",
       "\n",
       "    .dataframe thead th {\n",
       "        text-align: right;\n",
       "    }\n",
       "</style>\n",
       "<table border=\"1\" class=\"dataframe\">\n",
       "  <thead>\n",
       "    <tr style=\"text-align: right;\">\n",
       "      <th></th>\n",
       "      <th>precision</th>\n",
       "      <th>recall</th>\n",
       "      <th>f1</th>\n",
       "      <th>accuracy</th>\n",
       "    </tr>\n",
       "  </thead>\n",
       "  <tbody>\n",
       "    <tr>\n",
       "      <th>0</th>\n",
       "      <td>0.386107</td>\n",
       "      <td>0.312514</td>\n",
       "      <td>0.288323</td>\n",
       "      <td>0.318807</td>\n",
       "    </tr>\n",
       "  </tbody>\n",
       "</table>\n",
       "</div>"
      ],
      "text/plain": [
       "   precision    recall        f1  accuracy\n",
       "0   0.386107  0.312514  0.288323  0.318807"
      ]
     },
     "execution_count": 106,
     "metadata": {},
     "output_type": "execute_result"
    }
   ],
   "source": [
    "train_model_performance_lstm"
   ]
  },
  {
   "cell_type": "code",
   "execution_count": 107,
   "id": "0ca031d6-279f-490d-ac8f-87bc5fbd6bbb",
   "metadata": {},
   "outputs": [
    {
     "data": {
      "text/html": [
       "<div>\n",
       "<style scoped>\n",
       "    .dataframe tbody tr th:only-of-type {\n",
       "        vertical-align: middle;\n",
       "    }\n",
       "\n",
       "    .dataframe tbody tr th {\n",
       "        vertical-align: top;\n",
       "    }\n",
       "\n",
       "    .dataframe thead th {\n",
       "        text-align: right;\n",
       "    }\n",
       "</style>\n",
       "<table border=\"1\" class=\"dataframe\">\n",
       "  <thead>\n",
       "    <tr style=\"text-align: right;\">\n",
       "      <th></th>\n",
       "      <th>precision</th>\n",
       "      <th>recall</th>\n",
       "      <th>f1</th>\n",
       "      <th>accuracy</th>\n",
       "    </tr>\n",
       "  </thead>\n",
       "  <tbody>\n",
       "    <tr>\n",
       "      <th>0</th>\n",
       "      <td>0.373897</td>\n",
       "      <td>0.29581</td>\n",
       "      <td>0.272141</td>\n",
       "      <td>0.301802</td>\n",
       "    </tr>\n",
       "  </tbody>\n",
       "</table>\n",
       "</div>"
      ],
      "text/plain": [
       "   precision   recall        f1  accuracy\n",
       "0   0.373897  0.29581  0.272141  0.301802"
      ]
     },
     "execution_count": 107,
     "metadata": {},
     "output_type": "execute_result"
    }
   ],
   "source": [
    "test_model_performance_lstm = classification_metrics(y_test,y_pred,\"macro\")\n",
    "test_model_performance_lstm"
   ]
  },
  {
   "cell_type": "code",
   "execution_count": 108,
   "id": "a969f763-0ce7-41e8-a986-7844f09b1d1c",
   "metadata": {},
   "outputs": [
    {
     "data": {
      "image/png": "[encoded data removed]",
      "text/plain": [
       "<Figure size 640x480 with 1 Axes>"
      ]
     },
     "metadata": {},
     "output_type": "display_data"
    }
   ],
   "source": [
    "plt.plot(history.history['loss'])\n",
    "plt.plot(history.history['val_loss'])\n",
    "plt.title('training vs validation loss')\n",
    "plt.ylabel('loss')\n",
    "plt.xlabel('epoch')\n",
    "plt.legend(['train', 'validation'], loc='upper left')\n",
    "plt.show()"
   ]
  },
  {
   "cell_type": "code",
   "execution_count": 109,
   "id": "8ab9a0a5-cf88-4828-a76e-d1bb122dfe8e",
   "metadata": {},
   "outputs": [
    {
     "name": "stdout",
     "output_type": "stream",
     "text": [
      "84/84 [==============================] - 11s 127ms/step - loss: 1.8623 - accuracy: 0.3018\n"
     ]
    }
   ],
   "source": [
    "test_loss,accuracy = model.evaluate(X_test,y_test)"
   ]
  },
  {
   "cell_type": "code",
   "execution_count": 110,
   "id": "3b0af032-0abf-464f-9d6c-329821c581b5",
   "metadata": {},
   "outputs": [
    {
     "data": {
      "text/plain": [
       "(1.862345576286316, 0.30180180072784424)"
      ]
     },
     "execution_count": 110,
     "metadata": {},
     "output_type": "execute_result"
    }
   ],
   "source": [
    "test_loss,accuracy"
   ]
  },
  {
   "cell_type": "markdown",
   "id": "1fb45391-c4e7-4c00-9b3e-36ad5dbaac7a",
   "metadata": {},
   "source": [
    "### CNN+LSTM"
   ]
  },
  {
   "cell_type": "code",
   "execution_count": 151,
   "id": "e2021f25-2484-4dae-a4c3-4b309e8dea2c",
   "metadata": {},
   "outputs": [
    {
     "name": "stderr",
     "output_type": "stream",
     "text": [
      "2024-08-24 23:06:27,414 | WARNING | lstm.py:590 | __init__ | Layer lstm_8 will not use cuDNN kernels since it doesn't meet the criteria. It will use a generic GPU kernel as fallback when running on GPU.\n"
     ]
    }
   ],
   "source": [
    "embedding = bert_embeddings\n",
    "vocab_size = BERT_VOCAB_SIZE\n",
    "embedding_dim = BERT_EMBEDDINGS_DIMENSION\n",
    "learning_rate = 0.01\n",
    "Embedding_layer = Embedding(vocab_size,embedding_dim,weights = [embedding],input_length = max_length_sequence, trainable=False)\n",
    "model = Sequential()\n",
    "model.add(Embedding_layer)\n",
    "model.add(Conv1D(filters=32,kernel_size=5,activation=\"relu\",padding=\"same\",strides=1))\n",
    "model.add(MaxPool1D(pool_size=2))\n",
    "model.add(LSTM(100,dropout=0.2,recurrent_dropout=0.2))\n",
    "model.add(Dense(32,activation=\"relu\"))\n",
    "model.add(Dropout(0.2))\n",
    "model.add(Dense(9,\"softmax\"))\n",
    "model.compile(loss=\"sparse_categorical_crossentropy\",optimizer=tf.keras.optimizers.Adam(learning_rate=learning_rate),metrics=[\"accuracy\"])"
   ]
  },
  {
   "cell_type": "code",
   "execution_count": 152,
   "id": "54eb31de-d091-4c97-a97a-c8d955d512b2",
   "metadata": {},
   "outputs": [
    {
     "name": "stdout",
     "output_type": "stream",
     "text": [
      "Model: \"sequential_8\"\n",
      "_________________________________________________________________\n",
      " Layer (type)                Output Shape              Param #   \n",
      "=================================================================\n",
      " embedding_8 (Embedding)     (None, 186, 768)          34087680  \n",
      "                                                                 \n",
      " conv1d_4 (Conv1D)           (None, 186, 32)           122912    \n",
      "                                                                 \n",
      " max_pooling1d_4 (MaxPooling  (None, 93, 32)           0         \n",
      " 1D)                                                             \n",
      "                                                                 \n",
      " lstm_8 (LSTM)               (None, 100)               53200     \n",
      "                                                                 \n",
      " dense_12 (Dense)            (None, 32)                3232      \n",
      "                                                                 \n",
      " dropout_45 (Dropout)        (None, 32)                0         \n",
      "                                                                 \n",
      " dense_13 (Dense)            (None, 9)                 297       \n",
      "                                                                 \n",
      "=================================================================\n",
      "Total params: 34,267,321\n",
      "Trainable params: 179,641\n",
      "Non-trainable params: 34,087,680\n",
      "_________________________________________________________________\n"
     ]
    }
   ],
   "source": [
    "model.summary()"
   ]
  },
  {
   "cell_type": "code",
   "execution_count": 153,
   "id": "e23b8517-9b0a-48f7-93e2-9eaabd537e04",
   "metadata": {},
   "outputs": [
    {
     "name": "stdout",
     "output_type": "stream",
     "text": [
      "Epoch 1/5\n",
      "971/971 [==============================] - 850s 859ms/step - loss: 2.1987 - accuracy: 0.1137 - val_loss: 2.1972 - val_accuracy: 0.1190\n",
      "Epoch 2/5\n",
      "971/971 [==============================] - 865s 891ms/step - loss: 2.1978 - accuracy: 0.1160 - val_loss: 2.1974 - val_accuracy: 0.1169\n",
      "Epoch 3/5\n",
      "971/971 [==============================] - 5283s 5s/step - loss: 2.1981 - accuracy: 0.1149 - val_loss: 2.1987 - val_accuracy: 0.1169\n",
      "Epoch 4/5\n",
      "971/971 [==============================] - 853s 878ms/step - loss: 2.1980 - accuracy: 0.1166 - val_loss: 2.1981 - val_accuracy: 0.1082\n",
      "Epoch 4: early stopping\n"
     ]
    }
   ],
   "source": [
    "early_stopping = EarlyStopping(monitor='val_loss', patience=3, mode='min', verbose=1)\n",
    "history = model.fit(X_train,y_train,epochs=5,batch_size=32,validation_data=(X_val, y_val),verbose=1,callbacks=[early_stopping],\n",
    "                   workers=3)"
   ]
  },
  {
   "cell_type": "code",
   "execution_count": 154,
   "id": "7f8c5b01-f8ab-4ef6-bbca-68592c2f1af9",
   "metadata": {},
   "outputs": [
    {
     "name": "stdout",
     "output_type": "stream",
     "text": [
      "971/971 [==============================] - 99s 101ms/step\n"
     ]
    },
    {
     "data": {
      "text/html": [
       "<div>\n",
       "<style scoped>\n",
       "    .dataframe tbody tr th:only-of-type {\n",
       "        vertical-align: middle;\n",
       "    }\n",
       "\n",
       "    .dataframe tbody tr th {\n",
       "        vertical-align: top;\n",
       "    }\n",
       "\n",
       "    .dataframe thead th {\n",
       "        text-align: right;\n",
       "    }\n",
       "</style>\n",
       "<table border=\"1\" class=\"dataframe\">\n",
       "  <thead>\n",
       "    <tr style=\"text-align: right;\">\n",
       "      <th></th>\n",
       "      <th>precision</th>\n",
       "      <th>recall</th>\n",
       "      <th>f1</th>\n",
       "      <th>accuracy</th>\n",
       "    </tr>\n",
       "  </thead>\n",
       "  <tbody>\n",
       "    <tr>\n",
       "      <th>0</th>\n",
       "      <td>0.012031</td>\n",
       "      <td>0.111111</td>\n",
       "      <td>0.02171</td>\n",
       "      <td>0.108275</td>\n",
       "    </tr>\n",
       "  </tbody>\n",
       "</table>\n",
       "</div>"
      ],
      "text/plain": [
       "   precision    recall       f1  accuracy\n",
       "0   0.012031  0.111111  0.02171  0.108275"
      ]
     },
     "execution_count": 154,
     "metadata": {},
     "output_type": "execute_result"
    }
   ],
   "source": [
    "train_pred = model.predict(X_train)\n",
    "train_pred =  np.argmax(train_pred,axis=1)\n",
    "train_model_performance = classification_metrics(y_train,train_pred,\"macro\")\n",
    "train_model_performance"
   ]
  },
  {
   "cell_type": "code",
   "execution_count": 155,
   "id": "4968fbf2-f150-4049-a832-e999158c1699",
   "metadata": {},
   "outputs": [
    {
     "name": "stdout",
     "output_type": "stream",
     "text": [
      "84/84 [==============================] - 8s 91ms/step\n"
     ]
    },
    {
     "data": {
      "text/html": [
       "<div>\n",
       "<style scoped>\n",
       "    .dataframe tbody tr th:only-of-type {\n",
       "        vertical-align: middle;\n",
       "    }\n",
       "\n",
       "    .dataframe tbody tr th {\n",
       "        vertical-align: top;\n",
       "    }\n",
       "\n",
       "    .dataframe thead th {\n",
       "        text-align: right;\n",
       "    }\n",
       "</style>\n",
       "<table border=\"1\" class=\"dataframe\">\n",
       "  <thead>\n",
       "    <tr style=\"text-align: right;\">\n",
       "      <th></th>\n",
       "      <th>precision</th>\n",
       "      <th>recall</th>\n",
       "      <th>f1</th>\n",
       "      <th>accuracy</th>\n",
       "    </tr>\n",
       "  </thead>\n",
       "  <tbody>\n",
       "    <tr>\n",
       "      <th>0</th>\n",
       "      <td>0.012012</td>\n",
       "      <td>0.111111</td>\n",
       "      <td>0.02168</td>\n",
       "      <td>0.108108</td>\n",
       "    </tr>\n",
       "  </tbody>\n",
       "</table>\n",
       "</div>"
      ],
      "text/plain": [
       "   precision    recall       f1  accuracy\n",
       "0   0.012012  0.111111  0.02168  0.108108"
      ]
     },
     "execution_count": 155,
     "metadata": {},
     "output_type": "execute_result"
    }
   ],
   "source": [
    "y_pred = model.predict(X_test)\n",
    "y_pred = np.argmax(y_pred,axis=1)\n",
    "test_model_performance = classification_metrics(y_test,y_pred,\"macro\")\n",
    "test_model_performance"
   ]
  },
  {
   "cell_type": "code",
   "execution_count": 156,
   "id": "83f98068-dadb-4fed-b4af-d7e5d38a6403",
   "metadata": {},
   "outputs": [
    {
     "name": "stdout",
     "output_type": "stream",
     "text": [
      "84/84 [==============================] - 8s 93ms/step - loss: 2.1981 - accuracy: 0.1081\n"
     ]
    }
   ],
   "source": [
    "test_loss,accuracy = model.evaluate(X_test,y_test)"
   ]
  },
  {
   "cell_type": "code",
   "execution_count": 157,
   "id": "b409f491-b1c6-4f7b-a7a5-fbd2b77e7a82",
   "metadata": {},
   "outputs": [
    {
     "data": {
      "image/png": "[encoded data removed]",
      "text/plain": [
       "<Figure size 640x480 with 1 Axes>"
      ]
     },
     "metadata": {},
     "output_type": "display_data"
    }
   ],
   "source": [
    "plt.plot(history.history['loss'])\n",
    "plt.plot(history.history['val_loss'])\n",
    "plt.title('training vs validation loss')\n",
    "plt.ylabel('loss')\n",
    "plt.xlabel('epoch')\n",
    "plt.legend(['train', 'validation'], loc='upper left')\n",
    "plt.show()"
   ]
  },
  {
   "cell_type": "markdown",
   "id": "10fa0571-bc30-49b7-9448-10d2245571b9",
   "metadata": {},
   "source": [
    "### BERT"
   ]
  },
  {
   "cell_type": "code",
   "execution_count": 158,
   "id": "d3570412-aac2-4358-9770-64062ff97e8b",
   "metadata": {},
   "outputs": [
    {
     "name": "stderr",
     "output_type": "stream",
     "text": [
      "All model checkpoint layers were used when initializing TFBertForSequenceClassification.\n",
      "\n",
      "Some layers of TFBertForSequenceClassification were not initialized from the model checkpoint at bert-base-uncased and are newly initialized: ['classifier']\n",
      "You should probably TRAIN this model on a down-stream task to be able to use it for predictions and inference.\n"
     ]
    }
   ],
   "source": [
    "binary_labels = 2\n",
    "multi_labels = 9\n",
    "bert_tokenizer = BertTokenizer.from_pretrained('bert-base-uncased',do_lower_case=True)\n",
    "bert_model = TFBertForSequenceClassification.from_pretrained(\"bert-base-uncased\",num_labels=multi_labels)"
   ]
  },
  {
   "cell_type": "code",
   "execution_count": 159,
   "id": "d6dbcf63-a6f1-483b-883e-b005c843e105",
   "metadata": {},
   "outputs": [
    {
     "data": {
      "text/plain": [
       "[0, 3, 8, 2, 7, 1, 4, 6, 5]"
      ]
     },
     "execution_count": 159,
     "metadata": {},
     "output_type": "execute_result"
    }
   ],
   "source": [
    "data_bin.Disorder.value_counts().index.tolist()"
   ]
  },
  {
   "cell_type": "code",
   "execution_count": 160,
   "id": "59489dd7-e4a0-45af-a83d-f9800e6784a7",
   "metadata": {},
   "outputs": [],
   "source": [
    "sample_df = pd.DataFrame()\n",
    "for samples,count in dict(zip(data_bin.Disorder.value_counts().values.tolist(),data_bin.Disorder.value_counts().index.tolist())).items():\n",
    "    if samples>1000:\n",
    "        temp = data_bin[data_bin[\"Disorder\"]==count]\n",
    "        temp = temp.sample(1000)\n",
    "    else:\n",
    "        temp = data_bin[data_bin[\"Disorder\"]==count]\n",
    "    sample_df = pd.concat([temp,sample_df])"
   ]
  },
  {
   "cell_type": "code",
   "execution_count": 161,
   "id": "af0904b4-b658-47a8-ba37-6f6f76f35fb5",
   "metadata": {},
   "outputs": [],
   "source": [
    "# sample_df = pd.DataFrame()\n",
    "# min_count = min(data_bin.Disorder.value_counts().values)\n",
    "# for cl in data_bin.Disorder.unique():\n",
    "#     temp = data_bin[data_bin[\"Disorder\"]==cl]\n",
    "#     temp = temp.sample(min_count)\n",
    "#     sample_df = pd.concat([temp,sample_df])"
   ]
  },
  {
   "cell_type": "code",
   "execution_count": 162,
   "id": "5054c188-887d-4f0e-b2f5-10642369a64e",
   "metadata": {},
   "outputs": [
    {
     "data": {
      "text/plain": [
       "Disorder\n",
       "5    1000\n",
       "6    1000\n",
       "4    1000\n",
       "1    1000\n",
       "7    1000\n",
       "2    1000\n",
       "8    1000\n",
       "3    1000\n",
       "0    1000\n",
       "Name: count, dtype: int64"
      ]
     },
     "execution_count": 162,
     "metadata": {},
     "output_type": "execute_result"
    }
   ],
   "source": [
    "sample_df.Disorder.value_counts()"
   ]
  },
  {
   "cell_type": "code",
   "execution_count": 164,
   "id": "f32438e3-8c42-4b7b-8270-a57e8e8b27f0",
   "metadata": {},
   "outputs": [],
   "source": [
    "data_bert = sample_df.copy()\n",
    "data_bert[\"tweet\"] = \"[CLS] \" +data_bert['tweet'] + \"[SEP]\"\n",
    "X = data_bert[[\"tweet\"]]\n",
    "y = data_bert[[\"Disorder\"]]\n",
    "X_train,X_temp,y_train,y_temp = train_test_split(X, y, test_size=0.3, random_state=42,stratify=y)\n",
    "X_val,X_test,y_val,y_test = train_test_split(X_temp, y_temp, test_size=0.2, random_state=42,stratify=y_temp)\n",
    "train_text = X_train[\"tweet\"].values.tolist()\n",
    "train_label = y_train[\"Disorder\"].values.tolist()\n",
    "\n",
    "val_text = X_val[\"tweet\"].values.tolist()\n",
    "val_label = y_val[\"Disorder\"].values.tolist()\n",
    "test_text =  X_test[\"tweet\"].values.tolist()\n",
    "test_label = y_test[\"Disorder\"].values.tolist()"
   ]
  },
  {
   "cell_type": "code",
   "execution_count": 165,
   "id": "258cb5ff-bc5f-4e15-8619-0f57aabaf4a5",
   "metadata": {},
   "outputs": [
    {
     "name": "stdout",
     "output_type": "stream",
     "text": [
      "(6300, 1) (2160, 1) (540, 1)\n",
      "(array([0, 1, 2, 3, 4, 5, 6, 7, 8], dtype=int64), array([700, 700, 700, 700, 700, 700, 700, 700, 700], dtype=int64))\n",
      "(array([0, 1, 2, 3, 4, 5, 6, 7, 8], dtype=int64), array([240, 240, 240, 240, 240, 240, 240, 240, 240], dtype=int64))\n",
      "(array([0, 1, 2, 3, 4, 5, 6, 7, 8], dtype=int64), array([60, 60, 60, 60, 60, 60, 60, 60, 60], dtype=int64))\n"
     ]
    }
   ],
   "source": [
    "print(X_train.shape,X_val.shape,X_test.shape)\n",
    "print(np.unique(y_train,return_counts=True))\n",
    "print(np.unique(y_val,return_counts=True))\n",
    "print(np.unique(y_test,return_counts=True))"
   ]
  },
  {
   "cell_type": "code",
   "execution_count": 166,
   "id": "7debd15b-c36e-4cd1-bf45-b3d3db165c5e",
   "metadata": {},
   "outputs": [
    {
     "data": {
      "text/plain": [
       "(6300, 6300)"
      ]
     },
     "execution_count": 166,
     "metadata": {},
     "output_type": "execute_result"
    }
   ],
   "source": [
    "len(train_text),len(train_label)"
   ]
  },
  {
   "cell_type": "code",
   "execution_count": 167,
   "id": "7108b5c1-9bbb-4dcf-a40f-664bfb9549e9",
   "metadata": {},
   "outputs": [
    {
     "data": {
      "text/plain": [
       "(2160, 2160)"
      ]
     },
     "execution_count": 167,
     "metadata": {},
     "output_type": "execute_result"
    }
   ],
   "source": [
    "len(val_text),len(val_label)"
   ]
  },
  {
   "cell_type": "code",
   "execution_count": 168,
   "id": "ffbde75c-b113-4e3c-8fd7-2a8c87c10440",
   "metadata": {},
   "outputs": [
    {
     "data": {
      "text/plain": [
       "Disorder\n",
       "2    700\n",
       "4    700\n",
       "3    700\n",
       "6    700\n",
       "5    700\n",
       "7    700\n",
       "1    700\n",
       "0    700\n",
       "8    700\n",
       "Name: count, dtype: int64"
      ]
     },
     "execution_count": 168,
     "metadata": {},
     "output_type": "execute_result"
    }
   ],
   "source": [
    "y_train.Disorder.value_counts()"
   ]
  },
  {
   "cell_type": "code",
   "execution_count": 169,
   "id": "a0d04548-3be6-49c7-9a3e-5c7f5e7ff93a",
   "metadata": {},
   "outputs": [
    {
     "data": {
      "text/plain": [
       "Disorder\n",
       "3    60\n",
       "5    60\n",
       "1    60\n",
       "0    60\n",
       "4    60\n",
       "2    60\n",
       "8    60\n",
       "7    60\n",
       "6    60\n",
       "Name: count, dtype: int64"
      ]
     },
     "execution_count": 169,
     "metadata": {},
     "output_type": "execute_result"
    }
   ],
   "source": [
    "y_test.Disorder.value_counts()"
   ]
  },
  {
   "cell_type": "code",
   "execution_count": null,
   "id": "a936913b-4ba5-4704-b4cb-cc4b49b10347",
   "metadata": {},
   "outputs": [],
   "source": []
  },
  {
   "cell_type": "code",
   "execution_count": 170,
   "id": "f559befa-ec21-48e0-b371-ac7d89df6921",
   "metadata": {},
   "outputs": [],
   "source": [
    "BERT_TOKENS_LENGTH = 256\n",
    "max_length_sequence = min(max([len(doc) for doc in corpus]),BERT_TOKENS_LENGTH)\n",
    "train_encoding = bert_tokenizer.batch_encode_plus(train_text,\n",
    "                                              padding=True,\n",
    "                                              truncation=True,\n",
    "                                              max_length = max_length_sequence,\n",
    "                                              return_tensors='tf')\n",
    "val_encoding = bert_tokenizer.batch_encode_plus(val_text,\n",
    "                                              padding=True, \n",
    "                                            truncation=True,\n",
    "                                              max_length = max_length_sequence,\n",
    "                                              return_tensors='tf')"
   ]
  },
  {
   "cell_type": "code",
   "execution_count": 171,
   "id": "bcbe0174-d345-40a8-8527-c1041ffcd18b",
   "metadata": {},
   "outputs": [
    {
     "data": {
      "text/plain": [
       "(TensorShape([6300, 79]), TensorShape([2160, 50]))"
      ]
     },
     "execution_count": 171,
     "metadata": {},
     "output_type": "execute_result"
    }
   ],
   "source": [
    "train_encoding[\"input_ids\"].shape,val_encoding[\"input_ids\"].shape"
   ]
  },
  {
   "cell_type": "code",
   "execution_count": 179,
   "id": "9de3d4da-9004-4340-9327-ec6d4ff84696",
   "metadata": {},
   "outputs": [],
   "source": [
    "loss = tf.keras.losses.SparseCategoricalCrossentropy(from_logits=True)\n",
    "metric = tf.keras.metrics.SparseCategoricalAccuracy('accuracy')\n",
    "bert_model.compile(optimizer=\"adam\", loss=loss, metrics=[metric])"
   ]
  },
  {
   "cell_type": "code",
   "execution_count": 180,
   "id": "89c085ad-abe5-4c5e-b024-3837eda6ce7f",
   "metadata": {},
   "outputs": [
    {
     "name": "stdout",
     "output_type": "stream",
     "text": [
      "Model: \"tf_bert_for_sequence_classification\"\n",
      "_________________________________________________________________\n",
      " Layer (type)                Output Shape              Param #   \n",
      "=================================================================\n",
      " bert (TFBertMainLayer)      multiple                  109482240 \n",
      "                                                                 \n",
      " dropout_83 (Dropout)        multiple                  0         \n",
      "                                                                 \n",
      " classifier (Dense)          multiple                  6921      \n",
      "                                                                 \n",
      "=================================================================\n",
      "Total params: 109,489,161\n",
      "Trainable params: 109,489,161\n",
      "Non-trainable params: 0\n",
      "_________________________________________________________________\n"
     ]
    }
   ],
   "source": [
    "bert_model.summary()"
   ]
  },
  {
   "cell_type": "code",
   "execution_count": 181,
   "id": "d3baf4df-b065-4b09-bbdc-e7c80c4444b3",
   "metadata": {},
   "outputs": [
    {
     "name": "stdout",
     "output_type": "stream",
     "text": [
      "Epoch 1/3\n",
      "394/394 [==============================] - 168s 319ms/step - loss: 2.3202 - accuracy: 0.1144 - val_loss: 2.3644 - val_accuracy: 0.1111\n",
      "Epoch 2/3\n",
      "394/394 [==============================] - 121s 306ms/step - loss: 2.2797 - accuracy: 0.1086 - val_loss: 2.2397 - val_accuracy: 0.1111\n",
      "Epoch 3/3\n",
      "394/394 [==============================] - 121s 308ms/step - loss: 2.2396 - accuracy: 0.1084 - val_loss: 2.2031 - val_accuracy: 0.1111\n"
     ]
    }
   ],
   "source": [
    "early_stopping = EarlyStopping(monitor='val_loss', patience=2)\n",
    "\n",
    "history = bert_model.fit(\n",
    "    [train_encoding['input_ids'], train_encoding['token_type_ids'], train_encoding['attention_mask']],\n",
    "    tf.convert_to_tensor(train_label, dtype=tf.int32),\n",
    "    validation_data=(\n",
    "      [val_encoding['input_ids'], val_encoding['token_type_ids'], val_encoding['attention_mask']], \n",
    "        tf.convert_to_tensor(val_label, dtype=tf.int32)),\n",
    "    batch_size=16,\n",
    "    epochs=3,\n",
    "    callbacks = [early_stopping]\n",
    ")"
   ]
  },
  {
   "cell_type": "code",
   "execution_count": 182,
   "id": "4c6ac42b-2ffc-4791-8603-13e71ea3e0ae",
   "metadata": {},
   "outputs": [],
   "source": [
    "test_encoding = bert_tokenizer.batch_encode_plus(test_text,\n",
    "                                              padding=True, \n",
    "                                            truncation=True,\n",
    "                                              max_length = max_length_sequence,\n",
    "                                              return_tensors='tf')"
   ]
  },
  {
   "cell_type": "code",
   "execution_count": 183,
   "id": "e52fffc7-7386-4001-bf42-06523e197753",
   "metadata": {},
   "outputs": [
    {
     "name": "stdout",
     "output_type": "stream",
     "text": [
      "17/17 [==============================] - 10s 149ms/step - loss: 2.2031 - accuracy: 0.1111\n"
     ]
    }
   ],
   "source": [
    "test_loss, test_accuracy = bert_model.evaluate(\n",
    "    [test_encoding['input_ids'], test_encoding['token_type_ids'], test_encoding['attention_mask']],\n",
    "    tf.convert_to_tensor(test_label)\n",
    ")"
   ]
  },
  {
   "cell_type": "code",
   "execution_count": 184,
   "id": "a823d842-b2f1-4174-bdf6-8ca3ae2d6987",
   "metadata": {},
   "outputs": [
    {
     "data": {
      "text/plain": [
       "(2.2030820846557617, 0.1111111119389534)"
      ]
     },
     "execution_count": 184,
     "metadata": {},
     "output_type": "execute_result"
    }
   ],
   "source": [
    "test_loss, test_accuracy"
   ]
  },
  {
   "cell_type": "code",
   "execution_count": 185,
   "id": "58678a5d-2471-4c5e-a48f-5563a0cdfef8",
   "metadata": {},
   "outputs": [
    {
     "name": "stdout",
     "output_type": "stream",
     "text": [
      "17/17 [==============================] - 9s 139ms/step\n"
     ]
    }
   ],
   "source": [
    "test_pred = bert_model.predict(\n",
    "    [test_encoding['input_ids'], test_encoding['token_type_ids'], test_encoding['attention_mask']])"
   ]
  },
  {
   "cell_type": "code",
   "execution_count": 186,
   "id": "f8f11db7-e4b2-4ac5-b55f-d7a6e32f6a2f",
   "metadata": {},
   "outputs": [],
   "source": [
    "test_logits = test_pred.logits\n",
    "test_pred_labels = tf.argmax(test_logits, axis=1)\n",
    "test_pred_labels = test_pred_labels.numpy()"
   ]
  },
  {
   "cell_type": "code",
   "execution_count": 187,
   "id": "e08845be-c4c5-4668-b15b-058ba25a8f1c",
   "metadata": {},
   "outputs": [
    {
     "data": {
      "text/plain": [
       "array([8, 8, 8, 8, 8, 8, 8, 8, 8, 8, 8, 8, 8, 8, 8, 8, 8, 8, 8, 8, 8, 8,\n",
       "       8, 8, 8, 8, 8, 8, 8, 8, 8, 8, 8, 8, 8, 8, 8, 8, 8, 8, 8, 8, 8, 8,\n",
       "       8, 8, 8, 8, 8, 8, 8, 8, 8, 8, 8, 8, 8, 8, 8, 8, 8, 8, 8, 8, 8, 8,\n",
       "       8, 8, 8, 8, 8, 8, 8, 8, 8, 8, 8, 8, 8, 8, 8, 8, 8, 8, 8, 8, 8, 8,\n",
       "       8, 8, 8, 8, 8, 8, 8, 8, 8, 8, 8, 8, 8, 8, 8, 8, 8, 8, 8, 8, 8, 8,\n",
       "       8, 8, 8, 8, 8, 8, 8, 8, 8, 8, 8, 8, 8, 8, 8, 8, 8, 8, 8, 8, 8, 8,\n",
       "       8, 8, 8, 8, 8, 8, 8, 8, 8, 8, 8, 8, 8, 8, 8, 8, 8, 8, 8, 8, 8, 8,\n",
       "       8, 8, 8, 8, 8, 8, 8, 8, 8, 8, 8, 8, 8, 8, 8, 8, 8, 8, 8, 8, 8, 8,\n",
       "       8, 8, 8, 8, 8, 8, 8, 8, 8, 8, 8, 8, 8, 8, 8, 8, 8, 8, 8, 8, 8, 8,\n",
       "       8, 8, 8, 8, 8, 8, 8, 8, 8, 8, 8, 8, 8, 8, 8, 8, 8, 8, 8, 8, 8, 8,\n",
       "       8, 8, 8, 8, 8, 8, 8, 8, 8, 8, 8, 8, 8, 8, 8, 8, 8, 8, 8, 8, 8, 8,\n",
       "       8, 8, 8, 8, 8, 8, 8, 8, 8, 8, 8, 8, 8, 8, 8, 8, 8, 8, 8, 8, 8, 8,\n",
       "       8, 8, 8, 8, 8, 8, 8, 8, 8, 8, 8, 8, 8, 8, 8, 8, 8, 8, 8, 8, 8, 8,\n",
       "       8, 8, 8, 8, 8, 8, 8, 8, 8, 8, 8, 8, 8, 8, 8, 8, 8, 8, 8, 8, 8, 8,\n",
       "       8, 8, 8, 8, 8, 8, 8, 8, 8, 8, 8, 8, 8, 8, 8, 8, 8, 8, 8, 8, 8, 8,\n",
       "       8, 8, 8, 8, 8, 8, 8, 8, 8, 8, 8, 8, 8, 8, 8, 8, 8, 8, 8, 8, 8, 8,\n",
       "       8, 8, 8, 8, 8, 8, 8, 8, 8, 8, 8, 8, 8, 8, 8, 8, 8, 8, 8, 8, 8, 8,\n",
       "       8, 8, 8, 8, 8, 8, 8, 8, 8, 8, 8, 8, 8, 8, 8, 8, 8, 8, 8, 8, 8, 8,\n",
       "       8, 8, 8, 8, 8, 8, 8, 8, 8, 8, 8, 8, 8, 8, 8, 8, 8, 8, 8, 8, 8, 8,\n",
       "       8, 8, 8, 8, 8, 8, 8, 8, 8, 8, 8, 8, 8, 8, 8, 8, 8, 8, 8, 8, 8, 8,\n",
       "       8, 8, 8, 8, 8, 8, 8, 8, 8, 8, 8, 8, 8, 8, 8, 8, 8, 8, 8, 8, 8, 8,\n",
       "       8, 8, 8, 8, 8, 8, 8, 8, 8, 8, 8, 8, 8, 8, 8, 8, 8, 8, 8, 8, 8, 8,\n",
       "       8, 8, 8, 8, 8, 8, 8, 8, 8, 8, 8, 8, 8, 8, 8, 8, 8, 8, 8, 8, 8, 8,\n",
       "       8, 8, 8, 8, 8, 8, 8, 8, 8, 8, 8, 8, 8, 8, 8, 8, 8, 8, 8, 8, 8, 8,\n",
       "       8, 8, 8, 8, 8, 8, 8, 8, 8, 8, 8, 8], dtype=int64)"
      ]
     },
     "execution_count": 187,
     "metadata": {},
     "output_type": "execute_result"
    }
   ],
   "source": [
    "test_pred_labels"
   ]
  },
  {
   "cell_type": "code",
   "execution_count": 189,
   "id": "bcec00f5-7867-4a6d-92a7-21b918528c73",
   "metadata": {},
   "outputs": [
    {
     "data": {
      "text/plain": [
       "array([8], dtype=int64)"
      ]
     },
     "execution_count": 189,
     "metadata": {},
     "output_type": "execute_result"
    }
   ],
   "source": [
    "np.unique(test_pred_labels)"
   ]
  },
  {
   "cell_type": "code",
   "execution_count": 190,
   "id": "d7a0cd9b-6514-4c67-bc39-2b7fe7741a9e",
   "metadata": {},
   "outputs": [
    {
     "name": "stdout",
     "output_type": "stream",
     "text": [
      "197/197 [==============================] - 45s 193ms/step\n"
     ]
    }
   ],
   "source": [
    "train_pred = bert_model.predict(\n",
    "    [train_encoding['input_ids'], train_encoding['token_type_ids'], train_encoding['attention_mask']])"
   ]
  },
  {
   "cell_type": "code",
   "execution_count": 191,
   "id": "a1065976-58ce-49b3-9fff-2a68e878ee2a",
   "metadata": {},
   "outputs": [],
   "source": [
    "train_logits = train_pred.logits\n",
    "train_labels = tf.argmax(train_logits, axis=1)\n",
    "train_labels = train_labels.numpy()"
   ]
  },
  {
   "cell_type": "code",
   "execution_count": 192,
   "id": "2ac108a6-2b5f-439b-b8ce-7bf363d0ec0c",
   "metadata": {},
   "outputs": [
    {
     "data": {
      "text/plain": [
       "array([8], dtype=int64)"
      ]
     },
     "execution_count": 192,
     "metadata": {},
     "output_type": "execute_result"
    }
   ],
   "source": [
    "np.unique(train_labels)"
   ]
  },
  {
   "cell_type": "code",
   "execution_count": 195,
   "id": "38424dac-261a-4dcd-ace3-09d7302a7991",
   "metadata": {},
   "outputs": [],
   "source": [
    "train_performance_table = classification_metrics(y_train.values,train_labels,\"macro\")\n",
    "test_performance_table = classification_metrics(y_test.values,test_pred_labels,\"macro\")"
   ]
  },
  {
   "cell_type": "code",
   "execution_count": 196,
   "id": "0b5d920d-02dc-4cd3-9d57-9f788fb0b77e",
   "metadata": {},
   "outputs": [
    {
     "data": {
      "text/html": [
       "<div>\n",
       "<style scoped>\n",
       "    .dataframe tbody tr th:only-of-type {\n",
       "        vertical-align: middle;\n",
       "    }\n",
       "\n",
       "    .dataframe tbody tr th {\n",
       "        vertical-align: top;\n",
       "    }\n",
       "\n",
       "    .dataframe thead th {\n",
       "        text-align: right;\n",
       "    }\n",
       "</style>\n",
       "<table border=\"1\" class=\"dataframe\">\n",
       "  <thead>\n",
       "    <tr style=\"text-align: right;\">\n",
       "      <th></th>\n",
       "      <th>precision</th>\n",
       "      <th>recall</th>\n",
       "      <th>f1</th>\n",
       "      <th>accuracy</th>\n",
       "    </tr>\n",
       "  </thead>\n",
       "  <tbody>\n",
       "    <tr>\n",
       "      <th>0</th>\n",
       "      <td>0.012346</td>\n",
       "      <td>0.111111</td>\n",
       "      <td>0.022222</td>\n",
       "      <td>0.111111</td>\n",
       "    </tr>\n",
       "  </tbody>\n",
       "</table>\n",
       "</div>"
      ],
      "text/plain": [
       "   precision    recall        f1  accuracy\n",
       "0   0.012346  0.111111  0.022222  0.111111"
      ]
     },
     "execution_count": 196,
     "metadata": {},
     "output_type": "execute_result"
    }
   ],
   "source": [
    "train_performance_table"
   ]
  },
  {
   "cell_type": "code",
   "execution_count": 197,
   "id": "e29c5ae2-8cda-488d-8ba4-e58c6f71a890",
   "metadata": {},
   "outputs": [
    {
     "data": {
      "text/html": [
       "<div>\n",
       "<style scoped>\n",
       "    .dataframe tbody tr th:only-of-type {\n",
       "        vertical-align: middle;\n",
       "    }\n",
       "\n",
       "    .dataframe tbody tr th {\n",
       "        vertical-align: top;\n",
       "    }\n",
       "\n",
       "    .dataframe thead th {\n",
       "        text-align: right;\n",
       "    }\n",
       "</style>\n",
       "<table border=\"1\" class=\"dataframe\">\n",
       "  <thead>\n",
       "    <tr style=\"text-align: right;\">\n",
       "      <th></th>\n",
       "      <th>precision</th>\n",
       "      <th>recall</th>\n",
       "      <th>f1</th>\n",
       "      <th>accuracy</th>\n",
       "    </tr>\n",
       "  </thead>\n",
       "  <tbody>\n",
       "    <tr>\n",
       "      <th>0</th>\n",
       "      <td>0.012346</td>\n",
       "      <td>0.111111</td>\n",
       "      <td>0.022222</td>\n",
       "      <td>0.111111</td>\n",
       "    </tr>\n",
       "  </tbody>\n",
       "</table>\n",
       "</div>"
      ],
      "text/plain": [
       "   precision    recall        f1  accuracy\n",
       "0   0.012346  0.111111  0.022222  0.111111"
      ]
     },
     "execution_count": 197,
     "metadata": {},
     "output_type": "execute_result"
    }
   ],
   "source": [
    "test_performance_table"
   ]
  },
  {
   "cell_type": "code",
   "execution_count": 198,
   "id": "9b6f2f11-28bc-41ad-8c0a-60dba20e1417",
   "metadata": {},
   "outputs": [
    {
     "data": {
      "image/png": "[encoded data removed]",
      "text/plain": [
       "<Figure size 640x480 with 1 Axes>"
      ]
     },
     "metadata": {},
     "output_type": "display_data"
    }
   ],
   "source": [
    "plt.plot(history.history['loss'])\n",
    "plt.plot(history.history['val_loss'])\n",
    "plt.title('training vs validation loss')\n",
    "plt.ylabel('loss')\n",
    "plt.xlabel('epoch')\n",
    "plt.legend(['train', 'validation'], loc='upper left')\n",
    "plt.show()"
   ]
  },
  {
   "cell_type": "code",
   "execution_count": null,
   "id": "566d2a26-ddc7-440a-a91e-6d8897521271",
   "metadata": {},
   "outputs": [],
   "source": []
  }
 ],
 "metadata": {
  "kernelspec": {
   "display_name": "Python 3 (ipykernel)",
   "language": "python",
   "name": "python3"
  },
  "language_info": {
   "codemirror_mode": {
    "name": "ipython",
    "version": 3
   },
   "file_extension": ".py",
   "mimetype": "text/x-python",
   "name": "python",
   "nbconvert_exporter": "python",
   "pygments_lexer": "ipython3",
   "version": "3.11.9"
  }
 },
 "nbformat": 4,
 "nbformat_minor": 5
}
