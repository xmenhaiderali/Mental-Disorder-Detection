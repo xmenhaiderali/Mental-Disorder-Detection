{
 "cells": [
  {
   "cell_type": "code",
   "execution_count": 6,
   "id": "87e21a07-9d57-42e9-a2d9-cea2cbd7342f",
   "metadata": {},
   "outputs": [
    {
     "name": "stderr",
     "output_type": "stream",
     "text": [
      "[nltk_data] Downloading package wordnet to C:\\Users\\Ali\n",
      "[nltk_data]     Haider\\AppData\\Roaming\\nltk_data...\n",
      "[nltk_data]   Package wordnet is already up-to-date!\n",
      "[nltk_data] Downloading package stopwords to C:\\Users\\Ali\n",
      "[nltk_data]     Haider\\AppData\\Roaming\\nltk_data...\n",
      "[nltk_data]   Package stopwords is already up-to-date!\n"
     ]
    },
    {
     "data": {
      "text/plain": [
       "True"
      ]
     },
     "execution_count": 6,
     "metadata": {},
     "output_type": "execute_result"
    }
   ],
   "source": [
    "import pandas as pd\n",
    "import numpy as np\n",
    "from pathlib import Path\n",
    "from tqdm import tqdm\n",
    "import matplotlib.pyplot as plt\n",
    "from textblob import TextBlob\n",
    "import advertools\n",
    "import re\n",
    "import spacy\n",
    "import xgboost\n",
    "from sklearn.feature_extraction.text import TfidfVectorizer\n",
    "from sklearn.model_selection import train_test_split\n",
    "from sklearn.linear_model import LogisticRegression\n",
    "from sklearn.metrics import (classification_report,auc, \n",
    "                            roc_auc_score, precision_score,\n",
    "                            recall_score,f1_score, accuracy_score)\n",
    "from sklearn.ensemble import RandomForestClassifier, AdaBoostClassifier\n",
    "from sklearn.svm import SVC\n",
    "from sklearn.tree import DecisionTreeClassifier\n",
    "from sklearn.naive_bayes import GaussianNB\n",
    "import seaborn as sns\n",
    "# import contextualSpellCheck\n",
    "import nltk\n",
    "import nltk.util\n",
    "from nltk.corpus import stopwords\n",
    "from nltk.stem import WordNetLemmatizer\n",
    "import warnings\n",
    "warnings.filterwarnings(\"ignore\")\n",
    "nltk.download(\"wordnet\")\n",
    "nltk.download(\"stopwords\")"
   ]
  },
  {
   "cell_type": "code",
   "execution_count": 2,
   "id": "f6928cf4-ec7c-4097-9b8e-ed76aaf813e8",
   "metadata": {},
   "outputs": [],
   "source": [
    "data_path = Path.cwd().parent/\"Data\"\n",
    "final_data = pd.read_csv(\"control_data.csv\")\n",
    "final_data.rename(columns={\"Disorder\":\"class\"}, inplace=True)"
   ]
  },
  {
   "cell_type": "code",
   "execution_count": 3,
   "id": "4806db0c-48fb-4932-8d2a-05c954986b04",
   "metadata": {},
   "outputs": [],
   "source": [
    "pipeline_data = final_data.copy()"
   ]
  },
  {
   "cell_type": "markdown",
   "id": "11c87c5d-119b-4790-8344-1b9d83a534fe",
   "metadata": {},
   "source": [
    "# Data Preprocessing"
   ]
  },
  {
   "cell_type": "code",
   "execution_count": 5,
   "id": "724da0c0-dab7-41cd-baaf-e8bc3382621d",
   "metadata": {},
   "outputs": [],
   "source": [
    "def clean_text(text:str) -> str:\n",
    "    tokens = advertools.word_tokenize(text,phrase_len=1)\n",
    "    emoji_token = advertools.extract_emoji(tokens[0])\n",
    "    emoji_token = emoji_token[\"emoji_text\"]\n",
    "    for tok in range(0,len(emoji_token)):\n",
    "        if emoji_token[tok]:\n",
    "            tokens[0][tok] = \" \".join(emoji_token[tok])\n",
    "    clean_text = \" \".join(tokens[0])\n",
    "    clean_pattern = r\"@\\w+|#\\w+|\\W+|x+|https\\.\\//www\\.(\\w+|\\W+)\\.com|http\\w*|www\\.(\\w+|\\W+)\\.com|user\\w*|\\d+\"\n",
    "    clean_text = re.sub(clean_pattern,\" \",clean_text).strip()\n",
    "    clean_text = re.sub(r\"\\s+\",\" \",clean_text).strip()\n",
    "    return clean_text"
   ]
  },
  {
   "cell_type": "code",
   "execution_count": 6,
   "id": "dfd1d22c-815a-4938-8685-0afc1297ae99",
   "metadata": {},
   "outputs": [],
   "source": [
    "def text_lemmatize(text: str) -> str:\n",
    "    lemma = WordNetLemmatizer()\n",
    "    tokens = advertools.word_tokenize(text,phrase_len=1)\n",
    "    text = [lemma.lemmatize(tok) for tok in tokens[0]]\n",
    "    return \" \".join(text)"
   ]
  },
  {
   "cell_type": "code",
   "execution_count": 7,
   "id": "6fd6338c-b672-45ed-831a-471f8a3edb96",
   "metadata": {},
   "outputs": [],
   "source": [
    "def spell_check(text:str) -> str:\n",
    "    nlp = spacy.load(\"en_core_web_sm\")\n",
    "    nlp.add_pipe(\"contextual spellchecker\")\n",
    "    doc = nlp(text)\n",
    "    return doc._.outcome_spellCheck"
   ]
  },
  {
   "cell_type": "code",
   "execution_count": 8,
   "id": "4dbfa883-befb-403f-862f-4c8caf70af55",
   "metadata": {},
   "outputs": [],
   "source": [
    "def remove_stopword(text: str) -> str:\n",
    "    tokens = advertools.word_tokenize(text,phrase_len=1)[0]\n",
    "    stop_words = stopwords.words(\"english\")\n",
    "    clean_word = [tok for tok in tokens if tok not in stop_words]\n",
    "    return \" \".join(clean_word)"
   ]
  },
  {
   "cell_type": "markdown",
   "id": "952448f0-9aa8-44c8-9cbc-7cc7a9dd218f",
   "metadata": {},
   "source": [
    "# Vectorization"
   ]
  },
  {
   "cell_type": "code",
   "execution_count": 9,
   "id": "9636e634-0a99-4660-b38e-d5b3d94f6fea",
   "metadata": {},
   "outputs": [],
   "source": [
    "def generate_n_grams(text: str, n: list[int]) -> list[tuple]:\n",
    "    tokens = advertools.word_tokenize(text,phrase_len=1)[0]\n",
    "    if len(n)<=1:\n",
    "        n_grams = list(nltk.ngrams(tokens,n[0],pad_right=True,right_pad_symbol=\"</s>\"))\n",
    "        bag_ngrams = \" \".join([\"_\".join(c) for c in n_grams])\n",
    "    else:\n",
    "        bag_ngrams = \" \"\n",
    "        for n_gram in range(n[0],n[1]+1):\n",
    "            n_grams = list(nltk.ngrams(tokens,n_gram,pad_right=True,right_pad_symbol=\"</s>\"))\n",
    "            if n_gram==1:       \n",
    "                n_grams = \" \".join([\"\".join(c[0]) for c in n_grams])\n",
    "                bag_ngrams+=n_grams\n",
    "            else:\n",
    "                n_grams = \" \".join([\"_\".join(c) for c in n_grams])\n",
    "                bag_ngrams+=\" \"+n_grams\n",
    "    return bag_ngrams"
   ]
  },
  {
   "cell_type": "code",
   "execution_count": 10,
   "id": "30a93b6f-c571-47c6-a5c2-8545bf20044c",
   "metadata": {},
   "outputs": [],
   "source": [
    "def tfidf(train: pd.DataFrame, test:pd.DataFrame()):\n",
    "    tf_idf = TfidfVectorizer()\n",
    "    train_feat = tf_idf.fit_transform(train)\n",
    "    test_feat = tf_idf.transform(test)\n",
    "    return train_feat,test_feat"
   ]
  },
  {
   "cell_type": "markdown",
   "id": "3f4497c0-1e7a-46cd-97da-caa8bfcab4bb",
   "metadata": {},
   "source": [
    "# ML Models"
   ]
  },
  {
   "cell_type": "code",
   "execution_count": 11,
   "id": "37b5564a-396e-4e58-ab02-2f6238815dcc",
   "metadata": {
    "scrolled": true
   },
   "outputs": [],
   "source": [
    "def classification_metrics(actuals: np.array, preds: np.array) -> pd.DataFrame:\n",
    "    metrics_performance = pd.DataFrame()\n",
    "    precision_0 = precision_score(actuals,preds, pos_label=0)\n",
    "    precision_1 = precision_score(actuals,preds, pos_label=1)\n",
    "    recall_0 = recall_score(actuals,preds,pos_label=0)\n",
    "    recall_1 = recall_score(actuals,preds,pos_label=1)\n",
    "    f1_0 = f1_score(actuals,preds,pos_label=0)\n",
    "    f1_1 = f1_score(actuals,preds,pos_label=1)\n",
    "    accuracy = accuracy_score(actuals,preds)\n",
    "    metrics_performance[\"precision_0\"] = [precision_0]\n",
    "    metrics_performance[\"precision_1\"] = [precision_1]\n",
    "    metrics_performance[\"recall_0\"] = [recall_0]\n",
    "    metrics_performance[\"recall_1\"] = [recall_1]\n",
    "    metrics_performance[\"f1_0\"] = [f1_0]\n",
    "    metrics_performance[\"f1_1\"] = [f1_1]\n",
    "    metrics_performance[\"accuracy\"] = [accuracy]\n",
    "    return metrics_performance"
   ]
  },
  {
   "cell_type": "code",
   "execution_count": 12,
   "id": "71a063ff-ee50-4f55-aea6-6bb6c8c1a3ef",
   "metadata": {},
   "outputs": [],
   "source": [
    "def build_models(preprocessed_data: pd.DataFrame, \n",
    "                 label: str, \n",
    "                 weights: bool,\n",
    "                 filename: str) -> pd.DataFrame:\n",
    "    X = preprocessed_data[[\"text_features\"]]\n",
    "    y = preprocessed_data[[label]]\n",
    "    X_train,X_test,y_train,y_test = train_test_split(X,y,test_size=0.2,\n",
    "                                                 stratify=y,random_state=42)\n",
    "    metrics_performance = pd.DataFrame()\n",
    "    train_data,test_data = tfidf(X_train[\"text_features\"],X_test[\"text_features\"])\n",
    "    print(\"logistic regression started\")\n",
    "    log_reg = LogisticRegression(n_jobs=-1)\n",
    "    log_reg.fit(train_data,y_train)\n",
    "    y_pred = log_reg.predict(test_data)\n",
    "    log_reg_perf = classification_metrics(np.squeeze(y_test.values),y_pred)\n",
    "    log_reg_perf[\"models\"] = \"Logistic Regression\"\n",
    "    if weights:\n",
    "        w_1 = len(X_train)/(2*y_train.value_counts()[1])\n",
    "        w_0 = len(X_train)/(2*y_train.value_counts()[0])\n",
    "        class_weights = {0:w_0,1:w_1}\n",
    "        print(\"Weighted model initialized\")\n",
    "        rand_clf = RandomForestClassifier(n_jobs=-1,class_weight=class_weights)\n",
    "        svm_clf_rbf = SVC(class_weight=class_weights)\n",
    "        svm_clf_lr = SVC(class_weight=class_weights,kernel=\"linear\")\n",
    "        svm_clf_poly = SVC(class_weight=class_weights,kernel=\"poly\",degree=3)\n",
    "        dt_clf = DecisionTreeClassifier(class_weight=class_weights)\n",
    "    else:\n",
    "        print(\"Non-Weighted model initialized\")\n",
    "        rand_clf = RandomForestClassifier(n_jobs=-1)\n",
    "        svm_clf_rbf = SVC()\n",
    "        svm_clf_lr = SVC(kernel=\"linear\")\n",
    "        svm_clf_poly = SVC(kernel=\"poly\",degree=3)\n",
    "        dt_clf = DecisionTreeClassifier()\n",
    "    print(\"Random Forest started\")\n",
    "    rand_clf.fit(train_data,y_train)\n",
    "    y_pred = rand_clf.predict(test_data)\n",
    "    rand_forest_perf = classification_metrics(np.squeeze(y_test.values),y_pred)\n",
    "    rand_forest_perf[\"models\"] = \"Random Forest\"\n",
    "    xgb_clf = xgboost.XGBClassifier(learning_rate = 1, \n",
    "                                 n_estimators=100,\n",
    "                                 max_depth=3,\n",
    "                                 min_child_weight=1,\n",
    "                                 gamma=0,\n",
    "                                 subsample=1.0,\n",
    "                                 reg_alpha = 0,\n",
    "                                 reg_lambda = 1,\n",
    "                                 objective= 'binary:logistic',\n",
    "                                 booster = \"gbtree\")\n",
    "    print(\"XGBOOST started\")\n",
    "    xgb_clf.fit(train_data,y_train)\n",
    "    y_pred = xgb_clf.predict(test_data)\n",
    "    xgb_perf = classification_metrics(np.squeeze(y_test.values),y_pred)\n",
    "    xgb_perf[\"models\"] = \"XGBOOST\"\n",
    "    print(\"SVM rbf started\")\n",
    "    svm_clf_rbf.fit(train_data,y_train)\n",
    "    y_pred = svm_clf_rbf.predict(test_data)\n",
    "    svm_rbf_perf = classification_metrics(np.squeeze(y_test.values),y_pred)\n",
    "    svm_rbf_perf[\"models\"] = \"SVM_rbf\"\n",
    "    print(\"SVM linear started\")\n",
    "    svm_clf_lr.fit(train_data,y_train)\n",
    "    y_pred = svm_clf_lr.predict(test_data)\n",
    "    svm_lr_perf = classification_metrics(np.squeeze(y_test.values),y_pred)\n",
    "    svm_lr_perf[\"models\"] = \"SVM_linear\"\n",
    "    print(\"SVM poly started\")\n",
    "    svm_clf_poly.fit(train_data,y_train)\n",
    "    y_pred = svm_clf_poly.predict(test_data)\n",
    "    svm_poly_perf = classification_metrics(np.squeeze(y_test.values),y_pred)\n",
    "    svm_poly_perf[\"models\"] = \"SVM_poly\"\n",
    "    print(\"Decision Tree started\")\n",
    "    dt_clf.fit(train_data,y_train)\n",
    "    y_pred = dt_clf.predict(test_data)\n",
    "    dt_clf_perf = classification_metrics(np.squeeze(y_test.values),y_pred)\n",
    "    dt_clf_perf[\"models\"] = \"Decision Tree\"\n",
    "    performance_table = pd.concat([log_reg_perf,rand_forest_perf,\n",
    "                                   xgb_perf,svm_rbf_perf,svm_lr_perf,\n",
    "                                  svm_poly_perf,dt_clf_perf],axis=0)\n",
    "    performance_table.to_csv(filename,index=False)\n",
    "    return performance_table"
   ]
  },
  {
   "cell_type": "markdown",
   "id": "47bbc3e3-596e-495d-9824-832875ce00b2",
   "metadata": {},
   "source": [
    "## EDA"
   ]
  },
  {
   "cell_type": "code",
   "execution_count": 13,
   "id": "e63f7c2a-c946-4df9-b406-53f3f874d750",
   "metadata": {},
   "outputs": [
    {
     "data": {
      "text/plain": [
       "array(['SCHIZOPHRENIA', 'ADHD', 'CONTROL', 'PTSD', 'OCD', 'DEPRESSION',\n",
       "       'BIPOLAR', 'ANXIETY', 'EATING DISORDER', 'AUTISM'], dtype=object)"
      ]
     },
     "execution_count": 13,
     "metadata": {},
     "output_type": "execute_result"
    }
   ],
   "source": [
    "final_data[\"class\"].unique()"
   ]
  },
  {
   "cell_type": "code",
   "execution_count": 14,
   "id": "7a011acd-06a6-4d7f-b847-6d561607aa04",
   "metadata": {},
   "outputs": [
    {
     "data": {
      "text/plain": [
       "class    0\n",
       "tweet    0\n",
       "dtype: int64"
      ]
     },
     "execution_count": 14,
     "metadata": {},
     "output_type": "execute_result"
    }
   ],
   "source": [
    "final_data = final_data[~(final_data[\"tweet\"].isnull())]\n",
    "final_data.isnull().sum()"
   ]
  },
  {
   "cell_type": "code",
   "execution_count": 1,
   "id": "2ffcde00-c0b0-44d8-8920-b7227733a72c",
   "metadata": {},
   "outputs": [],
   "source": [
    "final_data = final_data[[\"class\",\"tweet\"]]\n",
    "final_data.rename(columns={\"class\":\"Disorder\"}, inplace=True)\n",
    "final_data.head()"
   ]
  },
  {
   "cell_type": "code",
   "execution_count": 16,
   "id": "6614cbe1-a2ec-4a37-a446-f0af0fea5ba0",
   "metadata": {},
   "outputs": [
    {
     "data": {
      "text/plain": [
       "Disorder\n",
       "CONTROL            18648\n",
       "ADHD                3034\n",
       "SCHIZOPHRENIA       2970\n",
       "OCD                 2905\n",
       "ANXIETY             2729\n",
       "PTSD                2466\n",
       "DEPRESSION          2161\n",
       "AUTISM              1425\n",
       "EATING DISORDER      403\n",
       "BIPOLAR              244\n",
       "Name: count, dtype: int64"
      ]
     },
     "execution_count": 16,
     "metadata": {},
     "output_type": "execute_result"
    }
   ],
   "source": [
    "final_data['Disorder'].value_counts()"
   ]
  },
  {
   "cell_type": "code",
   "execution_count": 17,
   "id": "112b204c-f35a-4a56-aa93-5b12e5ea9e11",
   "metadata": {},
   "outputs": [
    {
     "data": {
      "image/png": "[encoded data removed]",
      "text/plain": [
       "<Figure size 640x480 with 1 Axes>"
      ]
     },
     "metadata": {},
     "output_type": "display_data"
    }
   ],
   "source": [
    "final_data['Disorder'].value_counts().plot(kind=\"bar\")\n",
    "plt.title(\"Mental Disorder Distribution\")\n",
    "plt.xlabel(\"Mental Disorder\")\n",
    "plt.ylabel(\"Frequency\")\n",
    "plt.show()"
   ]
  },
  {
   "cell_type": "code",
   "execution_count": 18,
   "id": "9493a1e6-6b80-4f4c-bb75-a6029eb66541",
   "metadata": {},
   "outputs": [],
   "source": [
    "data_preprocess = final_data.copy()\n",
    "data_preprocess[\"tweet\"] = data_preprocess[\"tweet\"].apply(clean_text)\n",
    "data_preprocess[\"tweet\"] = data_preprocess[\"tweet\"].apply(text_lemmatize)\n",
    "data_preprocess[\"tweet\"] = data_preprocess[\"tweet\"].apply(remove_stopword)\n",
    "data_preprocess.to_csv(\"data_preprocess.csv\",index=False)"
   ]
  },
  {
   "cell_type": "code",
   "execution_count": 19,
   "id": "361d83c3-5737-4c9f-bdba-874c9c9af81c",
   "metadata": {},
   "outputs": [
    {
     "data": {
      "text/html": [
       "<div>\n",
       "<style scoped>\n",
       "    .dataframe tbody tr th:only-of-type {\n",
       "        vertical-align: middle;\n",
       "    }\n",
       "\n",
       "    .dataframe tbody tr th {\n",
       "        vertical-align: top;\n",
       "    }\n",
       "\n",
       "    .dataframe thead th {\n",
       "        text-align: right;\n",
       "    }\n",
       "</style>\n",
       "<table border=\"1\" class=\"dataframe\">\n",
       "  <thead>\n",
       "    <tr style=\"text-align: right;\">\n",
       "      <th></th>\n",
       "      <th>Disorder</th>\n",
       "      <th>tweet</th>\n",
       "      <th>word_count</th>\n",
       "    </tr>\n",
       "  </thead>\n",
       "  <tbody>\n",
       "    <tr>\n",
       "      <th>0</th>\n",
       "      <td>SCHIZOPHRENIA</td>\n",
       "      <td>feelingtake good care growing heart</td>\n",
       "      <td>5</td>\n",
       "    </tr>\n",
       "    <tr>\n",
       "      <th>1</th>\n",
       "      <td>ADHD</td>\n",
       "      <td>belly laughing face tear joy</td>\n",
       "      <td>5</td>\n",
       "    </tr>\n",
       "    <tr>\n",
       "      <th>2</th>\n",
       "      <td>CONTROL</td>\n",
       "      <td>solid tactic simeone</td>\n",
       "      <td>3</td>\n",
       "    </tr>\n",
       "    <tr>\n",
       "      <th>3</th>\n",
       "      <td>CONTROL</td>\n",
       "      <td>partey control middle unmatched</td>\n",
       "      <td>4</td>\n",
       "    </tr>\n",
       "    <tr>\n",
       "      <th>4</th>\n",
       "      <td>PTSD</td>\n",
       "      <td>relationship people concealed motif aware othe...</td>\n",
       "      <td>13</td>\n",
       "    </tr>\n",
       "  </tbody>\n",
       "</table>\n",
       "</div>"
      ],
      "text/plain": [
       "        Disorder                                              tweet  \\\n",
       "0  SCHIZOPHRENIA                feelingtake good care growing heart   \n",
       "1           ADHD                       belly laughing face tear joy   \n",
       "2        CONTROL                               solid tactic simeone   \n",
       "3        CONTROL                    partey control middle unmatched   \n",
       "4           PTSD  relationship people concealed motif aware othe...   \n",
       "\n",
       "   word_count  \n",
       "0           5  \n",
       "1           5  \n",
       "2           3  \n",
       "3           4  \n",
       "4          13  "
      ]
     },
     "execution_count": 19,
     "metadata": {},
     "output_type": "execute_result"
    }
   ],
   "source": [
    "data_preprocess = data_preprocess[data_preprocess[\"tweet\"]!=\"\"]\n",
    "data_preprocess[\"word_count\"] = data_preprocess['tweet'].apply(lambda text:len(text.split()))\n",
    "data_preprocess.head()"
   ]
  },
  {
   "cell_type": "code",
   "execution_count": 20,
   "id": "2224d4e5-9204-40bb-a5b5-c3f46f02ec9b",
   "metadata": {},
   "outputs": [
    {
     "data": {
      "image/png": "[encoded data removed]",
      "text/plain": [
       "<Figure size 640x480 with 1 Axes>"
      ]
     },
     "metadata": {},
     "output_type": "display_data"
    }
   ],
   "source": [
    "sns.kdeplot(data=data_preprocess,x=\"word_count\",hue=\"Disorder\",multiple=\"stack\")\n",
    "plt.title(\"Probability Density plot\")\n",
    "plt.show()"
   ]
  },
  {
   "cell_type": "code",
   "execution_count": 21,
   "id": "ff568e39-af08-451b-87e0-21ec1bf18587",
   "metadata": {},
   "outputs": [
    {
     "data": {
      "image/png": "[encoded data removed]",
      "text/plain": [
       "<Figure size 640x480 with 1 Axes>"
      ]
     },
     "metadata": {},
     "output_type": "display_data"
    }
   ],
   "source": [
    "data_preprocess['Disorder'].value_counts().plot(kind=\"bar\")\n",
    "plt.title(\"Mental Disorder Distribution\")\n",
    "plt.xlabel(\"Mental Disorder\")\n",
    "plt.ylabel(\"Frequency\")\n",
    "plt.show()"
   ]
  },
  {
   "cell_type": "markdown",
   "id": "acd45124-8acd-437a-a345-654b2089aad2",
   "metadata": {},
   "source": [
    "# Pipeline"
   ]
  },
  {
   "cell_type": "code",
   "execution_count": 22,
   "id": "b92ae273-09ce-457a-8b15-b2241bb0ae0c",
   "metadata": {},
   "outputs": [],
   "source": [
    "def data_preprocess_pipeline(data_preprocess: pd.DataFrame,\n",
    "                             ngram_range: list,\n",
    "                            filename: str,\n",
    "                            ) -> pd.DataFrame:\n",
    "    data_preprocess = data_preprocess[~(data_preprocess[\"tweet\"].isnull())]\n",
    "    data_preprocess = data_preprocess[[\"class\",\"tweet\"]]\n",
    "    data_preprocess.rename(columns={\"class\":\"Disorder\"}, inplace=True)\n",
    "    data_preprocess[\"tweet\"] = data_preprocess[\"tweet\"].apply(clean_text)\n",
    "    data_preprocess[\"tweet\"] = data_preprocess[\"tweet\"].apply(text_lemmatize)\n",
    "    data_preprocess[\"tweet\"] = data_preprocess[\"tweet\"].apply(remove_stopword)\n",
    "    data_preprocess = data_preprocess[data_preprocess[\"tweet\"]!=\"\"]\n",
    "    data_preprocess[\"text_features\"] = data_preprocess[\"tweet\"].apply(lambda text: \n",
    "                                                                      generate_n_grams(text,n=ngram_range))\n",
    "    print(\"saving preprocessed data\")\n",
    "    data_preprocess.to_csv(filename,index=False)\n",
    "    print(\"data saved\")\n",
    "    return data_preprocess"
   ]
  },
  {
   "cell_type": "markdown",
   "id": "d57a50b3-be09-4e58-b50c-a4d38e450fd6",
   "metadata": {},
   "source": [
    "# Balanced Dataset training"
   ]
  },
  {
   "cell_type": "code",
   "execution_count": 2,
   "id": "e224662b-dce2-40a6-b846-a20f7c82a351",
   "metadata": {},
   "outputs": [],
   "source": [
    "ngram_range = [1,3]\n",
    "data_preprocess = data_preprocess_pipeline(pipeline_data,\n",
    "                                           ngram_range=ngram_range,\n",
    "                                           filename=\"balanced_data_preprocess.csv\"\n",
    "                                          )\n",
    "data_preprocess.head()"
   ]
  },
  {
   "cell_type": "code",
   "execution_count": 3,
   "id": "b0ff9c9c-dc9f-41bc-9562-0c78b1e46faf",
   "metadata": {},
   "outputs": [],
   "source": [
    "data_bin = data_preprocess[[\"text_features\",\"Disorder\"]]\n",
    "diagnosed_group = data_bin[data_bin[\"Disorder\"]!=\"CONTROL\"]\n",
    "diagnosed_group[\"Disorder\"] = \"DIAGNOSED\"\n",
    "control_group = data_bin[data_bin[\"Disorder\"]==\"CONTROL\"]\n",
    "data_bin = pd.concat([diagnosed_group,control_group],axis=0)\n",
    "encode_target = {\"DIAGNOSED\":1,\n",
    "                \"CONTROL\":0}\n",
    "data_bin[\"Disorder\"] = data_bin[\"Disorder\"].map(encode_target)\n",
    "data_bin.head()"
   ]
  },
  {
   "cell_type": "code",
   "execution_count": 40,
   "id": "8c77f750-e5fc-4c85-bd5b-9e1cc3213e99",
   "metadata": {},
   "outputs": [
    {
     "data": {
      "text/plain": [
       "Disorder\n",
       "0    18640\n",
       "1    18232\n",
       "Name: count, dtype: int64"
      ]
     },
     "execution_count": 40,
     "metadata": {},
     "output_type": "execute_result"
    }
   ],
   "source": [
    "data_bin['Disorder'].value_counts()"
   ]
  },
  {
   "cell_type": "code",
   "execution_count": 41,
   "id": "2679a0aa-6fa0-4591-a46e-69e247477a9b",
   "metadata": {},
   "outputs": [
    {
     "name": "stdout",
     "output_type": "stream",
     "text": [
      "logistic regression started\n",
      "Non-Weighted model initialized\n",
      "Random Forest started\n",
      "XGBOOST started\n",
      "SVM rbf started\n",
      "SVM linear started\n",
      "SVM poly started\n",
      "Decision Tree started\n"
     ]
    }
   ],
   "source": [
    "models_performance = build_models(data_bin,\"Disorder\",False,\"model_performance_balanced_data_UBT.csv\")"
   ]
  },
  {
   "cell_type": "code",
   "execution_count": 42,
   "id": "366ea049-edc2-43f0-b2e2-8771452fb04b",
   "metadata": {},
   "outputs": [
    {
     "data": {
      "text/html": [
       "<div>\n",
       "<style scoped>\n",
       "    .dataframe tbody tr th:only-of-type {\n",
       "        vertical-align: middle;\n",
       "    }\n",
       "\n",
       "    .dataframe tbody tr th {\n",
       "        vertical-align: top;\n",
       "    }\n",
       "\n",
       "    .dataframe thead th {\n",
       "        text-align: right;\n",
       "    }\n",
       "</style>\n",
       "<table border=\"1\" class=\"dataframe\">\n",
       "  <thead>\n",
       "    <tr style=\"text-align: right;\">\n",
       "      <th></th>\n",
       "      <th>precision_0</th>\n",
       "      <th>precision_1</th>\n",
       "      <th>recall_0</th>\n",
       "      <th>recall_1</th>\n",
       "      <th>f1_0</th>\n",
       "      <th>f1_1</th>\n",
       "      <th>accuracy</th>\n",
       "      <th>models</th>\n",
       "    </tr>\n",
       "  </thead>\n",
       "  <tbody>\n",
       "    <tr>\n",
       "      <th>0</th>\n",
       "      <td>0.959138</td>\n",
       "      <td>0.920831</td>\n",
       "      <td>0.919260</td>\n",
       "      <td>0.959967</td>\n",
       "      <td>0.938776</td>\n",
       "      <td>0.939992</td>\n",
       "      <td>0.939390</td>\n",
       "      <td>Logistic Regression</td>\n",
       "    </tr>\n",
       "    <tr>\n",
       "      <th>0</th>\n",
       "      <td>0.963610</td>\n",
       "      <td>0.893909</td>\n",
       "      <td>0.887876</td>\n",
       "      <td>0.965725</td>\n",
       "      <td>0.924194</td>\n",
       "      <td>0.928430</td>\n",
       "      <td>0.926373</td>\n",
       "      <td>Random Forest</td>\n",
       "    </tr>\n",
       "    <tr>\n",
       "      <th>0</th>\n",
       "      <td>0.776831</td>\n",
       "      <td>0.937857</td>\n",
       "      <td>0.953326</td>\n",
       "      <td>0.720044</td>\n",
       "      <td>0.856076</td>\n",
       "      <td>0.814642</td>\n",
       "      <td>0.837966</td>\n",
       "      <td>XGBOOST</td>\n",
       "    </tr>\n",
       "    <tr>\n",
       "      <th>0</th>\n",
       "      <td>0.959172</td>\n",
       "      <td>0.921558</td>\n",
       "      <td>0.920064</td>\n",
       "      <td>0.959967</td>\n",
       "      <td>0.939211</td>\n",
       "      <td>0.940371</td>\n",
       "      <td>0.939797</td>\n",
       "      <td>SVM_rbf</td>\n",
       "    </tr>\n",
       "    <tr>\n",
       "      <th>0</th>\n",
       "      <td>0.965593</td>\n",
       "      <td>0.941208</td>\n",
       "      <td>0.940987</td>\n",
       "      <td>0.965725</td>\n",
       "      <td>0.953131</td>\n",
       "      <td>0.953309</td>\n",
       "      <td>0.953220</td>\n",
       "      <td>SVM_linear</td>\n",
       "    </tr>\n",
       "    <tr>\n",
       "      <th>0</th>\n",
       "      <td>0.919431</td>\n",
       "      <td>0.843961</td>\n",
       "      <td>0.832618</td>\n",
       "      <td>0.925418</td>\n",
       "      <td>0.873874</td>\n",
       "      <td>0.882815</td>\n",
       "      <td>0.878508</td>\n",
       "      <td>SVM_poly</td>\n",
       "    </tr>\n",
       "    <tr>\n",
       "      <th>0</th>\n",
       "      <td>0.866021</td>\n",
       "      <td>0.860853</td>\n",
       "      <td>0.863466</td>\n",
       "      <td>0.863449</td>\n",
       "      <td>0.864741</td>\n",
       "      <td>0.862149</td>\n",
       "      <td>0.863458</td>\n",
       "      <td>Decision Tree</td>\n",
       "    </tr>\n",
       "  </tbody>\n",
       "</table>\n",
       "</div>"
      ],
      "text/plain": [
       "   precision_0  precision_1  recall_0  recall_1      f1_0      f1_1  accuracy  \\\n",
       "0     0.959138     0.920831  0.919260  0.959967  0.938776  0.939992  0.939390   \n",
       "0     0.963610     0.893909  0.887876  0.965725  0.924194  0.928430  0.926373   \n",
       "0     0.776831     0.937857  0.953326  0.720044  0.856076  0.814642  0.837966   \n",
       "0     0.959172     0.921558  0.920064  0.959967  0.939211  0.940371  0.939797   \n",
       "0     0.965593     0.941208  0.940987  0.965725  0.953131  0.953309  0.953220   \n",
       "0     0.919431     0.843961  0.832618  0.925418  0.873874  0.882815  0.878508   \n",
       "0     0.866021     0.860853  0.863466  0.863449  0.864741  0.862149  0.863458   \n",
       "\n",
       "                models  \n",
       "0  Logistic Regression  \n",
       "0        Random Forest  \n",
       "0              XGBOOST  \n",
       "0              SVM_rbf  \n",
       "0           SVM_linear  \n",
       "0             SVM_poly  \n",
       "0        Decision Tree  "
      ]
     },
     "execution_count": 42,
     "metadata": {},
     "output_type": "execute_result"
    }
   ],
   "source": [
    "models_performance"
   ]
  },
  {
   "cell_type": "code",
   "execution_count": null,
   "id": "b57fdc0a-5e9b-4b10-b21d-33c06ecfea61",
   "metadata": {},
   "outputs": [],
   "source": []
  }
 ],
 "metadata": {
  "kernelspec": {
   "display_name": "Python 3 (ipykernel)",
   "language": "python",
   "name": "python3"
  },
  "language_info": {
   "codemirror_mode": {
    "name": "ipython",
    "version": 3
   },
   "file_extension": ".py",
   "mimetype": "text/x-python",
   "name": "python",
   "nbconvert_exporter": "python",
   "pygments_lexer": "ipython3",
   "version": "3.11.9"
  }
 },
 "nbformat": 4,
 "nbformat_minor": 5
}
