{
 "cells": [
  {
   "cell_type": "code",
   "execution_count": 2,
   "metadata": {},
   "outputs": [],
   "source": [
    "import pandas as pd\n",
    "import tensorflow as tf\n",
    "import nltk\n",
    "from tensorflow.keras.preprocessing.text import Tokenizer\n",
    "from tensorflow.keras.layers import Embedding, Dense, Dropout, SpatialDropout1D, LSTM, Conv1D, MaxPool1D, Input, Bidirectional, GRU, Layer, TimeDistributed\n",
    "from tensorflow.keras.models import Sequential\n",
    "from tensorflow.keras.callbacks import EarlyStopping\n",
    "from tensorflow.keras import initializers\n",
    "from tensorflow.keras import backend as K\n",
    "import tensorflow_hub as hub\n",
    "from transformers import BertTokenizer, TFBertForSequenceClassification, TFBertModel\n",
    "from tensorflow.keras.models import Model\n",
    "from tensorflow.keras.utils import pad_sequences\n",
    "from sklearn.model_selection import train_test_split\n",
    "from sklearn.metrics import (classification_report,auc, \n",
    "                            roc_auc_score, precision_score,\n",
    "                            recall_score,f1_score, accuracy_score)\n",
    "import matplotlib.pyplot as plt\n",
    "import spacy\n",
    "import fasttext\n",
    "import advertools\n",
    "import gensim\n",
    "import numpy as np"
   ]
  },
  {
   "cell_type": "code",
   "execution_count": 1,
   "metadata": {},
   "outputs": [],
   "source": [
    "data_preprocess = pd.read_csv(\"multi_balanced_data_preprocess.csv\")\n",
    "data_preprocess.head()"
   ]
  },
  {
   "cell_type": "code",
   "execution_count": 6,
   "metadata": {},
   "outputs": [],
   "source": [
    "data_preprocess = data_preprocess[data_preprocess[\"Disorder\"]!=\"CONTROL\"]"
   ]
  },
  {
   "cell_type": "code",
   "execution_count": 7,
   "metadata": {},
   "outputs": [
    {
     "data": {
      "text/plain": [
       "Disorder\n",
       "EATING DISORDER    5283\n",
       "BIPOLAR            5186\n",
       "SCHIZOPHRENIA      4959\n",
       "PTSD               4936\n",
       "AUTISM             4860\n",
       "OCD                4843\n",
       "ADHD               4806\n",
       "DEPRESSION         4805\n",
       "ANXIETY            4707\n",
       "Name: count, dtype: int64"
      ]
     },
     "execution_count": 7,
     "metadata": {},
     "output_type": "execute_result"
    }
   ],
   "source": [
    "data_preprocess.Disorder.value_counts()"
   ]
  },
  {
   "cell_type": "code",
   "execution_count": 2,
   "metadata": {},
   "outputs": [],
   "source": [
    "encode_target = dict(zip(data_preprocess[\"Disorder\"].unique(),np.arange(0,data_preprocess[\"Disorder\"].nunique(),dtype=int)))\n",
    "data_preprocess[\"Disorder\"] = data_preprocess[\"Disorder\"].map(encode_target)\n",
    "data_preprocess[\"Disorder\"]=data_preprocess[\"Disorder\"].map(int)\n",
    "data_preprocess.head()"
   ]
  },
  {
   "cell_type": "code",
   "execution_count": 9,
   "metadata": {},
   "outputs": [],
   "source": [
    "def preprocess_text(text):\n",
    "    sentences = advertools.word_tokenize(text,phrase_len=1)[0]\n",
    "    return sentences"
   ]
  },
  {
   "cell_type": "code",
   "execution_count": 10,
   "metadata": {},
   "outputs": [],
   "source": [
    "def pad_sentences(sentences,sentence_tokenizer: Tokenizer):\n",
    "    padded_sentences = pad_sequences(\n",
    "        sentence_tokenizer.texts_to_sequences(sentences),\n",
    "        maxlen=MAX_WORDS_PER_SENTENCE,\n",
    "        padding='post',\n",
    "        truncating='post'\n",
    "    )\n",
    "    return padded_sentences"
   ]
  },
  {
   "cell_type": "code",
   "execution_count": 11,
   "metadata": {},
   "outputs": [],
   "source": [
    "# Pad documents\n",
    "def pad_documents(documents):\n",
    "    padded_docs = pad_sequences(\n",
    "        documents,\n",
    "        maxlen=MAX_SENTENCES,\n",
    "        padding='post',\n",
    "        truncating='post'\n",
    "    )\n",
    "    return padded_docs"
   ]
  },
  {
   "cell_type": "code",
   "execution_count": 12,
   "metadata": {},
   "outputs": [],
   "source": [
    "def classification_metrics(actuals: np.array, preds: np.array) -> pd.DataFrame:\n",
    "    metrics_performance = pd.DataFrame()\n",
    "    precision_0 = precision_score(actuals,preds, pos_label=0)\n",
    "    precision_1 = precision_score(actuals,preds, pos_label=1)\n",
    "    recall_0 = recall_score(actuals,preds,pos_label=0)\n",
    "    recall_1 = recall_score(actuals,preds,pos_label=1)\n",
    "    f1_0 = f1_score(actuals,preds,pos_label=0)\n",
    "    f1_1 = f1_score(actuals,preds,pos_label=1)\n",
    "    accuracy = accuracy_score(actuals,preds)\n",
    "    metrics_performance[\"precision_0\"] = [precision_0]\n",
    "    metrics_performance[\"precision_1\"] = [precision_1]\n",
    "    metrics_performance[\"recall_0\"] = [recall_0]\n",
    "    metrics_performance[\"recall_1\"] = [recall_1]\n",
    "    metrics_performance[\"f1_0\"] = [f1_0]\n",
    "    metrics_performance[\"f1_1\"] = [f1_1]\n",
    "    metrics_performance[\"accuracy\"] = [accuracy]\n",
    "    return metrics_performance"
   ]
  },
  {
   "cell_type": "code",
   "execution_count": 13,
   "metadata": {},
   "outputs": [],
   "source": [
    "# Attention Layer\n",
    "class AttentionLayer(Layer):\n",
    "    def __init__(self, **kwargs):\n",
    "        super(AttentionLayer, self).__init__(**kwargs)\n",
    "\n",
    "    def build(self, input_shape):\n",
    "        self.W = self.add_weight(name='att_weight', shape=(input_shape[-1], input_shape[-1]),\n",
    "                                 initializer='random_normal', trainable=True)\n",
    "        self.b = self.add_weight(name='att_bias', shape=(input_shape[-1],),\n",
    "                                 initializer='zeros', trainable=True)\n",
    "        self.u = self.add_weight(name='att_u', shape=(input_shape[-1],),\n",
    "                                 initializer='random_normal', trainable=True)\n",
    "        super(AttentionLayer, self).build(input_shape)\n",
    "\n",
    "    def call(self, inputs, **kwargs):\n",
    "        v = tf.tanh(tf.tensordot(inputs, self.W, axes=1) + self.b)\n",
    "        vu = tf.tensordot(v, self.u, axes=1)\n",
    "        alphas = tf.nn.softmax(vu, axis=1)\n",
    "        output = tf.reduce_sum(inputs * tf.expand_dims(alphas, -1), axis=1)\n",
    "        return output\n",
    "\n",
    "    def compute_output_shape(self, input_shape):\n",
    "        return input_shape[0], input_shape[-1]"
   ]
  },
  {
   "cell_type": "code",
   "execution_count": 14,
   "metadata": {},
   "outputs": [],
   "source": [
    "tokenizer = Tokenizer()\n",
    "tokenizer.fit_on_texts(data_preprocess[\"tweet\"].values.tolist())\n",
    "corpus = [preprocess_text(text) for text in data_preprocess[\"tweet\"].values]"
   ]
  },
  {
   "cell_type": "code",
   "execution_count": 15,
   "metadata": {
    "scrolled": true
   },
   "outputs": [
    {
     "name": "stderr",
     "output_type": "stream",
     "text": [
      "2024-08-25 02:06:22,436 | INFO | word2vec.py:582 | scan_vocab | collecting all words and their counts\n",
      "2024-08-25 02:06:22,438 | INFO | word2vec.py:565 | _scan_vocab | PROGRESS: at sentence #0, processed 0 words, keeping 0 word types\n",
      "2024-08-25 02:06:22,466 | INFO | word2vec.py:565 | _scan_vocab | PROGRESS: at sentence #10000, processed 77980 words, keeping 9258 word types\n",
      "2024-08-25 02:06:22,493 | INFO | word2vec.py:565 | _scan_vocab | PROGRESS: at sentence #20000, processed 156317 words, keeping 12516 word types\n",
      "2024-08-25 02:06:22,519 | INFO | word2vec.py:565 | _scan_vocab | PROGRESS: at sentence #30000, processed 234361 words, keeping 14934 word types\n",
      "2024-08-25 02:06:22,545 | INFO | word2vec.py:565 | _scan_vocab | PROGRESS: at sentence #40000, processed 311839 words, keeping 16809 word types\n",
      "2024-08-25 02:06:22,557 | INFO | word2vec.py:588 | scan_vocab | collected 17499 word types from a corpus of 345477 raw words and 44385 sentences\n",
      "2024-08-25 02:06:22,558 | INFO | word2vec.py:637 | prepare_vocab | Creating a fresh vocabulary\n",
      "2024-08-25 02:06:22,699 | INFO | utils.py:447 | add_lifecycle_event | Word2Vec lifecycle event {'msg': 'effective_min_count=1 retains 17499 unique words (100.00% of original 17499, drops 0)', 'datetime': '2024-08-25T02:06:22.699336', 'gensim': '4.3.3', 'python': '3.10.14 | packaged by Anaconda, Inc. | (main, May  6 2024, 19:44:50) [MSC v.1916 64 bit (AMD64)]', 'platform': 'Windows-10-10.0.22621-SP0', 'event': 'prepare_vocab'}\n",
      "2024-08-25 02:06:22,701 | INFO | utils.py:447 | add_lifecycle_event | Word2Vec lifecycle event {'msg': 'effective_min_count=1 leaves 345477 word corpus (100.00% of original 345477, drops 0)', 'datetime': '2024-08-25T02:06:22.701335', 'gensim': '4.3.3', 'python': '3.10.14 | packaged by Anaconda, Inc. | (main, May  6 2024, 19:44:50) [MSC v.1916 64 bit (AMD64)]', 'platform': 'Windows-10-10.0.22621-SP0', 'event': 'prepare_vocab'}\n",
      "2024-08-25 02:06:22,995 | INFO | word2vec.py:745 | prepare_vocab | deleting the raw counts dictionary of 17499 items\n",
      "2024-08-25 02:06:22,997 | INFO | word2vec.py:748 | prepare_vocab | sample=0.001 downsamples 36 most-common words\n",
      "2024-08-25 02:06:22,998 | INFO | utils.py:447 | add_lifecycle_event | Word2Vec lifecycle event {'msg': 'downsampling leaves estimated 327572.3607202864 word corpus (94.8%% of prior 345477)', 'datetime': '2024-08-25T02:06:22.998340', 'gensim': '4.3.3', 'python': '3.10.14 | packaged by Anaconda, Inc. | (main, May  6 2024, 19:44:50) [MSC v.1916 64 bit (AMD64)]', 'platform': 'Windows-10-10.0.22621-SP0', 'event': 'prepare_vocab'}\n",
      "2024-08-25 02:06:23,182 | INFO | word2vec.py:805 | estimate_memory | estimated required memory for 17499 words and 300 dimensions: 50747100 bytes\n",
      "2024-08-25 02:06:23,185 | INFO | word2vec.py:863 | init_weights | resetting layer weights\n",
      "2024-08-25 02:06:23,223 | INFO | utils.py:447 | add_lifecycle_event | Word2Vec lifecycle event {'update': False, 'trim_rule': 'None', 'datetime': '2024-08-25T02:06:23.223967', 'gensim': '4.3.3', 'python': '3.10.14 | packaged by Anaconda, Inc. | (main, May  6 2024, 19:44:50) [MSC v.1916 64 bit (AMD64)]', 'platform': 'Windows-10-10.0.22621-SP0', 'event': 'build_vocab'}\n",
      "2024-08-25 02:06:23,224 | INFO | utils.py:447 | add_lifecycle_event | Word2Vec lifecycle event {'msg': 'training model with 3 workers on 17499 vocabulary and 300 features, using sg=0 hs=0 sample=0.001 negative=5 window=5 shrink_windows=True', 'datetime': '2024-08-25T02:06:23.224892', 'gensim': '4.3.3', 'python': '3.10.14 | packaged by Anaconda, Inc. | (main, May  6 2024, 19:44:50) [MSC v.1916 64 bit (AMD64)]', 'platform': 'Windows-10-10.0.22621-SP0', 'event': 'train'}\n",
      "2024-08-25 02:06:23,784 | INFO | word2vec.py:1652 | _log_epoch_end | EPOCH 0: training on 345477 raw words (327369 effective words) took 0.5s, 605899 effective words/s\n",
      "2024-08-25 02:06:24,299 | INFO | word2vec.py:1652 | _log_epoch_end | EPOCH 1: training on 345477 raw words (327518 effective words) took 0.5s, 653882 effective words/s\n",
      "2024-08-25 02:06:24,806 | INFO | word2vec.py:1652 | _log_epoch_end | EPOCH 2: training on 345477 raw words (327651 effective words) took 0.5s, 664246 effective words/s\n",
      "2024-08-25 02:06:25,276 | INFO | word2vec.py:1652 | _log_epoch_end | EPOCH 3: training on 345477 raw words (327623 effective words) took 0.4s, 761422 effective words/s\n",
      "2024-08-25 02:06:25,832 | INFO | word2vec.py:1652 | _log_epoch_end | EPOCH 4: training on 345477 raw words (327609 effective words) took 0.5s, 606263 effective words/s\n",
      "2024-08-25 02:06:26,331 | INFO | word2vec.py:1652 | _log_epoch_end | EPOCH 5: training on 345477 raw words (327635 effective words) took 0.5s, 680846 effective words/s\n",
      "2024-08-25 02:06:26,842 | INFO | word2vec.py:1652 | _log_epoch_end | EPOCH 6: training on 345477 raw words (327568 effective words) took 0.5s, 677636 effective words/s\n",
      "2024-08-25 02:06:27,355 | INFO | word2vec.py:1652 | _log_epoch_end | EPOCH 7: training on 345477 raw words (327634 effective words) took 0.5s, 658843 effective words/s\n",
      "2024-08-25 02:06:27,865 | INFO | word2vec.py:1652 | _log_epoch_end | EPOCH 8: training on 345477 raw words (327619 effective words) took 0.5s, 662443 effective words/s\n",
      "2024-08-25 02:06:28,371 | INFO | word2vec.py:1652 | _log_epoch_end | EPOCH 9: training on 345477 raw words (327643 effective words) took 0.5s, 687815 effective words/s\n",
      "2024-08-25 02:06:28,880 | INFO | word2vec.py:1652 | _log_epoch_end | EPOCH 10: training on 345477 raw words (327590 effective words) took 0.5s, 665456 effective words/s\n",
      "2024-08-25 02:06:29,400 | INFO | word2vec.py:1652 | _log_epoch_end | EPOCH 11: training on 345477 raw words (327734 effective words) took 0.5s, 652796 effective words/s\n",
      "2024-08-25 02:06:29,900 | INFO | word2vec.py:1652 | _log_epoch_end | EPOCH 12: training on 345477 raw words (327495 effective words) took 0.5s, 678786 effective words/s\n",
      "2024-08-25 02:06:30,400 | INFO | word2vec.py:1652 | _log_epoch_end | EPOCH 13: training on 345477 raw words (327676 effective words) took 0.5s, 674719 effective words/s\n",
      "2024-08-25 02:06:30,921 | INFO | word2vec.py:1652 | _log_epoch_end | EPOCH 14: training on 345477 raw words (327587 effective words) took 0.5s, 655228 effective words/s\n",
      "2024-08-25 02:06:31,418 | INFO | word2vec.py:1652 | _log_epoch_end | EPOCH 15: training on 345477 raw words (327473 effective words) took 0.5s, 684660 effective words/s\n",
      "2024-08-25 02:06:31,915 | INFO | word2vec.py:1652 | _log_epoch_end | EPOCH 16: training on 345477 raw words (327475 effective words) took 0.5s, 680506 effective words/s\n",
      "2024-08-25 02:06:32,400 | INFO | word2vec.py:1652 | _log_epoch_end | EPOCH 17: training on 345477 raw words (327500 effective words) took 0.5s, 702201 effective words/s\n",
      "2024-08-25 02:06:32,898 | INFO | word2vec.py:1652 | _log_epoch_end | EPOCH 18: training on 345477 raw words (327592 effective words) took 0.5s, 677099 effective words/s\n",
      "2024-08-25 02:06:33,389 | INFO | word2vec.py:1652 | _log_epoch_end | EPOCH 19: training on 345477 raw words (327616 effective words) took 0.5s, 685921 effective words/s\n",
      "2024-08-25 02:06:33,906 | INFO | word2vec.py:1652 | _log_epoch_end | EPOCH 20: training on 345477 raw words (327659 effective words) took 0.5s, 714308 effective words/s\n",
      "2024-08-25 02:06:34,393 | INFO | word2vec.py:1652 | _log_epoch_end | EPOCH 21: training on 345477 raw words (327463 effective words) took 0.5s, 693965 effective words/s\n",
      "2024-08-25 02:06:34,882 | INFO | word2vec.py:1652 | _log_epoch_end | EPOCH 22: training on 345477 raw words (327372 effective words) took 0.5s, 692135 effective words/s\n",
      "2024-08-25 02:06:35,383 | INFO | word2vec.py:1652 | _log_epoch_end | EPOCH 23: training on 345477 raw words (327339 effective words) took 0.5s, 677454 effective words/s\n",
      "2024-08-25 02:06:35,858 | INFO | word2vec.py:1652 | _log_epoch_end | EPOCH 24: training on 345477 raw words (327611 effective words) took 0.5s, 719271 effective words/s\n",
      "2024-08-25 02:06:36,324 | INFO | word2vec.py:1652 | _log_epoch_end | EPOCH 25: training on 345477 raw words (327554 effective words) took 0.5s, 725403 effective words/s\n",
      "2024-08-25 02:06:36,760 | INFO | word2vec.py:1652 | _log_epoch_end | EPOCH 26: training on 345477 raw words (327493 effective words) took 0.4s, 776649 effective words/s\n",
      "2024-08-25 02:06:37,228 | INFO | word2vec.py:1652 | _log_epoch_end | EPOCH 27: training on 345477 raw words (327475 effective words) took 0.5s, 722454 effective words/s\n",
      "2024-08-25 02:06:37,733 | INFO | word2vec.py:1652 | _log_epoch_end | EPOCH 28: training on 345477 raw words (327376 effective words) took 0.5s, 665669 effective words/s\n",
      "2024-08-25 02:06:38,186 | INFO | word2vec.py:1652 | _log_epoch_end | EPOCH 29: training on 345477 raw words (327466 effective words) took 0.4s, 745887 effective words/s\n",
      "2024-08-25 02:06:38,691 | INFO | word2vec.py:1652 | _log_epoch_end | EPOCH 30: training on 345477 raw words (327777 effective words) took 0.5s, 671745 effective words/s\n",
      "2024-08-25 02:06:39,162 | INFO | word2vec.py:1652 | _log_epoch_end | EPOCH 31: training on 345477 raw words (327744 effective words) took 0.5s, 721077 effective words/s\n",
      "2024-08-25 02:06:39,650 | INFO | word2vec.py:1652 | _log_epoch_end | EPOCH 32: training on 345477 raw words (327711 effective words) took 0.5s, 691717 effective words/s\n",
      "2024-08-25 02:06:40,119 | INFO | word2vec.py:1652 | _log_epoch_end | EPOCH 33: training on 345477 raw words (327379 effective words) took 0.5s, 720333 effective words/s\n",
      "2024-08-25 02:06:40,631 | INFO | word2vec.py:1652 | _log_epoch_end | EPOCH 34: training on 345477 raw words (327684 effective words) took 0.5s, 682272 effective words/s\n",
      "2024-08-25 02:06:41,105 | INFO | word2vec.py:1652 | _log_epoch_end | EPOCH 35: training on 345477 raw words (327460 effective words) took 0.5s, 712659 effective words/s\n",
      "2024-08-25 02:06:41,607 | INFO | word2vec.py:1652 | _log_epoch_end | EPOCH 36: training on 345477 raw words (327671 effective words) took 0.5s, 672070 effective words/s\n",
      "2024-08-25 02:06:42,086 | INFO | word2vec.py:1652 | _log_epoch_end | EPOCH 37: training on 345477 raw words (327383 effective words) took 0.5s, 702838 effective words/s\n",
      "2024-08-25 02:06:42,583 | INFO | word2vec.py:1652 | _log_epoch_end | EPOCH 38: training on 345477 raw words (327679 effective words) took 0.5s, 683549 effective words/s\n",
      "2024-08-25 02:06:43,077 | INFO | word2vec.py:1652 | _log_epoch_end | EPOCH 39: training on 345477 raw words (327651 effective words) took 0.5s, 688267 effective words/s\n",
      "2024-08-25 02:06:43,585 | INFO | word2vec.py:1652 | _log_epoch_end | EPOCH 40: training on 345477 raw words (327545 effective words) took 0.5s, 663869 effective words/s\n",
      "2024-08-25 02:06:44,100 | INFO | word2vec.py:1652 | _log_epoch_end | EPOCH 41: training on 345477 raw words (327623 effective words) took 0.5s, 656599 effective words/s\n",
      "2024-08-25 02:06:44,592 | INFO | word2vec.py:1652 | _log_epoch_end | EPOCH 42: training on 345477 raw words (327652 effective words) took 0.5s, 686156 effective words/s\n",
      "2024-08-25 02:06:45,077 | INFO | word2vec.py:1652 | _log_epoch_end | EPOCH 43: training on 345477 raw words (327918 effective words) took 0.4s, 738193 effective words/s\n",
      "2024-08-25 02:06:45,544 | INFO | word2vec.py:1652 | _log_epoch_end | EPOCH 44: training on 345477 raw words (327568 effective words) took 0.4s, 736985 effective words/s\n",
      "2024-08-25 02:06:46,018 | INFO | word2vec.py:1652 | _log_epoch_end | EPOCH 45: training on 345477 raw words (327687 effective words) took 0.5s, 713848 effective words/s\n",
      "2024-08-25 02:06:46,512 | INFO | word2vec.py:1652 | _log_epoch_end | EPOCH 46: training on 345477 raw words (327550 effective words) took 0.5s, 686378 effective words/s\n",
      "2024-08-25 02:06:47,030 | INFO | word2vec.py:1652 | _log_epoch_end | EPOCH 47: training on 345477 raw words (327456 effective words) took 0.5s, 654845 effective words/s\n",
      "2024-08-25 02:06:47,519 | INFO | word2vec.py:1652 | _log_epoch_end | EPOCH 48: training on 345477 raw words (327608 effective words) took 0.5s, 691823 effective words/s\n",
      "2024-08-25 02:06:48,011 | INFO | word2vec.py:1652 | _log_epoch_end | EPOCH 49: training on 345477 raw words (327552 effective words) took 0.5s, 687843 effective words/s\n",
      "2024-08-25 02:06:48,519 | INFO | word2vec.py:1652 | _log_epoch_end | EPOCH 50: training on 345477 raw words (327514 effective words) took 0.5s, 664732 effective words/s\n",
      "2024-08-25 02:06:49,024 | INFO | word2vec.py:1652 | _log_epoch_end | EPOCH 51: training on 345477 raw words (327706 effective words) took 0.5s, 688904 effective words/s\n",
      "2024-08-25 02:06:49,511 | INFO | word2vec.py:1652 | _log_epoch_end | EPOCH 52: training on 345477 raw words (327595 effective words) took 0.5s, 709559 effective words/s\n",
      "2024-08-25 02:06:50,001 | INFO | word2vec.py:1652 | _log_epoch_end | EPOCH 53: training on 345477 raw words (327584 effective words) took 0.5s, 686257 effective words/s\n",
      "2024-08-25 02:06:50,474 | INFO | word2vec.py:1652 | _log_epoch_end | EPOCH 54: training on 345477 raw words (327572 effective words) took 0.5s, 713162 effective words/s\n",
      "2024-08-25 02:06:50,939 | INFO | word2vec.py:1652 | _log_epoch_end | EPOCH 55: training on 345477 raw words (327507 effective words) took 0.4s, 730068 effective words/s\n",
      "2024-08-25 02:06:51,427 | INFO | word2vec.py:1652 | _log_epoch_end | EPOCH 56: training on 345477 raw words (327490 effective words) took 0.5s, 693165 effective words/s\n",
      "2024-08-25 02:06:51,912 | INFO | word2vec.py:1652 | _log_epoch_end | EPOCH 57: training on 345477 raw words (327593 effective words) took 0.5s, 695527 effective words/s\n",
      "2024-08-25 02:06:52,360 | INFO | word2vec.py:1652 | _log_epoch_end | EPOCH 58: training on 345477 raw words (327530 effective words) took 0.4s, 756844 effective words/s\n",
      "2024-08-25 02:06:52,846 | INFO | word2vec.py:1652 | _log_epoch_end | EPOCH 59: training on 345477 raw words (327403 effective words) took 0.5s, 697709 effective words/s\n",
      "2024-08-25 02:06:53,317 | INFO | word2vec.py:1652 | _log_epoch_end | EPOCH 60: training on 345477 raw words (327455 effective words) took 0.4s, 730741 effective words/s\n",
      "2024-08-25 02:06:53,777 | INFO | word2vec.py:1652 | _log_epoch_end | EPOCH 61: training on 345477 raw words (327534 effective words) took 0.4s, 735703 effective words/s\n",
      "2024-08-25 02:06:54,244 | INFO | word2vec.py:1652 | _log_epoch_end | EPOCH 62: training on 345477 raw words (327500 effective words) took 0.4s, 738061 effective words/s\n",
      "2024-08-25 02:06:54,746 | INFO | word2vec.py:1652 | _log_epoch_end | EPOCH 63: training on 345477 raw words (327467 effective words) took 0.5s, 674815 effective words/s\n",
      "2024-08-25 02:06:55,230 | INFO | word2vec.py:1652 | _log_epoch_end | EPOCH 64: training on 345477 raw words (327794 effective words) took 0.5s, 699195 effective words/s\n",
      "2024-08-25 02:06:55,709 | INFO | word2vec.py:1652 | _log_epoch_end | EPOCH 65: training on 345477 raw words (327493 effective words) took 0.5s, 719414 effective words/s\n",
      "2024-08-25 02:06:56,215 | INFO | word2vec.py:1652 | _log_epoch_end | EPOCH 66: training on 345477 raw words (327454 effective words) took 0.5s, 669678 effective words/s\n",
      "2024-08-25 02:06:56,689 | INFO | word2vec.py:1652 | _log_epoch_end | EPOCH 67: training on 345477 raw words (327481 effective words) took 0.5s, 715785 effective words/s\n",
      "2024-08-25 02:06:57,193 | INFO | word2vec.py:1652 | _log_epoch_end | EPOCH 68: training on 345477 raw words (327571 effective words) took 0.5s, 671717 effective words/s\n",
      "2024-08-25 02:06:57,699 | INFO | word2vec.py:1652 | _log_epoch_end | EPOCH 69: training on 345477 raw words (327578 effective words) took 0.5s, 668132 effective words/s\n",
      "2024-08-25 02:06:58,175 | INFO | word2vec.py:1652 | _log_epoch_end | EPOCH 70: training on 345477 raw words (327469 effective words) took 0.5s, 712793 effective words/s\n",
      "2024-08-25 02:06:58,662 | INFO | word2vec.py:1652 | _log_epoch_end | EPOCH 71: training on 345477 raw words (327689 effective words) took 0.5s, 694944 effective words/s\n",
      "2024-08-25 02:06:59,190 | INFO | word2vec.py:1652 | _log_epoch_end | EPOCH 72: training on 345477 raw words (327437 effective words) took 0.5s, 643825 effective words/s\n",
      "2024-08-25 02:06:59,672 | INFO | word2vec.py:1652 | _log_epoch_end | EPOCH 73: training on 345477 raw words (327702 effective words) took 0.5s, 704780 effective words/s\n",
      "2024-08-25 02:07:00,137 | INFO | word2vec.py:1652 | _log_epoch_end | EPOCH 74: training on 345477 raw words (327628 effective words) took 0.5s, 727832 effective words/s\n",
      "2024-08-25 02:07:00,597 | INFO | word2vec.py:1652 | _log_epoch_end | EPOCH 75: training on 345477 raw words (327621 effective words) took 0.4s, 759994 effective words/s\n",
      "2024-08-25 02:07:01,071 | INFO | word2vec.py:1652 | _log_epoch_end | EPOCH 76: training on 345477 raw words (327500 effective words) took 0.5s, 713849 effective words/s\n",
      "2024-08-25 02:07:01,553 | INFO | word2vec.py:1652 | _log_epoch_end | EPOCH 77: training on 345477 raw words (327532 effective words) took 0.5s, 704274 effective words/s\n",
      "2024-08-25 02:07:02,047 | INFO | word2vec.py:1652 | _log_epoch_end | EPOCH 78: training on 345477 raw words (327468 effective words) took 0.5s, 684842 effective words/s\n",
      "2024-08-25 02:07:02,557 | INFO | word2vec.py:1652 | _log_epoch_end | EPOCH 79: training on 345477 raw words (327682 effective words) took 0.5s, 658384 effective words/s\n",
      "2024-08-25 02:07:03,058 | INFO | word2vec.py:1652 | _log_epoch_end | EPOCH 80: training on 345477 raw words (327406 effective words) took 0.5s, 675750 effective words/s\n",
      "2024-08-25 02:07:03,556 | INFO | word2vec.py:1652 | _log_epoch_end | EPOCH 81: training on 345477 raw words (327493 effective words) took 0.5s, 679110 effective words/s\n",
      "2024-08-25 02:07:04,063 | INFO | word2vec.py:1652 | _log_epoch_end | EPOCH 82: training on 345477 raw words (327663 effective words) took 0.5s, 665237 effective words/s\n",
      "2024-08-25 02:07:04,560 | INFO | word2vec.py:1652 | _log_epoch_end | EPOCH 83: training on 345477 raw words (327746 effective words) took 0.5s, 684475 effective words/s\n",
      "2024-08-25 02:07:05,063 | INFO | word2vec.py:1652 | _log_epoch_end | EPOCH 84: training on 345477 raw words (327461 effective words) took 0.5s, 674004 effective words/s\n",
      "2024-08-25 02:07:05,542 | INFO | word2vec.py:1652 | _log_epoch_end | EPOCH 85: training on 345477 raw words (327562 effective words) took 0.5s, 719490 effective words/s\n",
      "2024-08-25 02:07:06,037 | INFO | word2vec.py:1652 | _log_epoch_end | EPOCH 86: training on 345477 raw words (327683 effective words) took 0.5s, 684689 effective words/s\n",
      "2024-08-25 02:07:06,526 | INFO | word2vec.py:1652 | _log_epoch_end | EPOCH 87: training on 345477 raw words (327677 effective words) took 0.5s, 690570 effective words/s\n",
      "2024-08-25 02:07:07,004 | INFO | word2vec.py:1652 | _log_epoch_end | EPOCH 88: training on 345477 raw words (327551 effective words) took 0.5s, 702613 effective words/s\n",
      "2024-08-25 02:07:07,479 | INFO | word2vec.py:1652 | _log_epoch_end | EPOCH 89: training on 345477 raw words (327584 effective words) took 0.5s, 716554 effective words/s\n",
      "2024-08-25 02:07:07,949 | INFO | word2vec.py:1652 | _log_epoch_end | EPOCH 90: training on 345477 raw words (327540 effective words) took 0.5s, 717539 effective words/s\n",
      "2024-08-25 02:07:08,448 | INFO | word2vec.py:1652 | _log_epoch_end | EPOCH 91: training on 345477 raw words (327368 effective words) took 0.5s, 677269 effective words/s\n",
      "2024-08-25 02:07:08,952 | INFO | word2vec.py:1652 | _log_epoch_end | EPOCH 92: training on 345477 raw words (327564 effective words) took 0.5s, 668407 effective words/s\n",
      "2024-08-25 02:07:09,402 | INFO | word2vec.py:1652 | _log_epoch_end | EPOCH 93: training on 345477 raw words (327717 effective words) took 0.4s, 754936 effective words/s\n",
      "2024-08-25 02:07:09,900 | INFO | word2vec.py:1652 | _log_epoch_end | EPOCH 94: training on 345477 raw words (327785 effective words) took 0.5s, 681707 effective words/s\n",
      "2024-08-25 02:07:10,388 | INFO | word2vec.py:1652 | _log_epoch_end | EPOCH 95: training on 345477 raw words (327427 effective words) took 0.5s, 690939 effective words/s\n",
      "2024-08-25 02:07:10,908 | INFO | word2vec.py:1652 | _log_epoch_end | EPOCH 96: training on 345477 raw words (327623 effective words) took 0.5s, 648959 effective words/s\n",
      "2024-08-25 02:07:11,399 | INFO | word2vec.py:1652 | _log_epoch_end | EPOCH 97: training on 345477 raw words (327420 effective words) took 0.5s, 687791 effective words/s\n",
      "2024-08-25 02:07:11,878 | INFO | word2vec.py:1652 | _log_epoch_end | EPOCH 98: training on 345477 raw words (327566 effective words) took 0.5s, 713019 effective words/s\n",
      "2024-08-25 02:07:12,327 | INFO | word2vec.py:1652 | _log_epoch_end | EPOCH 99: training on 345477 raw words (327455 effective words) took 0.4s, 755041 effective words/s\n",
      "2024-08-25 02:07:12,328 | INFO | utils.py:447 | add_lifecycle_event | Word2Vec lifecycle event {'msg': 'training on 34547700 raw words (32756553 effective words) took 49.1s, 667105 effective words/s', 'datetime': '2024-08-25T02:07:12.328463', 'gensim': '4.3.3', 'python': '3.10.14 | packaged by Anaconda, Inc. | (main, May  6 2024, 19:44:50) [MSC v.1916 64 bit (AMD64)]', 'platform': 'Windows-10-10.0.22621-SP0', 'event': 'train'}\n",
      "2024-08-25 02:07:12,330 | INFO | utils.py:447 | add_lifecycle_event | Word2Vec lifecycle event {'params': 'Word2Vec<vocab=17499, vector_size=300, alpha=0.025>', 'datetime': '2024-08-25T02:07:12.330467', 'gensim': '4.3.3', 'python': '3.10.14 | packaged by Anaconda, Inc. | (main, May  6 2024, 19:44:50) [MSC v.1916 64 bit (AMD64)]', 'platform': 'Windows-10-10.0.22621-SP0', 'event': 'created'}\n"
     ]
    }
   ],
   "source": [
    "word2vec_tokenzer = Tokenizer()\n",
    "WORD2VEC_DIM = 300\n",
    "SG = {\"CBOW\":0,\"SKIP_GRAM\":1}\n",
    "word2vec_tokenzer.fit_on_texts(corpus)\n",
    "word2vec = gensim.models.Word2Vec(corpus,window=5,vector_size=WORD2VEC_DIM,min_count=1,epochs=100,sg=SG[\"CBOW\"])\n",
    "WORD2VEC_VOCAB_SIZE = len(word2vec.wv.index_to_key)+1\n",
    "word2vec_embedding = np.zeros((WORD2VEC_VOCAB_SIZE,WORD2VEC_DIM))\n",
    "for word,index in word2vec_tokenzer.word_index.items():\n",
    "    if word in word2vec.wv.index_to_key:\n",
    "        word2vec_embedding[index] = word2vec.wv[word]"
   ]
  },
  {
   "cell_type": "code",
   "execution_count": 16,
   "metadata": {},
   "outputs": [
    {
     "data": {
      "text/plain": [
       "(17500, 300)"
      ]
     },
     "execution_count": 16,
     "metadata": {},
     "output_type": "execute_result"
    }
   ],
   "source": [
    "word2vec_embedding.shape"
   ]
  },
  {
   "cell_type": "code",
   "execution_count": 37,
   "metadata": {},
   "outputs": [],
   "source": [
    "GLOVE_VOCAB_SIZE = len(tokenizer.word_index)+1\n",
    "GLOVE_EMBEDDINGS_DIMENSION = 300\n",
    "glove_embeddings = np.zeros((GLOVE_VOCAB_SIZE,GLOVE_EMBEDDINGS_DIMENSION))\n",
    "glove_model = spacy.load(\"en_core_web_lg\")\n",
    "for word,index in tokenizer.word_index.items():\n",
    "    if word in glove_model.vocab.strings:\n",
    "        glove_embeddings[index] = glove_model.vocab[word].vector"
   ]
  },
  {
   "cell_type": "code",
   "execution_count": 38,
   "metadata": {},
   "outputs": [
    {
     "data": {
      "text/plain": [
       "(17498, 300)"
      ]
     },
     "execution_count": 38,
     "metadata": {},
     "output_type": "execute_result"
    }
   ],
   "source": [
    "glove_embeddings.shape"
   ]
  },
  {
   "cell_type": "code",
   "execution_count": 57,
   "metadata": {},
   "outputs": [],
   "source": [
    "MODEL_TYPE = \"skipgram\"\n",
    "with open(\"corpus.txt\",\"w\", encoding=\"utf-8\") as file:\n",
    "    for doc in data_preprocess[\"tweet\"].values:\n",
    "        file.write(doc + \"\\n\")\n",
    "FASTTEXT_EMBEDDINGS_DIMENSION = 300\n",
    "FASTTEXT_VOCAB_SIZE = len(tokenizer.word_index)+1\n",
    "fasttext_embeddings = np.zeros((FASTTEXT_VOCAB_SIZE,FASTTEXT_EMBEDDINGS_DIMENSION))\n",
    "fasttext_model = fasttext.train_unsupervised(\"corpus.txt\",ws=5,minn=2,epoch=100,dim=300,model=MODEL_TYPE)\n",
    "for word,index in tokenizer.word_index.items():\n",
    "    if word in fasttext_model.words:\n",
    "        fasttext_embeddings[index] = fasttext_model.get_word_vector(word)"
   ]
  },
  {
   "cell_type": "code",
   "execution_count": 58,
   "metadata": {},
   "outputs": [
    {
     "data": {
      "text/plain": [
       "(17498, 300)"
      ]
     },
     "execution_count": 58,
     "metadata": {},
     "output_type": "execute_result"
    }
   ],
   "source": [
    "fasttext_embeddings.shape"
   ]
  },
  {
   "cell_type": "code",
   "execution_count": 13,
   "metadata": {},
   "outputs": [
    {
     "name": "stderr",
     "output_type": "stream",
     "text": [
      "2024-08-20 17:52:13,482 | INFO | resolver.py:108 | tfhub_cache_dir | Using C:\\Users\\ALIHAI~1\\AppData\\Local\\Temp\\tfhub_modules to cache modules.\n"
     ]
    }
   ],
   "source": [
    "ELMO_VOCAB_SIZE = len(data_preprocess)\n",
    "ELMO_EMBEDDINGS_DIMENSION = 1024\n",
    "\n",
    "elmo_embeddings = np.zeros((ELMO_VOCAB_SIZE,ELMO_EMBEDDINGS_DIMENSION))\n",
    "elmo = hub.KerasLayer(\"https://tfhub.dev/google/elmo/3\")\n",
    "for index,text in enumerate(data_preprocess[\"tweet\"].values):\n",
    "    embeddings = elmo(tf.constant([text]))\n",
    "    elmo_embeddings[index]=embeddings.numpy()"
   ]
  },
  {
   "cell_type": "code",
   "execution_count": 14,
   "metadata": {},
   "outputs": [
    {
     "data": {
      "text/plain": [
       "(18232, 1024)"
      ]
     },
     "execution_count": 14,
     "metadata": {},
     "output_type": "execute_result"
    }
   ],
   "source": [
    "elmo_embeddings.shape"
   ]
  },
  {
   "cell_type": "code",
   "execution_count": 77,
   "metadata": {},
   "outputs": [
    {
     "data": {
      "text/plain": [
       "(44385, 1024)"
      ]
     },
     "execution_count": 77,
     "metadata": {},
     "output_type": "execute_result"
    }
   ],
   "source": [
    "elmo_embeddings=np.load('elmo_embeddings_multi_balanced.npy')\n",
    "elmo_embeddings.shape"
   ]
  },
  {
   "cell_type": "code",
   "execution_count": 12,
   "metadata": {},
   "outputs": [
    {
     "name": "stderr",
     "output_type": "stream",
     "text": [
      "Some layers from the model checkpoint at bert-base-uncased were not used when initializing TFBertModel: ['nsp___cls', 'mlm___cls']\n",
      "- This IS expected if you are initializing TFBertModel from the checkpoint of a model trained on another task or with another architecture (e.g. initializing a BertForSequenceClassification model from a BertForPreTraining model).\n",
      "- This IS NOT expected if you are initializing TFBertModel from the checkpoint of a model that you expect to be exactly identical (initializing a BertForSequenceClassification model from a BertForSequenceClassification model).\n",
      "All the layers of TFBertModel were initialized from the model checkpoint at bert-base-uncased.\n",
      "If your task is similar to the task the model of the checkpoint was trained on, you can already use TFBertModel for predictions without further training.\n"
     ]
    }
   ],
   "source": [
    "BERT_VOCAB_SIZE = len(data_preprocess)\n",
    "BERT_EMBEDDINGS_DIMENSION = 768\n",
    "\n",
    "bert_embeddings = np.zeros((BERT_VOCAB_SIZE,BERT_EMBEDDINGS_DIMENSION))\n",
    "bert_tokenizer = BertTokenizer.from_pretrained('bert-base-uncased')\n",
    "bert_model = TFBertModel.from_pretrained(\"bert-base-uncased\")\n",
    "for index,text in enumerate(data_preprocess[\"tweet\"].values):\n",
    "    # print(\"index\",index)\n",
    "    inputs = bert_tokenizer(text, padding=True,return_tensors='tf')\n",
    "    outputs = bert_model(**inputs)\n",
    "    embeddings = outputs.last_hidden_state\n",
    "    cls_embeddings = embeddings[:, 0, :]\n",
    "    bert_embeddings[index]=cls_embeddings.numpy()"
   ]
  },
  {
   "cell_type": "code",
   "execution_count": 13,
   "metadata": {},
   "outputs": [
    {
     "data": {
      "text/plain": [
       "(18232, 768)"
      ]
     },
     "execution_count": 13,
     "metadata": {},
     "output_type": "execute_result"
    }
   ],
   "source": [
    "bert_embeddings.shape"
   ]
  },
  {
   "cell_type": "code",
   "execution_count": 97,
   "metadata": {},
   "outputs": [
    {
     "data": {
      "text/plain": [
       "(44385, 768)"
      ]
     },
     "execution_count": 97,
     "metadata": {},
     "output_type": "execute_result"
    }
   ],
   "source": [
    "import numpy as np\n",
    "bert_embeddings=np.load('bert_embeddings_multi_balanced.npy')\n",
    "bert_embeddings.shape"
   ]
  },
  {
   "cell_type": "code",
   "execution_count": 17,
   "metadata": {},
   "outputs": [
    {
     "data": {
      "text/plain": [
       "186"
      ]
     },
     "execution_count": 17,
     "metadata": {},
     "output_type": "execute_result"
    }
   ],
   "source": [
    "max_length_sequence = max([len(doc) for doc in corpus])\n",
    "max_length_sequence"
   ]
  },
  {
   "cell_type": "code",
   "execution_count": 78,
   "metadata": {},
   "outputs": [
    {
     "data": {
      "text/plain": [
       "44385"
      ]
     },
     "execution_count": 78,
     "metadata": {},
     "output_type": "execute_result"
    }
   ],
   "source": [
    "# WORD2VEC_VOCAB_SIZE\n"
   ]
  },
  {
   "cell_type": "code",
   "execution_count": 98,
   "metadata": {},
   "outputs": [],
   "source": [
    "MAX_WORDS_PER_SENTENCE = max_length_sequence\n",
    "MAX_WORDS = len(data_preprocess)\n",
    "EMBEDDING_DIM = 768\n",
    "embedding_matrix = bert_embeddings\n",
    "MAX_SENTENCES = sum([len(word) for word in corpus])//len(corpus)"
   ]
  },
  {
   "cell_type": "code",
   "execution_count": 99,
   "metadata": {},
   "outputs": [],
   "source": [
    "data_preprocess['processed'] = data_preprocess['tweet'].apply(preprocess_text)"
   ]
  },
  {
   "cell_type": "code",
   "execution_count": 100,
   "metadata": {},
   "outputs": [],
   "source": [
    "han_word_tokenizer = tf.keras.preprocessing.text.Tokenizer(num_words=MAX_WORDS, oov_token=\"<OOV>\")\n",
    "all_sentences = [word for document in data_preprocess['processed'] for word in document]\n",
    "han_word_tokenizer.fit_on_texts(all_sentences)"
   ]
  },
  {
   "cell_type": "code",
   "execution_count": 101,
   "metadata": {},
   "outputs": [],
   "source": [
    "data_preprocess['padded'] = data_preprocess['processed'].apply(lambda doc: pad_sentences(doc,han_word_tokenizer))"
   ]
  },
  {
   "cell_type": "code",
   "execution_count": 104,
   "metadata": {},
   "outputs": [],
   "source": [
    "X = pad_documents(data_preprocess['padded'].tolist())\n",
    "y = np.array(data_preprocess['Disorder'])"
   ]
  },
  {
   "cell_type": "code",
   "execution_count": 105,
   "metadata": {},
   "outputs": [
    {
     "data": {
      "text/plain": [
       "(array([0, 1, 2, 3, 4, 5, 6, 7, 8], dtype=int64),\n",
       " array([5283, 4843, 4936, 5186, 4806, 4707, 4805, 4860, 4959], dtype=int64))"
      ]
     },
     "execution_count": 105,
     "metadata": {},
     "output_type": "execute_result"
    }
   ],
   "source": [
    "np.unique(y,return_counts=True)"
   ]
  },
  {
   "cell_type": "markdown",
   "metadata": {},
   "source": [
    "#### HAN MODEL"
   ]
  },
  {
   "cell_type": "code",
   "execution_count": 106,
   "metadata": {},
   "outputs": [
    {
     "name": "stdout",
     "output_type": "stream",
     "text": [
      "Model: \"model_9\"\n",
      "_________________________________________________________________\n",
      " Layer (type)                Output Shape              Param #   \n",
      "=================================================================\n",
      " input_9 (InputLayer)        [(None, 7, 186)]          0         \n",
      "                                                                 \n",
      " time_distributed_13 (TimeDi  (None, 7, 32)            34136240  \n",
      " stributed)                                                      \n",
      "                                                                 \n",
      " bidirectional_9 (Bidirectio  (None, 7, 20)            2640      \n",
      " nal)                                                            \n",
      "                                                                 \n",
      " time_distributed_14 (TimeDi  (None, 7, 32)            672       \n",
      " stributed)                                                      \n",
      "                                                                 \n",
      " attention_layer_9 (Attentio  (None, 32)               1088      \n",
      " nLayer)                                                         \n",
      "                                                                 \n",
      " dropout_4 (Dropout)         (None, 32)                0         \n",
      "                                                                 \n",
      " dense_14 (Dense)            (None, 9)                 297       \n",
      "                                                                 \n",
      "=================================================================\n",
      "Total params: 34,140,937\n",
      "Trainable params: 53,257\n",
      "Non-trainable params: 34,087,680\n",
      "_________________________________________________________________\n"
     ]
    }
   ],
   "source": [
    "# Build the HAN model\n",
    "input_layer = Input(shape=(MAX_SENTENCES, MAX_WORDS_PER_SENTENCE), dtype='int32')\n",
    "\n",
    "# Word Encoder\n",
    "word_input = Input(shape=(MAX_WORDS_PER_SENTENCE,), dtype='int32')\n",
    "word_sequences = Embedding(input_dim=MAX_WORDS, output_dim=EMBEDDING_DIM, input_length=MAX_WORDS_PER_SENTENCE, weights=[embedding_matrix], trainable=False)(word_input)\n",
    "word_lstm = Bidirectional(GRU(10,return_sequences=True))(word_sequences)\n",
    "word_dense = TimeDistributed(Dense(32,activation=\"relu\"))(word_lstm)\n",
    "word_att = AttentionLayer()(word_dense)\n",
    "word_encoder = Model(word_input, word_att)\n",
    "\n",
    "# Apply the word encoder to each sentence\n",
    "sentence_encoder = TimeDistributed(word_encoder)(input_layer)\n",
    "\n",
    "# Sentence Encoder\n",
    "sentence_lstm = Bidirectional(GRU(10, return_sequences=True))(sentence_encoder)\n",
    "sentence_dense = TimeDistributed(Dense(32,activation=\"relu\"))(sentence_lstm)\n",
    "sentence_att = AttentionLayer()(sentence_dense)\n",
    "sent_drop = Dropout(0.2)(sentence_att)\n",
    "# Final Dense Layer for Classification\n",
    "output_layer = Dense(len(np.unique(y)), activation='softmax')(sent_drop)\n",
    "\n",
    "\n",
    "# Build and compile the model\n",
    "model = Model(input_layer, output_layer)\n",
    "model.compile(optimizer='adam', loss='sparse_categorical_crossentropy', metrics=['accuracy'])\n",
    "\n",
    "model.summary()"
   ]
  },
  {
   "cell_type": "code",
   "execution_count": 107,
   "metadata": {},
   "outputs": [],
   "source": [
    "# Split into train and test sets\n",
    "X_train,X_temp,y_train,y_temp = train_test_split(X, y, test_size=0.3, random_state=42,stratify=y)\n",
    "X_val,X_test,y_val,y_test = train_test_split(X_temp, y_temp, test_size=0.2, random_state=42,stratify=y_temp)"
   ]
  },
  {
   "cell_type": "code",
   "execution_count": 108,
   "metadata": {},
   "outputs": [
    {
     "data": {
      "text/plain": [
       "((31069, 7, 186), (10652, 7, 186), (2664, 7, 186))"
      ]
     },
     "execution_count": 108,
     "metadata": {},
     "output_type": "execute_result"
    }
   ],
   "source": [
    "X_train.shape,X_val.shape,X_test.shape"
   ]
  },
  {
   "cell_type": "code",
   "execution_count": 109,
   "metadata": {},
   "outputs": [
    {
     "name": "stdout",
     "output_type": "stream",
     "text": [
      "(array([0, 1, 2, 3, 4, 5, 6, 7, 8], dtype=int64), array([3698, 3390, 3455, 3630, 3364, 3295, 3364, 3402, 3471], dtype=int64))\n",
      "(array([0, 1, 2, 3, 4, 5, 6, 7, 8], dtype=int64), array([1268, 1162, 1185, 1245, 1153, 1130, 1153, 1166, 1190], dtype=int64))\n",
      "(array([0, 1, 2, 3, 4, 5, 6, 7, 8], dtype=int64), array([317, 291, 296, 311, 289, 282, 288, 292, 298], dtype=int64))\n"
     ]
    }
   ],
   "source": [
    "print(np.unique(y_train,return_counts=True))\n",
    "print(np.unique(y_val,return_counts=True))\n",
    "print(np.unique(y_test,return_counts=True))"
   ]
  },
  {
   "cell_type": "code",
   "execution_count": 110,
   "metadata": {},
   "outputs": [
    {
     "name": "stdout",
     "output_type": "stream",
     "text": [
      "Epoch 1/10\n",
      "971/971 [==============================] - 110s 99ms/step - loss: 2.1978 - accuracy: 0.1143 - val_loss: 2.1951 - val_accuracy: 0.1190\n",
      "Epoch 2/10\n",
      "971/971 [==============================] - 90s 93ms/step - loss: 2.1130 - accuracy: 0.1836 - val_loss: 2.0503 - val_accuracy: 0.2170\n",
      "Epoch 3/10\n",
      "971/971 [==============================] - 88s 91ms/step - loss: 2.0314 - accuracy: 0.2272 - val_loss: 1.9917 - val_accuracy: 0.2477\n",
      "Epoch 4/10\n",
      "971/971 [==============================] - 91s 94ms/step - loss: 1.9427 - accuracy: 0.2708 - val_loss: 1.8924 - val_accuracy: 0.2915\n",
      "Epoch 5/10\n",
      "971/971 [==============================] - 93s 95ms/step - loss: 1.8763 - accuracy: 0.2947 - val_loss: 1.8471 - val_accuracy: 0.3007\n",
      "Epoch 6/10\n",
      "971/971 [==============================] - 89s 92ms/step - loss: 1.8209 - accuracy: 0.3128 - val_loss: 1.7980 - val_accuracy: 0.3284\n",
      "Epoch 7/10\n",
      "971/971 [==============================] - 84s 87ms/step - loss: 1.7635 - accuracy: 0.3406 - val_loss: 1.7771 - val_accuracy: 0.3333\n",
      "Epoch 8/10\n",
      "971/971 [==============================] - 85s 87ms/step - loss: 1.7201 - accuracy: 0.3566 - val_loss: 1.7317 - val_accuracy: 0.3512\n",
      "Epoch 9/10\n",
      "971/971 [==============================] - 85s 88ms/step - loss: 1.6778 - accuracy: 0.3746 - val_loss: 1.6741 - val_accuracy: 0.3725\n",
      "Epoch 10/10\n",
      "971/971 [==============================] - 88s 91ms/step - loss: 1.6423 - accuracy: 0.3889 - val_loss: 1.6536 - val_accuracy: 0.3827\n"
     ]
    }
   ],
   "source": [
    "# Train the model\n",
    "history = model.fit(X_train, y_train, batch_size=32, epochs=10,validation_data=(X_val, y_val))"
   ]
  },
  {
   "cell_type": "code",
   "execution_count": 111,
   "metadata": {},
   "outputs": [],
   "source": [
    "def classification_metrics(actuals: np.array, preds: np.array, average:\"macro\") -> pd.DataFrame:\n",
    "    metrics_performance = pd.DataFrame()\n",
    "    precision = precision_score(actuals,preds,average=average)\n",
    "    recall = recall_score(actuals,preds,average=average)\n",
    "    f1 = f1_score(actuals,preds,average=average)\n",
    "    accuracy = accuracy_score(actuals,preds)\n",
    "    metrics_performance[\"precision\"] = [precision]\n",
    "    metrics_performance[\"recall\"] = [recall]\n",
    "    metrics_performance[\"f1\"] = [f1]\n",
    "    metrics_performance[\"accuracy\"] = [accuracy]\n",
    "    return metrics_performance"
   ]
  },
  {
   "cell_type": "code",
   "execution_count": 112,
   "metadata": {},
   "outputs": [],
   "source": [
    "# y_pred = np.squeeze(y_pred)\n",
    "# y_pred.shape"
   ]
  },
  {
   "cell_type": "code",
   "execution_count": 113,
   "metadata": {},
   "outputs": [
    {
     "name": "stdout",
     "output_type": "stream",
     "text": [
      "971/971 [==============================] - 46s 43ms/step\n"
     ]
    },
    {
     "data": {
      "text/html": [
       "<div>\n",
       "<style scoped>\n",
       "    .dataframe tbody tr th:only-of-type {\n",
       "        vertical-align: middle;\n",
       "    }\n",
       "\n",
       "    .dataframe tbody tr th {\n",
       "        vertical-align: top;\n",
       "    }\n",
       "\n",
       "    .dataframe thead th {\n",
       "        text-align: right;\n",
       "    }\n",
       "</style>\n",
       "<table border=\"1\" class=\"dataframe\">\n",
       "  <thead>\n",
       "    <tr style=\"text-align: right;\">\n",
       "      <th></th>\n",
       "      <th>precision</th>\n",
       "      <th>recall</th>\n",
       "      <th>f1</th>\n",
       "      <th>accuracy</th>\n",
       "    </tr>\n",
       "  </thead>\n",
       "  <tbody>\n",
       "    <tr>\n",
       "      <th>0</th>\n",
       "      <td>0.416054</td>\n",
       "      <td>0.400355</td>\n",
       "      <td>0.382627</td>\n",
       "      <td>0.407544</td>\n",
       "    </tr>\n",
       "  </tbody>\n",
       "</table>\n",
       "</div>"
      ],
      "text/plain": [
       "   precision    recall        f1  accuracy\n",
       "0   0.416054  0.400355  0.382627  0.407544"
      ]
     },
     "execution_count": 113,
     "metadata": {},
     "output_type": "execute_result"
    }
   ],
   "source": [
    "train_pred = model.predict(X_train)\n",
    "train_pred = np.argmax(train_pred, axis=1)\n",
    "train_model_performance = classification_metrics(y_train,train_pred,\"macro\")\n",
    "train_model_performance"
   ]
  },
  {
   "cell_type": "code",
   "execution_count": 114,
   "metadata": {},
   "outputs": [
    {
     "name": "stdout",
     "output_type": "stream",
     "text": [
      "84/84 [==============================] - 4s 41ms/step\n"
     ]
    },
    {
     "data": {
      "text/html": [
       "<div>\n",
       "<style scoped>\n",
       "    .dataframe tbody tr th:only-of-type {\n",
       "        vertical-align: middle;\n",
       "    }\n",
       "\n",
       "    .dataframe tbody tr th {\n",
       "        vertical-align: top;\n",
       "    }\n",
       "\n",
       "    .dataframe thead th {\n",
       "        text-align: right;\n",
       "    }\n",
       "</style>\n",
       "<table border=\"1\" class=\"dataframe\">\n",
       "  <thead>\n",
       "    <tr style=\"text-align: right;\">\n",
       "      <th></th>\n",
       "      <th>precision</th>\n",
       "      <th>recall</th>\n",
       "      <th>f1</th>\n",
       "      <th>accuracy</th>\n",
       "    </tr>\n",
       "  </thead>\n",
       "  <tbody>\n",
       "    <tr>\n",
       "      <th>0</th>\n",
       "      <td>0.363288</td>\n",
       "      <td>0.364915</td>\n",
       "      <td>0.34257</td>\n",
       "      <td>0.371997</td>\n",
       "    </tr>\n",
       "  </tbody>\n",
       "</table>\n",
       "</div>"
      ],
      "text/plain": [
       "   precision    recall       f1  accuracy\n",
       "0   0.363288  0.364915  0.34257  0.371997"
      ]
     },
     "execution_count": 114,
     "metadata": {},
     "output_type": "execute_result"
    }
   ],
   "source": [
    "y_pred = model.predict(X_test)\n",
    "y_pred = np.argmax(y_pred, axis=1)\n",
    "test_model_performance = classification_metrics(y_test,y_pred,average=\"macro\")\n",
    "test_model_performance"
   ]
  },
  {
   "cell_type": "code",
   "execution_count": 115,
   "metadata": {},
   "outputs": [
    {
     "data": {
      "image/png": "[encoded data removed]",
      "text/plain": [
       "<Figure size 640x480 with 1 Axes>"
      ]
     },
     "metadata": {},
     "output_type": "display_data"
    }
   ],
   "source": [
    "plt.plot(history.history['loss'])\n",
    "plt.plot(history.history['val_loss'])\n",
    "plt.title('training vs validation loss')\n",
    "plt.ylabel('loss')\n",
    "plt.xlabel('epoch')\n",
    "plt.legend(['train', 'validation'], loc='upper left')\n",
    "plt.show()"
   ]
  }
 ],
 "metadata": {
  "kernelspec": {
   "display_name": "Python 3 (ipykernel)",
   "language": "python",
   "name": "python3"
  },
  "language_info": {
   "codemirror_mode": {
    "name": "ipython",
    "version": 3
   },
   "file_extension": ".py",
   "mimetype": "text/x-python",
   "name": "python",
   "nbconvert_exporter": "python",
   "pygments_lexer": "ipython3",
   "version": "3.11.9"
  }
 },
 "nbformat": 4,
 "nbformat_minor": 4
}
