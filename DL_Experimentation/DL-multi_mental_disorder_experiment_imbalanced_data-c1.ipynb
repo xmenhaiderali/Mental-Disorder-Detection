{
 "cells": [
  {
   "cell_type": "code",
   "execution_count": 1,
   "id": "87e21a07-9d57-42e9-a2d9-cea2cbd7342f",
   "metadata": {},
   "outputs": [
    {
     "name": "stderr",
     "output_type": "stream",
     "text": [
      "[nltk_data] Downloading package wordnet to C:\\Users\\Ali\n",
      "[nltk_data]     Haider\\AppData\\Roaming\\nltk_data...\n",
      "[nltk_data]   Package wordnet is already up-to-date!\n",
      "[nltk_data] Downloading package stopwords to C:\\Users\\Ali\n",
      "[nltk_data]     Haider\\AppData\\Roaming\\nltk_data...\n",
      "[nltk_data]   Package stopwords is already up-to-date!\n"
     ]
    },
    {
     "data": {
      "text/plain": [
       "True"
      ]
     },
     "execution_count": 1,
     "metadata": {},
     "output_type": "execute_result"
    }
   ],
   "source": [
    "import pandas as pd\n",
    "import numpy as np\n",
    "from pathlib import Path\n",
    "from tqdm import tqdm\n",
    "import matplotlib.pyplot as plt\n",
    "from textblob import TextBlob\n",
    "import advertools\n",
    "import re\n",
    "import spacy\n",
    "import xgboost\n",
    "from sklearn.feature_extraction.text import TfidfVectorizer\n",
    "from sklearn.model_selection import train_test_split\n",
    "from sklearn.linear_model import LogisticRegression\n",
    "from sklearn.metrics import (classification_report,auc, \n",
    "                            roc_auc_score, precision_score,\n",
    "                            recall_score,f1_score, accuracy_score)\n",
    "from sklearn.ensemble import RandomForestClassifier, AdaBoostClassifier\n",
    "from sklearn.svm import SVC\n",
    "from sklearn.tree import DecisionTreeClassifier\n",
    "from sklearn.naive_bayes import GaussianNB\n",
    "import seaborn as sns\n",
    "import gensim\n",
    "import nltk\n",
    "import nltk.util\n",
    "from nltk.corpus import stopwords\n",
    "from nltk.stem import WordNetLemmatizer\n",
    "from tensorflow.keras.preprocessing.text import Tokenizer\n",
    "from tensorflow.keras.layers import Embedding, Dense, Dropout, SpatialDropout1D, LSTM, Conv1D, MaxPool1D, Input\n",
    "from tensorflow.keras.models import Sequential\n",
    "from tensorflow.keras.callbacks import EarlyStopping\n",
    "from tensorflow.keras.utils import pad_sequences\n",
    "from transformers import BertTokenizer, TFBertForSequenceClassification, TFBertModel\n",
    "import warnings\n",
    "warnings.filterwarnings(\"ignore\")\n",
    "nltk.download(\"wordnet\")\n",
    "nltk.download(\"stopwords\")"
   ]
  },
  {
   "cell_type": "code",
   "execution_count": 2,
   "id": "f7ee10c3-bad3-4bf9-bffc-128789be6257",
   "metadata": {},
   "outputs": [
    {
     "data": {
      "text/plain": [
       "'2.10.1'"
      ]
     },
     "execution_count": 2,
     "metadata": {},
     "output_type": "execute_result"
    }
   ],
   "source": [
    "import tensorflow as tf\n",
    "tf.__version__"
   ]
  },
  {
   "cell_type": "code",
   "execution_count": 3,
   "id": "f6928cf4-ec7c-4097-9b8e-ed76aaf813e8",
   "metadata": {},
   "outputs": [],
   "source": [
    "data_path = Path.cwd().parent/\"Data\"\n",
    "final_data = pd.DataFrame()"
   ]
  },
  {
   "cell_type": "code",
   "execution_count": 4,
   "id": "c720a4b4-8003-4bba-a324-71da0d42622b",
   "metadata": {},
   "outputs": [
    {
     "name": "stderr",
     "output_type": "stream",
     "text": [
      "100%|████████████████████████████████████████████████████████████████████| 622/622 [00:10<00:00, 57.82it/s]\n",
      "100%|████████████████████████████████████████████████████████████████████| 124/124 [00:02<00:00, 59.20it/s]\n",
      "100%|████████████████████████████████████████████████████████████████████| 170/170 [00:02<00:00, 59.21it/s]\n",
      "100%|████████████████████████████████████████████████████████████████████| 136/136 [00:02<00:00, 59.81it/s]\n",
      "100%|██████████████████████████████████████████████████████████████████| 1703/1703 [00:30<00:00, 55.19it/s]\n",
      "100%|████████████████████████████████████████████████████████████████████| 249/249 [00:03<00:00, 63.03it/s]\n",
      "100%|██████████████████████████████████████████████████████████████████████| 26/26 [00:00<00:00, 61.19it/s]\n",
      "100%|██████████████████████████████████████████████████████████████████████| 65/65 [00:01<00:00, 48.37it/s]\n",
      "100%|████████████████████████████████████████████████████████████████████| 127/127 [00:02<00:00, 56.13it/s]\n",
      "100%|██████████████████████████████████████████████████████████████████████| 24/24 [00:00<00:00, 55.18it/s]\n"
     ]
    }
   ],
   "source": [
    "for child in data_path.iterdir():\n",
    "    for child_ch in child.iterdir():\n",
    "        if child_ch.is_dir():\n",
    "            files = list(child_ch.glob(\"**/*.csv\"))\n",
    "            for fls in tqdm(range(len(files))):\n",
    "                df = pd.read_csv(files[fls])\n",
    "        else:\n",
    "            df = pd.read_csv(child_ch)\n",
    "        final_data = pd.concat([df,final_data],axis = 0)"
   ]
  },
  {
   "cell_type": "code",
   "execution_count": 5,
   "id": "b7c4d435-f872-46c4-b3d3-ce65005536f5",
   "metadata": {},
   "outputs": [],
   "source": [
    "final_data = final_data[final_data[\"class\"]!=\"CONTROL\"]"
   ]
  },
  {
   "cell_type": "code",
   "execution_count": 6,
   "id": "4806db0c-48fb-4932-8d2a-05c954986b04",
   "metadata": {},
   "outputs": [],
   "source": [
    "pipeline_data = final_data.copy()"
   ]
  },
  {
   "cell_type": "markdown",
   "id": "11c87c5d-119b-4790-8344-1b9d83a534fe",
   "metadata": {},
   "source": [
    "# Data Preprocessing"
   ]
  },
  {
   "cell_type": "code",
   "execution_count": 8,
   "id": "724da0c0-dab7-41cd-baaf-e8bc3382621d",
   "metadata": {},
   "outputs": [],
   "source": [
    "def clean_text(text:str) -> str:\n",
    "    tokens = advertools.word_tokenize(text,phrase_len=1)\n",
    "    emoji_token = advertools.extract_emoji(tokens[0])\n",
    "    emoji_token = emoji_token[\"emoji_text\"]\n",
    "    for tok in range(0,len(emoji_token)):\n",
    "        if emoji_token[tok]:\n",
    "            tokens[0][tok] = \" \".join(emoji_token[tok])\n",
    "    clean_text = \" \".join(tokens[0])\n",
    "    clean_pattern = r\"@\\w+|#\\w+|\\W+|x+|https\\.\\//www\\.(\\w+|\\W+)\\.com|http\\w*|www\\.(\\w+|\\W+)\\.com|user\\w*|\\d+\"\n",
    "    clean_text = re.sub(clean_pattern,\" \",clean_text).strip()\n",
    "    clean_text = re.sub(r\"\\s+\",\" \",clean_text).strip()\n",
    "    return clean_text"
   ]
  },
  {
   "cell_type": "code",
   "execution_count": 9,
   "id": "dfd1d22c-815a-4938-8685-0afc1297ae99",
   "metadata": {},
   "outputs": [],
   "source": [
    "def text_lemmatize(text: str) -> str:\n",
    "    lemma = WordNetLemmatizer()\n",
    "    tokens = advertools.word_tokenize(text,phrase_len=1)\n",
    "    text = [lemma.lemmatize(tok) for tok in tokens[0]]\n",
    "    return \" \".join(text)"
   ]
  },
  {
   "cell_type": "code",
   "execution_count": 11,
   "id": "4dbfa883-befb-403f-862f-4c8caf70af55",
   "metadata": {},
   "outputs": [],
   "source": [
    "def remove_stopword(text: str) -> str:\n",
    "    tokens = advertools.word_tokenize(text,phrase_len=1)[0]\n",
    "    stop_words = stopwords.words(\"english\")\n",
    "    clean_word = [tok for tok in tokens if tok not in stop_words]\n",
    "    return \" \".join(clean_word)"
   ]
  },
  {
   "cell_type": "code",
   "execution_count": 12,
   "id": "9636e634-0a99-4660-b38e-d5b3d94f6fea",
   "metadata": {},
   "outputs": [],
   "source": [
    "def generate_n_grams(text: str, n: list[int]) -> list[tuple]:\n",
    "    tokens = advertools.word_tokenize(text,phrase_len=1)[0]\n",
    "    if len(n)<=1:\n",
    "        n_grams = list(nltk.ngrams(tokens,n[0],pad_right=True,right_pad_symbol=\"</s>\"))\n",
    "        bag_ngrams = \" \".join([\"_\".join(c) for c in n_grams])\n",
    "    else:\n",
    "        bag_ngrams = \" \"\n",
    "        for n_gram in range(n[0],n[1]+1):\n",
    "            n_grams = list(nltk.ngrams(tokens,n_gram,pad_right=True,right_pad_symbol=\"</s>\"))\n",
    "            if n_gram==1:       \n",
    "                n_grams = \" \".join([\"\".join(c[0]) for c in n_grams])\n",
    "                bag_ngrams+=n_grams\n",
    "            else:\n",
    "                n_grams = \" \".join([\"_\".join(c) for c in n_grams])\n",
    "                bag_ngrams+=\" \"+n_grams\n",
    "    return bag_ngrams"
   ]
  },
  {
   "cell_type": "code",
   "execution_count": 13,
   "id": "30a93b6f-c571-47c6-a5c2-8545bf20044c",
   "metadata": {},
   "outputs": [],
   "source": [
    "def tfidf(train: pd.DataFrame, test:pd.DataFrame()):\n",
    "    tf_idf = TfidfVectorizer()\n",
    "    train_feat = tf_idf.fit_transform(train)\n",
    "    test_feat = tf_idf.transform(test)\n",
    "    return train_feat,test_feat"
   ]
  },
  {
   "cell_type": "code",
   "execution_count": 14,
   "id": "37b5564a-396e-4e58-ab02-2f6238815dcc",
   "metadata": {
    "scrolled": true
   },
   "outputs": [],
   "source": [
    "def classification_metrics(actuals: np.array, preds: np.array, average:\"binary\") -> pd.DataFrame:\n",
    "    metrics_performance = pd.DataFrame()\n",
    "    precision = precision_score(actuals,preds,average=average)\n",
    "    recall = recall_score(actuals,preds,average=average)\n",
    "    f1 = f1_score(actuals,preds,average=average)\n",
    "    accuracy = accuracy_score(actuals,preds)\n",
    "    metrics_performance[\"precision\"] = [precision]\n",
    "    metrics_performance[\"recall\"] = [recall]\n",
    "    metrics_performance[\"f1\"] = [f1]\n",
    "    metrics_performance[\"accuracy\"] = [accuracy]\n",
    "    return metrics_performance"
   ]
  },
  {
   "cell_type": "code",
   "execution_count": 15,
   "id": "b92ae273-09ce-457a-8b15-b2241bb0ae0c",
   "metadata": {},
   "outputs": [],
   "source": [
    "def data_preprocess_pipeline(data_preprocess: pd.DataFrame,\n",
    "                             # ngram_range: list,\n",
    "                            filename: str,\n",
    "                            ) -> pd.DataFrame:\n",
    "    data_preprocess = data_preprocess[~(data_preprocess[\"tweet\"].isnull())]\n",
    "    data_preprocess = data_preprocess[[\"class\",\"tweet\"]]\n",
    "    data_preprocess.rename(columns={\"class\":\"Disorder\"}, inplace=True)\n",
    "    data_preprocess[\"tweet\"] = data_preprocess[\"tweet\"].apply(clean_text)\n",
    "    data_preprocess[\"tweet\"] = data_preprocess[\"tweet\"].apply(text_lemmatize)\n",
    "    data_preprocess[\"tweet\"] = data_preprocess[\"tweet\"].apply(remove_stopword)\n",
    "    data_preprocess = data_preprocess[data_preprocess[\"tweet\"]!=\"\"]\n",
    "    # data_preprocess[\"text_features\"] = data_preprocess[\"tweet\"].apply(lambda text: \n",
    "    #                                                                   generate_n_grams(text,n=ngram_range))\n",
    "    print(\"saving preprocessed data\")\n",
    "    data_preprocess.to_csv(filename,index=False)\n",
    "    print(\"data saved\")\n",
    "    return data_preprocess"
   ]
  },
  {
   "cell_type": "markdown",
   "id": "d57a50b3-be09-4e58-b50c-a4d38e450fd6",
   "metadata": {},
   "source": [
    "# Imbalaned Dataset training"
   ]
  },
  {
   "cell_type": "code",
   "execution_count": 1,
   "id": "e224662b-dce2-40a6-b846-a20f7c82a351",
   "metadata": {},
   "outputs": [],
   "source": [
    "data_preprocess = data_preprocess_pipeline(pipeline_data,\n",
    "                                           filename=\"imbalanced_data_preprocess.csv\",\n",
    "                                           )\n",
    "data_preprocess.head()"
   ]
  },
  {
   "cell_type": "code",
   "execution_count": 18,
   "id": "87d5adf0-bc2a-41a4-a220-f36e55d08f59",
   "metadata": {},
   "outputs": [
    {
     "data": {
      "text/plain": [
       "Disorder\n",
       "ADHD               3018\n",
       "SCHIZOPHRENIA      2959\n",
       "OCD                2888\n",
       "ANXIETY            2719\n",
       "PTSD               2458\n",
       "DEPRESSION         2143\n",
       "AUTISM             1402\n",
       "EATING DISORDER     402\n",
       "BIPOLAR             243\n",
       "Name: count, dtype: int64"
      ]
     },
     "execution_count": 18,
     "metadata": {},
     "output_type": "execute_result"
    }
   ],
   "source": [
    "data_preprocess.Disorder.value_counts()"
   ]
  },
  {
   "cell_type": "code",
   "execution_count": 19,
   "id": "7262134c-24b1-4586-87ed-1f6790fa62e1",
   "metadata": {},
   "outputs": [],
   "source": [
    "tokenizer = Tokenizer()\n",
    "tokenizer.fit_on_texts(data_preprocess[\"tweet\"].values.tolist())"
   ]
  },
  {
   "cell_type": "code",
   "execution_count": 20,
   "id": "00c6a785-5deb-4ab4-9e83-9c7c3ff90e35",
   "metadata": {},
   "outputs": [],
   "source": [
    "corpus = [advertools.word_tokenize(text,phrase_len=1)[0] for text in data_preprocess[\"tweet\"].values]"
   ]
  },
  {
   "cell_type": "code",
   "execution_count": 94,
   "id": "3ba125f4-55bb-4e4f-b10d-2800c28fd5ad",
   "metadata": {
    "scrolled": true
   },
   "outputs": [
    {
     "name": "stderr",
     "output_type": "stream",
     "text": [
      "2024-08-19 14:09:42,753 | INFO | word2vec.py:582 | scan_vocab | collecting all words and their counts\n",
      "2024-08-19 14:09:42,757 | INFO | word2vec.py:565 | _scan_vocab | PROGRESS: at sentence #0, processed 0 words, keeping 0 word types\n",
      "2024-08-19 14:09:42,803 | INFO | word2vec.py:565 | _scan_vocab | PROGRESS: at sentence #10000, processed 114796 words, keeping 12249 word types\n",
      "2024-08-19 14:09:42,839 | INFO | word2vec.py:588 | scan_vocab | collected 16114 word types from a corpus of 181302 raw words and 18232 sentences\n",
      "2024-08-19 14:09:42,839 | INFO | word2vec.py:637 | prepare_vocab | Creating a fresh vocabulary\n",
      "2024-08-19 14:09:42,971 | INFO | utils.py:447 | add_lifecycle_event | Word2Vec lifecycle event {'msg': 'effective_min_count=1 retains 16114 unique words (100.00% of original 16114, drops 0)', 'datetime': '2024-08-19T14:09:42.971369', 'gensim': '4.3.3', 'python': '3.10.14 | packaged by Anaconda, Inc. | (main, May  6 2024, 19:44:50) [MSC v.1916 64 bit (AMD64)]', 'platform': 'Windows-10-10.0.22621-SP0', 'event': 'prepare_vocab'}\n",
      "2024-08-19 14:09:42,971 | INFO | utils.py:447 | add_lifecycle_event | Word2Vec lifecycle event {'msg': 'effective_min_count=1 leaves 181302 word corpus (100.00% of original 181302, drops 0)', 'datetime': '2024-08-19T14:09:42.971369', 'gensim': '4.3.3', 'python': '3.10.14 | packaged by Anaconda, Inc. | (main, May  6 2024, 19:44:50) [MSC v.1916 64 bit (AMD64)]', 'platform': 'Windows-10-10.0.22621-SP0', 'event': 'prepare_vocab'}\n",
      "2024-08-19 14:09:43,257 | INFO | word2vec.py:745 | prepare_vocab | deleting the raw counts dictionary of 16114 items\n",
      "2024-08-19 14:09:43,257 | INFO | word2vec.py:748 | prepare_vocab | sample=0.001 downsamples 40 most-common words\n",
      "2024-08-19 14:09:43,263 | INFO | utils.py:447 | add_lifecycle_event | Word2Vec lifecycle event {'msg': 'downsampling leaves estimated 171330.6192327183 word corpus (94.5%% of prior 181302)', 'datetime': '2024-08-19T14:09:43.263075', 'gensim': '4.3.3', 'python': '3.10.14 | packaged by Anaconda, Inc. | (main, May  6 2024, 19:44:50) [MSC v.1916 64 bit (AMD64)]', 'platform': 'Windows-10-10.0.22621-SP0', 'event': 'prepare_vocab'}\n",
      "2024-08-19 14:09:43,672 | INFO | word2vec.py:805 | estimate_memory | estimated required memory for 16114 words and 300 dimensions: 46730600 bytes\n",
      "2024-08-19 14:09:43,679 | INFO | word2vec.py:863 | init_weights | resetting layer weights\n",
      "2024-08-19 14:09:43,714 | INFO | utils.py:447 | add_lifecycle_event | Word2Vec lifecycle event {'update': False, 'trim_rule': 'None', 'datetime': '2024-08-19T14:09:43.714029', 'gensim': '4.3.3', 'python': '3.10.14 | packaged by Anaconda, Inc. | (main, May  6 2024, 19:44:50) [MSC v.1916 64 bit (AMD64)]', 'platform': 'Windows-10-10.0.22621-SP0', 'event': 'build_vocab'}\n",
      "2024-08-19 14:09:43,729 | INFO | utils.py:447 | add_lifecycle_event | Word2Vec lifecycle event {'msg': 'training model with 3 workers on 16114 vocabulary and 300 features, using sg=0 hs=0 sample=0.001 negative=5 window=5 shrink_windows=True', 'datetime': '2024-08-19T14:09:43.729749', 'gensim': '4.3.3', 'python': '3.10.14 | packaged by Anaconda, Inc. | (main, May  6 2024, 19:44:50) [MSC v.1916 64 bit (AMD64)]', 'platform': 'Windows-10-10.0.22621-SP0', 'event': 'train'}\n",
      "2024-08-19 14:09:44,027 | INFO | word2vec.py:1652 | _log_epoch_end | EPOCH 0: training on 181302 raw words (171402 effective words) took 0.3s, 609579 effective words/s\n",
      "2024-08-19 14:09:44,285 | INFO | word2vec.py:1652 | _log_epoch_end | EPOCH 1: training on 181302 raw words (171487 effective words) took 0.3s, 670780 effective words/s\n",
      "2024-08-19 14:09:44,561 | INFO | word2vec.py:1652 | _log_epoch_end | EPOCH 2: training on 181302 raw words (171126 effective words) took 0.3s, 648735 effective words/s\n",
      "2024-08-19 14:09:44,817 | INFO | word2vec.py:1652 | _log_epoch_end | EPOCH 3: training on 181302 raw words (171329 effective words) took 0.2s, 718278 effective words/s\n",
      "2024-08-19 14:09:45,097 | INFO | word2vec.py:1652 | _log_epoch_end | EPOCH 4: training on 181302 raw words (171266 effective words) took 0.3s, 639878 effective words/s\n",
      "2024-08-19 14:09:45,375 | INFO | word2vec.py:1652 | _log_epoch_end | EPOCH 5: training on 181302 raw words (171305 effective words) took 0.3s, 642793 effective words/s\n",
      "2024-08-19 14:09:45,632 | INFO | word2vec.py:1652 | _log_epoch_end | EPOCH 6: training on 181302 raw words (171295 effective words) took 0.3s, 680446 effective words/s\n",
      "2024-08-19 14:09:45,917 | INFO | word2vec.py:1652 | _log_epoch_end | EPOCH 7: training on 181302 raw words (171384 effective words) took 0.3s, 656071 effective words/s\n",
      "2024-08-19 14:09:46,176 | INFO | word2vec.py:1652 | _log_epoch_end | EPOCH 8: training on 181302 raw words (171366 effective words) took 0.2s, 698905 effective words/s\n",
      "2024-08-19 14:09:46,415 | INFO | word2vec.py:1652 | _log_epoch_end | EPOCH 9: training on 181302 raw words (171355 effective words) took 0.2s, 735026 effective words/s\n",
      "2024-08-19 14:09:46,665 | INFO | word2vec.py:1652 | _log_epoch_end | EPOCH 10: training on 181302 raw words (171143 effective words) took 0.2s, 714965 effective words/s\n",
      "2024-08-19 14:09:46,964 | INFO | word2vec.py:1652 | _log_epoch_end | EPOCH 11: training on 181302 raw words (171499 effective words) took 0.3s, 609640 effective words/s\n",
      "2024-08-19 14:09:47,257 | INFO | word2vec.py:1652 | _log_epoch_end | EPOCH 12: training on 181302 raw words (171290 effective words) took 0.3s, 616112 effective words/s\n",
      "2024-08-19 14:09:47,526 | INFO | word2vec.py:1652 | _log_epoch_end | EPOCH 13: training on 181302 raw words (171297 effective words) took 0.3s, 646232 effective words/s\n",
      "2024-08-19 14:09:47,810 | INFO | word2vec.py:1652 | _log_epoch_end | EPOCH 14: training on 181302 raw words (171316 effective words) took 0.3s, 632041 effective words/s\n",
      "2024-08-19 14:09:48,081 | INFO | word2vec.py:1652 | _log_epoch_end | EPOCH 15: training on 181302 raw words (171451 effective words) took 0.3s, 653731 effective words/s\n",
      "2024-08-19 14:09:48,368 | INFO | word2vec.py:1652 | _log_epoch_end | EPOCH 16: training on 181302 raw words (171205 effective words) took 0.3s, 605919 effective words/s\n",
      "2024-08-19 14:09:48,652 | INFO | word2vec.py:1652 | _log_epoch_end | EPOCH 17: training on 181302 raw words (171117 effective words) took 0.3s, 660441 effective words/s\n",
      "2024-08-19 14:09:48,915 | INFO | word2vec.py:1652 | _log_epoch_end | EPOCH 18: training on 181302 raw words (171240 effective words) took 0.3s, 652532 effective words/s\n",
      "2024-08-19 14:09:49,220 | INFO | word2vec.py:1652 | _log_epoch_end | EPOCH 19: training on 181302 raw words (171314 effective words) took 0.3s, 586399 effective words/s\n",
      "2024-08-19 14:09:49,473 | INFO | word2vec.py:1652 | _log_epoch_end | EPOCH 20: training on 181302 raw words (171394 effective words) took 0.2s, 722547 effective words/s\n",
      "2024-08-19 14:09:49,755 | INFO | word2vec.py:1652 | _log_epoch_end | EPOCH 21: training on 181302 raw words (171461 effective words) took 0.3s, 637786 effective words/s\n",
      "2024-08-19 14:09:50,033 | INFO | word2vec.py:1652 | _log_epoch_end | EPOCH 22: training on 181302 raw words (171402 effective words) took 0.3s, 640992 effective words/s\n",
      "2024-08-19 14:09:50,318 | INFO | word2vec.py:1652 | _log_epoch_end | EPOCH 23: training on 181302 raw words (171379 effective words) took 0.3s, 612287 effective words/s\n",
      "2024-08-19 14:09:50,594 | INFO | word2vec.py:1652 | _log_epoch_end | EPOCH 24: training on 181302 raw words (171325 effective words) took 0.3s, 640879 effective words/s\n",
      "2024-08-19 14:09:50,865 | INFO | word2vec.py:1652 | _log_epoch_end | EPOCH 25: training on 181302 raw words (171295 effective words) took 0.3s, 657178 effective words/s\n",
      "2024-08-19 14:09:51,144 | INFO | word2vec.py:1652 | _log_epoch_end | EPOCH 26: training on 181302 raw words (171249 effective words) took 0.3s, 638770 effective words/s\n",
      "2024-08-19 14:09:51,407 | INFO | word2vec.py:1652 | _log_epoch_end | EPOCH 27: training on 181302 raw words (171345 effective words) took 0.3s, 662670 effective words/s\n",
      "2024-08-19 14:09:51,665 | INFO | word2vec.py:1652 | _log_epoch_end | EPOCH 28: training on 181302 raw words (171369 effective words) took 0.2s, 704049 effective words/s\n",
      "2024-08-19 14:09:51,908 | INFO | word2vec.py:1652 | _log_epoch_end | EPOCH 29: training on 181302 raw words (171304 effective words) took 0.2s, 716642 effective words/s\n",
      "2024-08-19 14:09:52,172 | INFO | word2vec.py:1652 | _log_epoch_end | EPOCH 30: training on 181302 raw words (171398 effective words) took 0.3s, 676403 effective words/s\n",
      "2024-08-19 14:09:52,443 | INFO | word2vec.py:1652 | _log_epoch_end | EPOCH 31: training on 181302 raw words (171393 effective words) took 0.3s, 666209 effective words/s\n",
      "2024-08-19 14:09:52,700 | INFO | word2vec.py:1652 | _log_epoch_end | EPOCH 32: training on 181302 raw words (171383 effective words) took 0.3s, 682342 effective words/s\n",
      "2024-08-19 14:09:52,985 | INFO | word2vec.py:1652 | _log_epoch_end | EPOCH 33: training on 181302 raw words (171303 effective words) took 0.3s, 627684 effective words/s\n",
      "2024-08-19 14:09:53,262 | INFO | word2vec.py:1652 | _log_epoch_end | EPOCH 34: training on 181302 raw words (171398 effective words) took 0.3s, 650522 effective words/s\n",
      "2024-08-19 14:09:53,512 | INFO | word2vec.py:1652 | _log_epoch_end | EPOCH 35: training on 181302 raw words (171286 effective words) took 0.2s, 728976 effective words/s\n",
      "2024-08-19 14:09:53,783 | INFO | word2vec.py:1652 | _log_epoch_end | EPOCH 36: training on 181302 raw words (171380 effective words) took 0.3s, 651662 effective words/s\n",
      "2024-08-19 14:09:54,067 | INFO | word2vec.py:1652 | _log_epoch_end | EPOCH 37: training on 181302 raw words (171249 effective words) took 0.3s, 635582 effective words/s\n",
      "2024-08-19 14:09:54,359 | INFO | word2vec.py:1652 | _log_epoch_end | EPOCH 38: training on 181302 raw words (171215 effective words) took 0.3s, 620560 effective words/s\n",
      "2024-08-19 14:09:54,643 | INFO | word2vec.py:1652 | _log_epoch_end | EPOCH 39: training on 181302 raw words (171294 effective words) took 0.3s, 622918 effective words/s\n",
      "2024-08-19 14:09:54,928 | INFO | word2vec.py:1652 | _log_epoch_end | EPOCH 40: training on 181302 raw words (171297 effective words) took 0.3s, 620164 effective words/s\n",
      "2024-08-19 14:09:55,185 | INFO | word2vec.py:1652 | _log_epoch_end | EPOCH 41: training on 181302 raw words (171238 effective words) took 0.2s, 695083 effective words/s\n",
      "2024-08-19 14:09:55,477 | INFO | word2vec.py:1652 | _log_epoch_end | EPOCH 42: training on 181302 raw words (171207 effective words) took 0.3s, 617088 effective words/s\n",
      "2024-08-19 14:09:55,768 | INFO | word2vec.py:1652 | _log_epoch_end | EPOCH 43: training on 181302 raw words (171244 effective words) took 0.3s, 621369 effective words/s\n",
      "2024-08-19 14:09:56,053 | INFO | word2vec.py:1652 | _log_epoch_end | EPOCH 44: training on 181302 raw words (171219 effective words) took 0.3s, 613073 effective words/s\n",
      "2024-08-19 14:09:56,331 | INFO | word2vec.py:1652 | _log_epoch_end | EPOCH 45: training on 181302 raw words (171410 effective words) took 0.3s, 623795 effective words/s\n",
      "2024-08-19 14:09:56,601 | INFO | word2vec.py:1652 | _log_epoch_end | EPOCH 46: training on 181302 raw words (171336 effective words) took 0.2s, 694103 effective words/s\n",
      "2024-08-19 14:09:56,865 | INFO | word2vec.py:1652 | _log_epoch_end | EPOCH 47: training on 181302 raw words (171331 effective words) took 0.3s, 656127 effective words/s\n",
      "2024-08-19 14:09:57,150 | INFO | word2vec.py:1652 | _log_epoch_end | EPOCH 48: training on 181302 raw words (171307 effective words) took 0.3s, 624453 effective words/s\n",
      "2024-08-19 14:09:57,428 | INFO | word2vec.py:1652 | _log_epoch_end | EPOCH 49: training on 181302 raw words (171260 effective words) took 0.3s, 653311 effective words/s\n",
      "2024-08-19 14:09:57,719 | INFO | word2vec.py:1652 | _log_epoch_end | EPOCH 50: training on 181302 raw words (171234 effective words) took 0.3s, 622967 effective words/s\n",
      "2024-08-19 14:09:58,018 | INFO | word2vec.py:1652 | _log_epoch_end | EPOCH 51: training on 181302 raw words (171386 effective words) took 0.3s, 593108 effective words/s\n",
      "2024-08-19 14:09:58,275 | INFO | word2vec.py:1652 | _log_epoch_end | EPOCH 52: training on 181302 raw words (171322 effective words) took 0.2s, 697784 effective words/s\n",
      "2024-08-19 14:09:58,538 | INFO | word2vec.py:1652 | _log_epoch_end | EPOCH 53: training on 181302 raw words (171360 effective words) took 0.3s, 682987 effective words/s\n",
      "2024-08-19 14:09:58,822 | INFO | word2vec.py:1652 | _log_epoch_end | EPOCH 54: training on 181302 raw words (171202 effective words) took 0.3s, 643982 effective words/s\n",
      "2024-08-19 14:09:59,101 | INFO | word2vec.py:1652 | _log_epoch_end | EPOCH 55: training on 181302 raw words (171492 effective words) took 0.3s, 629525 effective words/s\n",
      "2024-08-19 14:09:59,393 | INFO | word2vec.py:1652 | _log_epoch_end | EPOCH 56: training on 181302 raw words (171272 effective words) took 0.3s, 608620 effective words/s\n",
      "2024-08-19 14:09:59,670 | INFO | word2vec.py:1652 | _log_epoch_end | EPOCH 57: training on 181302 raw words (171414 effective words) took 0.3s, 657148 effective words/s\n",
      "2024-08-19 14:09:59,963 | INFO | word2vec.py:1652 | _log_epoch_end | EPOCH 58: training on 181302 raw words (171397 effective words) took 0.3s, 598466 effective words/s\n",
      "2024-08-19 14:10:00,219 | INFO | word2vec.py:1652 | _log_epoch_end | EPOCH 59: training on 181302 raw words (171464 effective words) took 0.2s, 688596 effective words/s\n",
      "2024-08-19 14:10:00,483 | INFO | word2vec.py:1652 | _log_epoch_end | EPOCH 60: training on 181302 raw words (171370 effective words) took 0.3s, 677692 effective words/s\n",
      "2024-08-19 14:10:00,747 | INFO | word2vec.py:1652 | _log_epoch_end | EPOCH 61: training on 181302 raw words (171358 effective words) took 0.3s, 676817 effective words/s\n",
      "2024-08-19 14:10:01,031 | INFO | word2vec.py:1652 | _log_epoch_end | EPOCH 62: training on 181302 raw words (171367 effective words) took 0.3s, 629546 effective words/s\n",
      "2024-08-19 14:10:01,323 | INFO | word2vec.py:1652 | _log_epoch_end | EPOCH 63: training on 181302 raw words (171258 effective words) took 0.3s, 641293 effective words/s\n",
      "2024-08-19 14:10:01,580 | INFO | word2vec.py:1652 | _log_epoch_end | EPOCH 64: training on 181302 raw words (171389 effective words) took 0.3s, 683278 effective words/s\n",
      "2024-08-19 14:10:01,851 | INFO | word2vec.py:1652 | _log_epoch_end | EPOCH 65: training on 181302 raw words (171385 effective words) took 0.3s, 675682 effective words/s\n",
      "2024-08-19 14:10:02,102 | INFO | word2vec.py:1652 | _log_epoch_end | EPOCH 66: training on 181302 raw words (171378 effective words) took 0.2s, 703840 effective words/s\n",
      "2024-08-19 14:10:02,386 | INFO | word2vec.py:1652 | _log_epoch_end | EPOCH 67: training on 181302 raw words (171358 effective words) took 0.3s, 628963 effective words/s\n",
      "2024-08-19 14:10:02,683 | INFO | word2vec.py:1652 | _log_epoch_end | EPOCH 68: training on 181302 raw words (171305 effective words) took 0.3s, 611747 effective words/s\n",
      "2024-08-19 14:10:02,955 | INFO | word2vec.py:1652 | _log_epoch_end | EPOCH 69: training on 181302 raw words (171343 effective words) took 0.3s, 650445 effective words/s\n",
      "2024-08-19 14:10:03,246 | INFO | word2vec.py:1652 | _log_epoch_end | EPOCH 70: training on 181302 raw words (171327 effective words) took 0.3s, 621034 effective words/s\n",
      "2024-08-19 14:10:03,518 | INFO | word2vec.py:1652 | _log_epoch_end | EPOCH 71: training on 181302 raw words (171353 effective words) took 0.3s, 660794 effective words/s\n",
      "2024-08-19 14:10:03,802 | INFO | word2vec.py:1652 | _log_epoch_end | EPOCH 72: training on 181302 raw words (171305 effective words) took 0.3s, 625016 effective words/s\n",
      "2024-08-19 14:10:04,065 | INFO | word2vec.py:1652 | _log_epoch_end | EPOCH 73: training on 181302 raw words (171303 effective words) took 0.2s, 688457 effective words/s\n",
      "2024-08-19 14:10:04,309 | INFO | word2vec.py:1652 | _log_epoch_end | EPOCH 74: training on 181302 raw words (171325 effective words) took 0.2s, 754215 effective words/s\n",
      "2024-08-19 14:10:04,579 | INFO | word2vec.py:1652 | _log_epoch_end | EPOCH 75: training on 181302 raw words (171295 effective words) took 0.3s, 656800 effective words/s\n",
      "2024-08-19 14:10:04,857 | INFO | word2vec.py:1652 | _log_epoch_end | EPOCH 76: training on 181302 raw words (171317 effective words) took 0.3s, 631551 effective words/s\n",
      "2024-08-19 14:10:05,155 | INFO | word2vec.py:1652 | _log_epoch_end | EPOCH 77: training on 181302 raw words (171325 effective words) took 0.3s, 626168 effective words/s\n",
      "2024-08-19 14:10:05,406 | INFO | word2vec.py:1652 | _log_epoch_end | EPOCH 78: training on 181302 raw words (171257 effective words) took 0.2s, 718380 effective words/s\n",
      "2024-08-19 14:10:05,662 | INFO | word2vec.py:1652 | _log_epoch_end | EPOCH 79: training on 181302 raw words (171350 effective words) took 0.2s, 698303 effective words/s\n",
      "2024-08-19 14:10:05,933 | INFO | word2vec.py:1652 | _log_epoch_end | EPOCH 80: training on 181302 raw words (171464 effective words) took 0.3s, 677698 effective words/s\n",
      "2024-08-19 14:10:06,200 | INFO | word2vec.py:1652 | _log_epoch_end | EPOCH 81: training on 181302 raw words (171367 effective words) took 0.3s, 677385 effective words/s\n",
      "2024-08-19 14:10:06,475 | INFO | word2vec.py:1652 | _log_epoch_end | EPOCH 82: training on 181302 raw words (171284 effective words) took 0.3s, 650224 effective words/s\n",
      "2024-08-19 14:10:06,739 | INFO | word2vec.py:1652 | _log_epoch_end | EPOCH 83: training on 181302 raw words (171375 effective words) took 0.3s, 679192 effective words/s\n",
      "2024-08-19 14:10:06,989 | INFO | word2vec.py:1652 | _log_epoch_end | EPOCH 84: training on 181302 raw words (171247 effective words) took 0.2s, 720064 effective words/s\n",
      "2024-08-19 14:10:07,260 | INFO | word2vec.py:1652 | _log_epoch_end | EPOCH 85: training on 181302 raw words (171364 effective words) took 0.3s, 653753 effective words/s\n",
      "2024-08-19 14:10:07,531 | INFO | word2vec.py:1652 | _log_epoch_end | EPOCH 86: training on 181302 raw words (171410 effective words) took 0.3s, 666567 effective words/s\n",
      "2024-08-19 14:10:07,773 | INFO | word2vec.py:1652 | _log_epoch_end | EPOCH 87: training on 181302 raw words (171357 effective words) took 0.2s, 737820 effective words/s\n",
      "2024-08-19 14:10:08,030 | INFO | word2vec.py:1652 | _log_epoch_end | EPOCH 88: training on 181302 raw words (171349 effective words) took 0.2s, 687548 effective words/s\n",
      "2024-08-19 14:10:08,308 | INFO | word2vec.py:1652 | _log_epoch_end | EPOCH 89: training on 181302 raw words (171282 effective words) took 0.3s, 656347 effective words/s\n",
      "2024-08-19 14:10:08,586 | INFO | word2vec.py:1652 | _log_epoch_end | EPOCH 90: training on 181302 raw words (171336 effective words) took 0.3s, 628651 effective words/s\n",
      "2024-08-19 14:10:08,864 | INFO | word2vec.py:1652 | _log_epoch_end | EPOCH 91: training on 181302 raw words (171356 effective words) took 0.3s, 654293 effective words/s\n",
      "2024-08-19 14:10:09,113 | INFO | word2vec.py:1652 | _log_epoch_end | EPOCH 92: training on 181302 raw words (171300 effective words) took 0.2s, 712549 effective words/s\n",
      "2024-08-19 14:10:09,391 | INFO | word2vec.py:1652 | _log_epoch_end | EPOCH 93: training on 181302 raw words (171370 effective words) took 0.3s, 650311 effective words/s\n",
      "2024-08-19 14:10:09,655 | INFO | word2vec.py:1652 | _log_epoch_end | EPOCH 94: training on 181302 raw words (171218 effective words) took 0.2s, 686070 effective words/s\n",
      "2024-08-19 14:10:09,891 | INFO | word2vec.py:1652 | _log_epoch_end | EPOCH 95: training on 181302 raw words (171231 effective words) took 0.2s, 748402 effective words/s\n",
      "2024-08-19 14:10:10,169 | INFO | word2vec.py:1652 | _log_epoch_end | EPOCH 96: training on 181302 raw words (171272 effective words) took 0.3s, 653865 effective words/s\n",
      "2024-08-19 14:10:10,405 | INFO | word2vec.py:1652 | _log_epoch_end | EPOCH 97: training on 181302 raw words (171316 effective words) took 0.2s, 762475 effective words/s\n",
      "2024-08-19 14:10:10,669 | INFO | word2vec.py:1652 | _log_epoch_end | EPOCH 98: training on 181302 raw words (171356 effective words) took 0.3s, 685037 effective words/s\n",
      "2024-08-19 14:10:10,932 | INFO | word2vec.py:1652 | _log_epoch_end | EPOCH 99: training on 181302 raw words (171340 effective words) took 0.2s, 688800 effective words/s\n",
      "2024-08-19 14:10:10,932 | INFO | utils.py:447 | add_lifecycle_event | Word2Vec lifecycle event {'msg': 'training on 18130200 raw words (17132663 effective words) took 27.2s, 629815 effective words/s', 'datetime': '2024-08-19T14:10:10.932924', 'gensim': '4.3.3', 'python': '3.10.14 | packaged by Anaconda, Inc. | (main, May  6 2024, 19:44:50) [MSC v.1916 64 bit (AMD64)]', 'platform': 'Windows-10-10.0.22621-SP0', 'event': 'train'}\n",
      "2024-08-19 14:10:10,932 | INFO | utils.py:447 | add_lifecycle_event | Word2Vec lifecycle event {'params': 'Word2Vec<vocab=16114, vector_size=300, alpha=0.025>', 'datetime': '2024-08-19T14:10:10.932924', 'gensim': '4.3.3', 'python': '3.10.14 | packaged by Anaconda, Inc. | (main, May  6 2024, 19:44:50) [MSC v.1916 64 bit (AMD64)]', 'platform': 'Windows-10-10.0.22621-SP0', 'event': 'created'}\n"
     ]
    }
   ],
   "source": [
    "WORD2VEC_DIM = 300\n",
    "SG = {\"CBOW\":0,\"SKIP_GRAM\":1}\n",
    "word2vec = gensim.models.Word2Vec(corpus,window=5,vector_size=WORD2VEC_DIM,min_count=1,epochs=100,sg=SG[\"CBOW\"])\n",
    "WORD2VEC_VOCAB_SIZE = len(word2vec.wv.index_to_key)+1\n",
    "word2vec_embedding = np.zeros((WORD2VEC_VOCAB_SIZE,WORD2VEC_DIM))\n",
    "for word,index in tokenizer.word_index.items():\n",
    "    if word in word2vec.wv.index_to_key:\n",
    "        word2vec_embedding[index] = word2vec.wv[word]"
   ]
  },
  {
   "cell_type": "code",
   "execution_count": 95,
   "id": "47ef69e2-e12d-452a-b63d-3f1646c04778",
   "metadata": {},
   "outputs": [
    {
     "data": {
      "text/plain": [
       "(16115, 300)"
      ]
     },
     "execution_count": 95,
     "metadata": {},
     "output_type": "execute_result"
    }
   ],
   "source": [
    "word2vec_embedding.shape"
   ]
  },
  {
   "cell_type": "code",
   "execution_count": 141,
   "id": "0c7c2765-b624-4f99-a50a-56908d9bf6af",
   "metadata": {},
   "outputs": [],
   "source": [
    "GLOVE_VOCAB_SIZE = len(tokenizer.word_index)+1\n",
    "EMBEDDINGS_DIMENSION = 300\n",
    "glove_embeddings = np.zeros((GLOVE_VOCAB_SIZE,EMBEDDINGS_DIMENSION))\n",
    "glove_model = spacy.load(\"en_core_web_lg\")\n",
    "for word,index in tokenizer.word_index.items():\n",
    "    if word in glove_model.vocab.strings:\n",
    "        glove_embeddings[index] = glove_model.vocab[word].vector"
   ]
  },
  {
   "cell_type": "code",
   "execution_count": 142,
   "id": "24d283c5-7507-4215-a791-3bcefa6e95c6",
   "metadata": {},
   "outputs": [
    {
     "data": {
      "text/plain": [
       "(16113, 300)"
      ]
     },
     "execution_count": 142,
     "metadata": {},
     "output_type": "execute_result"
    }
   ],
   "source": [
    "glove_embeddings.shape"
   ]
  },
  {
   "cell_type": "code",
   "execution_count": 162,
   "id": "986dae19-a0b7-462b-a443-8aef9b222dcd",
   "metadata": {},
   "outputs": [],
   "source": [
    "import fasttext"
   ]
  },
  {
   "cell_type": "code",
   "execution_count": 163,
   "id": "f5548330-08f4-41f4-aab2-965093380001",
   "metadata": {},
   "outputs": [],
   "source": [
    "with open(\"corpus.txt\",\"w\", encoding=\"utf-8\") as file:\n",
    "    for doc in data_preprocess[\"tweet\"].values:\n",
    "        file.write(doc + \"\\n\")\n",
    "MODEL_TYPE = \"skipgram\"\n",
    "EMBEDDINGS_DIMENSION = 300\n",
    "FASTTEXT_VOCAB_SIZE = len(tokenizer.word_index)+1\n",
    "fasttext_embeddings = np.zeros((FASTTEXT_VOCAB_SIZE,EMBEDDINGS_DIMENSION))\n",
    "fasttext_model = fasttext.train_unsupervised(\"corpus.txt\",ws=5,minn=2,epoch=100,dim=300,model=MODEL_TYPE)\n",
    "for word,index in tokenizer.word_index.items():\n",
    "    if word in fasttext_model.words:\n",
    "        fasttext_embeddings[index] = fasttext_model.get_word_vector(word)"
   ]
  },
  {
   "cell_type": "code",
   "execution_count": 164,
   "id": "5144a074-e91c-44a5-8483-5c11aa0a2bf7",
   "metadata": {},
   "outputs": [
    {
     "data": {
      "text/plain": [
       "(16113, 300)"
      ]
     },
     "execution_count": 164,
     "metadata": {},
     "output_type": "execute_result"
    }
   ],
   "source": [
    "fasttext_embeddings.shape"
   ]
  },
  {
   "cell_type": "code",
   "execution_count": 184,
   "id": "c46b4d1f-54eb-41ca-8b42-9b6654bd86c5",
   "metadata": {},
   "outputs": [],
   "source": [
    "import tensorflow_hub as hub"
   ]
  },
  {
   "cell_type": "code",
   "execution_count": 185,
   "id": "ff3cb645-e7db-42dd-beb5-00975d6b1e82",
   "metadata": {},
   "outputs": [
    {
     "name": "stderr",
     "output_type": "stream",
     "text": [
      "2024-08-19 17:53:11,142 | INFO | resolver.py:108 | tfhub_cache_dir | Using C:\\Users\\ALIHAI~1\\AppData\\Local\\Temp\\tfhub_modules to cache modules.\n"
     ]
    }
   ],
   "source": [
    "ELMO_VOCAB_SIZE = len(data_preprocess)\n",
    "EMBEDDINGS_DIMENSION = 1024\n",
    "\n",
    "elmo_embeddings = np.zeros((ELMO_VOCAB_SIZE,EMBEDDINGS_DIMENSION))\n",
    "elmo = hub.KerasLayer(\"https://tfhub.dev/google/elmo/3\")\n",
    "for index,text in enumerate(data_preprocess[\"tweet\"].values):\n",
    "    # print(\"index\",index)\n",
    "    embeddings = elmo(tf.constant([text]))\n",
    "    elmo_embeddings[index]=embeddings.numpy()"
   ]
  },
  {
   "cell_type": "code",
   "execution_count": 186,
   "id": "19b598a0-1026-43a3-9c67-d7aaafd98904",
   "metadata": {},
   "outputs": [
    {
     "data": {
      "text/plain": [
       "(18232, 1024)"
      ]
     },
     "execution_count": 186,
     "metadata": {},
     "output_type": "execute_result"
    }
   ],
   "source": [
    "elmo_embeddings.shape"
   ]
  },
  {
   "cell_type": "code",
   "execution_count": 206,
   "id": "ee725cf6-dd40-40a2-8008-234fae5ba2b5",
   "metadata": {
    "scrolled": true
   },
   "outputs": [
    {
     "name": "stderr",
     "output_type": "stream",
     "text": [
      "Some layers from the model checkpoint at bert-base-uncased were not used when initializing TFBertModel: ['nsp___cls', 'mlm___cls']\n",
      "- This IS expected if you are initializing TFBertModel from the checkpoint of a model trained on another task or with another architecture (e.g. initializing a BertForSequenceClassification model from a BertForPreTraining model).\n",
      "- This IS NOT expected if you are initializing TFBertModel from the checkpoint of a model that you expect to be exactly identical (initializing a BertForSequenceClassification model from a BertForSequenceClassification model).\n",
      "All the layers of TFBertModel were initialized from the model checkpoint at bert-base-uncased.\n",
      "If your task is similar to the task the model of the checkpoint was trained on, you can already use TFBertModel for predictions without further training.\n"
     ]
    }
   ],
   "source": [
    "BERT_VOCAB_SIZE = len(data_preprocess)\n",
    "EMBEDDINGS_DIMENSION = 768\n",
    "\n",
    "bert_embeddings = np.zeros((BERT_VOCAB_SIZE,EMBEDDINGS_DIMENSION))\n",
    "bert_tokenizer = BertTokenizer.from_pretrained('bert-base-uncased')\n",
    "bert_model = TFBertModel.from_pretrained(\"bert-base-uncased\")\n",
    "for index,text in enumerate(data_preprocess[\"tweet\"].values):\n",
    "    # print(\"index\",index)\n",
    "    inputs = bert_tokenizer(text, padding=True,return_tensors='tf')\n",
    "    outputs = bert_model(**inputs)\n",
    "    embeddings = outputs.last_hidden_state\n",
    "    cls_embeddings = embeddings[:, 0, :]\n",
    "    bert_embeddings[index]=cls_embeddings.numpy()"
   ]
  },
  {
   "cell_type": "code",
   "execution_count": 207,
   "id": "b58e38de-c210-4883-9a32-251a7ba41334",
   "metadata": {},
   "outputs": [
    {
     "data": {
      "text/plain": [
       "(18232, 768)"
      ]
     },
     "execution_count": 207,
     "metadata": {},
     "output_type": "execute_result"
    }
   ],
   "source": [
    "bert_embeddings.shape"
   ]
  },
  {
   "cell_type": "code",
   "execution_count": 21,
   "id": "3e871b94-52b9-46db-9708-08a27426c513",
   "metadata": {},
   "outputs": [
    {
     "data": {
      "text/plain": [
       "186"
      ]
     },
     "execution_count": 21,
     "metadata": {},
     "output_type": "execute_result"
    }
   ],
   "source": [
    "max_length_sequence = max([len(doc) for doc in corpus])\n",
    "max_length_sequence"
   ]
  },
  {
   "cell_type": "code",
   "execution_count": 22,
   "id": "ca9d3b05-9061-4142-9fae-cbc4b19d29a8",
   "metadata": {},
   "outputs": [],
   "source": [
    "sequence = tokenizer.texts_to_sequences(data_preprocess[\"tweet\"].values)\n",
    "padded_sequence = pad_sequences(sequence,maxlen=max_length_sequence,padding=\"pre\")"
   ]
  },
  {
   "cell_type": "code",
   "execution_count": 23,
   "id": "21cf46de-62d9-481e-a920-59a5d36107c3",
   "metadata": {},
   "outputs": [
    {
     "data": {
      "text/plain": [
       "array([[   0,    0,    0, ...,  319,  498, 1803],\n",
       "       [   0,    0,    0, ...,  563,    5,  347],\n",
       "       [   0,    0,    0, ...,    2,   93,    5],\n",
       "       ...,\n",
       "       [   0,    0,    0, ..., 8992,   97, 8992],\n",
       "       [   0,    0,    0, ...,  583,  334,  565],\n",
       "       [   0,    0,    0, ..., 3682, 4070, 8983]])"
      ]
     },
     "execution_count": 23,
     "metadata": {},
     "output_type": "execute_result"
    }
   ],
   "source": [
    "padded_sequence"
   ]
  },
  {
   "cell_type": "code",
   "execution_count": 24,
   "id": "5af64084-6b12-439b-96eb-70290dffd9fa",
   "metadata": {},
   "outputs": [],
   "source": [
    "# EMBEDDINGS_DIMENSION\n",
    "encode_target = dict(zip(data_preprocess[\"Disorder\"].unique(),np.arange(0,data_preprocess[\"Disorder\"].nunique(),dtype=int)))\n",
    "data_preprocess[\"Disorder\"] = data_preprocess[\"Disorder\"].map(encode_target)\n",
    "data_preprocess[\"Disorder\"]=data_preprocess[\"Disorder\"].map(int)"
   ]
  },
  {
   "cell_type": "code",
   "execution_count": 25,
   "id": "9c0d68e4-0eca-4258-8e2a-1e41283efd13",
   "metadata": {},
   "outputs": [
    {
     "data": {
      "text/plain": [
       "Disorder\n",
       "8    3018\n",
       "0    2959\n",
       "2    2888\n",
       "7    2719\n",
       "1    2458\n",
       "4    2143\n",
       "6    1402\n",
       "3     402\n",
       "5     243\n",
       "Name: count, dtype: int64"
      ]
     },
     "execution_count": 25,
     "metadata": {},
     "output_type": "execute_result"
    }
   ],
   "source": [
    "data_preprocess.Disorder.value_counts()"
   ]
  },
  {
   "cell_type": "markdown",
   "id": "3ee481cb-e7fd-47d7-9eb4-f0fded633b3c",
   "metadata": {},
   "source": [
    "### LSTM"
   ]
  },
  {
   "cell_type": "code",
   "execution_count": 208,
   "id": "2a4e900d-757d-4fc1-a2bd-3a53746fc832",
   "metadata": {},
   "outputs": [
    {
     "name": "stderr",
     "output_type": "stream",
     "text": [
      "2024-08-19 20:32:25,721 | WARNING | lstm.py:590 | __init__ | Layer lstm_8 will not use cuDNN kernels since it doesn't meet the criteria. It will use a generic GPU kernel as fallback when running on GPU.\n"
     ]
    }
   ],
   "source": [
    "embedding = bert_embeddings\n",
    "vocab_size = BERT_VOCAB_SIZE\n",
    "embedding_dim = EMBEDDINGS_DIMENSION\n",
    "learning_rate = 0.01\n",
    "Embedding_layer = Embedding(vocab_size,embedding_dim,weights = [embedding],input_length = max_length_sequence, trainable=False)\n",
    "model = Sequential()\n",
    "model.add(Embedding_layer)\n",
    "model.add(Dropout(0.2))\n",
    "model.add(LSTM(100,dropout=0.2,recurrent_dropout=0.2))\n",
    "model.add(Dense(9,\"softmax\"))\n",
    "model.compile(loss=\"sparse_categorical_crossentropy\",optimizer=tf.keras.optimizers.Adam(learning_rate=learning_rate),metrics=[\"accuracy\"])"
   ]
  },
  {
   "cell_type": "code",
   "execution_count": 209,
   "id": "ed838e6b-a74c-4b2d-a5c1-54327a9fa761",
   "metadata": {},
   "outputs": [
    {
     "name": "stdout",
     "output_type": "stream",
     "text": [
      "Model: \"sequential_8\"\n",
      "_________________________________________________________________\n",
      " Layer (type)                Output Shape              Param #   \n",
      "=================================================================\n",
      " embedding_8 (Embedding)     (None, 186, 768)          14002176  \n",
      "                                                                 \n",
      " dropout_45 (Dropout)        (None, 186, 768)          0         \n",
      "                                                                 \n",
      " lstm_8 (LSTM)               (None, 100)               347600    \n",
      "                                                                 \n",
      " dense_8 (Dense)             (None, 9)                 909       \n",
      "                                                                 \n",
      "=================================================================\n",
      "Total params: 14,350,685\n",
      "Trainable params: 348,509\n",
      "Non-trainable params: 14,002,176\n",
      "_________________________________________________________________\n"
     ]
    }
   ],
   "source": [
    "model.summary()"
   ]
  },
  {
   "cell_type": "code",
   "execution_count": 28,
   "id": "7059cef6-deb7-4727-8e07-4597207be9eb",
   "metadata": {},
   "outputs": [
    {
     "data": {
      "text/html": [
       "<div>\n",
       "<style scoped>\n",
       "    .dataframe tbody tr th:only-of-type {\n",
       "        vertical-align: middle;\n",
       "    }\n",
       "\n",
       "    .dataframe tbody tr th {\n",
       "        vertical-align: top;\n",
       "    }\n",
       "\n",
       "    .dataframe thead th {\n",
       "        text-align: right;\n",
       "    }\n",
       "</style>\n",
       "<table border=\"1\" class=\"dataframe\">\n",
       "  <thead>\n",
       "    <tr style=\"text-align: right;\">\n",
       "      <th></th>\n",
       "      <th>Disorder</th>\n",
       "      <th>tweet</th>\n",
       "    </tr>\n",
       "  </thead>\n",
       "  <tbody>\n",
       "    <tr>\n",
       "      <th>0</th>\n",
       "      <td>0</td>\n",
       "      <td>sally white heart white heart wont forget angel</td>\n",
       "    </tr>\n",
       "    <tr>\n",
       "      <th>1</th>\n",
       "      <td>0</td>\n",
       "      <td>personally life split two everything psychosis...</td>\n",
       "    </tr>\n",
       "  </tbody>\n",
       "</table>\n",
       "</div>"
      ],
      "text/plain": [
       "   Disorder                                              tweet\n",
       "0         0    sally white heart white heart wont forget angel\n",
       "1         0  personally life split two everything psychosis..."
      ]
     },
     "execution_count": 28,
     "metadata": {},
     "output_type": "execute_result"
    }
   ],
   "source": [
    "data_preprocess.head(2)"
   ]
  },
  {
   "cell_type": "code",
   "execution_count": 29,
   "id": "b0ff9c9c-dc9f-41bc-9562-0c78b1e46faf",
   "metadata": {},
   "outputs": [],
   "source": [
    "data_bin = data_preprocess.copy()"
   ]
  },
  {
   "cell_type": "code",
   "execution_count": 30,
   "id": "8c77f750-e5fc-4c85-bd5b-9e1cc3213e99",
   "metadata": {},
   "outputs": [
    {
     "data": {
      "text/plain": [
       "Disorder\n",
       "8    3018\n",
       "0    2959\n",
       "2    2888\n",
       "7    2719\n",
       "1    2458\n",
       "4    2143\n",
       "6    1402\n",
       "3     402\n",
       "5     243\n",
       "Name: count, dtype: int64"
      ]
     },
     "execution_count": 30,
     "metadata": {},
     "output_type": "execute_result"
    }
   ],
   "source": [
    "data_bin['Disorder'].value_counts()"
   ]
  },
  {
   "cell_type": "code",
   "execution_count": 2,
   "id": "407d1913-b18b-459e-b191-6ef5f0dd7552",
   "metadata": {},
   "outputs": [],
   "source": [
    "y = data_bin[\"Disorder\"].values\n",
    "X_train,X_temp,y_train,y_temp = train_test_split(padded_sequence, y, test_size=0.3, random_state=42,stratify=y)\n",
    "X_val,X_test,y_val,y_test = train_test_split(X_temp, y_temp, test_size=0.2, random_state=42,stratify=y_temp)"
   ]
  },
  {
   "cell_type": "code",
   "execution_count": 215,
   "id": "2541283b-4af2-40b2-babb-dbcc93ec4ff8",
   "metadata": {},
   "outputs": [
    {
     "data": {
      "text/plain": [
       "((12762, 186), (4376, 186), (1094, 186))"
      ]
     },
     "execution_count": 215,
     "metadata": {},
     "output_type": "execute_result"
    }
   ],
   "source": [
    "X_train.shape,X_val.shape,X_test.shape"
   ]
  },
  {
   "cell_type": "code",
   "execution_count": 216,
   "id": "6bf7679e-cd93-49d5-b264-6e4931e9e2f9",
   "metadata": {
    "scrolled": true
   },
   "outputs": [
    {
     "name": "stdout",
     "output_type": "stream",
     "text": [
      "(array([0, 1, 2, 3, 4, 5, 6, 7, 8], dtype=int64), array([2071, 1721, 2022,  281, 1500,  170,  981, 1903, 2113], dtype=int64))\n",
      "(array([0, 1, 2, 3, 4, 5, 6, 7, 8], dtype=int64), array([710, 590, 693,  97, 514,  58, 337, 653, 724], dtype=int64))\n",
      "(array([0, 1, 2, 3, 4, 5, 6, 7, 8], dtype=int64), array([178, 147, 173,  24, 129,  15,  84, 163, 181], dtype=int64))\n"
     ]
    }
   ],
   "source": [
    "print(np.unique(y_train,return_counts=True))\n",
    "print(np.unique(y_val,return_counts=True))\n",
    "print(np.unique(y_test,return_counts=True))"
   ]
  },
  {
   "cell_type": "code",
   "execution_count": 217,
   "id": "549f2312-83c3-44cc-8184-f03b6dfe6f6f",
   "metadata": {},
   "outputs": [
    {
     "data": {
      "text/plain": [
       "array([[   0,    0,    0, ...,  251, 2506, 4543],\n",
       "       [   0,    0,    0, ..., 6701,  783,   21],\n",
       "       [   0,    0,    0, ...,  119,   71, 2016],\n",
       "       ...,\n",
       "       [   0,    0,    0, ..., 4801,   85,    5],\n",
       "       [   0,    0,    0, ...,  112, 7290, 2166],\n",
       "       [   0,    0,    0, ...,  503,  617,  930]])"
      ]
     },
     "execution_count": 217,
     "metadata": {},
     "output_type": "execute_result"
    }
   ],
   "source": [
    "X_train"
   ]
  },
  {
   "cell_type": "code",
   "execution_count": 218,
   "id": "df609fa0-7b60-4fcb-a05f-1117eea19689",
   "metadata": {},
   "outputs": [],
   "source": [
    "early_stopping = EarlyStopping(monitor='val_loss', patience=3, mode='min', verbose=1)"
   ]
  },
  {
   "cell_type": "code",
   "execution_count": 219,
   "id": "bbff5f0d-f306-4655-86d6-9eae7f3b2cb4",
   "metadata": {},
   "outputs": [
    {
     "name": "stdout",
     "output_type": "stream",
     "text": [
      "Epoch 1/5\n",
      "399/399 [==============================] - 433s 1s/step - loss: 1.9841 - accuracy: 0.2076 - val_loss: 1.9648 - val_accuracy: 0.2107\n",
      "Epoch 2/5\n",
      "399/399 [==============================] - 415s 1s/step - loss: 1.9204 - accuracy: 0.2406 - val_loss: 1.9330 - val_accuracy: 0.2203\n",
      "Epoch 3/5\n",
      "399/399 [==============================] - 438s 1s/step - loss: 1.8890 - accuracy: 0.2623 - val_loss: 1.9134 - val_accuracy: 0.2532\n",
      "Epoch 4/5\n",
      "399/399 [==============================] - 425s 1s/step - loss: 1.8749 - accuracy: 0.2712 - val_loss: 1.8742 - val_accuracy: 0.2639\n",
      "Epoch 5/5\n",
      "399/399 [==============================] - 423s 1s/step - loss: 1.8609 - accuracy: 0.2773 - val_loss: 1.8619 - val_accuracy: 0.2694\n"
     ]
    }
   ],
   "source": [
    "history = model.fit(X_train,y_train,epochs=5,batch_size=32,validation_data=(X_val, y_val),verbose=1,callbacks=[early_stopping],\n",
    "                   workers=3)"
   ]
  },
  {
   "cell_type": "code",
   "execution_count": 220,
   "id": "17139696-9371-451f-a259-0208937474ab",
   "metadata": {},
   "outputs": [
    {
     "name": "stdout",
     "output_type": "stream",
     "text": [
      "35/35 [==============================] - 4s 120ms/step\n"
     ]
    }
   ],
   "source": [
    "y_pred = model.predict(X_test)\n",
    "y_pred = np.argmax(y_pred,axis=1)"
   ]
  },
  {
   "cell_type": "code",
   "execution_count": 221,
   "id": "86c5c6f5-4104-4edb-945c-97e84a40d845",
   "metadata": {},
   "outputs": [
    {
     "name": "stdout",
     "output_type": "stream",
     "text": [
      "399/399 [==============================] - 49s 122ms/step\n"
     ]
    }
   ],
   "source": [
    "train_pred = model.predict(X_train)\n",
    "train_pred =  np.argmax(train_pred,axis=1)\n",
    "train_model_performance_lstm = classification_metrics(y_train,train_pred,\"macro\")"
   ]
  },
  {
   "cell_type": "code",
   "execution_count": 222,
   "id": "0b560f01-42f6-4157-8bd8-52dea46b165e",
   "metadata": {},
   "outputs": [
    {
     "data": {
      "text/html": [
       "<div>\n",
       "<style scoped>\n",
       "    .dataframe tbody tr th:only-of-type {\n",
       "        vertical-align: middle;\n",
       "    }\n",
       "\n",
       "    .dataframe tbody tr th {\n",
       "        vertical-align: top;\n",
       "    }\n",
       "\n",
       "    .dataframe thead th {\n",
       "        text-align: right;\n",
       "    }\n",
       "</style>\n",
       "<table border=\"1\" class=\"dataframe\">\n",
       "  <thead>\n",
       "    <tr style=\"text-align: right;\">\n",
       "      <th></th>\n",
       "      <th>precision</th>\n",
       "      <th>recall</th>\n",
       "      <th>f1</th>\n",
       "      <th>accuracy</th>\n",
       "    </tr>\n",
       "  </thead>\n",
       "  <tbody>\n",
       "    <tr>\n",
       "      <th>0</th>\n",
       "      <td>0.367899</td>\n",
       "      <td>0.239949</td>\n",
       "      <td>0.234464</td>\n",
       "      <td>0.298934</td>\n",
       "    </tr>\n",
       "  </tbody>\n",
       "</table>\n",
       "</div>"
      ],
      "text/plain": [
       "   precision    recall        f1  accuracy\n",
       "0   0.367899  0.239949  0.234464  0.298934"
      ]
     },
     "execution_count": 222,
     "metadata": {},
     "output_type": "execute_result"
    }
   ],
   "source": [
    "train_model_performance_lstm"
   ]
  },
  {
   "cell_type": "code",
   "execution_count": 223,
   "id": "0ca031d6-279f-490d-ac8f-87bc5fbd6bbb",
   "metadata": {},
   "outputs": [
    {
     "data": {
      "text/html": [
       "<div>\n",
       "<style scoped>\n",
       "    .dataframe tbody tr th:only-of-type {\n",
       "        vertical-align: middle;\n",
       "    }\n",
       "\n",
       "    .dataframe tbody tr th {\n",
       "        vertical-align: top;\n",
       "    }\n",
       "\n",
       "    .dataframe thead th {\n",
       "        text-align: right;\n",
       "    }\n",
       "</style>\n",
       "<table border=\"1\" class=\"dataframe\">\n",
       "  <thead>\n",
       "    <tr style=\"text-align: right;\">\n",
       "      <th></th>\n",
       "      <th>precision</th>\n",
       "      <th>recall</th>\n",
       "      <th>f1</th>\n",
       "      <th>accuracy</th>\n",
       "    </tr>\n",
       "  </thead>\n",
       "  <tbody>\n",
       "    <tr>\n",
       "      <th>0</th>\n",
       "      <td>0.359435</td>\n",
       "      <td>0.228626</td>\n",
       "      <td>0.222902</td>\n",
       "      <td>0.293419</td>\n",
       "    </tr>\n",
       "  </tbody>\n",
       "</table>\n",
       "</div>"
      ],
      "text/plain": [
       "   precision    recall        f1  accuracy\n",
       "0   0.359435  0.228626  0.222902  0.293419"
      ]
     },
     "execution_count": 223,
     "metadata": {},
     "output_type": "execute_result"
    }
   ],
   "source": [
    "test_model_performance_lstm = classification_metrics(y_test,y_pred,\"macro\")\n",
    "test_model_performance_lstm"
   ]
  },
  {
   "cell_type": "code",
   "execution_count": 224,
   "id": "a969f763-0ce7-41e8-a986-7844f09b1d1c",
   "metadata": {},
   "outputs": [
    {
     "data": {
      "image/png": "[encoded data removed]",
      "text/plain": [
       "<Figure size 640x480 with 1 Axes>"
      ]
     },
     "metadata": {},
     "output_type": "display_data"
    }
   ],
   "source": [
    "plt.plot(history.history['loss'])\n",
    "plt.plot(history.history['val_loss'])\n",
    "plt.title('training vs validation loss')\n",
    "plt.ylabel('loss')\n",
    "plt.xlabel('epoch')\n",
    "plt.legend(['train', 'validation'], loc='upper left')\n",
    "plt.show()"
   ]
  },
  {
   "cell_type": "code",
   "execution_count": 225,
   "id": "8ab9a0a5-cf88-4828-a76e-d1bb122dfe8e",
   "metadata": {},
   "outputs": [
    {
     "name": "stdout",
     "output_type": "stream",
     "text": [
      "35/35 [==============================] - 4s 124ms/step - loss: 1.8356 - accuracy: 0.2934\n"
     ]
    }
   ],
   "source": [
    "test_loss,accuracy = model.evaluate(X_test,y_test)"
   ]
  },
  {
   "cell_type": "code",
   "execution_count": 226,
   "id": "3b0af032-0abf-464f-9d6c-329821c581b5",
   "metadata": {},
   "outputs": [
    {
     "data": {
      "text/plain": [
       "(1.835606575012207, 0.29341864585876465)"
      ]
     },
     "execution_count": 226,
     "metadata": {},
     "output_type": "execute_result"
    }
   ],
   "source": [
    "test_loss,accuracy"
   ]
  },
  {
   "cell_type": "code",
   "execution_count": 244,
   "id": "1f2f06a7-9e4c-4ce5-9f80-c8f3a1cc67a8",
   "metadata": {},
   "outputs": [
    {
     "data": {
      "text/plain": [
       "768"
      ]
     },
     "execution_count": 244,
     "metadata": {},
     "output_type": "execute_result"
    }
   ],
   "source": [
    "EMBEDDINGS_DIMENSION"
   ]
  },
  {
   "cell_type": "markdown",
   "id": "1fb45391-c4e7-4c00-9b3e-36ad5dbaac7a",
   "metadata": {},
   "source": [
    "### CNN+LSTM"
   ]
  },
  {
   "cell_type": "code",
   "execution_count": 259,
   "id": "e2021f25-2484-4dae-a4c3-4b309e8dea2c",
   "metadata": {},
   "outputs": [
    {
     "name": "stderr",
     "output_type": "stream",
     "text": [
      "2024-08-20 00:39:05,856 | WARNING | lstm.py:590 | __init__ | Layer lstm_13 will not use cuDNN kernels since it doesn't meet the criteria. It will use a generic GPU kernel as fallback when running on GPU.\n"
     ]
    }
   ],
   "source": [
    "embedding = bert_embeddings\n",
    "vocab_size = BERT_VOCAB_SIZE\n",
    "embedding_dim = 768\n",
    "learning_rate = 0.01\n",
    "Embedding_layer = Embedding(vocab_size,embedding_dim,weights = [embedding],input_length = max_length_sequence, trainable=False)\n",
    "model = Sequential()\n",
    "model.add(Embedding_layer)\n",
    "model.add(Conv1D(filters=32,kernel_size=5,activation=\"relu\",padding=\"same\",strides=1))\n",
    "model.add(MaxPool1D(pool_size=2))\n",
    "model.add(LSTM(100,dropout=0.2,recurrent_dropout=0.2))\n",
    "model.add(Dense(32,activation=\"relu\"))\n",
    "model.add(Dropout(0.2))\n",
    "model.add(Dense(9,\"softmax\"))\n",
    "model.compile(loss=\"sparse_categorical_crossentropy\",optimizer=tf.keras.optimizers.Adam(learning_rate=learning_rate),metrics=[\"accuracy\"])"
   ]
  },
  {
   "cell_type": "code",
   "execution_count": 260,
   "id": "54eb31de-d091-4c97-a97a-c8d955d512b2",
   "metadata": {},
   "outputs": [
    {
     "name": "stdout",
     "output_type": "stream",
     "text": [
      "Model: \"sequential_13\"\n",
      "_________________________________________________________________\n",
      " Layer (type)                Output Shape              Param #   \n",
      "=================================================================\n",
      " embedding_13 (Embedding)    (None, 186, 768)          14002176  \n",
      "                                                                 \n",
      " conv1d_4 (Conv1D)           (None, 186, 32)           122912    \n",
      "                                                                 \n",
      " max_pooling1d_4 (MaxPooling  (None, 93, 32)           0         \n",
      " 1D)                                                             \n",
      "                                                                 \n",
      " lstm_13 (LSTM)              (None, 100)               53200     \n",
      "                                                                 \n",
      " dense_17 (Dense)            (None, 32)                3232      \n",
      "                                                                 \n",
      " dropout_50 (Dropout)        (None, 32)                0         \n",
      "                                                                 \n",
      " dense_18 (Dense)            (None, 9)                 297       \n",
      "                                                                 \n",
      "=================================================================\n",
      "Total params: 14,181,817\n",
      "Trainable params: 179,641\n",
      "Non-trainable params: 14,002,176\n",
      "_________________________________________________________________\n"
     ]
    }
   ],
   "source": [
    "model.summary()"
   ]
  },
  {
   "cell_type": "code",
   "execution_count": 261,
   "id": "e23b8517-9b0a-48f7-93e2-9eaabd537e04",
   "metadata": {},
   "outputs": [
    {
     "name": "stdout",
     "output_type": "stream",
     "text": [
      "Epoch 1/5\n",
      "399/399 [==============================] - 348s 859ms/step - loss: 2.0472 - accuracy: 0.1557 - val_loss: 2.0318 - val_accuracy: 0.1622\n",
      "Epoch 2/5\n",
      "399/399 [==============================] - 360s 902ms/step - loss: 2.0356 - accuracy: 0.1656 - val_loss: 2.0299 - val_accuracy: 0.1584\n",
      "Epoch 3/5\n",
      "399/399 [==============================] - 385s 966ms/step - loss: 2.0310 - accuracy: 0.1624 - val_loss: 2.0303 - val_accuracy: 0.1492\n",
      "Epoch 4/5\n",
      "399/399 [==============================] - 385s 964ms/step - loss: 2.0305 - accuracy: 0.1614 - val_loss: 2.0299 - val_accuracy: 0.1654\n",
      "Epoch 5/5\n",
      "399/399 [==============================] - 387s 971ms/step - loss: 2.0307 - accuracy: 0.1598 - val_loss: 2.0299 - val_accuracy: 0.1654\n"
     ]
    }
   ],
   "source": [
    "early_stopping = EarlyStopping(monitor='val_loss', patience=3, mode='min', verbose=1)\n",
    "history = model.fit(X_train,y_train,epochs=5,batch_size=32,validation_data=(X_val, y_val),verbose=1,callbacks=[early_stopping],\n",
    "                   workers=3)"
   ]
  },
  {
   "cell_type": "code",
   "execution_count": 262,
   "id": "7f8c5b01-f8ab-4ef6-bbca-68592c2f1af9",
   "metadata": {},
   "outputs": [
    {
     "name": "stdout",
     "output_type": "stream",
     "text": [
      "399/399 [==============================] - 47s 116ms/step\n"
     ]
    },
    {
     "data": {
      "text/html": [
       "<div>\n",
       "<style scoped>\n",
       "    .dataframe tbody tr th:only-of-type {\n",
       "        vertical-align: middle;\n",
       "    }\n",
       "\n",
       "    .dataframe tbody tr th {\n",
       "        vertical-align: top;\n",
       "    }\n",
       "\n",
       "    .dataframe thead th {\n",
       "        text-align: right;\n",
       "    }\n",
       "</style>\n",
       "<table border=\"1\" class=\"dataframe\">\n",
       "  <thead>\n",
       "    <tr style=\"text-align: right;\">\n",
       "      <th></th>\n",
       "      <th>precision</th>\n",
       "      <th>recall</th>\n",
       "      <th>f1</th>\n",
       "      <th>accuracy</th>\n",
       "    </tr>\n",
       "  </thead>\n",
       "  <tbody>\n",
       "    <tr>\n",
       "      <th>0</th>\n",
       "      <td>0.018397</td>\n",
       "      <td>0.111111</td>\n",
       "      <td>0.031567</td>\n",
       "      <td>0.16557</td>\n",
       "    </tr>\n",
       "  </tbody>\n",
       "</table>\n",
       "</div>"
      ],
      "text/plain": [
       "   precision    recall        f1  accuracy\n",
       "0   0.018397  0.111111  0.031567   0.16557"
      ]
     },
     "execution_count": 262,
     "metadata": {},
     "output_type": "execute_result"
    }
   ],
   "source": [
    "train_pred = model.predict(X_train)\n",
    "train_pred =  np.argmax(train_pred,axis=1)\n",
    "train_model_performance = classification_metrics(y_train,train_pred,\"macro\")\n",
    "train_model_performance"
   ]
  },
  {
   "cell_type": "code",
   "execution_count": 263,
   "id": "4968fbf2-f150-4049-a832-e999158c1699",
   "metadata": {},
   "outputs": [
    {
     "name": "stdout",
     "output_type": "stream",
     "text": [
      "35/35 [==============================] - 4s 117ms/step\n"
     ]
    },
    {
     "data": {
      "text/html": [
       "<div>\n",
       "<style scoped>\n",
       "    .dataframe tbody tr th:only-of-type {\n",
       "        vertical-align: middle;\n",
       "    }\n",
       "\n",
       "    .dataframe tbody tr th {\n",
       "        vertical-align: top;\n",
       "    }\n",
       "\n",
       "    .dataframe thead th {\n",
       "        text-align: right;\n",
       "    }\n",
       "</style>\n",
       "<table border=\"1\" class=\"dataframe\">\n",
       "  <thead>\n",
       "    <tr style=\"text-align: right;\">\n",
       "      <th></th>\n",
       "      <th>precision</th>\n",
       "      <th>recall</th>\n",
       "      <th>f1</th>\n",
       "      <th>accuracy</th>\n",
       "    </tr>\n",
       "  </thead>\n",
       "  <tbody>\n",
       "    <tr>\n",
       "      <th>0</th>\n",
       "      <td>0.018383</td>\n",
       "      <td>0.111111</td>\n",
       "      <td>0.031547</td>\n",
       "      <td>0.165448</td>\n",
       "    </tr>\n",
       "  </tbody>\n",
       "</table>\n",
       "</div>"
      ],
      "text/plain": [
       "   precision    recall        f1  accuracy\n",
       "0   0.018383  0.111111  0.031547  0.165448"
      ]
     },
     "execution_count": 263,
     "metadata": {},
     "output_type": "execute_result"
    }
   ],
   "source": [
    "y_pred = model.predict(X_test)\n",
    "y_pred = np.argmax(y_pred,axis=1)\n",
    "test_model_performance = classification_metrics(y_test,y_pred,\"macro\")\n",
    "test_model_performance"
   ]
  },
  {
   "cell_type": "code",
   "execution_count": 264,
   "id": "83f98068-dadb-4fed-b4af-d7e5d38a6403",
   "metadata": {},
   "outputs": [
    {
     "name": "stdout",
     "output_type": "stream",
     "text": [
      "35/35 [==============================] - 4s 118ms/step - loss: 2.0305 - accuracy: 0.1654\n"
     ]
    }
   ],
   "source": [
    "test_loss,accuracy = model.evaluate(X_test,y_test)"
   ]
  },
  {
   "cell_type": "code",
   "execution_count": 265,
   "id": "b409f491-b1c6-4f7b-a7a5-fbd2b77e7a82",
   "metadata": {},
   "outputs": [
    {
     "data": {
      "image/png": "[encoded data removed]",
      "text/plain": [
       "<Figure size 640x480 with 1 Axes>"
      ]
     },
     "metadata": {},
     "output_type": "display_data"
    }
   ],
   "source": [
    "plt.plot(history.history['loss'])\n",
    "plt.plot(history.history['val_loss'])\n",
    "plt.title('training vs validation loss')\n",
    "plt.ylabel('loss')\n",
    "plt.xlabel('epoch')\n",
    "plt.legend(['train', 'validation'], loc='upper left')\n",
    "plt.show()"
   ]
  },
  {
   "cell_type": "markdown",
   "id": "10fa0571-bc30-49b7-9448-10d2245571b9",
   "metadata": {},
   "source": [
    "### BERT"
   ]
  },
  {
   "cell_type": "code",
   "execution_count": 26,
   "id": "d3570412-aac2-4358-9770-64062ff97e8b",
   "metadata": {},
   "outputs": [
    {
     "name": "stderr",
     "output_type": "stream",
     "text": [
      "All model checkpoint layers were used when initializing TFBertForSequenceClassification.\n",
      "\n",
      "Some layers of TFBertForSequenceClassification were not initialized from the model checkpoint at bert-base-uncased and are newly initialized: ['classifier']\n",
      "You should probably TRAIN this model on a down-stream task to be able to use it for predictions and inference.\n"
     ]
    }
   ],
   "source": [
    "bert_tokenizer = BertTokenizer.from_pretrained('bert-base-uncased',do_lower_case=True)\n",
    "bert_model = TFBertForSequenceClassification.from_pretrained(\"bert-base-uncased\",num_labels=9)"
   ]
  },
  {
   "cell_type": "code",
   "execution_count": 31,
   "id": "d6dbcf63-a6f1-483b-883e-b005c843e105",
   "metadata": {},
   "outputs": [
    {
     "data": {
      "text/plain": [
       "[8, 0, 2, 7, 1, 4, 6, 3, 5]"
      ]
     },
     "execution_count": 31,
     "metadata": {},
     "output_type": "execute_result"
    }
   ],
   "source": [
    "data_bin.Disorder.value_counts().index.tolist()"
   ]
  },
  {
   "cell_type": "code",
   "execution_count": 32,
   "id": "59489dd7-e4a0-45af-a83d-f9800e6784a7",
   "metadata": {},
   "outputs": [],
   "source": [
    "sample_df = pd.DataFrame()\n",
    "for samples,count in dict(zip(data_bin.Disorder.value_counts().values.tolist(),data_bin.Disorder.value_counts().index.tolist())).items():\n",
    "    if samples>1000:\n",
    "        temp = data_bin[data_bin[\"Disorder\"]==count]\n",
    "        temp = temp.sample(1000)\n",
    "    else:\n",
    "        temp = data_bin[data_bin[\"Disorder\"]==count]\n",
    "    sample_df = pd.concat([temp,sample_df])"
   ]
  },
  {
   "cell_type": "code",
   "execution_count": 34,
   "id": "5054c188-887d-4f0e-b2f5-10642369a64e",
   "metadata": {},
   "outputs": [
    {
     "data": {
      "text/plain": [
       "Disorder\n",
       "6    1000\n",
       "4    1000\n",
       "1    1000\n",
       "7    1000\n",
       "2    1000\n",
       "0    1000\n",
       "8    1000\n",
       "3     402\n",
       "5     243\n",
       "Name: count, dtype: int64"
      ]
     },
     "execution_count": 34,
     "metadata": {},
     "output_type": "execute_result"
    }
   ],
   "source": [
    "sample_df.Disorder.value_counts()"
   ]
  },
  {
   "cell_type": "code",
   "execution_count": 35,
   "id": "a9ff8ac5-eee7-4ebb-8ec2-4d39b9b89ecf",
   "metadata": {},
   "outputs": [
    {
     "data": {
      "text/html": [
       "<div>\n",
       "<style scoped>\n",
       "    .dataframe tbody tr th:only-of-type {\n",
       "        vertical-align: middle;\n",
       "    }\n",
       "\n",
       "    .dataframe tbody tr th {\n",
       "        vertical-align: top;\n",
       "    }\n",
       "\n",
       "    .dataframe thead th {\n",
       "        text-align: right;\n",
       "    }\n",
       "</style>\n",
       "<table border=\"1\" class=\"dataframe\">\n",
       "  <thead>\n",
       "    <tr style=\"text-align: right;\">\n",
       "      <th></th>\n",
       "      <th>Disorder</th>\n",
       "      <th>tweet</th>\n",
       "    </tr>\n",
       "  </thead>\n",
       "  <tbody>\n",
       "    <tr>\n",
       "      <th>0</th>\n",
       "      <td>5</td>\n",
       "      <td>thank loudly cry face</td>\n",
       "    </tr>\n",
       "    <tr>\n",
       "      <th>1</th>\n",
       "      <td>5</td>\n",
       "      <td>neighborhood ginger coming say face blowing kiss</td>\n",
       "    </tr>\n",
       "    <tr>\n",
       "      <th>2</th>\n",
       "      <td>5</td>\n",
       "      <td>people followed people unfollowed automaticall...</td>\n",
       "    </tr>\n",
       "    <tr>\n",
       "      <th>3</th>\n",
       "      <td>5</td>\n",
       "      <td>people unfollowed automatically checked</td>\n",
       "    </tr>\n",
       "    <tr>\n",
       "      <th>4</th>\n",
       "      <td>5</td>\n",
       "      <td>right loudly cry face</td>\n",
       "    </tr>\n",
       "  </tbody>\n",
       "</table>\n",
       "</div>"
      ],
      "text/plain": [
       "   Disorder                                              tweet\n",
       "0         5                              thank loudly cry face\n",
       "1         5   neighborhood ginger coming say face blowing kiss\n",
       "2         5  people followed people unfollowed automaticall...\n",
       "3         5            people unfollowed automatically checked\n",
       "4         5                              right loudly cry face"
      ]
     },
     "execution_count": 35,
     "metadata": {},
     "output_type": "execute_result"
    }
   ],
   "source": [
    "sample_df.head()"
   ]
  },
  {
   "cell_type": "code",
   "execution_count": 36,
   "id": "f32438e3-8c42-4b7b-8270-a57e8e8b27f0",
   "metadata": {},
   "outputs": [],
   "source": [
    "data_bert = sample_df.copy()\n",
    "data_bert[\"tweet\"] = \"[CLS] \" +data_bert['tweet'] + \"[SEP]\"\n",
    "X = data_bert[[\"tweet\"]]\n",
    "y = data_bert[[\"Disorder\"]]\n",
    "\n",
    "X_train,X_temp,y_train,y_temp = train_test_split(X, y, test_size=0.3, random_state=42,stratify=y)\n",
    "X_val,X_test,y_val,y_test = train_test_split(X_temp, y_temp, test_size=0.2, random_state=42,stratify=y_temp)\n",
    "train_text = X_train[\"tweet\"].values.tolist()\n",
    "train_label = y_train[\"Disorder\"].values.tolist()\n",
    "\n",
    "val_text = X_val[\"tweet\"].values.tolist()\n",
    "val_label = y_val[\"Disorder\"].values.tolist()\n",
    "test_text =  X_test[\"tweet\"].values.tolist()\n",
    "test_label = y_test[\"Disorder\"].values.tolist()"
   ]
  },
  {
   "cell_type": "code",
   "execution_count": 37,
   "id": "258cb5ff-bc5f-4e15-8619-0f57aabaf4a5",
   "metadata": {},
   "outputs": [
    {
     "name": "stdout",
     "output_type": "stream",
     "text": [
      "(5351, 1) (1835, 1) (459, 1)\n",
      "(array([0, 1, 2, 3, 4, 5, 6, 7, 8], dtype=int64), array([700, 700, 700, 281, 700, 170, 700, 700, 700], dtype=int64))\n",
      "(array([0, 1, 2, 3, 4, 5, 6, 7, 8], dtype=int64), array([240, 240, 240,  97, 240,  58, 240, 240, 240], dtype=int64))\n",
      "(array([0, 1, 2, 3, 4, 5, 6, 7, 8], dtype=int64), array([60, 60, 60, 24, 60, 15, 60, 60, 60], dtype=int64))\n"
     ]
    }
   ],
   "source": [
    "print(X_train.shape,X_val.shape,X_test.shape)\n",
    "print(np.unique(y_train,return_counts=True))\n",
    "print(np.unique(y_val,return_counts=True))\n",
    "print(np.unique(y_test,return_counts=True))"
   ]
  },
  {
   "cell_type": "code",
   "execution_count": 38,
   "id": "7debd15b-c36e-4cd1-bf45-b3d3db165c5e",
   "metadata": {},
   "outputs": [
    {
     "data": {
      "text/plain": [
       "(5351, 5351)"
      ]
     },
     "execution_count": 38,
     "metadata": {},
     "output_type": "execute_result"
    }
   ],
   "source": [
    "len(train_text),len(train_label)"
   ]
  },
  {
   "cell_type": "code",
   "execution_count": 39,
   "id": "7108b5c1-9bbb-4dcf-a40f-664bfb9549e9",
   "metadata": {},
   "outputs": [
    {
     "data": {
      "text/plain": [
       "(1835, 1835)"
      ]
     },
     "execution_count": 39,
     "metadata": {},
     "output_type": "execute_result"
    }
   ],
   "source": [
    "len(val_text),len(val_label)"
   ]
  },
  {
   "cell_type": "code",
   "execution_count": 40,
   "id": "ffbde75c-b113-4e3c-8fd7-2a8c87c10440",
   "metadata": {},
   "outputs": [
    {
     "data": {
      "text/plain": [
       "Disorder\n",
       "2    700\n",
       "1    700\n",
       "4    700\n",
       "0    700\n",
       "6    700\n",
       "8    700\n",
       "7    700\n",
       "3    281\n",
       "5    170\n",
       "Name: count, dtype: int64"
      ]
     },
     "execution_count": 40,
     "metadata": {},
     "output_type": "execute_result"
    }
   ],
   "source": [
    "y_train.Disorder.value_counts()"
   ]
  },
  {
   "cell_type": "code",
   "execution_count": 41,
   "id": "a0d04548-3be6-49c7-9a3e-5c7f5e7ff93a",
   "metadata": {},
   "outputs": [
    {
     "data": {
      "text/plain": [
       "Disorder\n",
       "0    60\n",
       "8    60\n",
       "7    60\n",
       "4    60\n",
       "6    60\n",
       "2    60\n",
       "1    60\n",
       "3    24\n",
       "5    15\n",
       "Name: count, dtype: int64"
      ]
     },
     "execution_count": 41,
     "metadata": {},
     "output_type": "execute_result"
    }
   ],
   "source": [
    "y_test.Disorder.value_counts()"
   ]
  },
  {
   "cell_type": "code",
   "execution_count": null,
   "id": "a936913b-4ba5-4704-b4cb-cc4b49b10347",
   "metadata": {},
   "outputs": [],
   "source": []
  },
  {
   "cell_type": "code",
   "execution_count": 42,
   "id": "f559befa-ec21-48e0-b371-ac7d89df6921",
   "metadata": {},
   "outputs": [],
   "source": [
    "BERT_TOKENS_LENGTH = 256\n",
    "max_length_sequence = min(max([len(doc) for doc in corpus]),BERT_TOKENS_LENGTH)\n",
    "train_encoding = bert_tokenizer.batch_encode_plus(train_text,\n",
    "                                              padding=True,\n",
    "                                              truncation=True,\n",
    "                                              max_length = max_length_sequence,\n",
    "                                              return_tensors='tf')\n",
    "val_encoding = bert_tokenizer.batch_encode_plus(val_text,\n",
    "                                              padding=True, \n",
    "                                            truncation=True,\n",
    "                                              max_length = max_length_sequence,\n",
    "                                              return_tensors='tf')"
   ]
  },
  {
   "cell_type": "code",
   "execution_count": 43,
   "id": "bcbe0174-d345-40a8-8527-c1041ffcd18b",
   "metadata": {},
   "outputs": [
    {
     "data": {
      "text/plain": [
       "(TensorShape([5351, 109]), TensorShape([1835, 186]))"
      ]
     },
     "execution_count": 43,
     "metadata": {},
     "output_type": "execute_result"
    }
   ],
   "source": [
    "train_encoding[\"input_ids\"].shape,val_encoding[\"input_ids\"].shape"
   ]
  },
  {
   "cell_type": "code",
   "execution_count": 51,
   "id": "9de3d4da-9004-4340-9327-ec6d4ff84696",
   "metadata": {},
   "outputs": [],
   "source": [
    "# Compile the model with an appropriate optimizer, loss function, and metrics\n",
    "loss = tf.keras.losses.SparseCategoricalCrossentropy(from_logits=True)\n",
    "metric = tf.keras.metrics.SparseCategoricalAccuracy('accuracy')\n",
    "bert_model.compile(optimizer=\"adam\", loss=loss, metrics=[metric])"
   ]
  },
  {
   "cell_type": "code",
   "execution_count": 52,
   "id": "89c085ad-abe5-4c5e-b024-3837eda6ce7f",
   "metadata": {},
   "outputs": [
    {
     "name": "stdout",
     "output_type": "stream",
     "text": [
      "Model: \"tf_bert_for_sequence_classification\"\n",
      "_________________________________________________________________\n",
      " Layer (type)                Output Shape              Param #   \n",
      "=================================================================\n",
      " bert (TFBertMainLayer)      multiple                  109482240 \n",
      "                                                                 \n",
      " dropout_37 (Dropout)        multiple                  0         \n",
      "                                                                 \n",
      " classifier (Dense)          multiple                  6921      \n",
      "                                                                 \n",
      "=================================================================\n",
      "Total params: 109,489,161\n",
      "Trainable params: 109,489,161\n",
      "Non-trainable params: 0\n",
      "_________________________________________________________________\n"
     ]
    }
   ],
   "source": [
    "bert_model.summary()"
   ]
  },
  {
   "cell_type": "code",
   "execution_count": 53,
   "id": "d3baf4df-b065-4b09-bbdc-e7c80c4444b3",
   "metadata": {},
   "outputs": [
    {
     "name": "stdout",
     "output_type": "stream",
     "text": [
      "Epoch 1/3\n",
      "335/335 [==============================] - 198s 472ms/step - loss: 2.1781 - accuracy: 0.1383 - val_loss: 2.1911 - val_accuracy: 0.1308\n",
      "Epoch 2/3\n",
      "335/335 [==============================] - 152s 455ms/step - loss: 2.1554 - accuracy: 0.1217 - val_loss: 2.1447 - val_accuracy: 0.1308\n",
      "Epoch 3/3\n",
      "335/335 [==============================] - 152s 454ms/step - loss: 2.1421 - accuracy: 0.1291 - val_loss: 2.1350 - val_accuracy: 0.1308\n"
     ]
    }
   ],
   "source": [
    "early_stopping = EarlyStopping(monitor='val_loss', patience=2)\n",
    "\n",
    "history = bert_model.fit(\n",
    "    [train_encoding['input_ids'], train_encoding['token_type_ids'], train_encoding['attention_mask']],\n",
    "    tf.convert_to_tensor(train_label, dtype=tf.int32),\n",
    "    validation_data=(\n",
    "      [val_encoding['input_ids'], val_encoding['token_type_ids'], val_encoding['attention_mask']], tf.convert_to_tensor(val_label, dtype=tf.int32)),\n",
    "    batch_size=16,\n",
    "    epochs=3,\n",
    "    callbacks = [early_stopping]\n",
    ")"
   ]
  },
  {
   "cell_type": "code",
   "execution_count": 54,
   "id": "4c6ac42b-2ffc-4791-8603-13e71ea3e0ae",
   "metadata": {},
   "outputs": [],
   "source": [
    "test_encoding = bert_tokenizer.batch_encode_plus(test_text,\n",
    "                                              padding=True, \n",
    "                                            truncation=True,\n",
    "                                              max_length = max_length_sequence,\n",
    "                                              return_tensors='tf')"
   ]
  },
  {
   "cell_type": "code",
   "execution_count": 55,
   "id": "e52fffc7-7386-4001-bf42-06523e197753",
   "metadata": {},
   "outputs": [
    {
     "name": "stdout",
     "output_type": "stream",
     "text": [
      "15/15 [==============================] - 10s 179ms/step - loss: 2.1356 - accuracy: 0.1307\n"
     ]
    }
   ],
   "source": [
    "test_loss, test_accuracy = bert_model.evaluate(\n",
    "    [test_encoding['input_ids'], test_encoding['token_type_ids'], test_encoding['attention_mask']],\n",
    "    tf.convert_to_tensor(test_label)\n",
    ")"
   ]
  },
  {
   "cell_type": "code",
   "execution_count": 56,
   "id": "a823d842-b2f1-4174-bdf6-8ca3ae2d6987",
   "metadata": {},
   "outputs": [
    {
     "data": {
      "text/plain": [
       "(2.1356008052825928, 0.13071896135807037)"
      ]
     },
     "execution_count": 56,
     "metadata": {},
     "output_type": "execute_result"
    }
   ],
   "source": [
    "test_loss, test_accuracy"
   ]
  },
  {
   "cell_type": "code",
   "execution_count": 57,
   "id": "58678a5d-2471-4c5e-a48f-5563a0cdfef8",
   "metadata": {},
   "outputs": [
    {
     "name": "stdout",
     "output_type": "stream",
     "text": [
      "15/15 [==============================] - 9s 176ms/step\n"
     ]
    }
   ],
   "source": [
    "test_pred = bert_model.predict(\n",
    "    [test_encoding['input_ids'], test_encoding['token_type_ids'], test_encoding['attention_mask']])"
   ]
  },
  {
   "cell_type": "code",
   "execution_count": 58,
   "id": "f8f11db7-e4b2-4ac5-b55f-d7a6e32f6a2f",
   "metadata": {},
   "outputs": [],
   "source": [
    "test_logits = test_pred.logits\n",
    "test_pred_labels = tf.argmax(test_logits, axis=1)\n",
    "test_pred_labels = test_pred_labels.numpy()"
   ]
  },
  {
   "cell_type": "code",
   "execution_count": 59,
   "id": "e08845be-c4c5-4668-b15b-058ba25a8f1c",
   "metadata": {},
   "outputs": [
    {
     "data": {
      "text/plain": [
       "array([1, 1, 1, 1, 1, 1, 1, 1, 1, 1, 1, 1, 1, 1, 1, 1, 1, 1, 1, 1, 1, 1,\n",
       "       1, 1, 1, 1, 1, 1, 1, 1, 1, 1, 1, 1, 1, 1, 1, 1, 1, 1, 1, 1, 1, 1,\n",
       "       1, 1, 1, 1, 1, 1, 1, 1, 1, 1, 1, 1, 1, 1, 1, 1, 1, 1, 1, 1, 1, 1,\n",
       "       1, 1, 1, 1, 1, 1, 1, 1, 1, 1, 1, 1, 1, 1, 1, 1, 1, 1, 1, 1, 1, 1,\n",
       "       1, 1, 1, 1, 1, 1, 1, 1, 1, 1, 1, 1, 1, 1, 1, 1, 1, 1, 1, 1, 1, 1,\n",
       "       1, 1, 1, 1, 1, 1, 1, 1, 1, 1, 1, 1, 1, 1, 1, 1, 1, 1, 1, 1, 1, 1,\n",
       "       1, 1, 1, 1, 1, 1, 1, 1, 1, 1, 1, 1, 1, 1, 1, 1, 1, 1, 1, 1, 1, 1,\n",
       "       1, 1, 1, 1, 1, 1, 1, 1, 1, 1, 1, 1, 1, 1, 1, 1, 1, 1, 1, 1, 1, 1,\n",
       "       1, 1, 1, 1, 1, 1, 1, 1, 1, 1, 1, 1, 1, 1, 1, 1, 1, 1, 1, 1, 1, 1,\n",
       "       1, 1, 1, 1, 1, 1, 1, 1, 1, 1, 1, 1, 1, 1, 1, 1, 1, 1, 1, 1, 1, 1,\n",
       "       1, 1, 1, 1, 1, 1, 1, 1, 1, 1, 1, 1, 1, 1, 1, 1, 1, 1, 1, 1, 1, 1,\n",
       "       1, 1, 1, 1, 1, 1, 1, 1, 1, 1, 1, 1, 1, 1, 1, 1, 1, 1, 1, 1, 1, 1,\n",
       "       1, 1, 1, 1, 1, 1, 1, 1, 1, 1, 1, 1, 1, 1, 1, 1, 1, 1, 1, 1, 1, 1,\n",
       "       1, 1, 1, 1, 1, 1, 1, 1, 1, 1, 1, 1, 1, 1, 1, 1, 1, 1, 1, 1, 1, 1,\n",
       "       1, 1, 1, 1, 1, 1, 1, 1, 1, 1, 1, 1, 1, 1, 1, 1, 1, 1, 1, 1, 1, 1,\n",
       "       1, 1, 1, 1, 1, 1, 1, 1, 1, 1, 1, 1, 1, 1, 1, 1, 1, 1, 1, 1, 1, 1,\n",
       "       1, 1, 1, 1, 1, 1, 1, 1, 1, 1, 1, 1, 1, 1, 1, 1, 1, 1, 1, 1, 1, 1,\n",
       "       1, 1, 1, 1, 1, 1, 1, 1, 1, 1, 1, 1, 1, 1, 1, 1, 1, 1, 1, 1, 1, 1,\n",
       "       1, 1, 1, 1, 1, 1, 1, 1, 1, 1, 1, 1, 1, 1, 1, 1, 1, 1, 1, 1, 1, 1,\n",
       "       1, 1, 1, 1, 1, 1, 1, 1, 1, 1, 1, 1, 1, 1, 1, 1, 1, 1, 1, 1, 1, 1,\n",
       "       1, 1, 1, 1, 1, 1, 1, 1, 1, 1, 1, 1, 1, 1, 1, 1, 1, 1, 1],\n",
       "      dtype=int64)"
      ]
     },
     "execution_count": 59,
     "metadata": {},
     "output_type": "execute_result"
    }
   ],
   "source": [
    "test_pred_labels"
   ]
  },
  {
   "cell_type": "code",
   "execution_count": 60,
   "id": "b8aadb6d-94ff-4fb7-b87a-df7110ea479a",
   "metadata": {},
   "outputs": [],
   "source": [
    "# pred_labels = pred_labels.numpy()\n",
    " \n",
    "# label = {\n",
    "#     1: 'positive',\n",
    "#     0: 'Negative'\n",
    "# }"
   ]
  },
  {
   "cell_type": "code",
   "execution_count": 61,
   "id": "bcec00f5-7867-4a6d-92a7-21b918528c73",
   "metadata": {},
   "outputs": [
    {
     "data": {
      "text/plain": [
       "array([1], dtype=int64)"
      ]
     },
     "execution_count": 61,
     "metadata": {},
     "output_type": "execute_result"
    }
   ],
   "source": [
    "np.unique(test_pred_labels)"
   ]
  },
  {
   "cell_type": "code",
   "execution_count": 62,
   "id": "d7a0cd9b-6514-4c67-bc39-2b7fe7741a9e",
   "metadata": {},
   "outputs": [
    {
     "name": "stdout",
     "output_type": "stream",
     "text": [
      "168/168 [==============================] - 45s 230ms/step\n"
     ]
    }
   ],
   "source": [
    "train_pred = bert_model.predict(\n",
    "    [train_encoding['input_ids'], train_encoding['token_type_ids'], train_encoding['attention_mask']])"
   ]
  },
  {
   "cell_type": "code",
   "execution_count": 63,
   "id": "a1065976-58ce-49b3-9fff-2a68e878ee2a",
   "metadata": {},
   "outputs": [],
   "source": [
    "train_logits = train_pred.logits\n",
    "train_labels = tf.argmax(train_logits, axis=1)\n",
    "train_labels = train_labels.numpy()"
   ]
  },
  {
   "cell_type": "code",
   "execution_count": 64,
   "id": "2ac108a6-2b5f-439b-b8ce-7bf363d0ec0c",
   "metadata": {},
   "outputs": [
    {
     "data": {
      "text/plain": [
       "array([1], dtype=int64)"
      ]
     },
     "execution_count": 64,
     "metadata": {},
     "output_type": "execute_result"
    }
   ],
   "source": [
    "np.unique(train_labels)"
   ]
  },
  {
   "cell_type": "code",
   "execution_count": 67,
   "id": "38424dac-261a-4dcd-ace3-09d7302a7991",
   "metadata": {},
   "outputs": [],
   "source": [
    "train_performance_table = classification_metrics(y_train.values,train_labels,\"macro\")\n",
    "test_performance_table = classification_metrics(y_test.values,test_pred_labels,\"macro\")"
   ]
  },
  {
   "cell_type": "code",
   "execution_count": 68,
   "id": "0b5d920d-02dc-4cd3-9d57-9f788fb0b77e",
   "metadata": {},
   "outputs": [
    {
     "data": {
      "text/html": [
       "<div>\n",
       "<style scoped>\n",
       "    .dataframe tbody tr th:only-of-type {\n",
       "        vertical-align: middle;\n",
       "    }\n",
       "\n",
       "    .dataframe tbody tr th {\n",
       "        vertical-align: top;\n",
       "    }\n",
       "\n",
       "    .dataframe thead th {\n",
       "        text-align: right;\n",
       "    }\n",
       "</style>\n",
       "<table border=\"1\" class=\"dataframe\">\n",
       "  <thead>\n",
       "    <tr style=\"text-align: right;\">\n",
       "      <th></th>\n",
       "      <th>precision</th>\n",
       "      <th>recall</th>\n",
       "      <th>f1</th>\n",
       "      <th>accuracy</th>\n",
       "    </tr>\n",
       "  </thead>\n",
       "  <tbody>\n",
       "    <tr>\n",
       "      <th>0</th>\n",
       "      <td>0.014535</td>\n",
       "      <td>0.111111</td>\n",
       "      <td>0.025707</td>\n",
       "      <td>0.130817</td>\n",
       "    </tr>\n",
       "  </tbody>\n",
       "</table>\n",
       "</div>"
      ],
      "text/plain": [
       "   precision    recall        f1  accuracy\n",
       "0   0.014535  0.111111  0.025707  0.130817"
      ]
     },
     "execution_count": 68,
     "metadata": {},
     "output_type": "execute_result"
    }
   ],
   "source": [
    "train_performance_table"
   ]
  },
  {
   "cell_type": "code",
   "execution_count": 69,
   "id": "e29c5ae2-8cda-488d-8ba4-e58c6f71a890",
   "metadata": {},
   "outputs": [
    {
     "data": {
      "text/html": [
       "<div>\n",
       "<style scoped>\n",
       "    .dataframe tbody tr th:only-of-type {\n",
       "        vertical-align: middle;\n",
       "    }\n",
       "\n",
       "    .dataframe tbody tr th {\n",
       "        vertical-align: top;\n",
       "    }\n",
       "\n",
       "    .dataframe thead th {\n",
       "        text-align: right;\n",
       "    }\n",
       "</style>\n",
       "<table border=\"1\" class=\"dataframe\">\n",
       "  <thead>\n",
       "    <tr style=\"text-align: right;\">\n",
       "      <th></th>\n",
       "      <th>precision</th>\n",
       "      <th>recall</th>\n",
       "      <th>f1</th>\n",
       "      <th>accuracy</th>\n",
       "    </tr>\n",
       "  </thead>\n",
       "  <tbody>\n",
       "    <tr>\n",
       "      <th>0</th>\n",
       "      <td>0.014524</td>\n",
       "      <td>0.111111</td>\n",
       "      <td>0.02569</td>\n",
       "      <td>0.130719</td>\n",
       "    </tr>\n",
       "  </tbody>\n",
       "</table>\n",
       "</div>"
      ],
      "text/plain": [
       "   precision    recall       f1  accuracy\n",
       "0   0.014524  0.111111  0.02569  0.130719"
      ]
     },
     "execution_count": 69,
     "metadata": {},
     "output_type": "execute_result"
    }
   ],
   "source": [
    "test_performance_table"
   ]
  },
  {
   "cell_type": "code",
   "execution_count": 70,
   "id": "9b6f2f11-28bc-41ad-8c0a-60dba20e1417",
   "metadata": {},
   "outputs": [
    {
     "data": {
      "image/png": "[encoded data removed]",
      "text/plain": [
       "<Figure size 640x480 with 1 Axes>"
      ]
     },
     "metadata": {},
     "output_type": "display_data"
    }
   ],
   "source": [
    "plt.plot(history.history['loss'])\n",
    "plt.plot(history.history['val_loss'])\n",
    "plt.title('training vs validation loss')\n",
    "plt.ylabel('loss')\n",
    "plt.xlabel('epoch')\n",
    "plt.legend(['train', 'validation'], loc='upper left')\n",
    "plt.show()"
   ]
  },
  {
   "cell_type": "code",
   "execution_count": null,
   "id": "566d2a26-ddc7-440a-a91e-6d8897521271",
   "metadata": {},
   "outputs": [],
   "source": []
  }
 ],
 "metadata": {
  "kernelspec": {
   "display_name": "Python 3 (ipykernel)",
   "language": "python",
   "name": "python3"
  },
  "language_info": {
   "codemirror_mode": {
    "name": "ipython",
    "version": 3
   },
   "file_extension": ".py",
   "mimetype": "text/x-python",
   "name": "python",
   "nbconvert_exporter": "python",
   "pygments_lexer": "ipython3",
   "version": "3.11.9"
  }
 },
 "nbformat": 4,
 "nbformat_minor": 5
}
