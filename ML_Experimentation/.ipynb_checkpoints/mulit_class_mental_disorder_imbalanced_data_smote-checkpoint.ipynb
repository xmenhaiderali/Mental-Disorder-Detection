{
 "cells": [
  {
   "cell_type": "code",
   "execution_count": 3,
   "id": "87e21a07-9d57-42e9-a2d9-cea2cbd7342f",
   "metadata": {},
   "outputs": [
    {
     "name": "stderr",
     "output_type": "stream",
     "text": [
      "[nltk_data] Downloading package wordnet to C:\\Users\\Ali\n",
      "[nltk_data]     Haider\\AppData\\Roaming\\nltk_data...\n",
      "[nltk_data]   Package wordnet is already up-to-date!\n",
      "[nltk_data] Downloading package stopwords to C:\\Users\\Ali\n",
      "[nltk_data]     Haider\\AppData\\Roaming\\nltk_data...\n",
      "[nltk_data]   Package stopwords is already up-to-date!\n"
     ]
    },
    {
     "data": {
      "text/plain": [
       "True"
      ]
     },
     "execution_count": 3,
     "metadata": {},
     "output_type": "execute_result"
    }
   ],
   "source": [
    "import pandas as pd\n",
    "import numpy as np\n",
    "from pathlib import Path\n",
    "from tqdm import tqdm\n",
    "import matplotlib.pyplot as plt\n",
    "from textblob import TextBlob\n",
    "import advertools\n",
    "import re\n",
    "import spacy\n",
    "import xgboost\n",
    "from sklearn.feature_extraction.text import TfidfVectorizer\n",
    "from sklearn.model_selection import train_test_split\n",
    "from sklearn.linear_model import LogisticRegression\n",
    "from sklearn.metrics import (classification_report,auc, \n",
    "                            roc_auc_score, precision_score,\n",
    "                            recall_score,f1_score, accuracy_score)\n",
    "from sklearn.ensemble import RandomForestClassifier, AdaBoostClassifier\n",
    "from sklearn.svm import SVC\n",
    "from sklearn.tree import DecisionTreeClassifier\n",
    "from sklearn.naive_bayes import GaussianNB\n",
    "import seaborn as sns\n",
    "import nltk\n",
    "import nltk.util\n",
    "from nltk.corpus import stopwords\n",
    "from nltk.stem import WordNetLemmatizer\n",
    "from imblearn.combine import SMOTETomek\n",
    "import warnings\n",
    "warnings.filterwarnings(\"ignore\")\n",
    "nltk.download(\"wordnet\")\n",
    "nltk.download(\"stopwords\")"
   ]
  },
  {
   "cell_type": "code",
   "execution_count": 4,
   "id": "f6928cf4-ec7c-4097-9b8e-ed76aaf813e8",
   "metadata": {},
   "outputs": [],
   "source": [
    "data_path = Path.cwd().parent/\"Data\"\n",
    "final_data = pd.DataFrame()"
   ]
  },
  {
   "cell_type": "code",
   "execution_count": 5,
   "id": "c720a4b4-8003-4bba-a324-71da0d42622b",
   "metadata": {},
   "outputs": [
    {
     "name": "stderr",
     "output_type": "stream",
     "text": [
      "100%|████████████████████████████████████████████████████████████████████| 622/622 [00:09<00:00, 62.93it/s]\n",
      "100%|████████████████████████████████████████████████████████████████████| 124/124 [00:01<00:00, 70.07it/s]\n",
      "100%|████████████████████████████████████████████████████████████████████| 170/170 [00:01<00:00, 96.59it/s]\n",
      "100%|███████████████████████████████████████████████████████████████████| 136/136 [00:01<00:00, 107.59it/s]\n",
      "100%|██████████████████████████████████████████████████████████████████| 1703/1703 [00:23<00:00, 73.14it/s]\n",
      "100%|███████████████████████████████████████████████████████████████████| 249/249 [00:02<00:00, 122.51it/s]\n",
      "100%|█████████████████████████████████████████████████████████████████████| 26/26 [00:00<00:00, 111.47it/s]\n",
      "100%|██████████████████████████████████████████████████████████████████████| 65/65 [00:00<00:00, 77.58it/s]\n",
      "100%|████████████████████████████████████████████████████████████████████| 127/127 [00:01<00:00, 81.63it/s]\n",
      "100%|██████████████████████████████████████████████████████████████████████| 24/24 [00:00<00:00, 75.06it/s]\n"
     ]
    }
   ],
   "source": [
    "for child in data_path.iterdir():\n",
    "    for child_ch in child.iterdir():\n",
    "        if child_ch.is_dir():\n",
    "            files = list(child_ch.glob(\"**/*.csv\"))\n",
    "            for fls in tqdm(range(len(files))):\n",
    "                df = pd.read_csv(files[fls])\n",
    "        else:\n",
    "            df = pd.read_csv(child_ch)\n",
    "        final_data = pd.concat([df,final_data],axis = 0)"
   ]
  },
  {
   "cell_type": "code",
   "execution_count": 6,
   "id": "4806db0c-48fb-4932-8d2a-05c954986b04",
   "metadata": {},
   "outputs": [],
   "source": [
    "final_data = final_data[final_data[\"class\"]!=\"CONTROL\"]\n",
    "pipeline_data = final_data.copy()"
   ]
  },
  {
   "cell_type": "markdown",
   "id": "11c87c5d-119b-4790-8344-1b9d83a534fe",
   "metadata": {},
   "source": [
    "# Data Preprocessing"
   ]
  },
  {
   "cell_type": "code",
   "execution_count": 9,
   "id": "724da0c0-dab7-41cd-baaf-e8bc3382621d",
   "metadata": {},
   "outputs": [],
   "source": [
    "def clean_text(text:str) -> str:\n",
    "    tokens = advertools.word_tokenize(text,phrase_len=1)\n",
    "    emoji_token = advertools.extract_emoji(tokens[0])\n",
    "    emoji_token = emoji_token[\"emoji_text\"]\n",
    "    for tok in range(0,len(emoji_token)):\n",
    "        if emoji_token[tok]:\n",
    "            tokens[0][tok] = \" \".join(emoji_token[tok])\n",
    "    clean_text = \" \".join(tokens[0])\n",
    "    clean_pattern = r\"@\\w+|#\\w+|\\W+|x+|https\\.\\//www\\.(\\w+|\\W+)\\.com|http\\w*|www\\.(\\w+|\\W+)\\.com|user\\w*|\\d+\"\n",
    "    clean_text = re.sub(clean_pattern,\" \",clean_text).strip()\n",
    "    clean_text = re.sub(r\"\\s+\",\" \",clean_text).strip()\n",
    "    return clean_text"
   ]
  },
  {
   "cell_type": "code",
   "execution_count": 10,
   "id": "dfd1d22c-815a-4938-8685-0afc1297ae99",
   "metadata": {},
   "outputs": [],
   "source": [
    "def text_lemmatize(text: str) -> str:\n",
    "    lemma = WordNetLemmatizer()\n",
    "    tokens = advertools.word_tokenize(text,phrase_len=1)\n",
    "    text = [lemma.lemmatize(tok) for tok in tokens[0]]\n",
    "    return \" \".join(text)"
   ]
  },
  {
   "cell_type": "code",
   "execution_count": 11,
   "id": "6fd6338c-b672-45ed-831a-471f8a3edb96",
   "metadata": {},
   "outputs": [],
   "source": [
    "def spell_check(text:str) -> str:\n",
    "    nlp = spacy.load(\"en_core_web_sm\")\n",
    "    nlp.add_pipe(\"contextual spellchecker\")\n",
    "    doc = nlp(text)\n",
    "    return doc._.outcome_spellCheck"
   ]
  },
  {
   "cell_type": "code",
   "execution_count": 12,
   "id": "4dbfa883-befb-403f-862f-4c8caf70af55",
   "metadata": {},
   "outputs": [],
   "source": [
    "def remove_stopword(text: str) -> str:\n",
    "    tokens = advertools.word_tokenize(text,phrase_len=1)[0]\n",
    "    stop_words = stopwords.words(\"english\")\n",
    "    clean_word = [tok for tok in tokens if tok not in stop_words]\n",
    "    return \" \".join(clean_word)"
   ]
  },
  {
   "cell_type": "markdown",
   "id": "952448f0-9aa8-44c8-9cbc-7cc7a9dd218f",
   "metadata": {},
   "source": [
    "# Vectorization"
   ]
  },
  {
   "cell_type": "code",
   "execution_count": 13,
   "id": "9636e634-0a99-4660-b38e-d5b3d94f6fea",
   "metadata": {},
   "outputs": [],
   "source": [
    "def generate_n_grams(text: str, n: list[int]) -> list[tuple]:\n",
    "    tokens = advertools.word_tokenize(text,phrase_len=1)[0]\n",
    "    if len(n)<=1:\n",
    "        n_grams = list(nltk.ngrams(tokens,n[0],pad_right=True,right_pad_symbol=\"</s>\"))\n",
    "        bag_ngrams = \" \".join([\"_\".join(c) for c in n_grams])\n",
    "    else:\n",
    "        bag_ngrams = \" \"\n",
    "        for n_gram in range(n[0],n[1]+1):\n",
    "            n_grams = list(nltk.ngrams(tokens,n_gram,pad_right=True,right_pad_symbol=\"</s>\"))\n",
    "            if n_gram==1:       \n",
    "                n_grams = \" \".join([\"\".join(c[0]) for c in n_grams])\n",
    "                bag_ngrams+=n_grams\n",
    "            else:\n",
    "                n_grams = \" \".join([\"_\".join(c) for c in n_grams])\n",
    "                bag_ngrams+=\" \"+n_grams\n",
    "    return bag_ngrams"
   ]
  },
  {
   "cell_type": "code",
   "execution_count": 14,
   "id": "30a93b6f-c571-47c6-a5c2-8545bf20044c",
   "metadata": {},
   "outputs": [],
   "source": [
    "def tfidf(train: pd.DataFrame, test:pd.DataFrame()):\n",
    "    tf_idf = TfidfVectorizer()\n",
    "    train_feat = tf_idf.fit_transform(train)\n",
    "    test_feat = tf_idf.transform(test)\n",
    "    return train_feat,test_feat"
   ]
  },
  {
   "cell_type": "markdown",
   "id": "3f4497c0-1e7a-46cd-97da-caa8bfcab4bb",
   "metadata": {},
   "source": [
    "# ML Models"
   ]
  },
  {
   "cell_type": "code",
   "execution_count": 15,
   "id": "37b5564a-396e-4e58-ab02-2f6238815dcc",
   "metadata": {
    "scrolled": true
   },
   "outputs": [],
   "source": [
    "def classification_metrics(actuals: np.array, preds: np.array, average:\"binary\") -> pd.DataFrame:\n",
    "    metrics_performance = pd.DataFrame()\n",
    "    precision = precision_score(actuals,preds,average=average)\n",
    "    recall = recall_score(actuals,preds,average=average)\n",
    "    f1 = f1_score(actuals,preds,average=average)\n",
    "    accuracy = accuracy_score(actuals,preds)\n",
    "    metrics_performance[\"precision\"] = [precision]\n",
    "    metrics_performance[\"recall\"] = [recall]\n",
    "    metrics_performance[\"f1\"] = [f1]\n",
    "    metrics_performance[\"accuracy\"] = [accuracy]\n",
    "    return metrics_performance"
   ]
  },
  {
   "cell_type": "code",
   "execution_count": 63,
   "id": "f0e5cecb-6c20-461d-ae32-5c5b13181212",
   "metadata": {},
   "outputs": [],
   "source": [
    "def build_models(preprocessed_data: pd.DataFrame, \n",
    "                 label: str, \n",
    "                 weights: bool,\n",
    "                 average:\"binary\",\n",
    "                ) -> tuple[pd.DataFrame,pd.DataFrame]:\n",
    "                 # filename: str) -> pd.DataFrame:\n",
    "    X = preprocessed_data[[\"text_features\"]]\n",
    "    y = preprocessed_data[[label]]\n",
    "    X_train,X_test,y_train,y_test = train_test_split(X,y,test_size=0.2,\n",
    "                                                 stratify=y,random_state=42)\n",
    "    metrics_performance = pd.DataFrame()\n",
    "    train_data,test_data = tfidf(X_train[\"text_features\"],X_test[\"text_features\"])\n",
    "    smt = SMOTETomek(random_state=42,n_jobs=-1)\n",
    "    X_train_resample,y_train_resample = smt.fit_resample(train_data,y_train)\n",
    "    print(\"logistic regression started\")\n",
    "    log_reg = LogisticRegression(n_jobs=-1)\n",
    "    log_reg.fit(X_train_resample,y_train_resample)\n",
    "    y_pred = log_reg.predict(test_data)\n",
    "    log_reg_perf = classification_metrics(np.squeeze(y_test.values),y_pred,average)\n",
    "    log_reg_perf[\"models\"] = \"Logistic Regression\"\n",
    "    train_pred = log_reg.predict(train_data)\n",
    "    log_train_perf = classification_metrics(np.squeeze(y_train_resample.values),train_pred,average)\n",
    "    log_train_perf[\"models\"] = \"Logistic Regression\"\n",
    "    if weights:\n",
    "        index = y_train.value_counts().index.tolist()\n",
    "        weight = dict(zip([idx[0] for idx in index],y_train.value_counts().values))\n",
    "        class_weights = dict()\n",
    "        class_weights = {index: len(X_train)/(2*values) for index,values in weight.items()}\n",
    "        # print(c)\n",
    "        # # dict(zip()\n",
    "        # w_1 = len(X_train)/(2*y_train.value_counts()[1])\n",
    "        # w_0 = len(X_train)/(2*y_train.value_counts()[0])\n",
    "        # class_weights = {0:w_0,1:w_1}\n",
    "        print(\"Weighted model initialized\")\n",
    "        rand_clf = RandomForestClassifier(n_jobs=-1,class_weight=class_weights)\n",
    "        svm_clf_rbf = SVC(class_weight=class_weights)\n",
    "        svm_clf_lr = SVC(class_weight=class_weights,kernel=\"linear\")\n",
    "        svm_clf_poly = SVC(class_weight=class_weights,kernel=\"poly\",degree=3)\n",
    "        dt_clf = DecisionTreeClassifier(class_weight=class_weights)\n",
    "    else:\n",
    "        print(\"Non-Weighted model initialized\")\n",
    "        rand_clf = RandomForestClassifier(n_jobs=-1)\n",
    "        svm_clf_rbf = SVC()\n",
    "        svm_clf_lr = SVC(kernel=\"linear\")\n",
    "        svm_clf_poly = SVC(kernel=\"poly\",degree=3)\n",
    "        dt_clf = DecisionTreeClassifier()\n",
    "    print(\"Random Forest started\")\n",
    "    rand_clf.fit(X_train_resample,y_train_resample)\n",
    "    y_pred = rand_clf.predict(test_data)\n",
    "    rand_forest_perf = classification_metrics(np.squeeze(y_test.values),y_pred,average)\n",
    "    rand_forest_perf[\"models\"] = \"Random Forest\"\n",
    "    train_pred = rand_clf.predict(train_data)\n",
    "    rand_train_perf = classification_metrics(np.squeeze(y_train_resample.values),train_pred,average)\n",
    "    rand_train_perf[\"models\"] = \"Random Forest\"\n",
    "    xgb_clf = xgboost.XGBClassifier(learning_rate = 1, \n",
    "                                 n_estimators=100,\n",
    "                                 max_depth=3,\n",
    "                                 min_child_weight=1,\n",
    "                                 gamma=0,\n",
    "                                 subsample=1.0,\n",
    "                                 reg_alpha = 0,\n",
    "                                 reg_lambda = 1,\n",
    "                                 objective= 'binary:logistic',\n",
    "                                 booster = \"gbtree\")\n",
    "    print(\"XGBOOST started\")\n",
    "    xgb_clf.fit(X_train_resample,y_train_resample)\n",
    "    y_pred = xgb_clf.predict(test_data)\n",
    "    xgb_perf = classification_metrics(np.squeeze(y_test.values),y_pred,average)\n",
    "    xgb_perf[\"models\"] = \"XGBOOST\"\n",
    "    train_pred = xgb_clf.predict(train_data)\n",
    "    xgb_train_perf = classification_metrics(np.squeeze(y_train_resample.values),train_pred,average)\n",
    "    xgb_train_perf[\"models\"] = \"XGBOOST\"\n",
    "    print(\"SVM rbf started\")\n",
    "    svm_clf_rbf.fit(X_train_resample,y_train_resample)\n",
    "    y_pred = svm_clf_rbf.predict(test_data)\n",
    "    svm_rbf_perf = classification_metrics(np.squeeze(y_test.values),y_pred,average)\n",
    "    svm_rbf_perf[\"models\"] = \"SVM_rbf\"\n",
    "    train_pred = svm_clf_rbf.predict(train_data)\n",
    "    svm_rbf_train_perf = classification_metrics(np.squeeze(y_train_resample.values),train_pred,average)\n",
    "    svm_rbf_train_perf[\"models\"] = \"SVM_rbf\"\n",
    "    print(\"SVM linear started\")\n",
    "    svm_clf_lr.fit(X_train_resample,y_train_resample)\n",
    "    y_pred = svm_clf_lr.predict(test_data)\n",
    "    svm_lr_perf = classification_metrics(np.squeeze(y_test.values),y_pred,average)\n",
    "    svm_lr_perf[\"models\"] = \"SVM_linear\"\n",
    "    train_pred = svm_clf_lr.predict(train_data)\n",
    "    svm_lr_train_perf = classification_metrics(np.squeeze(y_train_resample.values),train_pred,average)\n",
    "    svm_lr_train_perf[\"models\"] = \"SVM_linear\"\n",
    "    print(\"SVM poly started\")\n",
    "    svm_clf_poly.fit(X_train_resample,y_train_resample)\n",
    "    y_pred = svm_clf_poly.predict(test_data)\n",
    "    svm_poly_perf = classification_metrics(np.squeeze(y_test.values),y_pred,average)\n",
    "    svm_poly_perf[\"models\"] = \"SVM_poly\"\n",
    "    train_pred= svm_clf_poly.predict(train_data)\n",
    "    svm_poly_train_perf = classification_metrics(np.squeeze(y_train_resample.values),train_pred,average)\n",
    "    svm_poly_train_perf[\"models\"] = \"SVM_poly\"\n",
    "    print(\"Decision Tree started\")\n",
    "    dt_clf.fit(X_train_resample,y_train_resample)\n",
    "    y_pred = dt_clf.predict(test_data)\n",
    "    dt_clf_perf = classification_metrics(np.squeeze(y_test.values),y_pred,average)\n",
    "    dt_clf_perf[\"models\"] = \"Decision Tree\"\n",
    "    train_pred = dt_clf.predict(train_data)\n",
    "    dt_clf_train_perf = classification_metrics(np.squeeze(y_train_resample.values),train_pred,average)\n",
    "    dt_clf_train_perf[\"models\"] = \"Decision Tree\"\n",
    "    train_performance_table = pd.concat([log_train_perf,rand_train_perf,\n",
    "                                   xgb_train_perf,svm_rbf_train_perf,svm_lr_train_perf,\n",
    "                                  svm_poly_train_perf,dt_clf_train_perf],axis=0)\n",
    "    test_performance_table = pd.concat([log_reg_perf,rand_forest_perf,\n",
    "                                   xgb_perf,svm_rbf_perf,svm_lr_perf,\n",
    "                                  svm_poly_perf,dt_clf_perf],axis=0)\n",
    "    # performance_table.to_csv(filename,index=False)\n",
    "    return train_performance_table,test_performance_table"
   ]
  },
  {
   "cell_type": "markdown",
   "id": "47bbc3e3-596e-495d-9824-832875ce00b2",
   "metadata": {},
   "source": [
    "## EDA"
   ]
  },
  {
   "cell_type": "code",
   "execution_count": 18,
   "id": "e63f7c2a-c946-4df9-b406-53f3f874d750",
   "metadata": {},
   "outputs": [
    {
     "data": {
      "text/plain": [
       "array(['SCHIZOPHRENIA', 'PTSD', 'OCD', 'EATING DISORDER', 'DEPRESSION',\n",
       "       'BIPOLAR', 'AUTISM', 'ANXIETY', 'ADHD'], dtype=object)"
      ]
     },
     "execution_count": 18,
     "metadata": {},
     "output_type": "execute_result"
    }
   ],
   "source": [
    "final_data[\"class\"].unique()"
   ]
  },
  {
   "cell_type": "code",
   "execution_count": 19,
   "id": "7a011acd-06a6-4d7f-b847-6d561607aa04",
   "metadata": {},
   "outputs": [
    {
     "data": {
      "text/plain": [
       "class                   0\n",
       "tweet_id                0\n",
       "day                     0\n",
       "time                    0\n",
       "tweet                   0\n",
       "tweet_favorite_count    0\n",
       "tweet_retweet_count     0\n",
       "tweet_source            0\n",
       "user_id                 0\n",
       "user_followers_count    0\n",
       "user_friends_count      0\n",
       "user_listed_count       0\n",
       "user_statuses_count     0\n",
       "dtype: int64"
      ]
     },
     "execution_count": 19,
     "metadata": {},
     "output_type": "execute_result"
    }
   ],
   "source": [
    "final_data = final_data[~(final_data[\"tweet\"].isnull())]\n",
    "final_data.isnull().sum()"
   ]
  },
  {
   "cell_type": "code",
   "execution_count": 1,
   "id": "2ffcde00-c0b0-44d8-8920-b7227733a72c",
   "metadata": {},
   "outputs": [],
   "source": [
    "final_data = final_data[[\"class\",\"tweet\"]]\n",
    "final_data.rename(columns={\"class\":\"Disorder\"}, inplace=True)\n",
    "final_data.head()"
   ]
  },
  {
   "cell_type": "code",
   "execution_count": 18,
   "id": "6614cbe1-a2ec-4a37-a446-f0af0fea5ba0",
   "metadata": {},
   "outputs": [
    {
     "data": {
      "text/plain": [
       "Disorder\n",
       "ADHD               3034\n",
       "SCHIZOPHRENIA      2970\n",
       "OCD                2905\n",
       "ANXIETY            2729\n",
       "PTSD               2466\n",
       "DEPRESSION         2161\n",
       "AUTISM             1425\n",
       "EATING DISORDER     403\n",
       "BIPOLAR             244\n",
       "Name: count, dtype: int64"
      ]
     },
     "execution_count": 18,
     "metadata": {},
     "output_type": "execute_result"
    }
   ],
   "source": [
    "final_data['Disorder'].value_counts()"
   ]
  },
  {
   "cell_type": "code",
   "execution_count": 19,
   "id": "112b204c-f35a-4a56-aa93-5b12e5ea9e11",
   "metadata": {},
   "outputs": [
    {
     "data": {
      "image/png": "[encoded data removed]",
      "text/plain": [
       "<Figure size 640x480 with 1 Axes>"
      ]
     },
     "metadata": {},
     "output_type": "display_data"
    }
   ],
   "source": [
    "final_data['Disorder'].value_counts().plot(kind=\"bar\")\n",
    "plt.title(\"Mental Disorder Distribution\")\n",
    "plt.xlabel(\"Mental Disorder\")\n",
    "plt.ylabel(\"Frequency\")\n",
    "plt.show()"
   ]
  },
  {
   "cell_type": "code",
   "execution_count": 20,
   "id": "9493a1e6-6b80-4f4c-bb75-a6029eb66541",
   "metadata": {},
   "outputs": [],
   "source": [
    "data_preprocess = final_data.copy()\n",
    "data_preprocess[\"tweet\"] = data_preprocess[\"tweet\"].apply(clean_text)\n",
    "data_preprocess[\"tweet\"] = data_preprocess[\"tweet\"].apply(text_lemmatize)\n",
    "data_preprocess[\"tweet\"] = data_preprocess[\"tweet\"].apply(remove_stopword)\n",
    "data_preprocess.to_csv(\"multi_class_data_preprocess.csv\",index=False)"
   ]
  },
  {
   "cell_type": "code",
   "execution_count": 2,
   "id": "361d83c3-5737-4c9f-bdba-874c9c9af81c",
   "metadata": {},
   "outputs": [],
   "source": [
    "data_preprocess = data_preprocess[data_preprocess[\"tweet\"]!=\"\"]\n",
    "data_preprocess[\"word_count\"] = data_preprocess['tweet'].apply(lambda text:len(text.split()))\n",
    "data_preprocess.head()"
   ]
  },
  {
   "cell_type": "code",
   "execution_count": 22,
   "id": "2224d4e5-9204-40bb-a5b5-c3f46f02ec9b",
   "metadata": {},
   "outputs": [
    {
     "data": {
      "image/png": "[encoded data removed]",
      "text/plain": [
       "<Figure size 640x480 with 1 Axes>"
      ]
     },
     "metadata": {},
     "output_type": "display_data"
    }
   ],
   "source": [
    "sns.kdeplot(data=data_preprocess,x=\"word_count\",hue=\"Disorder\",multiple=\"stack\")\n",
    "plt.title(\"Probability Density plot\")\n",
    "plt.show()"
   ]
  },
  {
   "cell_type": "code",
   "execution_count": 23,
   "id": "ff568e39-af08-451b-87e0-21ec1bf18587",
   "metadata": {},
   "outputs": [
    {
     "data": {
      "image/png": "[encoded data removed]",
      "text/plain": [
       "<Figure size 640x480 with 1 Axes>"
      ]
     },
     "metadata": {},
     "output_type": "display_data"
    }
   ],
   "source": [
    "data_preprocess['Disorder'].value_counts().plot(kind=\"bar\")\n",
    "plt.title(\"Mental Disorder Distribution\")\n",
    "plt.xlabel(\"Mental Disorder\")\n",
    "plt.ylabel(\"Frequency\")\n",
    "plt.show()"
   ]
  },
  {
   "cell_type": "markdown",
   "id": "acd45124-8acd-437a-a345-654b2089aad2",
   "metadata": {},
   "source": [
    "# Pipeline"
   ]
  },
  {
   "cell_type": "code",
   "execution_count": 17,
   "id": "b92ae273-09ce-457a-8b15-b2241bb0ae0c",
   "metadata": {},
   "outputs": [],
   "source": [
    "def data_preprocess_pipeline(data_preprocess: pd.DataFrame,\n",
    "                             ngram_range: list,\n",
    "                            filename: str,\n",
    "                            ) -> pd.DataFrame:\n",
    "    data_preprocess = data_preprocess[~(data_preprocess[\"tweet\"].isnull())]\n",
    "    data_preprocess = data_preprocess[[\"class\",\"tweet\"]]\n",
    "    data_preprocess.rename(columns={\"class\":\"Disorder\"}, inplace=True)\n",
    "    data_preprocess[\"tweet\"] = data_preprocess[\"tweet\"].apply(clean_text)\n",
    "    data_preprocess[\"tweet\"] = data_preprocess[\"tweet\"].apply(text_lemmatize)\n",
    "    data_preprocess[\"tweet\"] = data_preprocess[\"tweet\"].apply(remove_stopword)\n",
    "    data_preprocess = data_preprocess[data_preprocess[\"tweet\"]!=\"\"]\n",
    "    data_preprocess[\"text_features\"] = data_preprocess[\"tweet\"].apply(lambda text: \n",
    "                                                                      generate_n_grams(text,n=ngram_range))\n",
    "    print(\"saving preprocessed data\")\n",
    "    data_preprocess.to_csv(filename,index=False)\n",
    "    print(\"data saved\")\n",
    "    return data_preprocess"
   ]
  },
  {
   "cell_type": "markdown",
   "id": "d57a50b3-be09-4e58-b50c-a4d38e450fd6",
   "metadata": {},
   "source": [
    "# Imbalaned Dataset training"
   ]
  },
  {
   "cell_type": "code",
   "execution_count": 3,
   "id": "e224662b-dce2-40a6-b846-a20f7c82a351",
   "metadata": {},
   "outputs": [],
   "source": [
    "ngram_range = [1,1]\n",
    "data_preprocess = data_preprocess_pipeline(pipeline_data,\n",
    "                                           ngram_range=ngram_range,\n",
    "                                           filename=\"multi_class_imbalanced_data_preprocess.csv\")\n",
    "data_preprocess.head()"
   ]
  },
  {
   "cell_type": "code",
   "execution_count": 4,
   "id": "b0ff9c9c-dc9f-41bc-9562-0c78b1e46faf",
   "metadata": {},
   "outputs": [],
   "source": [
    "data_bin = data_preprocess[[\"text_features\",\"Disorder\"]]\n",
    "encode_target = dict(zip(data_bin[\"Disorder\"].unique(),np.arange(0,data_bin[\"Disorder\"].nunique(),dtype=int)))\n",
    "data_bin[\"Disorder\"] = data_bin[\"Disorder\"].map(encode_target)\n",
    "data_bin[\"Disorder\"]=data_bin[\"Disorder\"].map(int)\n",
    "data_bin.head()"
   ]
  },
  {
   "cell_type": "code",
   "execution_count": 65,
   "id": "8c77f750-e5fc-4c85-bd5b-9e1cc3213e99",
   "metadata": {},
   "outputs": [
    {
     "data": {
      "text/plain": [
       "Disorder\n",
       "8    3018\n",
       "0    2959\n",
       "2    2888\n",
       "7    2719\n",
       "1    2458\n",
       "4    2143\n",
       "6    1402\n",
       "3     402\n",
       "5     243\n",
       "Name: count, dtype: int64"
      ]
     },
     "execution_count": 65,
     "metadata": {},
     "output_type": "execute_result"
    }
   ],
   "source": [
    "data_bin['Disorder'].value_counts()"
   ]
  },
  {
   "cell_type": "code",
   "execution_count": 22,
   "id": "8ed22d12-3923-45ba-9d89-186b1f809735",
   "metadata": {},
   "outputs": [],
   "source": [
    "X = data_bin[[\"text_features\"]]\n",
    "y = data_bin[[\"Disorder\"]]"
   ]
  },
  {
   "cell_type": "code",
   "execution_count": 23,
   "id": "db1cdf9c-7209-4387-973d-4cc11b90d7c3",
   "metadata": {},
   "outputs": [],
   "source": [
    "X_train,X_test,y_train,y_test = train_test_split(X,y,test_size=0.2,\n",
    "                                                 stratify=y,random_state=42)    \n",
    "train_data,test_data = tfidf(X_train[\"text_features\"],X_test[\"text_features\"])"
   ]
  },
  {
   "cell_type": "code",
   "execution_count": 51,
   "id": "4afd6cfd-dc10-4d2c-87da-5993d35c92ee",
   "metadata": {},
   "outputs": [],
   "source": [
    "smt = SMOTETomek(random_state=42,n_jobs=-1)\n",
    "X_train_resample,Y_train_resample = smt.fit_resample(train_data,y_train)"
   ]
  },
  {
   "cell_type": "code",
   "execution_count": 52,
   "id": "5197ec46-3191-42ba-81c0-bd2bfd8a2909",
   "metadata": {},
   "outputs": [],
   "source": [
    "X_train_resample,Y_train_resample = smt.fit_resample(train_data,y_train)"
   ]
  },
  {
   "cell_type": "code",
   "execution_count": 53,
   "id": "f29d77f1-2f6a-49ec-b716-829708f41436",
   "metadata": {},
   "outputs": [
    {
     "data": {
      "text/plain": [
       "Disorder\n",
       "8    2414\n",
       "0    2367\n",
       "2    2310\n",
       "7    2175\n",
       "1    1966\n",
       "4    1714\n",
       "6    1122\n",
       "3     322\n",
       "5     195\n",
       "Name: count, dtype: int64"
      ]
     },
     "execution_count": 53,
     "metadata": {},
     "output_type": "execute_result"
    }
   ],
   "source": [
    "y_train.Disorder.value_counts()"
   ]
  },
  {
   "cell_type": "code",
   "execution_count": 54,
   "id": "d46767a9-2636-498d-9b2a-79cc2d534e74",
   "metadata": {},
   "outputs": [
    {
     "data": {
      "text/plain": [
       "Disorder\n",
       "3    2414\n",
       "5    2413\n",
       "6    2394\n",
       "1    2393\n",
       "0    2385\n",
       "4    2381\n",
       "7    2367\n",
       "8    2364\n",
       "2    2361\n",
       "Name: count, dtype: int64"
      ]
     },
     "execution_count": 54,
     "metadata": {},
     "output_type": "execute_result"
    }
   ],
   "source": [
    "Y_train_resample.Disorder.value_counts()"
   ]
  },
  {
   "cell_type": "code",
   "execution_count": 55,
   "id": "98d0a89a-4557-4a26-a6b3-cba173463d24",
   "metadata": {},
   "outputs": [
    {
     "data": {
      "text/html": [
       "<style>#sk-container-id-3 {\n",
       "  /* Definition of color scheme common for light and dark mode */\n",
       "  --sklearn-color-text: black;\n",
       "  --sklearn-color-line: gray;\n",
       "  /* Definition of color scheme for unfitted estimators */\n",
       "  --sklearn-color-unfitted-level-0: #fff5e6;\n",
       "  --sklearn-color-unfitted-level-1: #f6e4d2;\n",
       "  --sklearn-color-unfitted-level-2: #ffe0b3;\n",
       "  --sklearn-color-unfitted-level-3: chocolate;\n",
       "  /* Definition of color scheme for fitted estimators */\n",
       "  --sklearn-color-fitted-level-0: #f0f8ff;\n",
       "  --sklearn-color-fitted-level-1: #d4ebff;\n",
       "  --sklearn-color-fitted-level-2: #b3dbfd;\n",
       "  --sklearn-color-fitted-level-3: cornflowerblue;\n",
       "\n",
       "  /* Specific color for light theme */\n",
       "  --sklearn-color-text-on-default-background: var(--sg-text-color, var(--theme-code-foreground, var(--jp-content-font-color1, black)));\n",
       "  --sklearn-color-background: var(--sg-background-color, var(--theme-background, var(--jp-layout-color0, white)));\n",
       "  --sklearn-color-border-box: var(--sg-text-color, var(--theme-code-foreground, var(--jp-content-font-color1, black)));\n",
       "  --sklearn-color-icon: #696969;\n",
       "\n",
       "  @media (prefers-color-scheme: dark) {\n",
       "    /* Redefinition of color scheme for dark theme */\n",
       "    --sklearn-color-text-on-default-background: var(--sg-text-color, var(--theme-code-foreground, var(--jp-content-font-color1, white)));\n",
       "    --sklearn-color-background: var(--sg-background-color, var(--theme-background, var(--jp-layout-color0, #111)));\n",
       "    --sklearn-color-border-box: var(--sg-text-color, var(--theme-code-foreground, var(--jp-content-font-color1, white)));\n",
       "    --sklearn-color-icon: #878787;\n",
       "  }\n",
       "}\n",
       "\n",
       "#sk-container-id-3 {\n",
       "  color: var(--sklearn-color-text);\n",
       "}\n",
       "\n",
       "#sk-container-id-3 pre {\n",
       "  padding: 0;\n",
       "}\n",
       "\n",
       "#sk-container-id-3 input.sk-hidden--visually {\n",
       "  border: 0;\n",
       "  clip: rect(1px 1px 1px 1px);\n",
       "  clip: rect(1px, 1px, 1px, 1px);\n",
       "  height: 1px;\n",
       "  margin: -1px;\n",
       "  overflow: hidden;\n",
       "  padding: 0;\n",
       "  position: absolute;\n",
       "  width: 1px;\n",
       "}\n",
       "\n",
       "#sk-container-id-3 div.sk-dashed-wrapped {\n",
       "  border: 1px dashed var(--sklearn-color-line);\n",
       "  margin: 0 0.4em 0.5em 0.4em;\n",
       "  box-sizing: border-box;\n",
       "  padding-bottom: 0.4em;\n",
       "  background-color: var(--sklearn-color-background);\n",
       "}\n",
       "\n",
       "#sk-container-id-3 div.sk-container {\n",
       "  /* jupyter's `normalize.less` sets `[hidden] { display: none; }`\n",
       "     but bootstrap.min.css set `[hidden] { display: none !important; }`\n",
       "     so we also need the `!important` here to be able to override the\n",
       "     default hidden behavior on the sphinx rendered scikit-learn.org.\n",
       "     See: https://github.com/scikit-learn/scikit-learn/issues/21755 */\n",
       "  display: inline-block !important;\n",
       "  position: relative;\n",
       "}\n",
       "\n",
       "#sk-container-id-3 div.sk-text-repr-fallback {\n",
       "  display: none;\n",
       "}\n",
       "\n",
       "div.sk-parallel-item,\n",
       "div.sk-serial,\n",
       "div.sk-item {\n",
       "  /* draw centered vertical line to link estimators */\n",
       "  background-image: linear-gradient(var(--sklearn-color-text-on-default-background), var(--sklearn-color-text-on-default-background));\n",
       "  background-size: 2px 100%;\n",
       "  background-repeat: no-repeat;\n",
       "  background-position: center center;\n",
       "}\n",
       "\n",
       "/* Parallel-specific style estimator block */\n",
       "\n",
       "#sk-container-id-3 div.sk-parallel-item::after {\n",
       "  content: \"\";\n",
       "  width: 100%;\n",
       "  border-bottom: 2px solid var(--sklearn-color-text-on-default-background);\n",
       "  flex-grow: 1;\n",
       "}\n",
       "\n",
       "#sk-container-id-3 div.sk-parallel {\n",
       "  display: flex;\n",
       "  align-items: stretch;\n",
       "  justify-content: center;\n",
       "  background-color: var(--sklearn-color-background);\n",
       "  position: relative;\n",
       "}\n",
       "\n",
       "#sk-container-id-3 div.sk-parallel-item {\n",
       "  display: flex;\n",
       "  flex-direction: column;\n",
       "}\n",
       "\n",
       "#sk-container-id-3 div.sk-parallel-item:first-child::after {\n",
       "  align-self: flex-end;\n",
       "  width: 50%;\n",
       "}\n",
       "\n",
       "#sk-container-id-3 div.sk-parallel-item:last-child::after {\n",
       "  align-self: flex-start;\n",
       "  width: 50%;\n",
       "}\n",
       "\n",
       "#sk-container-id-3 div.sk-parallel-item:only-child::after {\n",
       "  width: 0;\n",
       "}\n",
       "\n",
       "/* Serial-specific style estimator block */\n",
       "\n",
       "#sk-container-id-3 div.sk-serial {\n",
       "  display: flex;\n",
       "  flex-direction: column;\n",
       "  align-items: center;\n",
       "  background-color: var(--sklearn-color-background);\n",
       "  padding-right: 1em;\n",
       "  padding-left: 1em;\n",
       "}\n",
       "\n",
       "\n",
       "/* Toggleable style: style used for estimator/Pipeline/ColumnTransformer box that is\n",
       "clickable and can be expanded/collapsed.\n",
       "- Pipeline and ColumnTransformer use this feature and define the default style\n",
       "- Estimators will overwrite some part of the style using the `sk-estimator` class\n",
       "*/\n",
       "\n",
       "/* Pipeline and ColumnTransformer style (default) */\n",
       "\n",
       "#sk-container-id-3 div.sk-toggleable {\n",
       "  /* Default theme specific background. It is overwritten whether we have a\n",
       "  specific estimator or a Pipeline/ColumnTransformer */\n",
       "  background-color: var(--sklearn-color-background);\n",
       "}\n",
       "\n",
       "/* Toggleable label */\n",
       "#sk-container-id-3 label.sk-toggleable__label {\n",
       "  cursor: pointer;\n",
       "  display: block;\n",
       "  width: 100%;\n",
       "  margin-bottom: 0;\n",
       "  padding: 0.5em;\n",
       "  box-sizing: border-box;\n",
       "  text-align: center;\n",
       "}\n",
       "\n",
       "#sk-container-id-3 label.sk-toggleable__label-arrow:before {\n",
       "  /* Arrow on the left of the label */\n",
       "  content: \"▸\";\n",
       "  float: left;\n",
       "  margin-right: 0.25em;\n",
       "  color: var(--sklearn-color-icon);\n",
       "}\n",
       "\n",
       "#sk-container-id-3 label.sk-toggleable__label-arrow:hover:before {\n",
       "  color: var(--sklearn-color-text);\n",
       "}\n",
       "\n",
       "/* Toggleable content - dropdown */\n",
       "\n",
       "#sk-container-id-3 div.sk-toggleable__content {\n",
       "  max-height: 0;\n",
       "  max-width: 0;\n",
       "  overflow: hidden;\n",
       "  text-align: left;\n",
       "  /* unfitted */\n",
       "  background-color: var(--sklearn-color-unfitted-level-0);\n",
       "}\n",
       "\n",
       "#sk-container-id-3 div.sk-toggleable__content.fitted {\n",
       "  /* fitted */\n",
       "  background-color: var(--sklearn-color-fitted-level-0);\n",
       "}\n",
       "\n",
       "#sk-container-id-3 div.sk-toggleable__content pre {\n",
       "  margin: 0.2em;\n",
       "  border-radius: 0.25em;\n",
       "  color: var(--sklearn-color-text);\n",
       "  /* unfitted */\n",
       "  background-color: var(--sklearn-color-unfitted-level-0);\n",
       "}\n",
       "\n",
       "#sk-container-id-3 div.sk-toggleable__content.fitted pre {\n",
       "  /* unfitted */\n",
       "  background-color: var(--sklearn-color-fitted-level-0);\n",
       "}\n",
       "\n",
       "#sk-container-id-3 input.sk-toggleable__control:checked~div.sk-toggleable__content {\n",
       "  /* Expand drop-down */\n",
       "  max-height: 200px;\n",
       "  max-width: 100%;\n",
       "  overflow: auto;\n",
       "}\n",
       "\n",
       "#sk-container-id-3 input.sk-toggleable__control:checked~label.sk-toggleable__label-arrow:before {\n",
       "  content: \"▾\";\n",
       "}\n",
       "\n",
       "/* Pipeline/ColumnTransformer-specific style */\n",
       "\n",
       "#sk-container-id-3 div.sk-label input.sk-toggleable__control:checked~label.sk-toggleable__label {\n",
       "  color: var(--sklearn-color-text);\n",
       "  background-color: var(--sklearn-color-unfitted-level-2);\n",
       "}\n",
       "\n",
       "#sk-container-id-3 div.sk-label.fitted input.sk-toggleable__control:checked~label.sk-toggleable__label {\n",
       "  background-color: var(--sklearn-color-fitted-level-2);\n",
       "}\n",
       "\n",
       "/* Estimator-specific style */\n",
       "\n",
       "/* Colorize estimator box */\n",
       "#sk-container-id-3 div.sk-estimator input.sk-toggleable__control:checked~label.sk-toggleable__label {\n",
       "  /* unfitted */\n",
       "  background-color: var(--sklearn-color-unfitted-level-2);\n",
       "}\n",
       "\n",
       "#sk-container-id-3 div.sk-estimator.fitted input.sk-toggleable__control:checked~label.sk-toggleable__label {\n",
       "  /* fitted */\n",
       "  background-color: var(--sklearn-color-fitted-level-2);\n",
       "}\n",
       "\n",
       "#sk-container-id-3 div.sk-label label.sk-toggleable__label,\n",
       "#sk-container-id-3 div.sk-label label {\n",
       "  /* The background is the default theme color */\n",
       "  color: var(--sklearn-color-text-on-default-background);\n",
       "}\n",
       "\n",
       "/* On hover, darken the color of the background */\n",
       "#sk-container-id-3 div.sk-label:hover label.sk-toggleable__label {\n",
       "  color: var(--sklearn-color-text);\n",
       "  background-color: var(--sklearn-color-unfitted-level-2);\n",
       "}\n",
       "\n",
       "/* Label box, darken color on hover, fitted */\n",
       "#sk-container-id-3 div.sk-label.fitted:hover label.sk-toggleable__label.fitted {\n",
       "  color: var(--sklearn-color-text);\n",
       "  background-color: var(--sklearn-color-fitted-level-2);\n",
       "}\n",
       "\n",
       "/* Estimator label */\n",
       "\n",
       "#sk-container-id-3 div.sk-label label {\n",
       "  font-family: monospace;\n",
       "  font-weight: bold;\n",
       "  display: inline-block;\n",
       "  line-height: 1.2em;\n",
       "}\n",
       "\n",
       "#sk-container-id-3 div.sk-label-container {\n",
       "  text-align: center;\n",
       "}\n",
       "\n",
       "/* Estimator-specific */\n",
       "#sk-container-id-3 div.sk-estimator {\n",
       "  font-family: monospace;\n",
       "  border: 1px dotted var(--sklearn-color-border-box);\n",
       "  border-radius: 0.25em;\n",
       "  box-sizing: border-box;\n",
       "  margin-bottom: 0.5em;\n",
       "  /* unfitted */\n",
       "  background-color: var(--sklearn-color-unfitted-level-0);\n",
       "}\n",
       "\n",
       "#sk-container-id-3 div.sk-estimator.fitted {\n",
       "  /* fitted */\n",
       "  background-color: var(--sklearn-color-fitted-level-0);\n",
       "}\n",
       "\n",
       "/* on hover */\n",
       "#sk-container-id-3 div.sk-estimator:hover {\n",
       "  /* unfitted */\n",
       "  background-color: var(--sklearn-color-unfitted-level-2);\n",
       "}\n",
       "\n",
       "#sk-container-id-3 div.sk-estimator.fitted:hover {\n",
       "  /* fitted */\n",
       "  background-color: var(--sklearn-color-fitted-level-2);\n",
       "}\n",
       "\n",
       "/* Specification for estimator info (e.g. \"i\" and \"?\") */\n",
       "\n",
       "/* Common style for \"i\" and \"?\" */\n",
       "\n",
       ".sk-estimator-doc-link,\n",
       "a:link.sk-estimator-doc-link,\n",
       "a:visited.sk-estimator-doc-link {\n",
       "  float: right;\n",
       "  font-size: smaller;\n",
       "  line-height: 1em;\n",
       "  font-family: monospace;\n",
       "  background-color: var(--sklearn-color-background);\n",
       "  border-radius: 1em;\n",
       "  height: 1em;\n",
       "  width: 1em;\n",
       "  text-decoration: none !important;\n",
       "  margin-left: 1ex;\n",
       "  /* unfitted */\n",
       "  border: var(--sklearn-color-unfitted-level-1) 1pt solid;\n",
       "  color: var(--sklearn-color-unfitted-level-1);\n",
       "}\n",
       "\n",
       ".sk-estimator-doc-link.fitted,\n",
       "a:link.sk-estimator-doc-link.fitted,\n",
       "a:visited.sk-estimator-doc-link.fitted {\n",
       "  /* fitted */\n",
       "  border: var(--sklearn-color-fitted-level-1) 1pt solid;\n",
       "  color: var(--sklearn-color-fitted-level-1);\n",
       "}\n",
       "\n",
       "/* On hover */\n",
       "div.sk-estimator:hover .sk-estimator-doc-link:hover,\n",
       ".sk-estimator-doc-link:hover,\n",
       "div.sk-label-container:hover .sk-estimator-doc-link:hover,\n",
       ".sk-estimator-doc-link:hover {\n",
       "  /* unfitted */\n",
       "  background-color: var(--sklearn-color-unfitted-level-3);\n",
       "  color: var(--sklearn-color-background);\n",
       "  text-decoration: none;\n",
       "}\n",
       "\n",
       "div.sk-estimator.fitted:hover .sk-estimator-doc-link.fitted:hover,\n",
       ".sk-estimator-doc-link.fitted:hover,\n",
       "div.sk-label-container:hover .sk-estimator-doc-link.fitted:hover,\n",
       ".sk-estimator-doc-link.fitted:hover {\n",
       "  /* fitted */\n",
       "  background-color: var(--sklearn-color-fitted-level-3);\n",
       "  color: var(--sklearn-color-background);\n",
       "  text-decoration: none;\n",
       "}\n",
       "\n",
       "/* Span, style for the box shown on hovering the info icon */\n",
       ".sk-estimator-doc-link span {\n",
       "  display: none;\n",
       "  z-index: 9999;\n",
       "  position: relative;\n",
       "  font-weight: normal;\n",
       "  right: .2ex;\n",
       "  padding: .5ex;\n",
       "  margin: .5ex;\n",
       "  width: min-content;\n",
       "  min-width: 20ex;\n",
       "  max-width: 50ex;\n",
       "  color: var(--sklearn-color-text);\n",
       "  box-shadow: 2pt 2pt 4pt #999;\n",
       "  /* unfitted */\n",
       "  background: var(--sklearn-color-unfitted-level-0);\n",
       "  border: .5pt solid var(--sklearn-color-unfitted-level-3);\n",
       "}\n",
       "\n",
       ".sk-estimator-doc-link.fitted span {\n",
       "  /* fitted */\n",
       "  background: var(--sklearn-color-fitted-level-0);\n",
       "  border: var(--sklearn-color-fitted-level-3);\n",
       "}\n",
       "\n",
       ".sk-estimator-doc-link:hover span {\n",
       "  display: block;\n",
       "}\n",
       "\n",
       "/* \"?\"-specific style due to the `<a>` HTML tag */\n",
       "\n",
       "#sk-container-id-3 a.estimator_doc_link {\n",
       "  float: right;\n",
       "  font-size: 1rem;\n",
       "  line-height: 1em;\n",
       "  font-family: monospace;\n",
       "  background-color: var(--sklearn-color-background);\n",
       "  border-radius: 1rem;\n",
       "  height: 1rem;\n",
       "  width: 1rem;\n",
       "  text-decoration: none;\n",
       "  /* unfitted */\n",
       "  color: var(--sklearn-color-unfitted-level-1);\n",
       "  border: var(--sklearn-color-unfitted-level-1) 1pt solid;\n",
       "}\n",
       "\n",
       "#sk-container-id-3 a.estimator_doc_link.fitted {\n",
       "  /* fitted */\n",
       "  border: var(--sklearn-color-fitted-level-1) 1pt solid;\n",
       "  color: var(--sklearn-color-fitted-level-1);\n",
       "}\n",
       "\n",
       "/* On hover */\n",
       "#sk-container-id-3 a.estimator_doc_link:hover {\n",
       "  /* unfitted */\n",
       "  background-color: var(--sklearn-color-unfitted-level-3);\n",
       "  color: var(--sklearn-color-background);\n",
       "  text-decoration: none;\n",
       "}\n",
       "\n",
       "#sk-container-id-3 a.estimator_doc_link.fitted:hover {\n",
       "  /* fitted */\n",
       "  background-color: var(--sklearn-color-fitted-level-3);\n",
       "}\n",
       "</style><div id=\"sk-container-id-3\" class=\"sk-top-container\"><div class=\"sk-text-repr-fallback\"><pre>LogisticRegression(n_jobs=-1)</pre><b>In a Jupyter environment, please rerun this cell to show the HTML representation or trust the notebook. <br />On GitHub, the HTML representation is unable to render, please try loading this page with nbviewer.org.</b></div><div class=\"sk-container\" hidden><div class=\"sk-item\"><div class=\"sk-estimator fitted sk-toggleable\"><input class=\"sk-toggleable__control sk-hidden--visually\" id=\"sk-estimator-id-3\" type=\"checkbox\" checked><label for=\"sk-estimator-id-3\" class=\"sk-toggleable__label fitted sk-toggleable__label-arrow fitted\">&nbsp;&nbsp;LogisticRegression<a class=\"sk-estimator-doc-link fitted\" rel=\"noreferrer\" target=\"_blank\" href=\"https://scikit-learn.org/1.5/modules/generated/sklearn.linear_model.LogisticRegression.html\">?<span>Documentation for LogisticRegression</span></a><span class=\"sk-estimator-doc-link fitted\">i<span>Fitted</span></span></label><div class=\"sk-toggleable__content fitted\"><pre>LogisticRegression(n_jobs=-1)</pre></div> </div></div></div></div>"
      ],
      "text/plain": [
       "LogisticRegression(n_jobs=-1)"
      ]
     },
     "execution_count": 55,
     "metadata": {},
     "output_type": "execute_result"
    }
   ],
   "source": [
    "lr = LogisticRegression(n_jobs=-1)\n",
    "lr.fit(X_train_resample,Y_train_resample)"
   ]
  },
  {
   "cell_type": "code",
   "execution_count": 59,
   "id": "9f2a496a-b4dd-4708-9679-b84619781eb7",
   "metadata": {},
   "outputs": [],
   "source": [
    "train_pred = lr.predict(train_data)\n",
    "test_pred = lr.predict(test_data)"
   ]
  },
  {
   "cell_type": "code",
   "execution_count": 60,
   "id": "0d14e29c-8a3d-46e4-8104-9c2549ef20c8",
   "metadata": {},
   "outputs": [
    {
     "data": {
      "text/html": [
       "<div>\n",
       "<style scoped>\n",
       "    .dataframe tbody tr th:only-of-type {\n",
       "        vertical-align: middle;\n",
       "    }\n",
       "\n",
       "    .dataframe tbody tr th {\n",
       "        vertical-align: top;\n",
       "    }\n",
       "\n",
       "    .dataframe thead th {\n",
       "        text-align: right;\n",
       "    }\n",
       "</style>\n",
       "<table border=\"1\" class=\"dataframe\">\n",
       "  <thead>\n",
       "    <tr style=\"text-align: right;\">\n",
       "      <th></th>\n",
       "      <th>precision</th>\n",
       "      <th>recall</th>\n",
       "      <th>f1</th>\n",
       "      <th>accuracy</th>\n",
       "    </tr>\n",
       "  </thead>\n",
       "  <tbody>\n",
       "    <tr>\n",
       "      <th>0</th>\n",
       "      <td>0.793138</td>\n",
       "      <td>0.855978</td>\n",
       "      <td>0.816512</td>\n",
       "      <td>0.839356</td>\n",
       "    </tr>\n",
       "  </tbody>\n",
       "</table>\n",
       "</div>"
      ],
      "text/plain": [
       "   precision    recall        f1  accuracy\n",
       "0   0.793138  0.855978  0.816512  0.839356"
      ]
     },
     "execution_count": 60,
     "metadata": {},
     "output_type": "execute_result"
    }
   ],
   "source": [
    "train_perf = classification_metrics(y_train.Disorder.values,train_pred,\"macro\")\n",
    "train_perf"
   ]
  },
  {
   "cell_type": "code",
   "execution_count": 61,
   "id": "cb526ac2-2fb1-463f-a8c7-706bb58f92ff",
   "metadata": {},
   "outputs": [
    {
     "data": {
      "text/html": [
       "<div>\n",
       "<style scoped>\n",
       "    .dataframe tbody tr th:only-of-type {\n",
       "        vertical-align: middle;\n",
       "    }\n",
       "\n",
       "    .dataframe tbody tr th {\n",
       "        vertical-align: top;\n",
       "    }\n",
       "\n",
       "    .dataframe thead th {\n",
       "        text-align: right;\n",
       "    }\n",
       "</style>\n",
       "<table border=\"1\" class=\"dataframe\">\n",
       "  <thead>\n",
       "    <tr style=\"text-align: right;\">\n",
       "      <th></th>\n",
       "      <th>precision</th>\n",
       "      <th>recall</th>\n",
       "      <th>f1</th>\n",
       "      <th>accuracy</th>\n",
       "    </tr>\n",
       "  </thead>\n",
       "  <tbody>\n",
       "    <tr>\n",
       "      <th>0</th>\n",
       "      <td>0.573597</td>\n",
       "      <td>0.603582</td>\n",
       "      <td>0.58281</td>\n",
       "      <td>0.631478</td>\n",
       "    </tr>\n",
       "  </tbody>\n",
       "</table>\n",
       "</div>"
      ],
      "text/plain": [
       "   precision    recall       f1  accuracy\n",
       "0   0.573597  0.603582  0.58281  0.631478"
      ]
     },
     "execution_count": 61,
     "metadata": {},
     "output_type": "execute_result"
    }
   ],
   "source": [
    "test_perf = classification_metrics(y_test.Disorder.values,test_pred,\"macro\")\n",
    "test_perf"
   ]
  },
  {
   "cell_type": "code",
   "execution_count": 5,
   "id": "2679a0aa-6fa0-4591-a46e-69e247477a9b",
   "metadata": {},
   "outputs": [],
   "source": [
    "train_models_performance,test_models_performance = build_models(data_bin,\"Disorder\",False,\"macro\")"
   ]
  },
  {
   "cell_type": "code",
   "execution_count": 49,
   "id": "ed6af934-5701-4113-b2b3-4624a721a5a0",
   "metadata": {},
   "outputs": [
    {
     "data": {
      "text/html": [
       "<div>\n",
       "<style scoped>\n",
       "    .dataframe tbody tr th:only-of-type {\n",
       "        vertical-align: middle;\n",
       "    }\n",
       "\n",
       "    .dataframe tbody tr th {\n",
       "        vertical-align: top;\n",
       "    }\n",
       "\n",
       "    .dataframe thead th {\n",
       "        text-align: right;\n",
       "    }\n",
       "</style>\n",
       "<table border=\"1\" class=\"dataframe\">\n",
       "  <thead>\n",
       "    <tr style=\"text-align: right;\">\n",
       "      <th></th>\n",
       "      <th>precision</th>\n",
       "      <th>recall</th>\n",
       "      <th>f1</th>\n",
       "      <th>accuracy</th>\n",
       "      <th>models</th>\n",
       "    </tr>\n",
       "  </thead>\n",
       "  <tbody>\n",
       "    <tr>\n",
       "      <th>0</th>\n",
       "      <td>0.917264</td>\n",
       "      <td>0.768539</td>\n",
       "      <td>0.785324</td>\n",
       "      <td>0.911690</td>\n",
       "      <td>Logistic Regression</td>\n",
       "    </tr>\n",
       "    <tr>\n",
       "      <th>0</th>\n",
       "      <td>0.973276</td>\n",
       "      <td>0.990525</td>\n",
       "      <td>0.981428</td>\n",
       "      <td>0.988550</td>\n",
       "      <td>Random Forest</td>\n",
       "    </tr>\n",
       "    <tr>\n",
       "      <th>0</th>\n",
       "      <td>0.812801</td>\n",
       "      <td>0.747894</td>\n",
       "      <td>0.772973</td>\n",
       "      <td>0.776894</td>\n",
       "      <td>XGBOOST</td>\n",
       "    </tr>\n",
       "    <tr>\n",
       "      <th>0</th>\n",
       "      <td>0.972690</td>\n",
       "      <td>0.990380</td>\n",
       "      <td>0.981032</td>\n",
       "      <td>0.988344</td>\n",
       "      <td>SVM_rbf</td>\n",
       "    </tr>\n",
       "    <tr>\n",
       "      <th>0</th>\n",
       "      <td>0.971651</td>\n",
       "      <td>0.989739</td>\n",
       "      <td>0.980163</td>\n",
       "      <td>0.987521</td>\n",
       "      <td>SVM_linear</td>\n",
       "    </tr>\n",
       "    <tr>\n",
       "      <th>0</th>\n",
       "      <td>0.972680</td>\n",
       "      <td>0.990475</td>\n",
       "      <td>0.981075</td>\n",
       "      <td>0.988413</td>\n",
       "      <td>SVM_poly</td>\n",
       "    </tr>\n",
       "    <tr>\n",
       "      <th>0</th>\n",
       "      <td>0.973162</td>\n",
       "      <td>0.990619</td>\n",
       "      <td>0.981416</td>\n",
       "      <td>0.988550</td>\n",
       "      <td>Decision Tree</td>\n",
       "    </tr>\n",
       "  </tbody>\n",
       "</table>\n",
       "</div>"
      ],
      "text/plain": [
       "   precision    recall        f1  accuracy               models\n",
       "0   0.917264  0.768539  0.785324  0.911690  Logistic Regression\n",
       "0   0.973276  0.990525  0.981428  0.988550        Random Forest\n",
       "0   0.812801  0.747894  0.772973  0.776894              XGBOOST\n",
       "0   0.972690  0.990380  0.981032  0.988344              SVM_rbf\n",
       "0   0.971651  0.989739  0.980163  0.987521           SVM_linear\n",
       "0   0.972680  0.990475  0.981075  0.988413             SVM_poly\n",
       "0   0.973162  0.990619  0.981416  0.988550        Decision Tree"
      ]
     },
     "execution_count": 49,
     "metadata": {},
     "output_type": "execute_result"
    }
   ],
   "source": [
    "train_models_performance"
   ]
  },
  {
   "cell_type": "code",
   "execution_count": 50,
   "id": "330cae14-7e81-4e98-a687-db9d79e8fe6c",
   "metadata": {},
   "outputs": [
    {
     "data": {
      "text/html": [
       "<div>\n",
       "<style scoped>\n",
       "    .dataframe tbody tr th:only-of-type {\n",
       "        vertical-align: middle;\n",
       "    }\n",
       "\n",
       "    .dataframe tbody tr th {\n",
       "        vertical-align: top;\n",
       "    }\n",
       "\n",
       "    .dataframe thead th {\n",
       "        text-align: right;\n",
       "    }\n",
       "</style>\n",
       "<table border=\"1\" class=\"dataframe\">\n",
       "  <thead>\n",
       "    <tr style=\"text-align: right;\">\n",
       "      <th></th>\n",
       "      <th>precision</th>\n",
       "      <th>recall</th>\n",
       "      <th>f1</th>\n",
       "      <th>accuracy</th>\n",
       "      <th>models</th>\n",
       "    </tr>\n",
       "  </thead>\n",
       "  <tbody>\n",
       "    <tr>\n",
       "      <th>0</th>\n",
       "      <td>0.627460</td>\n",
       "      <td>0.508219</td>\n",
       "      <td>0.517719</td>\n",
       "      <td>0.611461</td>\n",
       "      <td>Logistic Regression</td>\n",
       "    </tr>\n",
       "    <tr>\n",
       "      <th>0</th>\n",
       "      <td>0.518713</td>\n",
       "      <td>0.483860</td>\n",
       "      <td>0.490224</td>\n",
       "      <td>0.531396</td>\n",
       "      <td>Random Forest</td>\n",
       "    </tr>\n",
       "    <tr>\n",
       "      <th>0</th>\n",
       "      <td>0.479744</td>\n",
       "      <td>0.481146</td>\n",
       "      <td>0.472485</td>\n",
       "      <td>0.511105</td>\n",
       "      <td>XGBOOST</td>\n",
       "    </tr>\n",
       "    <tr>\n",
       "      <th>0</th>\n",
       "      <td>0.552699</td>\n",
       "      <td>0.520227</td>\n",
       "      <td>0.528173</td>\n",
       "      <td>0.596381</td>\n",
       "      <td>SVM_rbf</td>\n",
       "    </tr>\n",
       "    <tr>\n",
       "      <th>0</th>\n",
       "      <td>0.558227</td>\n",
       "      <td>0.554951</td>\n",
       "      <td>0.554813</td>\n",
       "      <td>0.613655</td>\n",
       "      <td>SVM_linear</td>\n",
       "    </tr>\n",
       "    <tr>\n",
       "      <th>0</th>\n",
       "      <td>0.432614</td>\n",
       "      <td>0.323565</td>\n",
       "      <td>0.337009</td>\n",
       "      <td>0.372361</td>\n",
       "      <td>SVM_poly</td>\n",
       "    </tr>\n",
       "    <tr>\n",
       "      <th>0</th>\n",
       "      <td>0.346612</td>\n",
       "      <td>0.371775</td>\n",
       "      <td>0.340041</td>\n",
       "      <td>0.369070</td>\n",
       "      <td>Decision Tree</td>\n",
       "    </tr>\n",
       "  </tbody>\n",
       "</table>\n",
       "</div>"
      ],
      "text/plain": [
       "   precision    recall        f1  accuracy               models\n",
       "0   0.627460  0.508219  0.517719  0.611461  Logistic Regression\n",
       "0   0.518713  0.483860  0.490224  0.531396        Random Forest\n",
       "0   0.479744  0.481146  0.472485  0.511105              XGBOOST\n",
       "0   0.552699  0.520227  0.528173  0.596381              SVM_rbf\n",
       "0   0.558227  0.554951  0.554813  0.613655           SVM_linear\n",
       "0   0.432614  0.323565  0.337009  0.372361             SVM_poly\n",
       "0   0.346612  0.371775  0.340041  0.369070        Decision Tree"
      ]
     },
     "execution_count": 50,
     "metadata": {},
     "output_type": "execute_result"
    }
   ],
   "source": [
    "test_models_performance"
   ]
  },
  {
   "cell_type": "code",
   "execution_count": null,
   "id": "4b1ed056-1004-4012-be5b-32d4dbb92a69",
   "metadata": {},
   "outputs": [],
   "source": []
  }
 ],
 "metadata": {
  "kernelspec": {
   "display_name": "Python 3 (ipykernel)",
   "language": "python",
   "name": "python3"
  },
  "language_info": {
   "codemirror_mode": {
    "name": "ipython",
    "version": 3
   },
   "file_extension": ".py",
   "mimetype": "text/x-python",
   "name": "python",
   "nbconvert_exporter": "python",
   "pygments_lexer": "ipython3",
   "version": "3.11.9"
  }
 },
 "nbformat": 4,
 "nbformat_minor": 5
}
