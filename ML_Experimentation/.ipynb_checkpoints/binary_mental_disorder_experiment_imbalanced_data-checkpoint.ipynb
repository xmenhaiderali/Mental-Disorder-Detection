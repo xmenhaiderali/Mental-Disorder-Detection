{
 "cells": [
  {
   "cell_type": "code",
   "execution_count": 1,
   "id": "87e21a07-9d57-42e9-a2d9-cea2cbd7342f",
   "metadata": {},
   "outputs": [
    {
     "name": "stderr",
     "output_type": "stream",
     "text": [
      "[nltk_data] Downloading package wordnet to C:\\Users\\Ali\n",
      "[nltk_data]     Haider\\AppData\\Roaming\\nltk_data...\n",
      "[nltk_data]   Package wordnet is already up-to-date!\n",
      "[nltk_data] Downloading package stopwords to C:\\Users\\Ali\n",
      "[nltk_data]     Haider\\AppData\\Roaming\\nltk_data...\n",
      "[nltk_data]   Package stopwords is already up-to-date!\n"
     ]
    },
    {
     "data": {
      "text/plain": [
       "True"
      ]
     },
     "execution_count": 1,
     "metadata": {},
     "output_type": "execute_result"
    }
   ],
   "source": [
    "import pandas as pd\n",
    "import numpy as np\n",
    "from pathlib import Path\n",
    "from tqdm import tqdm\n",
    "import matplotlib.pyplot as plt\n",
    "from textblob import TextBlob\n",
    "import advertools\n",
    "import re\n",
    "import spacy\n",
    "import xgboost\n",
    "from sklearn.feature_extraction.text import TfidfVectorizer\n",
    "from sklearn.model_selection import train_test_split\n",
    "from sklearn.linear_model import LogisticRegression\n",
    "from sklearn.metrics import (classification_report,auc, \n",
    "                            roc_auc_score, precision_score,\n",
    "                            recall_score,f1_score, accuracy_score,roc_curve,auc)\n",
    "from sklearn.ensemble import RandomForestClassifier, AdaBoostClassifier\n",
    "from sklearn.svm import SVC\n",
    "from sklearn.tree import DecisionTreeClassifier\n",
    "from sklearn.naive_bayes import GaussianNB\n",
    "import seaborn as sns\n",
    "# import contextualSpellCheck\n",
    "import nltk\n",
    "import nltk.util\n",
    "from nltk.corpus import stopwords\n",
    "from nltk.stem import WordNetLemmatizer\n",
    "import warnings\n",
    "warnings.filterwarnings(\"ignore\")\n",
    "nltk.download(\"wordnet\")\n",
    "nltk.download(\"stopwords\")"
   ]
  },
  {
   "cell_type": "code",
   "execution_count": 2,
   "id": "f6928cf4-ec7c-4097-9b8e-ed76aaf813e8",
   "metadata": {},
   "outputs": [],
   "source": [
    "data_path = Path.cwd().parent/\"Data\"\n",
    "final_data = pd.DataFrame()"
   ]
  },
  {
   "cell_type": "code",
   "execution_count": 1,
   "id": "c720a4b4-8003-4bba-a324-71da0d42622b",
   "metadata": {},
   "outputs": [],
   "source": [
    "for child in data_path.iterdir():\n",
    "    for child_ch in child.iterdir():\n",
    "        if child_ch.is_dir():\n",
    "            files = list(child_ch.glob(\"**/*.csv\"))\n",
    "            for fls in tqdm(range(len(files))):\n",
    "                df = pd.read_csv(files[fls])\n",
    "        else:\n",
    "            df = pd.read_csv(child_ch)\n",
    "        final_data = pd.concat([df,final_data],axis = 0)"
   ]
  },
  {
   "cell_type": "code",
   "execution_count": null,
   "id": "4806db0c-48fb-4932-8d2a-05c954986b04",
   "metadata": {},
   "outputs": [],
   "source": [
    "pipeline_data = final_data.copy()"
   ]
  },
  {
   "cell_type": "markdown",
   "id": "11c87c5d-119b-4790-8344-1b9d83a534fe",
   "metadata": {},
   "source": [
    "# Data Preprocessing"
   ]
  },
  {
   "cell_type": "code",
   "execution_count": null,
   "id": "a4ae8d3b-8902-4979-a434-6341ea4258fd",
   "metadata": {},
   "outputs": [],
   "source": [
    "final_data.head(1)"
   ]
  },
  {
   "cell_type": "code",
   "execution_count": null,
   "id": "724da0c0-dab7-41cd-baaf-e8bc3382621d",
   "metadata": {},
   "outputs": [],
   "source": [
    "def clean_text(text:str) -> str:\n",
    "    tokens = advertools.word_tokenize(text,phrase_len=1)\n",
    "    emoji_token = advertools.extract_emoji(tokens[0])\n",
    "    emoji_token = emoji_token[\"emoji_text\"]\n",
    "    for tok in range(0,len(emoji_token)):\n",
    "        if emoji_token[tok]:\n",
    "            tokens[0][tok] = \" \".join(emoji_token[tok])\n",
    "    clean_text = \" \".join(tokens[0])\n",
    "    clean_pattern = r\"@\\w+|#\\w+|\\W+|x+|https\\.\\//www\\.(\\w+|\\W+)\\.com|http\\w*|www\\.(\\w+|\\W+)\\.com|user\\w*|\\d+\"\n",
    "    clean_text = re.sub(clean_pattern,\" \",clean_text).strip()\n",
    "    clean_text = re.sub(r\"\\s+\",\" \",clean_text).strip()\n",
    "    return clean_text"
   ]
  },
  {
   "cell_type": "code",
   "execution_count": null,
   "id": "dfd1d22c-815a-4938-8685-0afc1297ae99",
   "metadata": {},
   "outputs": [],
   "source": [
    "def text_lemmatize(text: str) -> str:\n",
    "    lemma = WordNetLemmatizer()\n",
    "    tokens = advertools.word_tokenize(text,phrase_len=1)\n",
    "    text = [lemma.lemmatize(tok) for tok in tokens[0]]\n",
    "    return \" \".join(text)"
   ]
  },
  {
   "cell_type": "code",
   "execution_count": null,
   "id": "4dbfa883-befb-403f-862f-4c8caf70af55",
   "metadata": {},
   "outputs": [],
   "source": [
    "def remove_stopword(text: str) -> str:\n",
    "    tokens = advertools.word_tokenize(text,phrase_len=1)[0]\n",
    "    stop_words = stopwords.words(\"english\")\n",
    "    clean_word = [tok for tok in tokens if tok not in stop_words]\n",
    "    return \" \".join(clean_word)"
   ]
  },
  {
   "cell_type": "markdown",
   "id": "952448f0-9aa8-44c8-9cbc-7cc7a9dd218f",
   "metadata": {},
   "source": [
    "# Vectorization"
   ]
  },
  {
   "cell_type": "code",
   "execution_count": 26,
   "id": "9636e634-0a99-4660-b38e-d5b3d94f6fea",
   "metadata": {},
   "outputs": [],
   "source": [
    "def generate_n_grams(text: str, n: list[int]) -> str:\n",
    "    tokens = advertools.word_tokenize(text,phrase_len=1)[0]\n",
    "    if len(n)<=1:\n",
    "        n_grams = list(nltk.ngrams(tokens,n[0],pad_right=True,right_pad_symbol=\"</s>\"))\n",
    "        bag_ngrams = \" \".join([\"_\".join(c) for c in n_grams])\n",
    "    else:\n",
    "        bag_ngrams = \" \"\n",
    "        for n_gram in range(n[0],n[1]+1):\n",
    "            n_grams = list(nltk.ngrams(tokens,n_gram,pad_right=True,right_pad_symbol=\"</s>\"))\n",
    "            if n_gram==1:       \n",
    "                n_grams = \" \".join([\"\".join(c[0]) for c in n_grams])\n",
    "                bag_ngrams+=n_grams\n",
    "            else:\n",
    "                n_grams = \" \".join([\"_\".join(c) for c in n_grams])\n",
    "                bag_ngrams+=\" \"+n_grams\n",
    "    return bag_ngrams"
   ]
  },
  {
   "cell_type": "code",
   "execution_count": 2,
   "id": "933a0f54-5ca3-41dc-8fb1-e38b46caade8",
   "metadata": {},
   "outputs": [],
   "source": [
    "unigram = generate_n_grams('sally white heart white heart wont forget angel',[1,1])\n",
    "bigrams = generate_n_grams('sally white heart white heart wont forget angel',[2,2])\n",
    "trigrams = generate_n_grams('sally white heart white heart wont forget angel',[3,3])\n",
    "unigram_bigram_trigram = generate_n_grams('sally white heart white heart wont forget angel',[1,3])\n",
    "print('Unigram (U):', unigram)\n",
    "print('\\n')\n",
    "print('Bigram (B):', bigrams)\n",
    "print('\\n')\n",
    "print('Trigram (T):', trigrams)\n",
    "print ('Unigram (U)-Bigram (B)-Trigram (T) (UBT):', unigram_bigram_trigram)"
   ]
  },
  {
   "cell_type": "code",
   "execution_count": null,
   "id": "30a93b6f-c571-47c6-a5c2-8545bf20044c",
   "metadata": {},
   "outputs": [],
   "source": [
    "def tfidf(train: pd.DataFrame, test:pd.DataFrame()):\n",
    "    tf_idf = TfidfVectorizer()\n",
    "    train_feat = tf_idf.fit_transform(train)\n",
    "    test_feat = tf_idf.transform(test)\n",
    "    return train_feat,test_feat"
   ]
  },
  {
   "cell_type": "markdown",
   "id": "3f4497c0-1e7a-46cd-97da-caa8bfcab4bb",
   "metadata": {},
   "source": [
    "# ML Models"
   ]
  },
  {
   "cell_type": "code",
   "execution_count": null,
   "id": "37b5564a-396e-4e58-ab02-2f6238815dcc",
   "metadata": {
    "scrolled": true
   },
   "outputs": [],
   "source": [
    "def classification_metrics(actuals: np.array, preds: np.array) -> pd.DataFrame:\n",
    "    metrics_performance = pd.DataFrame()\n",
    "    precision_0 = precision_score(actuals,preds, pos_label=0)\n",
    "    precision_1 = precision_score(actuals,preds, pos_label=1)\n",
    "    recall_0 = recall_score(actuals,preds,pos_label=0)\n",
    "    recall_1 = recall_score(actuals,preds,pos_label=1)\n",
    "    f1_0 = f1_score(actuals,preds,pos_label=0)\n",
    "    f1_1 = f1_score(actuals,preds,pos_label=1)\n",
    "    accuracy = accuracy_score(actuals,preds)\n",
    "    metrics_performance[\"precision_0\"] = [precision_0]\n",
    "    metrics_performance[\"precision_1\"] = [precision_1]\n",
    "    metrics_performance[\"recall_0\"] = [recall_0]\n",
    "    metrics_performance[\"recall_1\"] = [recall_1]\n",
    "    metrics_performance[\"f1_0\"] = [f1_0]\n",
    "    metrics_performance[\"f1_1\"] = [f1_1]\n",
    "    metrics_performance[\"accuracy\"] = [accuracy]\n",
    "    return metrics_performance"
   ]
  },
  {
   "cell_type": "code",
   "execution_count": null,
   "id": "4a4ce247-bb2e-4b1b-a453-4c0c240d4fda",
   "metadata": {},
   "outputs": [],
   "source": [
    "def build_models(preprocessed_data: pd.DataFrame, \n",
    "                 label: str, \n",
    "                 weights: bool,\n",
    "                ) -> tuple[pd.DataFrame,pd.DataFrame]:\n",
    "    X = preprocessed_data[[\"text_features\"]]\n",
    "    y = preprocessed_data[[label]]\n",
    "    X_train,X_test,y_train,y_test = train_test_split(X,y,test_size=0.2,\n",
    "                                                 stratify=y,random_state=42)\n",
    "    metrics_performance = pd.DataFrame()\n",
    "    train_data,test_data = tfidf(X_train[\"text_features\"],X_test[\"text_features\"])\n",
    "    print(\"logistic regression started\")\n",
    "    log_reg = LogisticRegression(n_jobs=-1)\n",
    "    log_reg.fit(train_data,y_train)\n",
    "    y_pred = log_reg.predict(test_data)\n",
    "    train_pred = log_reg.predict(train_data)\n",
    "    log_reg_perf = classification_metrics(np.squeeze(y_test.values),y_pred)\n",
    "    log_reg_perf[\"models\"] = \"Logistic Regression\"\n",
    "    log_train_perf = classification_metrics(np.squeeze(y_train.values),train_pred)\n",
    "    log_train_perf[\"models\"] = \"Logistic Regression\"\n",
    "    if weights:\n",
    "        w_1 = len(X_train)/(2*y_train.value_counts()[1])\n",
    "        w_0 = len(X_train)/(2*y_train.value_counts()[0])\n",
    "        class_weights = {0:w_0,1:w_1}\n",
    "        print(\"Weighted model initialized\")\n",
    "        rand_clf = RandomForestClassifier(n_jobs=-1,class_weight=class_weights)\n",
    "        svm_clf_rbf = SVC(class_weight=class_weights)\n",
    "        svm_clf_lr = SVC(class_weight=class_weights,kernel=\"linear\")\n",
    "        svm_clf_poly = SVC(class_weight=class_weights,kernel=\"poly\",degree=3)\n",
    "        dt_clf = DecisionTreeClassifier(class_weight=class_weights)\n",
    "    else:\n",
    "        print(\"Non-Weighted model initialized\")\n",
    "        rand_clf = RandomForestClassifier(n_jobs=-1)\n",
    "        svm_clf_rbf = SVC()\n",
    "        svm_clf_lr = SVC(kernel=\"linear\")\n",
    "        svm_clf_poly = SVC(kernel=\"poly\",degree=3)\n",
    "        dt_clf = DecisionTreeClassifier()\n",
    "    print(\"Random Forest started\")\n",
    "    rand_clf.fit(train_data,y_train)\n",
    "    y_pred = rand_clf.predict(test_data)\n",
    "    rand_forest_perf = classification_metrics(np.squeeze(y_test.values),y_pred)\n",
    "    rand_forest_perf[\"models\"] = \"Random Forest\"\n",
    "    train_pred = rand_clf.predict(train_data)\n",
    "    rand_train_perf = classification_metrics(np.squeeze(y_train.values),train_pred)\n",
    "    rand_train_perf[\"models\"] = \"Random Forest\"\n",
    "    xgb_clf = xgboost.XGBClassifier(learning_rate = 1, \n",
    "                                 n_estimators=100,\n",
    "                                 max_depth=3,\n",
    "                                 min_child_weight=1,\n",
    "                                 gamma=0,\n",
    "                                 subsample=1.0,\n",
    "                                 reg_alpha = 0,\n",
    "                                 reg_lambda = 1,\n",
    "                                 objective= 'binary:logistic',\n",
    "                                 booster = \"gbtree\")\n",
    "    print(\"XGBOOST started\")\n",
    "    xgb_clf.fit(train_data,y_train)\n",
    "    y_pred = xgb_clf.predict(test_data)\n",
    "    xgb_perf = classification_metrics(np.squeeze(y_test.values),y_pred)\n",
    "    xgb_perf[\"models\"] = \"XGBOOST\"\n",
    "    train_pred = xgb_clf.predict(train_data)\n",
    "    xgb_train_perf = classification_metrics(np.squeeze(y_train.values),train_pred)\n",
    "    xgb_train_perf[\"models\"] = \"XGBOOST\"\n",
    "    print(\"SVM rbf started\")\n",
    "    svm_clf_rbf.fit(train_data,y_train)\n",
    "    y_pred = svm_clf_rbf.predict(test_data)\n",
    "    svm_rbf_perf = classification_metrics(np.squeeze(y_test.values),y_pred)\n",
    "    svm_rbf_perf[\"models\"] = \"SVM_rbf\"\n",
    "    train_pred = svm_clf_rbf.predict(train_data)\n",
    "    svm_rbf_train_perf = classification_metrics(np.squeeze(y_train.values),train_pred)\n",
    "    svm_rbf_train_perf[\"models\"] = \"SVM_rbf\"\n",
    "    print(\"SVM linear started\")\n",
    "    svm_clf_lr.fit(train_data,y_train)\n",
    "    y_pred = svm_clf_lr.predict(test_data)\n",
    "    svm_lr_perf = classification_metrics(np.squeeze(y_test.values),y_pred)\n",
    "    svm_lr_perf[\"models\"] = \"SVM_linear\"\n",
    "    train_pred = svm_clf_lr.predict(train_data)\n",
    "    svm_lr_train_perf = classification_metrics(np.squeeze(y_train.values),train_pred)\n",
    "    svm_lr_train_perf[\"models\"] = \"SVM_linear\"\n",
    "    print(\"SVM poly started\")\n",
    "    svm_clf_poly.fit(train_data,y_train)\n",
    "    y_pred = svm_clf_poly.predict(test_data)\n",
    "    svm_poly_perf = classification_metrics(np.squeeze(y_test.values),y_pred)\n",
    "    svm_poly_perf[\"models\"] = \"SVM_poly\"\n",
    "    train_pred= svm_clf_poly.predict(train_data)\n",
    "    svm_poly_train_perf = classification_metrics(np.squeeze(y_train.values),train_pred)\n",
    "    svm_poly_train_perf[\"models\"] = \"SVM_poly\"\n",
    "    print(\"Decision Tree started\")\n",
    "    dt_clf.fit(train_data,y_train)\n",
    "    y_pred = dt_clf.predict(test_data)\n",
    "    dt_clf_perf = classification_metrics(np.squeeze(y_test.values),y_pred)\n",
    "    dt_clf_perf[\"models\"] = \"Decision Tree\"\n",
    "    train_pred = dt_clf.predict(train_data)\n",
    "    dt_clf_train_perf = classification_metrics(np.squeeze(y_train.values),train_pred)\n",
    "    dt_clf_train_perf[\"models\"] = \"Decision Tree\"\n",
    "    train_performance_table = pd.concat([log_train_perf,rand_train_perf,\n",
    "                                   xgb_train_perf,svm_rbf_train_perf,svm_lr_train_perf,\n",
    "                                  svm_poly_train_perf,dt_clf_train_perf],axis=0)\n",
    "    test_performance_table = pd.concat([log_reg_perf,rand_forest_perf,\n",
    "                                   xgb_perf,svm_rbf_perf,svm_lr_perf,\n",
    "                                  svm_poly_perf,dt_clf_perf],axis=0)\n",
    "    #performance_table.to_csv(filename,index=False)\n",
    "    return train_performance_table,test_performance_table"
   ]
  },
  {
   "cell_type": "markdown",
   "id": "47bbc3e3-596e-495d-9824-832875ce00b2",
   "metadata": {},
   "source": [
    "## EDA"
   ]
  },
  {
   "cell_type": "code",
   "execution_count": null,
   "id": "92ac973c-6956-46df-ba38-8b3143872608",
   "metadata": {},
   "outputs": [],
   "source": [
    "# final_data = pd.read_csv(\"control_data.csv\")\n",
    "# final_data.rename(columns={\"Disorder\":\"class\"}, inplace=True)"
   ]
  },
  {
   "cell_type": "code",
   "execution_count": null,
   "id": "e63f7c2a-c946-4df9-b406-53f3f874d750",
   "metadata": {},
   "outputs": [],
   "source": [
    "final_data[\"class\"].unique()"
   ]
  },
  {
   "cell_type": "code",
   "execution_count": null,
   "id": "7a011acd-06a6-4d7f-b847-6d561607aa04",
   "metadata": {},
   "outputs": [],
   "source": [
    "final_data = final_data[~(final_data[\"tweet\"].isnull())]\n",
    "final_data.isnull().sum()"
   ]
  },
  {
   "cell_type": "code",
   "execution_count": null,
   "id": "2ffcde00-c0b0-44d8-8920-b7227733a72c",
   "metadata": {},
   "outputs": [],
   "source": [
    "final_data = final_data[[\"class\",\"tweet\"]]\n",
    "final_data.rename(columns={\"class\":\"Disorder\"}, inplace=True)\n",
    "final_data.head()"
   ]
  },
  {
   "cell_type": "code",
   "execution_count": 87,
   "id": "6614cbe1-a2ec-4a37-a446-f0af0fea5ba0",
   "metadata": {},
   "outputs": [
    {
     "data": {
      "text/plain": [
       "Disorder\n",
       "ADHD               3034\n",
       "SCHIZOPHRENIA      2970\n",
       "OCD                2905\n",
       "ANXIETY            2729\n",
       "CONTROL            2532\n",
       "PTSD               2466\n",
       "DEPRESSION         2161\n",
       "AUTISM             1425\n",
       "EATING DISORDER     403\n",
       "BIPOLAR             244\n",
       "Name: count, dtype: int64"
      ]
     },
     "execution_count": 87,
     "metadata": {},
     "output_type": "execute_result"
    }
   ],
   "source": [
    "final_data['Disorder'].value_counts()"
   ]
  },
  {
   "cell_type": "code",
   "execution_count": 88,
   "id": "112b204c-f35a-4a56-aa93-5b12e5ea9e11",
   "metadata": {},
   "outputs": [
    {
     "data": {
      "image/png": "[encoded data removed]",
      "text/plain": [
       "<Figure size 640x480 with 1 Axes>"
      ]
     },
     "metadata": {},
     "output_type": "display_data"
    }
   ],
   "source": [
    "final_data['Disorder'].value_counts().plot(kind=\"bar\")\n",
    "plt.title(\"Mental Disorder Distribution\")\n",
    "plt.xlabel(\"Mental Disorder\")\n",
    "plt.ylabel(\"Frequency\")\n",
    "plt.show()"
   ]
  },
  {
   "cell_type": "code",
   "execution_count": 89,
   "id": "9493a1e6-6b80-4f4c-bb75-a6029eb66541",
   "metadata": {},
   "outputs": [],
   "source": [
    "data_preprocess = final_data.copy()\n",
    "data_preprocess[\"tweet\"] = data_preprocess[\"tweet\"].apply(clean_text)\n",
    "data_preprocess[\"tweet\"] = data_preprocess[\"tweet\"].apply(text_lemmatize)\n",
    "data_preprocess[\"tweet\"] = data_preprocess[\"tweet\"].apply(remove_stopword)\n",
    "data_preprocess.to_csv(\"data_preprocess.csv\",index=False)"
   ]
  },
  {
   "cell_type": "code",
   "execution_count": 90,
   "id": "361d83c3-5737-4c9f-bdba-874c9c9af81c",
   "metadata": {},
   "outputs": [
    {
     "data": {
      "text/html": [
       "<div>\n",
       "<style scoped>\n",
       "    .dataframe tbody tr th:only-of-type {\n",
       "        vertical-align: middle;\n",
       "    }\n",
       "\n",
       "    .dataframe tbody tr th {\n",
       "        vertical-align: top;\n",
       "    }\n",
       "\n",
       "    .dataframe thead th {\n",
       "        text-align: right;\n",
       "    }\n",
       "</style>\n",
       "<table border=\"1\" class=\"dataframe\">\n",
       "  <thead>\n",
       "    <tr style=\"text-align: right;\">\n",
       "      <th></th>\n",
       "      <th>Disorder</th>\n",
       "      <th>tweet</th>\n",
       "      <th>word_count</th>\n",
       "    </tr>\n",
       "  </thead>\n",
       "  <tbody>\n",
       "    <tr>\n",
       "      <th>0</th>\n",
       "      <td>SCHIZOPHRENIA</td>\n",
       "      <td>sally white heart white heart wont forget angel</td>\n",
       "      <td>8</td>\n",
       "    </tr>\n",
       "    <tr>\n",
       "      <th>1</th>\n",
       "      <td>SCHIZOPHRENIA</td>\n",
       "      <td>personally life split two everything psychosis...</td>\n",
       "      <td>27</td>\n",
       "    </tr>\n",
       "    <tr>\n",
       "      <th>2</th>\n",
       "      <td>SCHIZOPHRENIA</td>\n",
       "      <td>envisage sufferance look surfacing ridiculous ...</td>\n",
       "      <td>24</td>\n",
       "    </tr>\n",
       "    <tr>\n",
       "      <th>3</th>\n",
       "      <td>SCHIZOPHRENIA</td>\n",
       "      <td>take responsibility</td>\n",
       "      <td>2</td>\n",
       "    </tr>\n",
       "    <tr>\n",
       "      <th>4</th>\n",
       "      <td>SCHIZOPHRENIA</td>\n",
       "      <td>im sorry angry want slap psychologist wet mop ...</td>\n",
       "      <td>20</td>\n",
       "    </tr>\n",
       "  </tbody>\n",
       "</table>\n",
       "</div>"
      ],
      "text/plain": [
       "        Disorder                                              tweet  \\\n",
       "0  SCHIZOPHRENIA    sally white heart white heart wont forget angel   \n",
       "1  SCHIZOPHRENIA  personally life split two everything psychosis...   \n",
       "2  SCHIZOPHRENIA  envisage sufferance look surfacing ridiculous ...   \n",
       "3  SCHIZOPHRENIA                                take responsibility   \n",
       "4  SCHIZOPHRENIA  im sorry angry want slap psychologist wet mop ...   \n",
       "\n",
       "   word_count  \n",
       "0           8  \n",
       "1          27  \n",
       "2          24  \n",
       "3           2  \n",
       "4          20  "
      ]
     },
     "execution_count": 90,
     "metadata": {},
     "output_type": "execute_result"
    }
   ],
   "source": [
    "data_preprocess = data_preprocess[data_preprocess[\"tweet\"]!=\"\"]\n",
    "data_preprocess[\"word_count\"] = data_preprocess['tweet'].apply(lambda text:len(text.split()))\n",
    "data_preprocess.head()"
   ]
  },
  {
   "cell_type": "code",
   "execution_count": 91,
   "id": "2224d4e5-9204-40bb-a5b5-c3f46f02ec9b",
   "metadata": {},
   "outputs": [
    {
     "data": {
      "image/png": "[encoded data removed]",
      "text/plain": [
       "<Figure size 640x480 with 1 Axes>"
      ]
     },
     "metadata": {},
     "output_type": "display_data"
    }
   ],
   "source": [
    "sns.kdeplot(data=data_preprocess,x=\"word_count\",hue=\"Disorder\",multiple=\"stack\")\n",
    "plt.title(\"Probability Density plot\")\n",
    "plt.show()"
   ]
  },
  {
   "cell_type": "code",
   "execution_count": 92,
   "id": "ff568e39-af08-451b-87e0-21ec1bf18587",
   "metadata": {},
   "outputs": [
    {
     "data": {
      "image/png": "[encoded data removed]",
      "text/plain": [
       "<Figure size 640x480 with 1 Axes>"
      ]
     },
     "metadata": {},
     "output_type": "display_data"
    }
   ],
   "source": [
    "data_preprocess['Disorder'].value_counts().plot(kind=\"bar\")\n",
    "plt.title(\"Mental Disorder Distribution\")\n",
    "plt.xlabel(\"Mental Disorder\")\n",
    "plt.ylabel(\"Frequency\")\n",
    "plt.show()"
   ]
  },
  {
   "cell_type": "markdown",
   "id": "acd45124-8acd-437a-a345-654b2089aad2",
   "metadata": {},
   "source": [
    "# Pipeline"
   ]
  },
  {
   "cell_type": "code",
   "execution_count": null,
   "id": "b92ae273-09ce-457a-8b15-b2241bb0ae0c",
   "metadata": {},
   "outputs": [],
   "source": [
    "def data_preprocess_pipeline(data_preprocess: pd.DataFrame,\n",
    "                             ngram_range: list,\n",
    "                            filename: str,\n",
    "                            ) -> pd.DataFrame:\n",
    "    data_preprocess = data_preprocess[~(data_preprocess[\"tweet\"].isnull())]\n",
    "    data_preprocess = data_preprocess[[\"class\",\"tweet\"]]\n",
    "    data_preprocess.rename(columns={\"class\":\"Disorder\"}, inplace=True)\n",
    "    data_preprocess[\"tweet\"] = data_preprocess[\"tweet\"].apply(clean_text)\n",
    "    data_preprocess[\"tweet\"] = data_preprocess[\"tweet\"].apply(text_lemmatize)\n",
    "    data_preprocess[\"tweet\"] = data_preprocess[\"tweet\"].apply(remove_stopword)\n",
    "    data_preprocess = data_preprocess[data_preprocess[\"tweet\"]!=\"\"]\n",
    "    data_preprocess[\"text_features\"] = data_preprocess[\"tweet\"].apply(lambda text: \n",
    "                                                                      generate_n_grams(text,n=ngram_range))\n",
    "    print(\"saving preprocessed data\")\n",
    "    data_preprocess.to_csv(filename,index=False)\n",
    "    print(\"data saved\")\n",
    "    return data_preprocess"
   ]
  },
  {
   "cell_type": "markdown",
   "id": "d57a50b3-be09-4e58-b50c-a4d38e450fd6",
   "metadata": {},
   "source": [
    "# Imbalaned Dataset training"
   ]
  },
  {
   "cell_type": "code",
   "execution_count": null,
   "id": "83bb0659-74ce-47b5-ae20-4c4ecc4eeaaf",
   "metadata": {},
   "outputs": [],
   "source": [
    "pipeline_data.head()"
   ]
  },
  {
   "cell_type": "code",
   "execution_count": null,
   "id": "e224662b-dce2-40a6-b846-a20f7c82a351",
   "metadata": {},
   "outputs": [],
   "source": [
    "ngram_range = [1,3]\n",
    "data_preprocess = data_preprocess_pipeline(pipeline_data,\n",
    "                                           ngram_range=ngram_range,\n",
    "                                           filename=\"imbalanced_data_preprocess.csv\",\n",
    "                                           )\n",
    "data_preprocess.head()"
   ]
  },
  {
   "cell_type": "code",
   "execution_count": 3,
   "id": "b0ff9c9c-dc9f-41bc-9562-0c78b1e46faf",
   "metadata": {},
   "outputs": [],
   "source": [
    "data_bin = data_preprocess[[\"text_features\",\"Disorder\"]]\n",
    "diagnosed_group = data_bin[data_bin[\"Disorder\"]!=\"CONTROL\"]\n",
    "diagnosed_group[\"Disorder\"] = \"DIAGNOSED\"\n",
    "control_group = data_bin[data_bin[\"Disorder\"]==\"CONTROL\"]\n",
    "data_bin = pd.concat([diagnosed_group,control_group],axis=0)\n",
    "encode_target = {\"DIAGNOSED\":1,\n",
    "                \"CONTROL\":0}\n",
    "data_bin[\"Disorder\"] = data_bin[\"Disorder\"].map(encode_target)\n",
    "data_bin.head()"
   ]
  },
  {
   "cell_type": "code",
   "execution_count": 43,
   "id": "8c77f750-e5fc-4c85-bd5b-9e1cc3213e99",
   "metadata": {},
   "outputs": [
    {
     "data": {
      "text/plain": [
       "Disorder\n",
       "1    18232\n",
       "0     2526\n",
       "Name: count, dtype: int64"
      ]
     },
     "execution_count": 43,
     "metadata": {},
     "output_type": "execute_result"
    }
   ],
   "source": [
    "data_bin['Disorder'].value_counts()"
   ]
  },
  {
   "cell_type": "code",
   "execution_count": 44,
   "id": "2679a0aa-6fa0-4591-a46e-69e247477a9b",
   "metadata": {},
   "outputs": [
    {
     "name": "stdout",
     "output_type": "stream",
     "text": [
      "logistic regression started\n",
      "Weighted model initialized\n",
      "Random Forest started\n",
      "XGBOOST started\n",
      "SVM rbf started\n",
      "SVM linear started\n",
      "SVM poly started\n",
      "Decision Tree started\n"
     ]
    }
   ],
   "source": [
    "# models_performance = build_models(data_bin,\"Disorder\",True,\"model_performance_imbalanced_data_ubt.csv\")\n",
    "train_model_performance,test_model_performance = build_models(data_bin,\"Disorder\",True)"
   ]
  },
  {
   "cell_type": "code",
   "execution_count": 45,
   "id": "a4746b3f-2a89-4682-9b94-284366eacd06",
   "metadata": {},
   "outputs": [],
   "source": [
    "# models_performance"
   ]
  },
  {
   "cell_type": "code",
   "execution_count": 46,
   "id": "366ea049-edc2-43f0-b2e2-8771452fb04b",
   "metadata": {},
   "outputs": [
    {
     "data": {
      "text/html": [
       "<div>\n",
       "<style scoped>\n",
       "    .dataframe tbody tr th:only-of-type {\n",
       "        vertical-align: middle;\n",
       "    }\n",
       "\n",
       "    .dataframe tbody tr th {\n",
       "        vertical-align: top;\n",
       "    }\n",
       "\n",
       "    .dataframe thead th {\n",
       "        text-align: right;\n",
       "    }\n",
       "</style>\n",
       "<table border=\"1\" class=\"dataframe\">\n",
       "  <thead>\n",
       "    <tr style=\"text-align: right;\">\n",
       "      <th></th>\n",
       "      <th>precision_0</th>\n",
       "      <th>precision_1</th>\n",
       "      <th>recall_0</th>\n",
       "      <th>recall_1</th>\n",
       "      <th>f1_0</th>\n",
       "      <th>f1_1</th>\n",
       "      <th>accuracy</th>\n",
       "      <th>models</th>\n",
       "    </tr>\n",
       "  </thead>\n",
       "  <tbody>\n",
       "    <tr>\n",
       "      <th>0</th>\n",
       "      <td>1.000000</td>\n",
       "      <td>0.896656</td>\n",
       "      <td>0.168234</td>\n",
       "      <td>1.000000</td>\n",
       "      <td>0.288014</td>\n",
       "      <td>0.945512</td>\n",
       "      <td>0.898772</td>\n",
       "      <td>Logistic Regression</td>\n",
       "    </tr>\n",
       "    <tr>\n",
       "      <th>0</th>\n",
       "      <td>0.991638</td>\n",
       "      <td>0.999657</td>\n",
       "      <td>0.997526</td>\n",
       "      <td>0.998834</td>\n",
       "      <td>0.994573</td>\n",
       "      <td>0.999245</td>\n",
       "      <td>0.998675</td>\n",
       "      <td>Random Forest</td>\n",
       "    </tr>\n",
       "    <tr>\n",
       "      <th>0</th>\n",
       "      <td>0.907813</td>\n",
       "      <td>0.943951</td>\n",
       "      <td>0.574963</td>\n",
       "      <td>0.991909</td>\n",
       "      <td>0.704029</td>\n",
       "      <td>0.967336</td>\n",
       "      <td>0.941166</td>\n",
       "      <td>XGBOOST</td>\n",
       "    </tr>\n",
       "    <tr>\n",
       "      <th>0</th>\n",
       "      <td>0.974867</td>\n",
       "      <td>0.999725</td>\n",
       "      <td>0.998021</td>\n",
       "      <td>0.996435</td>\n",
       "      <td>0.986308</td>\n",
       "      <td>0.998077</td>\n",
       "      <td>0.996628</td>\n",
       "      <td>SVM_rbf</td>\n",
       "    </tr>\n",
       "    <tr>\n",
       "      <th>0</th>\n",
       "      <td>0.959048</td>\n",
       "      <td>0.999517</td>\n",
       "      <td>0.996536</td>\n",
       "      <td>0.994104</td>\n",
       "      <td>0.977433</td>\n",
       "      <td>0.996803</td>\n",
       "      <td>0.994400</td>\n",
       "      <td>SVM_linear</td>\n",
       "    </tr>\n",
       "    <tr>\n",
       "      <th>0</th>\n",
       "      <td>0.982490</td>\n",
       "      <td>0.999931</td>\n",
       "      <td>0.999505</td>\n",
       "      <td>0.997532</td>\n",
       "      <td>0.990925</td>\n",
       "      <td>0.998730</td>\n",
       "      <td>0.997772</td>\n",
       "      <td>SVM_poly</td>\n",
       "    </tr>\n",
       "    <tr>\n",
       "      <th>0</th>\n",
       "      <td>0.982977</td>\n",
       "      <td>1.000000</td>\n",
       "      <td>1.000000</td>\n",
       "      <td>0.997600</td>\n",
       "      <td>0.991415</td>\n",
       "      <td>0.998799</td>\n",
       "      <td>0.997892</td>\n",
       "      <td>Decision Tree</td>\n",
       "    </tr>\n",
       "  </tbody>\n",
       "</table>\n",
       "</div>"
      ],
      "text/plain": [
       "   precision_0  precision_1  recall_0  recall_1      f1_0      f1_1  accuracy  \\\n",
       "0     1.000000     0.896656  0.168234  1.000000  0.288014  0.945512  0.898772   \n",
       "0     0.991638     0.999657  0.997526  0.998834  0.994573  0.999245  0.998675   \n",
       "0     0.907813     0.943951  0.574963  0.991909  0.704029  0.967336  0.941166   \n",
       "0     0.974867     0.999725  0.998021  0.996435  0.986308  0.998077  0.996628   \n",
       "0     0.959048     0.999517  0.996536  0.994104  0.977433  0.996803  0.994400   \n",
       "0     0.982490     0.999931  0.999505  0.997532  0.990925  0.998730  0.997772   \n",
       "0     0.982977     1.000000  1.000000  0.997600  0.991415  0.998799  0.997892   \n",
       "\n",
       "                models  \n",
       "0  Logistic Regression  \n",
       "0        Random Forest  \n",
       "0              XGBOOST  \n",
       "0              SVM_rbf  \n",
       "0           SVM_linear  \n",
       "0             SVM_poly  \n",
       "0        Decision Tree  "
      ]
     },
     "execution_count": 46,
     "metadata": {},
     "output_type": "execute_result"
    }
   ],
   "source": [
    "train_model_performance"
   ]
  },
  {
   "cell_type": "code",
   "execution_count": 47,
   "id": "d2f1fd60-3f4a-4c43-b82d-3d107a2c2835",
   "metadata": {},
   "outputs": [
    {
     "data": {
      "text/html": [
       "<div>\n",
       "<style scoped>\n",
       "    .dataframe tbody tr th:only-of-type {\n",
       "        vertical-align: middle;\n",
       "    }\n",
       "\n",
       "    .dataframe tbody tr th {\n",
       "        vertical-align: top;\n",
       "    }\n",
       "\n",
       "    .dataframe thead th {\n",
       "        text-align: right;\n",
       "    }\n",
       "</style>\n",
       "<table border=\"1\" class=\"dataframe\">\n",
       "  <thead>\n",
       "    <tr style=\"text-align: right;\">\n",
       "      <th></th>\n",
       "      <th>precision_0</th>\n",
       "      <th>precision_1</th>\n",
       "      <th>recall_0</th>\n",
       "      <th>recall_1</th>\n",
       "      <th>f1_0</th>\n",
       "      <th>f1_1</th>\n",
       "      <th>accuracy</th>\n",
       "      <th>models</th>\n",
       "    </tr>\n",
       "  </thead>\n",
       "  <tbody>\n",
       "    <tr>\n",
       "      <th>0</th>\n",
       "      <td>0.894309</td>\n",
       "      <td>0.901961</td>\n",
       "      <td>0.217822</td>\n",
       "      <td>0.996435</td>\n",
       "      <td>0.350318</td>\n",
       "      <td>0.946847</td>\n",
       "      <td>0.901734</td>\n",
       "      <td>Logistic Regression</td>\n",
       "    </tr>\n",
       "    <tr>\n",
       "      <th>0</th>\n",
       "      <td>0.859031</td>\n",
       "      <td>0.921019</td>\n",
       "      <td>0.386139</td>\n",
       "      <td>0.991226</td>\n",
       "      <td>0.532787</td>\n",
       "      <td>0.954834</td>\n",
       "      <td>0.917630</td>\n",
       "      <td>Random Forest</td>\n",
       "    </tr>\n",
       "    <tr>\n",
       "      <th>0</th>\n",
       "      <td>0.608374</td>\n",
       "      <td>0.931127</td>\n",
       "      <td>0.489109</td>\n",
       "      <td>0.956403</td>\n",
       "      <td>0.542261</td>\n",
       "      <td>0.943595</td>\n",
       "      <td>0.899566</td>\n",
       "      <td>XGBOOST</td>\n",
       "    </tr>\n",
       "    <tr>\n",
       "      <th>0</th>\n",
       "      <td>0.801724</td>\n",
       "      <td>0.940589</td>\n",
       "      <td>0.552475</td>\n",
       "      <td>0.981080</td>\n",
       "      <td>0.654162</td>\n",
       "      <td>0.960408</td>\n",
       "      <td>0.928950</td>\n",
       "      <td>SVM_rbf</td>\n",
       "    </tr>\n",
       "    <tr>\n",
       "      <th>0</th>\n",
       "      <td>0.807522</td>\n",
       "      <td>0.962162</td>\n",
       "      <td>0.722772</td>\n",
       "      <td>0.976145</td>\n",
       "      <td>0.762800</td>\n",
       "      <td>0.969103</td>\n",
       "      <td>0.945328</td>\n",
       "      <td>SVM_linear</td>\n",
       "    </tr>\n",
       "    <tr>\n",
       "      <th>0</th>\n",
       "      <td>0.655629</td>\n",
       "      <td>0.898525</td>\n",
       "      <td>0.196040</td>\n",
       "      <td>0.985742</td>\n",
       "      <td>0.301829</td>\n",
       "      <td>0.940115</td>\n",
       "      <td>0.889692</td>\n",
       "      <td>SVM_poly</td>\n",
       "    </tr>\n",
       "    <tr>\n",
       "      <th>0</th>\n",
       "      <td>0.437819</td>\n",
       "      <td>0.930435</td>\n",
       "      <td>0.508911</td>\n",
       "      <td>0.909515</td>\n",
       "      <td>0.470696</td>\n",
       "      <td>0.919856</td>\n",
       "      <td>0.860790</td>\n",
       "      <td>Decision Tree</td>\n",
       "    </tr>\n",
       "  </tbody>\n",
       "</table>\n",
       "</div>"
      ],
      "text/plain": [
       "   precision_0  precision_1  recall_0  recall_1      f1_0      f1_1  accuracy  \\\n",
       "0     0.894309     0.901961  0.217822  0.996435  0.350318  0.946847  0.901734   \n",
       "0     0.859031     0.921019  0.386139  0.991226  0.532787  0.954834  0.917630   \n",
       "0     0.608374     0.931127  0.489109  0.956403  0.542261  0.943595  0.899566   \n",
       "0     0.801724     0.940589  0.552475  0.981080  0.654162  0.960408  0.928950   \n",
       "0     0.807522     0.962162  0.722772  0.976145  0.762800  0.969103  0.945328   \n",
       "0     0.655629     0.898525  0.196040  0.985742  0.301829  0.940115  0.889692   \n",
       "0     0.437819     0.930435  0.508911  0.909515  0.470696  0.919856  0.860790   \n",
       "\n",
       "                models  \n",
       "0  Logistic Regression  \n",
       "0        Random Forest  \n",
       "0              XGBOOST  \n",
       "0              SVM_rbf  \n",
       "0           SVM_linear  \n",
       "0             SVM_poly  \n",
       "0        Decision Tree  "
      ]
     },
     "execution_count": 47,
     "metadata": {},
     "output_type": "execute_result"
    }
   ],
   "source": [
    "test_model_performance"
   ]
  },
  {
   "cell_type": "code",
   "execution_count": 30,
   "id": "9f52ebe8-baf0-4052-9e96-c5f40e537565",
   "metadata": {},
   "outputs": [],
   "source": [
    "def fpr_tpr(preprocessed_data: pd.DataFrame, \n",
    "                 label: str, \n",
    "                 weights: bool,\n",
    "                 ):\n",
    "    X = preprocessed_data[[\"text_features\"]]\n",
    "    y = preprocessed_data[[label]]\n",
    "    X_train,X_test,y_train,y_test = train_test_split(X,y,test_size=0.2,\n",
    "                                                 stratify=y,random_state=42)\n",
    "    metrics_performance = pd.DataFrame()\n",
    "    train_data,test_data = tfidf(X_train[\"text_features\"],X_test[\"text_features\"])\n",
    "    w_1 = len(X_train)/(2*y_train.value_counts()[1])\n",
    "    w_0 = len(X_train)/(2*y_train.value_counts()[0])\n",
    "    class_weights = {0:w_0,1:w_1}\n",
    "    svm_clf_lr = SVC(class_weight=class_weights,kernel=\"linear\",probability=True)\n",
    "    svm_clf_lr.fit(train_data,y_train)\n",
    "    y_pred = svm_clf_lr.predict_proba(test_data)[:,1]\n",
    "    fpr, tpr, _ = roc_curve(y_test, y_pred)\n",
    "    return fpr,tpr"
   ]
  },
  {
   "cell_type": "code",
   "execution_count": 31,
   "id": "297cbd0c-fa5f-4c05-9cea-64e26a9d6405",
   "metadata": {},
   "outputs": [],
   "source": [
    "fpr,tpr = fpr_tpr(data_bin,\"Disorder\",True)"
   ]
  },
  {
   "cell_type": "code",
   "execution_count": 36,
   "id": "1951093d-44fc-4d2b-a9a8-b4e6d79e885c",
   "metadata": {},
   "outputs": [
    {
     "data": {
      "text/plain": [
       "0.9471074828897752"
      ]
     },
     "execution_count": 36,
     "metadata": {},
     "output_type": "execute_result"
    }
   ],
   "source": [
    "auc_score = auc(fpr,tpr)\n",
    "auc_score"
   ]
  },
  {
   "cell_type": "code",
   "execution_count": 37,
   "id": "a20f2ecf-194e-45cc-8791-89571a55d6e1",
   "metadata": {},
   "outputs": [
    {
     "data": {
      "image/png": "[encoded data removed]",
      "text/plain": [
       "<Figure size 640x480 with 1 Axes>"
      ]
     },
     "metadata": {},
     "output_type": "display_data"
    }
   ],
   "source": [
    "#Plot roc curves\n",
    "plt.plot(fpr, tpr, linestyle='--',color='blue', label=f\"SVM_Linear_Unigram_ \\n auc_score: {auc_score}\")\n",
    "#title\n",
    "plt.title('ROC curve')\n",
    "#x-label\n",
    "plt.xlabel('False Positive Rate')\n",
    "#y-label\n",
    "plt.ylabel('True Positive rate')\n",
    " \n",
    "plt.legend(loc='best')\n",
    "plt.savefig('ROC',dpi=300)\n",
    "plt.show()"
   ]
  },
  {
   "cell_type": "code",
   "execution_count": null,
   "id": "25f0196a-de0f-4201-a0be-eccee630cd22",
   "metadata": {},
   "outputs": [],
   "source": []
  },
  {
   "cell_type": "code",
   "execution_count": null,
   "id": "df3609be-0add-42f1-8d1f-15c591137151",
   "metadata": {},
   "outputs": [],
   "source": []
  }
 ],
 "metadata": {
  "kernelspec": {
   "display_name": "Python 3 (ipykernel)",
   "language": "python",
   "name": "python3"
  },
  "language_info": {
   "codemirror_mode": {
    "name": "ipython",
    "version": 3
   },
   "file_extension": ".py",
   "mimetype": "text/x-python",
   "name": "python",
   "nbconvert_exporter": "python",
   "pygments_lexer": "ipython3",
   "version": "3.11.9"
  }
 },
 "nbformat": 4,
 "nbformat_minor": 5
}
