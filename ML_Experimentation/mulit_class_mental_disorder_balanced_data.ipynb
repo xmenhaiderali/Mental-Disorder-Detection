{
 "cells": [
  {
   "cell_type": "code",
   "execution_count": 1,
   "id": "87e21a07-9d57-42e9-a2d9-cea2cbd7342f",
   "metadata": {},
   "outputs": [
    {
     "name": "stderr",
     "output_type": "stream",
     "text": [
      "[nltk_data] Downloading package wordnet to C:\\Users\\Ali\n",
      "[nltk_data]     Haider\\AppData\\Roaming\\nltk_data...\n",
      "[nltk_data]   Package wordnet is already up-to-date!\n",
      "[nltk_data] Downloading package stopwords to C:\\Users\\Ali\n",
      "[nltk_data]     Haider\\AppData\\Roaming\\nltk_data...\n",
      "[nltk_data]   Package stopwords is already up-to-date!\n"
     ]
    },
    {
     "data": {
      "text/plain": [
       "True"
      ]
     },
     "execution_count": 1,
     "metadata": {},
     "output_type": "execute_result"
    }
   ],
   "source": [
    "import pandas as pd\n",
    "import numpy as np\n",
    "from pathlib import Path\n",
    "from tqdm import tqdm\n",
    "import matplotlib.pyplot as plt\n",
    "from textblob import TextBlob\n",
    "import advertools\n",
    "import re\n",
    "import spacy\n",
    "import xgboost\n",
    "from sklearn.feature_extraction.text import TfidfVectorizer\n",
    "from sklearn.model_selection import train_test_split\n",
    "from sklearn.linear_model import LogisticRegression\n",
    "from sklearn.metrics import (classification_report,auc, \n",
    "                            roc_auc_score, precision_score,\n",
    "                            recall_score,f1_score, accuracy_score)\n",
    "from sklearn.ensemble import RandomForestClassifier, AdaBoostClassifier\n",
    "from sklearn.svm import SVC\n",
    "from sklearn.tree import DecisionTreeClassifier\n",
    "from sklearn.naive_bayes import GaussianNB\n",
    "import seaborn as sns\n",
    "# import contextualSpellCheck\n",
    "import nltk\n",
    "import nltk.util\n",
    "from nltk.corpus import stopwords\n",
    "from nltk.stem import WordNetLemmatizer\n",
    "import warnings\n",
    "warnings.filterwarnings(\"ignore\")\n",
    "nltk.download(\"wordnet\")\n",
    "nltk.download(\"stopwords\")"
   ]
  },
  {
   "cell_type": "code",
   "execution_count": 1,
   "id": "e3cb71ff-7095-496a-95a2-911ec69e4282",
   "metadata": {},
   "outputs": [],
   "source": [
    "final_data = pd.read_csv(\"multi_class_data_balanced.csv\")\n",
    "final_data.rename(columns={\"Disorder\":\"class\"}, inplace=True)\n",
    "final_data.head(1)"
   ]
  },
  {
   "cell_type": "code",
   "execution_count": 3,
   "id": "4806db0c-48fb-4932-8d2a-05c954986b04",
   "metadata": {},
   "outputs": [],
   "source": [
    "final_data = final_data[final_data[\"class\"]!=\"CONTROL\"]\n",
    "pipeline_data = final_data.copy()"
   ]
  },
  {
   "cell_type": "markdown",
   "id": "11c87c5d-119b-4790-8344-1b9d83a534fe",
   "metadata": {},
   "source": [
    "# Data Preprocessing"
   ]
  },
  {
   "cell_type": "code",
   "execution_count": 5,
   "id": "a4ae8d3b-8902-4979-a434-6341ea4258fd",
   "metadata": {},
   "outputs": [
    {
     "data": {
      "text/html": [
       "<div>\n",
       "<style scoped>\n",
       "    .dataframe tbody tr th:only-of-type {\n",
       "        vertical-align: middle;\n",
       "    }\n",
       "\n",
       "    .dataframe tbody tr th {\n",
       "        vertical-align: top;\n",
       "    }\n",
       "\n",
       "    .dataframe thead th {\n",
       "        text-align: right;\n",
       "    }\n",
       "</style>\n",
       "<table border=\"1\" class=\"dataframe\">\n",
       "  <thead>\n",
       "    <tr style=\"text-align: right;\">\n",
       "      <th></th>\n",
       "      <th>class</th>\n",
       "      <th>tweet</th>\n",
       "    </tr>\n",
       "  </thead>\n",
       "  <tbody>\n",
       "    <tr>\n",
       "      <th>0</th>\n",
       "      <td>EATING DISORDER</td>\n",
       "      <td>\"Running always worked for improving my mood. ...</td>\n",
       "    </tr>\n",
       "  </tbody>\n",
       "</table>\n",
       "</div>"
      ],
      "text/plain": [
       "             class                                              tweet\n",
       "0  EATING DISORDER  \"Running always worked for improving my mood. ..."
      ]
     },
     "execution_count": 5,
     "metadata": {},
     "output_type": "execute_result"
    }
   ],
   "source": [
    "final_data.head(1)"
   ]
  },
  {
   "cell_type": "code",
   "execution_count": 6,
   "id": "724da0c0-dab7-41cd-baaf-e8bc3382621d",
   "metadata": {},
   "outputs": [],
   "source": [
    "def clean_text(text:str) -> str:\n",
    "    tokens = advertools.word_tokenize(text,phrase_len=1)\n",
    "    emoji_token = advertools.extract_emoji(tokens[0])\n",
    "    emoji_token = emoji_token[\"emoji_text\"]\n",
    "    for tok in range(0,len(emoji_token)):\n",
    "        if emoji_token[tok]:\n",
    "            tokens[0][tok] = \" \".join(emoji_token[tok])\n",
    "    clean_text = \" \".join(tokens[0])\n",
    "    clean_pattern = r\"@\\w+|#\\w+|\\W+|x+|https\\.\\//www\\.(\\w+|\\W+)\\.com|http\\w*|www\\.(\\w+|\\W+)\\.com|user\\w*|\\d+\"\n",
    "    clean_text = re.sub(clean_pattern,\" \",clean_text).strip()\n",
    "    clean_text = re.sub(r\"\\s+\",\" \",clean_text).strip()\n",
    "    return clean_text"
   ]
  },
  {
   "cell_type": "code",
   "execution_count": 7,
   "id": "dfd1d22c-815a-4938-8685-0afc1297ae99",
   "metadata": {},
   "outputs": [],
   "source": [
    "def text_lemmatize(text: str) -> str:\n",
    "    lemma = WordNetLemmatizer()\n",
    "    tokens = advertools.word_tokenize(text,phrase_len=1)\n",
    "    text = [lemma.lemmatize(tok) for tok in tokens[0]]\n",
    "    return \" \".join(text)"
   ]
  },
  {
   "cell_type": "code",
   "execution_count": 8,
   "id": "6fd6338c-b672-45ed-831a-471f8a3edb96",
   "metadata": {},
   "outputs": [],
   "source": [
    "def spell_check(text:str) -> str:\n",
    "    nlp = spacy.load(\"en_core_web_sm\")\n",
    "    nlp.add_pipe(\"contextual spellchecker\")\n",
    "    doc = nlp(text)\n",
    "    return doc._.outcome_spellCheck"
   ]
  },
  {
   "cell_type": "code",
   "execution_count": 9,
   "id": "4dbfa883-befb-403f-862f-4c8caf70af55",
   "metadata": {},
   "outputs": [],
   "source": [
    "def remove_stopword(text: str) -> str:\n",
    "    tokens = advertools.word_tokenize(text,phrase_len=1)[0]\n",
    "    stop_words = stopwords.words(\"english\")\n",
    "    clean_word = [tok for tok in tokens if tok not in stop_words]\n",
    "    return \" \".join(clean_word)"
   ]
  },
  {
   "cell_type": "markdown",
   "id": "952448f0-9aa8-44c8-9cbc-7cc7a9dd218f",
   "metadata": {},
   "source": [
    "# Vectorization"
   ]
  },
  {
   "cell_type": "code",
   "execution_count": 10,
   "id": "9636e634-0a99-4660-b38e-d5b3d94f6fea",
   "metadata": {},
   "outputs": [],
   "source": [
    "def generate_n_grams(text: str, n: list[int]) -> list[tuple]:\n",
    "    tokens = advertools.word_tokenize(text,phrase_len=1)[0]\n",
    "    if len(n)<=1:\n",
    "        n_grams = list(nltk.ngrams(tokens,n[0],pad_right=True,right_pad_symbol=\"</s>\"))\n",
    "        bag_ngrams = \" \".join([\"_\".join(c) for c in n_grams])\n",
    "    else:\n",
    "        bag_ngrams = \" \"\n",
    "        for n_gram in range(n[0],n[1]+1):\n",
    "            n_grams = list(nltk.ngrams(tokens,n_gram,pad_right=True,right_pad_symbol=\"</s>\"))\n",
    "            if n_gram==1:       \n",
    "                n_grams = \" \".join([\"\".join(c[0]) for c in n_grams])\n",
    "                bag_ngrams+=n_grams\n",
    "            else:\n",
    "                n_grams = \" \".join([\"_\".join(c) for c in n_grams])\n",
    "                bag_ngrams+=\" \"+n_grams\n",
    "    return bag_ngrams"
   ]
  },
  {
   "cell_type": "code",
   "execution_count": 11,
   "id": "30a93b6f-c571-47c6-a5c2-8545bf20044c",
   "metadata": {},
   "outputs": [],
   "source": [
    "def tfidf(train: pd.DataFrame, test:pd.DataFrame()):\n",
    "    tf_idf = TfidfVectorizer()\n",
    "    train_feat = tf_idf.fit_transform(train)\n",
    "    test_feat = tf_idf.transform(test)\n",
    "    return train_feat,test_feat"
   ]
  },
  {
   "cell_type": "markdown",
   "id": "3f4497c0-1e7a-46cd-97da-caa8bfcab4bb",
   "metadata": {},
   "source": [
    "# ML Models"
   ]
  },
  {
   "cell_type": "code",
   "execution_count": 12,
   "id": "37b5564a-396e-4e58-ab02-2f6238815dcc",
   "metadata": {
    "scrolled": true
   },
   "outputs": [],
   "source": [
    "def classification_metrics(actuals: np.array, preds: np.array, average:\"binary\") -> pd.DataFrame:\n",
    "    metrics_performance = pd.DataFrame()\n",
    "    precision = precision_score(actuals,preds,average=average)\n",
    "    recall = recall_score(actuals,preds,average=average)\n",
    "    f1 = f1_score(actuals,preds,average=average)\n",
    "    accuracy = accuracy_score(actuals,preds)\n",
    "    metrics_performance[\"precision\"] = [precision]\n",
    "    metrics_performance[\"recall\"] = [recall]\n",
    "    metrics_performance[\"f1\"] = [f1]\n",
    "    metrics_performance[\"accuracy\"] = [accuracy]\n",
    "    return metrics_performance"
   ]
  },
  {
   "cell_type": "code",
   "execution_count": 13,
   "id": "cbcd84a5-b4e4-4a89-ad97-63df009d7bd7",
   "metadata": {},
   "outputs": [],
   "source": [
    "def build_models(preprocessed_data: pd.DataFrame, \n",
    "                 label: str, \n",
    "                 weights: bool,\n",
    "                 average:\"binary\",\n",
    "                ) -> tuple[pd.DataFrame,pd.DataFrame]:\n",
    "                 # filename: str) -> pd.DataFrame:\n",
    "    X = preprocessed_data[[\"text_features\"]]\n",
    "    y = preprocessed_data[[label]]\n",
    "    X_train,X_test,y_train,y_test = train_test_split(X,y,test_size=0.2,\n",
    "                                                 stratify=y,random_state=42)\n",
    "    metrics_performance = pd.DataFrame()\n",
    "    train_data,test_data = tfidf(X_train[\"text_features\"],X_test[\"text_features\"])\n",
    "    print(\"logistic regression started\")\n",
    "    log_reg = LogisticRegression(n_jobs=-1)\n",
    "    log_reg.fit(train_data,y_train)\n",
    "    y_pred = log_reg.predict(test_data)\n",
    "    log_reg_perf = classification_metrics(np.squeeze(y_test.values),y_pred,average)\n",
    "    log_reg_perf[\"models\"] = \"Logistic Regression\"\n",
    "    train_pred = log_reg.predict(train_data)\n",
    "    log_train_perf = classification_metrics(np.squeeze(y_train.values),train_pred,average)\n",
    "    log_train_perf[\"models\"] = \"Logistic Regression\"\n",
    "    if weights:\n",
    "        index = y_train.value_counts().index.tolist()\n",
    "        weight = dict(zip([idx[0] for idx in index],y_train.value_counts().values))\n",
    "        class_weights = dict()\n",
    "        class_weights = {index: len(X_train)/(2*values) for index,values in weight.items()}\n",
    "        print(\"Weighted model initialized\")\n",
    "        rand_clf = RandomForestClassifier(n_jobs=-1,class_weight=class_weights)\n",
    "        svm_clf_rbf = SVC(class_weight=class_weights)\n",
    "        svm_clf_lr = SVC(class_weight=class_weights,kernel=\"linear\")\n",
    "        svm_clf_poly = SVC(class_weight=class_weights,kernel=\"poly\",degree=3)\n",
    "        dt_clf = DecisionTreeClassifier(class_weight=class_weights)\n",
    "    else:\n",
    "        print(\"Non-Weighted model initialized\")\n",
    "        rand_clf = RandomForestClassifier(n_jobs=-1)\n",
    "        svm_clf_rbf = SVC()\n",
    "        svm_clf_lr = SVC(kernel=\"linear\")\n",
    "        svm_clf_poly = SVC(kernel=\"poly\",degree=3)\n",
    "        dt_clf = DecisionTreeClassifier()\n",
    "    print(\"Random Forest started\")\n",
    "    rand_clf.fit(train_data,y_train)\n",
    "    y_pred = rand_clf.predict(test_data)\n",
    "    rand_forest_perf = classification_metrics(np.squeeze(y_test.values),y_pred,average)\n",
    "    rand_forest_perf[\"models\"] = \"Random Forest\"\n",
    "    train_pred = rand_clf.predict(train_data)\n",
    "    rand_train_perf = classification_metrics(np.squeeze(y_train.values),train_pred,average)\n",
    "    rand_train_perf[\"models\"] = \"Random Forest\"\n",
    "    xgb_clf = xgboost.XGBClassifier(learning_rate = 1, \n",
    "                                 n_estimators=100,\n",
    "                                 max_depth=3,\n",
    "                                 min_child_weight=1,\n",
    "                                 gamma=0,\n",
    "                                 subsample=1.0,\n",
    "                                 reg_alpha = 0,\n",
    "                                 reg_lambda = 1,\n",
    "                                 objective= 'binary:logistic',\n",
    "                                 booster = \"gbtree\")\n",
    "    print(\"XGBOOST started\")\n",
    "    xgb_clf.fit(train_data,y_train)\n",
    "    y_pred = xgb_clf.predict(test_data)\n",
    "    xgb_perf = classification_metrics(np.squeeze(y_test.values),y_pred,average)\n",
    "    xgb_perf[\"models\"] = \"XGBOOST\"\n",
    "    train_pred = xgb_clf.predict(train_data)\n",
    "    xgb_train_perf = classification_metrics(np.squeeze(y_train.values),train_pred,average)\n",
    "    xgb_train_perf[\"models\"] = \"XGBOOST\"\n",
    "    print(\"SVM rbf started\")\n",
    "    svm_clf_rbf.fit(train_data,y_train)\n",
    "    y_pred = svm_clf_rbf.predict(test_data)\n",
    "    svm_rbf_perf = classification_metrics(np.squeeze(y_test.values),y_pred,average)\n",
    "    svm_rbf_perf[\"models\"] = \"SVM_rbf\"\n",
    "    train_pred = svm_clf_rbf.predict(train_data)\n",
    "    svm_rbf_train_perf = classification_metrics(np.squeeze(y_train.values),train_pred,average)\n",
    "    svm_rbf_train_perf[\"models\"] = \"SVM_rbf\"\n",
    "    print(\"SVM linear started\")\n",
    "    svm_clf_lr.fit(train_data,y_train)\n",
    "    y_pred = svm_clf_lr.predict(test_data)\n",
    "    svm_lr_perf = classification_metrics(np.squeeze(y_test.values),y_pred,average)\n",
    "    svm_lr_perf[\"models\"] = \"SVM_linear\"\n",
    "    train_pred = svm_clf_lr.predict(train_data)\n",
    "    svm_lr_train_perf = classification_metrics(np.squeeze(y_train.values),train_pred,average)\n",
    "    svm_lr_train_perf[\"models\"] = \"SVM_linear\"\n",
    "    print(\"SVM poly started\")\n",
    "    svm_clf_poly.fit(train_data,y_train)\n",
    "    y_pred = svm_clf_poly.predict(test_data)\n",
    "    svm_poly_perf = classification_metrics(np.squeeze(y_test.values),y_pred,average)\n",
    "    svm_poly_perf[\"models\"] = \"SVM_poly\"\n",
    "    train_pred= svm_clf_poly.predict(train_data)\n",
    "    svm_poly_train_perf = classification_metrics(np.squeeze(y_train.values),train_pred,average)\n",
    "    svm_poly_train_perf[\"models\"] = \"SVM_poly\"\n",
    "    print(\"Decision Tree started\")\n",
    "    dt_clf.fit(train_data,y_train)\n",
    "    y_pred = dt_clf.predict(test_data)\n",
    "    dt_clf_perf = classification_metrics(np.squeeze(y_test.values),y_pred,average)\n",
    "    dt_clf_perf[\"models\"] = \"Decision Tree\"\n",
    "    train_pred = dt_clf.predict(train_data)\n",
    "    dt_clf_train_perf = classification_metrics(np.squeeze(y_train.values),train_pred,average)\n",
    "    dt_clf_train_perf[\"models\"] = \"Decision Tree\"\n",
    "    train_performance_table = pd.concat([log_train_perf,rand_train_perf,\n",
    "                                   xgb_train_perf,svm_rbf_train_perf,svm_lr_train_perf,\n",
    "                                  svm_poly_train_perf,dt_clf_train_perf],axis=0)\n",
    "    test_performance_table = pd.concat([log_reg_perf,rand_forest_perf,\n",
    "                                   xgb_perf,svm_rbf_perf,svm_lr_perf,\n",
    "                                  svm_poly_perf,dt_clf_perf],axis=0)\n",
    "    # performance_table.to_csv(filename,index=False)\n",
    "    return train_performance_table,test_performance_table"
   ]
  },
  {
   "cell_type": "markdown",
   "id": "47bbc3e3-596e-495d-9824-832875ce00b2",
   "metadata": {},
   "source": [
    "## EDA"
   ]
  },
  {
   "cell_type": "code",
   "execution_count": 103,
   "id": "0f08351a-0455-40d0-a0be-af3977f82b2f",
   "metadata": {},
   "outputs": [],
   "source": [
    "final_data.rename(columns={\"class\":\"Disorder\"}, inplace=True)"
   ]
  },
  {
   "cell_type": "code",
   "execution_count": 104,
   "id": "e63f7c2a-c946-4df9-b406-53f3f874d750",
   "metadata": {},
   "outputs": [
    {
     "data": {
      "text/plain": [
       "array(['EATING DISORDER', 'OCD', 'PTSD', 'BIPOLAR', 'ADHD', 'ANXIETY',\n",
       "       'DEPRESSION', 'AUTISM', 'SCHIZOPHRENIA'], dtype=object)"
      ]
     },
     "execution_count": 104,
     "metadata": {},
     "output_type": "execute_result"
    }
   ],
   "source": [
    "final_data[\"Disorder\"].unique()"
   ]
  },
  {
   "cell_type": "code",
   "execution_count": 105,
   "id": "7a011acd-06a6-4d7f-b847-6d561607aa04",
   "metadata": {},
   "outputs": [
    {
     "data": {
      "text/plain": [
       "Disorder    0\n",
       "tweet       0\n",
       "dtype: int64"
      ]
     },
     "execution_count": 105,
     "metadata": {},
     "output_type": "execute_result"
    }
   ],
   "source": [
    "final_data = final_data[~(final_data[\"tweet\"].isnull())]\n",
    "final_data.isnull().sum()"
   ]
  },
  {
   "cell_type": "code",
   "execution_count": 106,
   "id": "6614cbe1-a2ec-4a37-a446-f0af0fea5ba0",
   "metadata": {},
   "outputs": [
    {
     "data": {
      "text/plain": [
       "Disorder\n",
       "EATING DISORDER    5285\n",
       "BIPOLAR            5188\n",
       "SCHIZOPHRENIA      4970\n",
       "PTSD               4944\n",
       "AUTISM             4883\n",
       "OCD                4860\n",
       "ADHD               4823\n",
       "DEPRESSION         4823\n",
       "ANXIETY            4717\n",
       "Name: count, dtype: int64"
      ]
     },
     "execution_count": 106,
     "metadata": {},
     "output_type": "execute_result"
    }
   ],
   "source": [
    "final_data['Disorder'].value_counts()"
   ]
  },
  {
   "cell_type": "code",
   "execution_count": 107,
   "id": "112b204c-f35a-4a56-aa93-5b12e5ea9e11",
   "metadata": {},
   "outputs": [
    {
     "data": {
      "image/png": "[encoded data removed]",
      "text/plain": [
       "<Figure size 640x480 with 1 Axes>"
      ]
     },
     "metadata": {},
     "output_type": "display_data"
    }
   ],
   "source": [
    "final_data['Disorder'].value_counts().plot(kind=\"bar\")\n",
    "plt.title(\"Mental Disorder Distribution\")\n",
    "plt.xlabel(\"Mental Disorder\")\n",
    "plt.ylabel(\"Frequency\")\n",
    "plt.show()"
   ]
  },
  {
   "cell_type": "code",
   "execution_count": 108,
   "id": "9493a1e6-6b80-4f4c-bb75-a6029eb66541",
   "metadata": {},
   "outputs": [],
   "source": [
    "data_preprocess = final_data.copy()\n",
    "data_preprocess[\"tweet\"] = data_preprocess[\"tweet\"].apply(clean_text)\n",
    "data_preprocess[\"tweet\"] = data_preprocess[\"tweet\"].apply(text_lemmatize)\n",
    "data_preprocess[\"tweet\"] = data_preprocess[\"tweet\"].apply(remove_stopword)\n",
    "data_preprocess.to_csv(\"multi_class_balanced_data_preprocess.csv\",index=False)"
   ]
  },
  {
   "cell_type": "code",
   "execution_count": 2,
   "id": "361d83c3-5737-4c9f-bdba-874c9c9af81c",
   "metadata": {},
   "outputs": [],
   "source": [
    "data_preprocess = data_preprocess[data_preprocess[\"tweet\"]!=\"\"]\n",
    "data_preprocess[\"word_count\"] = data_preprocess['tweet'].apply(lambda text:len(text.split()))\n",
    "data_preprocess.head()"
   ]
  },
  {
   "cell_type": "code",
   "execution_count": 110,
   "id": "2224d4e5-9204-40bb-a5b5-c3f46f02ec9b",
   "metadata": {},
   "outputs": [
    {
     "data": {
      "image/png": "[encoded data removed]",
      "text/plain": [
       "<Figure size 640x480 with 1 Axes>"
      ]
     },
     "metadata": {},
     "output_type": "display_data"
    }
   ],
   "source": [
    "sns.kdeplot(data=data_preprocess,x=\"word_count\",hue=\"Disorder\",multiple=\"stack\")\n",
    "plt.title(\"Probability Density plot\")\n",
    "plt.show()"
   ]
  },
  {
   "cell_type": "code",
   "execution_count": 111,
   "id": "ff568e39-af08-451b-87e0-21ec1bf18587",
   "metadata": {},
   "outputs": [
    {
     "data": {
      "image/png": "[encoded data removed]",
      "text/plain": [
       "<Figure size 640x480 with 1 Axes>"
      ]
     },
     "metadata": {},
     "output_type": "display_data"
    }
   ],
   "source": [
    "data_preprocess['Disorder'].value_counts().plot(kind=\"bar\")\n",
    "plt.title(\"Mental Disorder Distribution\")\n",
    "plt.xlabel(\"Mental Disorder\")\n",
    "plt.ylabel(\"Frequency\")\n",
    "plt.show()"
   ]
  },
  {
   "cell_type": "markdown",
   "id": "acd45124-8acd-437a-a345-654b2089aad2",
   "metadata": {},
   "source": [
    "# Pipeline"
   ]
  },
  {
   "cell_type": "code",
   "execution_count": 15,
   "id": "b92ae273-09ce-457a-8b15-b2241bb0ae0c",
   "metadata": {},
   "outputs": [],
   "source": [
    "def data_preprocess_pipeline(data_preprocess: pd.DataFrame,\n",
    "                             ngram_range: list,\n",
    "                            filename: str,\n",
    "                            ) -> pd.DataFrame:\n",
    "    data_preprocess = data_preprocess[~(data_preprocess[\"tweet\"].isnull())]\n",
    "    data_preprocess = data_preprocess[[\"class\",\"tweet\"]]\n",
    "    data_preprocess.rename(columns={\"class\":\"Disorder\"}, inplace=True)\n",
    "    data_preprocess[\"tweet\"] = data_preprocess[\"tweet\"].apply(clean_text)\n",
    "    data_preprocess[\"tweet\"] = data_preprocess[\"tweet\"].apply(text_lemmatize)\n",
    "    data_preprocess[\"tweet\"] = data_preprocess[\"tweet\"].apply(remove_stopword)\n",
    "    data_preprocess = data_preprocess[data_preprocess[\"tweet\"]!=\"\"]\n",
    "    data_preprocess[\"text_features\"] = data_preprocess[\"tweet\"].apply(lambda text: \n",
    "                                                                      generate_n_grams(text,n=ngram_range))\n",
    "    print(\"saving preprocessed data\")\n",
    "    data_preprocess.to_csv(filename,index=False)\n",
    "    print(\"data saved\")\n",
    "    return data_preprocess"
   ]
  },
  {
   "cell_type": "markdown",
   "id": "d57a50b3-be09-4e58-b50c-a4d38e450fd6",
   "metadata": {},
   "source": [
    "# balanced Dataset training"
   ]
  },
  {
   "cell_type": "code",
   "execution_count": 5,
   "id": "e224662b-dce2-40a6-b846-a20f7c82a351",
   "metadata": {},
   "outputs": [],
   "source": [
    "ngram_range = [1,3]\n",
    "data_preprocess = data_preprocess_pipeline(pipeline_data,\n",
    "                                           ngram_range=ngram_range,\n",
    "                                           filename=\"multi_class_balanced_data_preprocess.csv\")\n",
    "data_preprocess.head()"
   ]
  },
  {
   "cell_type": "code",
   "execution_count": 6,
   "id": "b0ff9c9c-dc9f-41bc-9562-0c78b1e46faf",
   "metadata": {},
   "outputs": [],
   "source": [
    "data_bin = data_preprocess[[\"text_features\",\"Disorder\"]]\n",
    "encode_target = dict(zip(data_bin[\"Disorder\"].unique(),np.arange(0,data_bin[\"Disorder\"].nunique(),dtype=int)))\n",
    "data_bin[\"Disorder\"] = data_bin[\"Disorder\"].map(encode_target)\n",
    "data_bin[\"Disorder\"]=data_bin[\"Disorder\"].map(int)\n",
    "data_bin.head()"
   ]
  },
  {
   "cell_type": "code",
   "execution_count": 25,
   "id": "8c77f750-e5fc-4c85-bd5b-9e1cc3213e99",
   "metadata": {},
   "outputs": [
    {
     "data": {
      "text/plain": [
       "Disorder\n",
       "0    5283\n",
       "3    5186\n",
       "8    4959\n",
       "2    4936\n",
       "7    4860\n",
       "1    4843\n",
       "4    4806\n",
       "6    4805\n",
       "5    4707\n",
       "Name: count, dtype: int64"
      ]
     },
     "execution_count": 25,
     "metadata": {},
     "output_type": "execute_result"
    }
   ],
   "source": [
    "data_bin['Disorder'].value_counts()"
   ]
  },
  {
   "cell_type": "code",
   "execution_count": 26,
   "id": "2679a0aa-6fa0-4591-a46e-69e247477a9b",
   "metadata": {},
   "outputs": [
    {
     "name": "stdout",
     "output_type": "stream",
     "text": [
      "logistic regression started\n",
      "Non-Weighted model initialized\n",
      "Random Forest started\n",
      "XGBOOST started\n",
      "SVM rbf started\n",
      "SVM linear started\n",
      "SVM poly started\n",
      "Decision Tree started\n"
     ]
    }
   ],
   "source": [
    "train_models_performance,test_models_performance = build_models(data_bin,\"Disorder\",False,\"macro\")"
   ]
  },
  {
   "cell_type": "code",
   "execution_count": 27,
   "id": "366ea049-edc2-43f0-b2e2-8771452fb04b",
   "metadata": {},
   "outputs": [],
   "source": [
    "# models_performance  "
   ]
  },
  {
   "cell_type": "code",
   "execution_count": 28,
   "id": "ed6af934-5701-4113-b2b3-4624a721a5a0",
   "metadata": {},
   "outputs": [
    {
     "data": {
      "text/html": [
       "<div>\n",
       "<style scoped>\n",
       "    .dataframe tbody tr th:only-of-type {\n",
       "        vertical-align: middle;\n",
       "    }\n",
       "\n",
       "    .dataframe tbody tr th {\n",
       "        vertical-align: top;\n",
       "    }\n",
       "\n",
       "    .dataframe thead th {\n",
       "        text-align: right;\n",
       "    }\n",
       "</style>\n",
       "<table border=\"1\" class=\"dataframe\">\n",
       "  <thead>\n",
       "    <tr style=\"text-align: right;\">\n",
       "      <th></th>\n",
       "      <th>precision</th>\n",
       "      <th>recall</th>\n",
       "      <th>f1</th>\n",
       "      <th>accuracy</th>\n",
       "      <th>models</th>\n",
       "    </tr>\n",
       "  </thead>\n",
       "  <tbody>\n",
       "    <tr>\n",
       "      <th>0</th>\n",
       "      <td>0.903806</td>\n",
       "      <td>0.902788</td>\n",
       "      <td>0.902995</td>\n",
       "      <td>0.903740</td>\n",
       "      <td>Logistic Regression</td>\n",
       "    </tr>\n",
       "    <tr>\n",
       "      <th>0</th>\n",
       "      <td>0.993928</td>\n",
       "      <td>0.993899</td>\n",
       "      <td>0.993912</td>\n",
       "      <td>0.993973</td>\n",
       "      <td>Random Forest</td>\n",
       "    </tr>\n",
       "    <tr>\n",
       "      <th>0</th>\n",
       "      <td>0.750647</td>\n",
       "      <td>0.746160</td>\n",
       "      <td>0.746830</td>\n",
       "      <td>0.748564</td>\n",
       "      <td>XGBOOST</td>\n",
       "    </tr>\n",
       "    <tr>\n",
       "      <th>0</th>\n",
       "      <td>0.982155</td>\n",
       "      <td>0.981776</td>\n",
       "      <td>0.981937</td>\n",
       "      <td>0.982032</td>\n",
       "      <td>SVM_rbf</td>\n",
       "    </tr>\n",
       "    <tr>\n",
       "      <th>0</th>\n",
       "      <td>0.960310</td>\n",
       "      <td>0.959604</td>\n",
       "      <td>0.959869</td>\n",
       "      <td>0.960094</td>\n",
       "      <td>SVM_linear</td>\n",
       "    </tr>\n",
       "    <tr>\n",
       "      <th>0</th>\n",
       "      <td>0.992273</td>\n",
       "      <td>0.992144</td>\n",
       "      <td>0.992205</td>\n",
       "      <td>0.992255</td>\n",
       "      <td>SVM_poly</td>\n",
       "    </tr>\n",
       "    <tr>\n",
       "      <th>0</th>\n",
       "      <td>0.994006</td>\n",
       "      <td>0.993864</td>\n",
       "      <td>0.993926</td>\n",
       "      <td>0.993973</td>\n",
       "      <td>Decision Tree</td>\n",
       "    </tr>\n",
       "  </tbody>\n",
       "</table>\n",
       "</div>"
      ],
      "text/plain": [
       "   precision    recall        f1  accuracy               models\n",
       "0   0.903806  0.902788  0.902995  0.903740  Logistic Regression\n",
       "0   0.993928  0.993899  0.993912  0.993973        Random Forest\n",
       "0   0.750647  0.746160  0.746830  0.748564              XGBOOST\n",
       "0   0.982155  0.981776  0.981937  0.982032              SVM_rbf\n",
       "0   0.960310  0.959604  0.959869  0.960094           SVM_linear\n",
       "0   0.992273  0.992144  0.992205  0.992255             SVM_poly\n",
       "0   0.994006  0.993864  0.993926  0.993973        Decision Tree"
      ]
     },
     "execution_count": 28,
     "metadata": {},
     "output_type": "execute_result"
    }
   ],
   "source": [
    "train_models_performance"
   ]
  },
  {
   "cell_type": "code",
   "execution_count": 29,
   "id": "9e7ab8cf-0beb-40fb-b1cf-1a6ede0b5b46",
   "metadata": {},
   "outputs": [
    {
     "data": {
      "text/html": [
       "<div>\n",
       "<style scoped>\n",
       "    .dataframe tbody tr th:only-of-type {\n",
       "        vertical-align: middle;\n",
       "    }\n",
       "\n",
       "    .dataframe tbody tr th {\n",
       "        vertical-align: top;\n",
       "    }\n",
       "\n",
       "    .dataframe thead th {\n",
       "        text-align: right;\n",
       "    }\n",
       "</style>\n",
       "<table border=\"1\" class=\"dataframe\">\n",
       "  <thead>\n",
       "    <tr style=\"text-align: right;\">\n",
       "      <th></th>\n",
       "      <th>precision</th>\n",
       "      <th>recall</th>\n",
       "      <th>f1</th>\n",
       "      <th>accuracy</th>\n",
       "      <th>models</th>\n",
       "    </tr>\n",
       "  </thead>\n",
       "  <tbody>\n",
       "    <tr>\n",
       "      <th>0</th>\n",
       "      <td>0.638764</td>\n",
       "      <td>0.641782</td>\n",
       "      <td>0.638839</td>\n",
       "      <td>0.645714</td>\n",
       "      <td>Logistic Regression</td>\n",
       "    </tr>\n",
       "    <tr>\n",
       "      <th>0</th>\n",
       "      <td>0.566011</td>\n",
       "      <td>0.538137</td>\n",
       "      <td>0.521838</td>\n",
       "      <td>0.544779</td>\n",
       "      <td>Random Forest</td>\n",
       "    </tr>\n",
       "    <tr>\n",
       "      <th>0</th>\n",
       "      <td>0.532904</td>\n",
       "      <td>0.503199</td>\n",
       "      <td>0.490863</td>\n",
       "      <td>0.508730</td>\n",
       "      <td>XGBOOST</td>\n",
       "    </tr>\n",
       "    <tr>\n",
       "      <th>0</th>\n",
       "      <td>0.635222</td>\n",
       "      <td>0.635316</td>\n",
       "      <td>0.632494</td>\n",
       "      <td>0.639743</td>\n",
       "      <td>SVM_rbf</td>\n",
       "    </tr>\n",
       "    <tr>\n",
       "      <th>0</th>\n",
       "      <td>0.664165</td>\n",
       "      <td>0.664674</td>\n",
       "      <td>0.662713</td>\n",
       "      <td>0.668694</td>\n",
       "      <td>SVM_linear</td>\n",
       "    </tr>\n",
       "    <tr>\n",
       "      <th>0</th>\n",
       "      <td>0.514876</td>\n",
       "      <td>0.504632</td>\n",
       "      <td>0.499427</td>\n",
       "      <td>0.510195</td>\n",
       "      <td>SVM_poly</td>\n",
       "    </tr>\n",
       "    <tr>\n",
       "      <th>0</th>\n",
       "      <td>0.408857</td>\n",
       "      <td>0.409745</td>\n",
       "      <td>0.396270</td>\n",
       "      <td>0.415794</td>\n",
       "      <td>Decision Tree</td>\n",
       "    </tr>\n",
       "  </tbody>\n",
       "</table>\n",
       "</div>"
      ],
      "text/plain": [
       "   precision    recall        f1  accuracy               models\n",
       "0   0.638764  0.641782  0.638839  0.645714  Logistic Regression\n",
       "0   0.566011  0.538137  0.521838  0.544779        Random Forest\n",
       "0   0.532904  0.503199  0.490863  0.508730              XGBOOST\n",
       "0   0.635222  0.635316  0.632494  0.639743              SVM_rbf\n",
       "0   0.664165  0.664674  0.662713  0.668694           SVM_linear\n",
       "0   0.514876  0.504632  0.499427  0.510195             SVM_poly\n",
       "0   0.408857  0.409745  0.396270  0.415794        Decision Tree"
      ]
     },
     "execution_count": 29,
     "metadata": {},
     "output_type": "execute_result"
    }
   ],
   "source": [
    "test_models_performance"
   ]
  },
  {
   "cell_type": "code",
   "execution_count": null,
   "id": "e4faabe1-c78b-4ad1-a319-cf8cc88a245d",
   "metadata": {},
   "outputs": [],
   "source": []
  }
 ],
 "metadata": {
  "kernelspec": {
   "display_name": "Python 3 (ipykernel)",
   "language": "python",
   "name": "python3"
  },
  "language_info": {
   "codemirror_mode": {
    "name": "ipython",
    "version": 3
   },
   "file_extension": ".py",
   "mimetype": "text/x-python",
   "name": "python",
   "nbconvert_exporter": "python",
   "pygments_lexer": "ipython3",
   "version": "3.11.9"
  }
 },
 "nbformat": 4,
 "nbformat_minor": 5
}
